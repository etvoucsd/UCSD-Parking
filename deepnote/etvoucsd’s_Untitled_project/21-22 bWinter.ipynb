{
  "cells": [
    {
      "cell_type": "code",
      "source": "import pandas as pd",
      "metadata": {
        "source_hash": null,
        "execution_start": 1694926461882,
        "execution_millis": 5,
        "deepnote_to_be_reexecuted": false,
        "cell_id": "27175943de274e1f81d45a14bf92a320",
        "deepnote_cell_type": "code"
      },
      "outputs": [],
      "execution_count": null,
      "block_group": "27175943de274e1f81d45a14bf92a320"
    },
    {
      "cell_type": "code",
      "source": "winter_data = pd.read_excel('/work/2021-2022/2021-2022-3 Winter.xlsx')",
      "metadata": {
        "source_hash": null,
        "execution_start": 1694926461882,
        "execution_millis": 391,
        "deepnote_to_be_reexecuted": false,
        "cell_id": "754cc29a9f284676bceb9fba6784734d",
        "deepnote_cell_type": "code"
      },
      "outputs": [],
      "execution_count": null,
      "block_group": "17b66e34f65f4713843a8e1ad6ff4437"
    },
    {
      "cell_type": "code",
      "source": "winter_data",
      "metadata": {
        "source_hash": null,
        "execution_start": 1694926462284,
        "execution_millis": 371,
        "deepnote_to_be_reexecuted": false,
        "cell_id": "7af6b5fa8eaa4d5fb3f131bd82934008",
        "deepnote_cell_type": "code"
      },
      "outputs": [
        {
          "output_type": "execute_result",
          "execution_count": 3,
          "data": {
            "application/vnd.deepnote.dataframe.v3+json": {
              "column_count": 24,
              "row_count": 56,
              "columns": [
                {
                  "name": "Unnamed: 0",
                  "dtype": "float64",
                  "stats": {
                    "unique_count": 0,
                    "nan_count": 56,
                    "min": null,
                    "max": null,
                    "histogram": [
                      {
                        "bin_start": 0,
                        "bin_end": 0.1,
                        "count": 0
                      },
                      {
                        "bin_start": 0.1,
                        "bin_end": 0.2,
                        "count": 0
                      },
                      {
                        "bin_start": 0.2,
                        "bin_end": 0.30000000000000004,
                        "count": 0
                      },
                      {
                        "bin_start": 0.30000000000000004,
                        "bin_end": 0.4,
                        "count": 0
                      },
                      {
                        "bin_start": 0.4,
                        "bin_end": 0.5,
                        "count": 0
                      },
                      {
                        "bin_start": 0.5,
                        "bin_end": 0.6000000000000001,
                        "count": 0
                      },
                      {
                        "bin_start": 0.6000000000000001,
                        "bin_end": 0.7000000000000001,
                        "count": 0
                      },
                      {
                        "bin_start": 0.7000000000000001,
                        "bin_end": 0.8,
                        "count": 0
                      },
                      {
                        "bin_start": 0.8,
                        "bin_end": 0.9,
                        "count": 0
                      },
                      {
                        "bin_start": 0.9,
                        "bin_end": 1,
                        "count": 0
                      }
                    ]
                  }
                },
                {
                  "name": "University of California, San Diego Survey of Parking Space Occupancy Levels, Winter 2022",
                  "dtype": "object",
                  "stats": {
                    "unique_count": 24,
                    "nan_count": 32,
                    "categories": [
                      {
                        "name": "Key to Locations, Areas, Neighborhoods, Lots, and Structures",
                        "count": 1
                      },
                      {
                        "name": "23 others",
                        "count": 23
                      },
                      {
                        "name": "Missing",
                        "count": 32
                      }
                    ]
                  }
                },
                {
                  "name": "Unnamed: 2",
                  "dtype": "object",
                  "stats": {
                    "unique_count": 8,
                    "nan_count": 48,
                    "categories": [
                      {
                        "name": "SIO",
                        "count": 1
                      },
                      {
                        "name": "7 others",
                        "count": 7
                      },
                      {
                        "name": "Missing",
                        "count": 48
                      }
                    ]
                  }
                },
                {
                  "name": "Unnamed: 3",
                  "dtype": "object",
                  "stats": {
                    "unique_count": 5,
                    "nan_count": 51,
                    "categories": [
                      {
                        "name": "SIO",
                        "count": 1
                      },
                      {
                        "name": "4 others",
                        "count": 4
                      },
                      {
                        "name": "Missing",
                        "count": 51
                      }
                    ]
                  }
                },
                {
                  "name": "Unnamed: 4",
                  "dtype": "object",
                  "stats": {
                    "unique_count": 3,
                    "nan_count": 53,
                    "categories": [
                      {
                        "name": "Aquarium",
                        "count": 1
                      },
                      {
                        "name": "2 others",
                        "count": 2
                      },
                      {
                        "name": "Missing",
                        "count": 53
                      }
                    ]
                  }
                },
                {
                  "name": "Unnamed: 5",
                  "dtype": "object",
                  "stats": {
                    "unique_count": 6,
                    "nan_count": 50,
                    "categories": [
                      {
                        "name": "West",
                        "count": 1
                      },
                      {
                        "name": "5 others",
                        "count": 5
                      },
                      {
                        "name": "Missing",
                        "count": 50
                      }
                    ]
                  }
                },
                {
                  "name": "Unnamed: 6",
                  "dtype": "object",
                  "stats": {
                    "unique_count": 12,
                    "nan_count": 44,
                    "categories": [
                      {
                        "name": "Revelle",
                        "count": 1
                      },
                      {
                        "name": "11 others",
                        "count": 11
                      },
                      {
                        "name": "Missing",
                        "count": 44
                      }
                    ]
                  }
                },
                {
                  "name": "Unnamed: 7",
                  "dtype": "object",
                  "stats": {
                    "unique_count": 17,
                    "nan_count": 39,
                    "categories": [
                      {
                        "name": "Muir",
                        "count": 1
                      },
                      {
                        "name": "16 others",
                        "count": 16
                      },
                      {
                        "name": "Missing",
                        "count": 39
                      }
                    ]
                  }
                },
                {
                  "name": "Unnamed: 8",
                  "dtype": "object",
                  "stats": {
                    "unique_count": 8,
                    "nan_count": 48,
                    "categories": [
                      {
                        "name": "Marshall",
                        "count": 1
                      },
                      {
                        "name": "7 others",
                        "count": 7
                      },
                      {
                        "name": "Missing",
                        "count": 48
                      }
                    ]
                  }
                },
                {
                  "name": "Unnamed: 9",
                  "dtype": "object",
                  "stats": {
                    "unique_count": 11,
                    "nan_count": 45,
                    "categories": [
                      {
                        "name": "North",
                        "count": 1
                      },
                      {
                        "name": "10 others",
                        "count": 10
                      },
                      {
                        "name": "Missing",
                        "count": 45
                      }
                    ]
                  }
                },
                {
                  "name": "Unnamed: 10",
                  "dtype": "object",
                  "stats": {
                    "unique_count": 18,
                    "nan_count": 38,
                    "categories": [
                      {
                        "name": "Roosevelt",
                        "count": 1
                      },
                      {
                        "name": "17 others",
                        "count": 17
                      },
                      {
                        "name": "Missing",
                        "count": 38
                      }
                    ]
                  }
                },
                {
                  "name": "Unnamed: 11",
                  "dtype": "object",
                  "stats": {
                    "unique_count": 18,
                    "nan_count": 38,
                    "categories": [
                      {
                        "name": "N. Torrey Pines",
                        "count": 1
                      },
                      {
                        "name": "17 others",
                        "count": 17
                      },
                      {
                        "name": "Missing",
                        "count": 38
                      }
                    ]
                  }
                },
                {
                  "name": "Unnamed: 12",
                  "dtype": "object",
                  "stats": {
                    "unique_count": 8,
                    "nan_count": 48,
                    "categories": [
                      {
                        "name": "Warren",
                        "count": 1
                      },
                      {
                        "name": "7 others",
                        "count": 7
                      },
                      {
                        "name": "Missing",
                        "count": 48
                      }
                    ]
                  }
                },
                {
                  "name": "Unnamed: 13",
                  "dtype": "object",
                  "stats": {
                    "unique_count": 5,
                    "nan_count": 51,
                    "categories": [
                      {
                        "name": "Campus",
                        "count": 1
                      },
                      {
                        "name": "4 others",
                        "count": 4
                      },
                      {
                        "name": "Missing",
                        "count": 51
                      }
                    ]
                  }
                },
                {
                  "name": "Unnamed: 14",
                  "dtype": "object",
                  "stats": {
                    "unique_count": 14,
                    "nan_count": 42,
                    "categories": [
                      {
                        "name": "Sixth",
                        "count": 1
                      },
                      {
                        "name": "13 others",
                        "count": 13
                      },
                      {
                        "name": "Missing",
                        "count": 42
                      }
                    ]
                  }
                },
                {
                  "name": "Unnamed: 15",
                  "dtype": "object",
                  "stats": {
                    "unique_count": 12,
                    "nan_count": 44,
                    "categories": [
                      {
                        "name": "University",
                        "count": 1
                      },
                      {
                        "name": "11 others",
                        "count": 11
                      },
                      {
                        "name": "Missing",
                        "count": 44
                      }
                    ]
                  }
                },
                {
                  "name": "Unnamed: 16",
                  "dtype": "object",
                  "stats": {
                    "unique_count": 19,
                    "nan_count": 37,
                    "categories": [
                      {
                        "name": "School",
                        "count": 1
                      },
                      {
                        "name": "18 others",
                        "count": 18
                      },
                      {
                        "name": "Missing",
                        "count": 37
                      }
                    ]
                  }
                },
                {
                  "name": "Unnamed: 17",
                  "dtype": "object",
                  "stats": {
                    "unique_count": 8,
                    "nan_count": 46,
                    "categories": [
                      {
                        "name": "East",
                        "count": 2
                      },
                      {
                        "name": "7 others",
                        "count": 8
                      },
                      {
                        "name": "Missing",
                        "count": 46
                      }
                    ]
                  }
                },
                {
                  "name": "Unnamed: 18",
                  "dtype": "object",
                  "stats": {
                    "unique_count": 12,
                    "nan_count": 44,
                    "categories": [
                      {
                        "name": "Science",
                        "count": 1
                      },
                      {
                        "name": "11 others",
                        "count": 11
                      },
                      {
                        "name": "Missing",
                        "count": 44
                      }
                    ]
                  }
                },
                {
                  "name": "Unnamed: 19",
                  "dtype": "object",
                  "stats": {
                    "unique_count": 23,
                    "nan_count": 33,
                    "categories": [
                      {
                        "name": "Health",
                        "count": 1
                      },
                      {
                        "name": "22 others",
                        "count": 22
                      },
                      {
                        "name": "Missing",
                        "count": 33
                      }
                    ]
                  }
                },
                {
                  "name": "Unnamed: 20",
                  "dtype": "object",
                  "stats": {
                    "unique_count": 12,
                    "nan_count": 44,
                    "categories": [
                      {
                        "name": "Health",
                        "count": 1
                      },
                      {
                        "name": "11 others",
                        "count": 11
                      },
                      {
                        "name": "Missing",
                        "count": 44
                      }
                    ]
                  }
                },
                {
                  "name": "Unnamed: 21",
                  "dtype": "object",
                  "stats": {
                    "unique_count": 36,
                    "nan_count": 18,
                    "categories": [
                      {
                        "name": "Hillcrest",
                        "count": 3
                      },
                      {
                        "name": "35 others",
                        "count": 35
                      },
                      {
                        "name": "Missing",
                        "count": 18
                      }
                    ]
                  }
                },
                {
                  "name": "Unnamed: 22",
                  "dtype": "object",
                  "stats": {
                    "unique_count": 14,
                    "nan_count": 42,
                    "categories": [
                      {
                        "name": "Hillcrest",
                        "count": 1
                      },
                      {
                        "name": "13 others",
                        "count": 13
                      },
                      {
                        "name": "Missing",
                        "count": 42
                      }
                    ]
                  }
                },
                {
                  "name": "Unnamed: 23",
                  "dtype": "float64",
                  "stats": {
                    "unique_count": 0,
                    "nan_count": 56,
                    "min": null,
                    "max": null,
                    "histogram": [
                      {
                        "bin_start": 0,
                        "bin_end": 0.1,
                        "count": 0
                      },
                      {
                        "bin_start": 0.1,
                        "bin_end": 0.2,
                        "count": 0
                      },
                      {
                        "bin_start": 0.2,
                        "bin_end": 0.30000000000000004,
                        "count": 0
                      },
                      {
                        "bin_start": 0.30000000000000004,
                        "bin_end": 0.4,
                        "count": 0
                      },
                      {
                        "bin_start": 0.4,
                        "bin_end": 0.5,
                        "count": 0
                      },
                      {
                        "bin_start": 0.5,
                        "bin_end": 0.6000000000000001,
                        "count": 0
                      },
                      {
                        "bin_start": 0.6000000000000001,
                        "bin_end": 0.7000000000000001,
                        "count": 0
                      },
                      {
                        "bin_start": 0.7000000000000001,
                        "bin_end": 0.8,
                        "count": 0
                      },
                      {
                        "bin_start": 0.8,
                        "bin_end": 0.9,
                        "count": 0
                      },
                      {
                        "bin_start": 0.9,
                        "bin_end": 1,
                        "count": 0
                      }
                    ]
                  }
                },
                {
                  "name": "_deepnote_index_column",
                  "dtype": "int64"
                }
              ],
              "rows": [
                {
                  "Unnamed: 0": "nan",
                  "University of California, San Diego Survey of Parking Space Occupancy Levels, Winter 2022": "Key to Locations, Areas, Neighborhoods, Lots, and Structures",
                  "Unnamed: 2": "nan",
                  "Unnamed: 3": "nan",
                  "Unnamed: 4": "nan",
                  "Unnamed: 5": "nan",
                  "Unnamed: 6": "nan",
                  "Unnamed: 7": "nan",
                  "Unnamed: 8": "nan",
                  "Unnamed: 9": "nan",
                  "Unnamed: 10": "nan",
                  "Unnamed: 11": "nan",
                  "Unnamed: 12": "nan",
                  "Unnamed: 13": "nan",
                  "Unnamed: 14": "nan",
                  "Unnamed: 15": "nan",
                  "Unnamed: 16": "nan",
                  "Unnamed: 17": "nan",
                  "Unnamed: 18": "nan",
                  "Unnamed: 19": "nan",
                  "Unnamed: 20": "nan",
                  "Unnamed: 21": "nan",
                  "Unnamed: 22": "nan",
                  "Unnamed: 23": "nan",
                  "_deepnote_index_column": 0
                },
                {
                  "Unnamed: 0": "nan",
                  "University of California, San Diego Survey of Parking Space Occupancy Levels, Winter 2022": "nan",
                  "Unnamed: 2": "nan",
                  "Unnamed: 3": "nan",
                  "Unnamed: 4": "nan",
                  "Unnamed: 5": "nan",
                  "Unnamed: 6": "nan",
                  "Unnamed: 7": "nan",
                  "Unnamed: 8": "nan",
                  "Unnamed: 9": "nan",
                  "Unnamed: 10": "nan",
                  "Unnamed: 11": "nan",
                  "Unnamed: 12": "nan",
                  "Unnamed: 13": "nan",
                  "Unnamed: 14": "nan",
                  "Unnamed: 15": "nan",
                  "Unnamed: 16": "nan",
                  "Unnamed: 17": "nan",
                  "Unnamed: 18": "nan",
                  "Unnamed: 19": "nan",
                  "Unnamed: 20": "nan",
                  "Unnamed: 21": "nan",
                  "Unnamed: 22": "nan",
                  "Unnamed: 23": "nan",
                  "_deepnote_index_column": 1
                },
                {
                  "Unnamed: 0": "nan",
                  "University of California, San Diego Survey of Parking Space Occupancy Levels, Winter 2022": "Location",
                  "Unnamed: 2": "nan",
                  "Unnamed: 3": "nan",
                  "Unnamed: 4": "nan",
                  "Unnamed: 5": "nan",
                  "Unnamed: 6": "nan",
                  "Unnamed: 7": "nan",
                  "Unnamed: 8": "nan",
                  "Unnamed: 9": "nan",
                  "Unnamed: 10": "nan",
                  "Unnamed: 11": "nan",
                  "Unnamed: 12": "nan",
                  "Unnamed: 13": "nan",
                  "Unnamed: 14": "nan",
                  "Unnamed: 15": "nan",
                  "Unnamed: 16": "nan",
                  "Unnamed: 17": "nan",
                  "Unnamed: 18": "nan",
                  "Unnamed: 19": "nan",
                  "Unnamed: 20": "nan",
                  "Unnamed: 21": "nan",
                  "Unnamed: 22": "nan",
                  "Unnamed: 23": "nan",
                  "_deepnote_index_column": 2
                },
                {
                  "Unnamed: 0": "nan",
                  "University of California, San Diego Survey of Parking Space Occupancy Levels, Winter 2022": "La Jolla",
                  "Unnamed: 2": "nan",
                  "Unnamed: 3": "nan",
                  "Unnamed: 4": "nan",
                  "Unnamed: 5": "nan",
                  "Unnamed: 6": "nan",
                  "Unnamed: 7": "nan",
                  "Unnamed: 8": "nan",
                  "Unnamed: 9": "nan",
                  "Unnamed: 10": "nan",
                  "Unnamed: 11": "nan",
                  "Unnamed: 12": "nan",
                  "Unnamed: 13": "nan",
                  "Unnamed: 14": "nan",
                  "Unnamed: 15": "nan",
                  "Unnamed: 16": "nan",
                  "Unnamed: 17": "nan",
                  "Unnamed: 18": "nan",
                  "Unnamed: 19": "nan",
                  "Unnamed: 20": "nan",
                  "Unnamed: 21": "Medical Center",
                  "Unnamed: 22": "nan",
                  "Unnamed: 23": "nan",
                  "_deepnote_index_column": 3
                },
                {
                  "Unnamed: 0": "nan",
                  "University of California, San Diego Survey of Parking Space Occupancy Levels, Winter 2022": "Campus",
                  "Unnamed: 2": "nan",
                  "Unnamed: 3": "nan",
                  "Unnamed: 4": "nan",
                  "Unnamed: 5": "nan",
                  "Unnamed: 6": "nan",
                  "Unnamed: 7": "nan",
                  "Unnamed: 8": "nan",
                  "Unnamed: 9": "nan",
                  "Unnamed: 10": "nan",
                  "Unnamed: 11": "nan",
                  "Unnamed: 12": "nan",
                  "Unnamed: 13": "nan",
                  "Unnamed: 14": "nan",
                  "Unnamed: 15": "nan",
                  "Unnamed: 16": "nan",
                  "Unnamed: 17": "nan",
                  "Unnamed: 18": "nan",
                  "Unnamed: 19": "nan",
                  "Unnamed: 20": "nan",
                  "Unnamed: 21": "Hillcrest",
                  "Unnamed: 22": "nan",
                  "Unnamed: 23": "nan",
                  "_deepnote_index_column": 4
                },
                {
                  "Unnamed: 0": "nan",
                  "University of California, San Diego Survey of Parking Space Occupancy Levels, Winter 2022": "Area",
                  "Unnamed: 2": "nan",
                  "Unnamed: 3": "nan",
                  "Unnamed: 4": "nan",
                  "Unnamed: 5": "nan",
                  "Unnamed: 6": "nan",
                  "Unnamed: 7": "nan",
                  "Unnamed: 8": "nan",
                  "Unnamed: 9": "nan",
                  "Unnamed: 10": "nan",
                  "Unnamed: 11": "nan",
                  "Unnamed: 12": "nan",
                  "Unnamed: 13": "nan",
                  "Unnamed: 14": "nan",
                  "Unnamed: 15": "nan",
                  "Unnamed: 16": "nan",
                  "Unnamed: 17": "nan",
                  "Unnamed: 18": "nan",
                  "Unnamed: 19": "nan",
                  "Unnamed: 20": "nan",
                  "Unnamed: 21": "nan",
                  "Unnamed: 22": "nan",
                  "Unnamed: 23": "nan",
                  "_deepnote_index_column": 5
                },
                {
                  "Unnamed: 0": "nan",
                  "University of California, San Diego Survey of Parking Space Occupancy Levels, Winter 2022": "Scripps Institution",
                  "Unnamed: 2": "nan",
                  "Unnamed: 3": "nan",
                  "Unnamed: 4": "nan",
                  "Unnamed: 5": "West",
                  "Unnamed: 6": "nan",
                  "Unnamed: 7": "nan",
                  "Unnamed: 8": "nan",
                  "Unnamed: 9": "nan",
                  "Unnamed: 10": "nan",
                  "Unnamed: 11": "nan",
                  "Unnamed: 12": "nan",
                  "Unnamed: 13": "nan",
                  "Unnamed: 14": "nan",
                  "Unnamed: 15": "nan",
                  "Unnamed: 16": "nan",
                  "Unnamed: 17": "East",
                  "Unnamed: 18": "nan",
                  "Unnamed: 19": "nan",
                  "Unnamed: 20": "nan",
                  "Unnamed: 21": "Medical",
                  "Unnamed: 22": "nan",
                  "Unnamed: 23": "nan",
                  "_deepnote_index_column": 6
                },
                {
                  "Unnamed: 0": "nan",
                  "University of California, San Diego Survey of Parking Space Occupancy Levels, Winter 2022": "of",
                  "Unnamed: 2": "nan",
                  "Unnamed: 3": "nan",
                  "Unnamed: 4": "nan",
                  "Unnamed: 5": "Campus",
                  "Unnamed: 6": "nan",
                  "Unnamed: 7": "nan",
                  "Unnamed: 8": "nan",
                  "Unnamed: 9": "nan",
                  "Unnamed: 10": "nan",
                  "Unnamed: 11": "nan",
                  "Unnamed: 12": "nan",
                  "Unnamed: 13": "nan",
                  "Unnamed: 14": "nan",
                  "Unnamed: 15": "nan",
                  "Unnamed: 16": "nan",
                  "Unnamed: 17": "Campus",
                  "Unnamed: 18": "nan",
                  "Unnamed: 19": "nan",
                  "Unnamed: 20": "nan",
                  "Unnamed: 21": "Center",
                  "Unnamed: 22": "nan",
                  "Unnamed: 23": "nan",
                  "_deepnote_index_column": 7
                },
                {
                  "Unnamed: 0": "nan",
                  "University of California, San Diego Survey of Parking Space Occupancy Levels, Winter 2022": "Oceanography",
                  "Unnamed: 2": "nan",
                  "Unnamed: 3": "nan",
                  "Unnamed: 4": "nan",
                  "Unnamed: 5": "nan",
                  "Unnamed: 6": "nan",
                  "Unnamed: 7": "nan",
                  "Unnamed: 8": "nan",
                  "Unnamed: 9": "nan",
                  "Unnamed: 10": "nan",
                  "Unnamed: 11": "nan",
                  "Unnamed: 12": "nan",
                  "Unnamed: 13": "nan",
                  "Unnamed: 14": "nan",
                  "Unnamed: 15": "nan",
                  "Unnamed: 16": "nan",
                  "Unnamed: 17": "nan",
                  "Unnamed: 18": "nan",
                  "Unnamed: 19": "nan",
                  "Unnamed: 20": "nan",
                  "Unnamed: 21": "Hillcrest",
                  "Unnamed: 22": "nan",
                  "Unnamed: 23": "nan",
                  "_deepnote_index_column": 8
                },
                {
                  "Unnamed: 0": "nan",
                  "University of California, San Diego Survey of Parking Space Occupancy Levels, Winter 2022": "Neighborhood",
                  "Unnamed: 2": "nan",
                  "Unnamed: 3": "nan",
                  "Unnamed: 4": "nan",
                  "Unnamed: 5": "nan",
                  "Unnamed: 6": "nan",
                  "Unnamed: 7": "nan",
                  "Unnamed: 8": "nan",
                  "Unnamed: 9": "nan",
                  "Unnamed: 10": "nan",
                  "Unnamed: 11": "nan",
                  "Unnamed: 12": "nan",
                  "Unnamed: 13": "nan",
                  "Unnamed: 14": "nan",
                  "Unnamed: 15": "nan",
                  "Unnamed: 16": "nan",
                  "Unnamed: 17": "nan",
                  "Unnamed: 18": "nan",
                  "Unnamed: 19": "nan",
                  "Unnamed: 20": "nan",
                  "Unnamed: 21": "nan",
                  "Unnamed: 22": "nan",
                  "Unnamed: 23": "nan",
                  "_deepnote_index_column": 9
                }
              ]
            },
            "text/plain": "    Unnamed: 0  \\\n0          NaN   \n1          NaN   \n2          NaN   \n3          NaN   \n4          NaN   \n5          NaN   \n6          NaN   \n7          NaN   \n8          NaN   \n9          NaN   \n10         NaN   \n11         NaN   \n12         NaN   \n13         NaN   \n14         NaN   \n15         NaN   \n16         NaN   \n17         NaN   \n18         NaN   \n19         NaN   \n20         NaN   \n21         NaN   \n22         NaN   \n23         NaN   \n24         NaN   \n25         NaN   \n26         NaN   \n27         NaN   \n28         NaN   \n29         NaN   \n30         NaN   \n31         NaN   \n32         NaN   \n33         NaN   \n34         NaN   \n35         NaN   \n36         NaN   \n37         NaN   \n38         NaN   \n39         NaN   \n40         NaN   \n41         NaN   \n42         NaN   \n43         NaN   \n44         NaN   \n45         NaN   \n46         NaN   \n47         NaN   \n48         NaN   \n49         NaN   \n50         NaN   \n51         NaN   \n52         NaN   \n53         NaN   \n54         NaN   \n55         NaN   \n\n   University of California, San Diego Survey of Parking Space Occupancy Levels, Winter 2022  \\\n0   Key to Locations, Areas, Neighborhoods, Lots, ...                                          \n1                                                 NaN                                          \n2                                            Location                                          \n3                                            La Jolla                                          \n4                                              Campus                                          \n5                                                Area                                          \n6                                 Scripps Institution                                          \n7                                                  of                                          \n8                                        Oceanography                                          \n9                                        Neighborhood                                          \n10                                                SIO                                          \n11                                              South                                          \n12                                                NaN                                          \n13                                                Lot                                          \n14                                               P001                                          \n15                                               P002                                          \n16                                               P003                                          \n17                                               P004                                          \n18                                               P005                                          \n19                                               P006                                          \n20                                               P007                                          \n21                                               P008                                          \n22                                                NaN                                          \n23                                                NaN                                          \n24                                                NaN                                          \n25                                                NaN                                          \n26                                                NaN                                          \n27                                                NaN                                          \n28                                                NaN                                          \n29                                                NaN                                          \n30                                                NaN                                          \n31                                                NaN                                          \n32                                                NaN                                          \n33                                                NaN                                          \n34                                                NaN                                          \n35                                                NaN                                          \n36                                                NaN                                          \n37                                                NaN                                          \n38                                                NaN                                          \n39                                                NaN                                          \n40                                                NaN                                          \n41                                                NaN                                          \n42                                          Structure                                          \n43                                                NaN                                          \n44                                                NaN                                          \n45                                                NaN                                          \n46                                                NaN                                          \n47                                                NaN                                          \n48                                                NaN                                          \n49                                                NaN                                          \n50                                                NaN                                          \n51                              Lot Completely Closed                                          \n52   Total Inventory Numbers Affected by Construction                                          \n53                        Closed for COVID-19 testing                                          \n54                                                NaN                                          \n55                                                NaN                                          \n\n            Unnamed: 2 Unnamed: 3 Unnamed: 4  \\\n0                  NaN        NaN        NaN   \n1                  NaN        NaN        NaN   \n2                  NaN        NaN        NaN   \n3                  NaN        NaN        NaN   \n4                  NaN        NaN        NaN   \n5                  NaN        NaN        NaN   \n6                  NaN        NaN        NaN   \n7                  NaN        NaN        NaN   \n8                  NaN        NaN        NaN   \n9                  NaN        NaN        NaN   \n10                 SIO        SIO   Aquarium   \n11                West   Hillside        NaN   \n12                 NaN        NaN        NaN   \n13                 NaN        NaN        NaN   \n14                P009       P014       P017   \n15                P010       P015       P021   \n16                P011       P016        NaN   \n17                P012        NaN        NaN   \n18                P013        NaN        NaN   \n19                 NaN        NaN        NaN   \n20                 NaN        NaN        NaN   \n21                 NaN        NaN        NaN   \n22                 NaN        NaN        NaN   \n23                 NaN        NaN        NaN   \n24                 NaN        NaN        NaN   \n25                 NaN        NaN        NaN   \n26                 NaN        NaN        NaN   \n27                 NaN        NaN        NaN   \n28                 NaN        NaN        NaN   \n29                 NaN        NaN        NaN   \n30                 NaN        NaN        NaN   \n31                 NaN        NaN        NaN   \n32                 NaN        NaN        NaN   \n33                 NaN        NaN        NaN   \n34                 NaN        NaN        NaN   \n35                 NaN        NaN        NaN   \n36                 NaN        NaN        NaN   \n37                 NaN        NaN        NaN   \n38                 NaN        NaN        NaN   \n39                 NaN        NaN        NaN   \n40                 NaN        NaN        NaN   \n41                 NaN        NaN        NaN   \n42                 NaN        NaN        NaN   \n43                 NaN        NaN        NaN   \n44                 NaN        NaN        NaN   \n45                 NaN        NaN        NaN   \n46                 NaN        NaN        NaN   \n47                 NaN        NaN        NaN   \n48                 NaN        NaN        NaN   \n49                 NaN        NaN        NaN   \n50                 NaN        NaN        NaN   \n51                 NaN        NaN        NaN   \n52                 NaN        NaN        NaN   \n53                 NaN        NaN        NaN   \n54                 NaN        NaN        NaN   \n55  Data Not Collected        NaN        NaN   \n\n                                          Unnamed: 5 Unnamed: 6  \\\n0                                                NaN        NaN   \n1                                                NaN        NaN   \n2                                                NaN        NaN   \n3                                                NaN        NaN   \n4                                                NaN        NaN   \n5                                                NaN        NaN   \n6                                               West        NaN   \n7                                             Campus        NaN   \n8                                                NaN        NaN   \n9                                                NaN        NaN   \n10                                           Theatre    Revelle   \n11                                          District    College   \n12                                               NaN        NaN   \n13                                               NaN        NaN   \n14                                              P105       P101   \n15                                               NaN       P102   \n16                                               NaN       P103   \n17                                               NaN       P106   \n18                                               NaN       P107   \n19                                               NaN       P108   \n20                                               NaN       P110   \n21                                               NaN       P111   \n22                                               NaN       P112   \n23                                               NaN       P116   \n24                                               NaN        NaN   \n25                                               NaN        NaN   \n26                                               NaN        NaN   \n27                                               NaN        NaN   \n28                                               NaN        NaN   \n29                                               NaN        NaN   \n30                                               NaN        NaN   \n31                                               NaN        NaN   \n32                                               NaN        NaN   \n33                                               NaN        NaN   \n34                                               NaN        NaN   \n35                                               NaN        NaN   \n36                                               NaN        NaN   \n37                                               NaN        NaN   \n38                                               NaN        NaN   \n39                                               NaN        NaN   \n40                                               NaN        NaN   \n41                                               NaN        NaN   \n42                                               NaN        NaN   \n43                                               NaN        NaN   \n44                                               NaN        NaN   \n45                                               NaN        NaN   \n46                                               NaN        NaN   \n47                                               NaN        NaN   \n48                                               NaN        NaN   \n49                                               NaN        NaN   \n50                                               NaN        NaN   \n51  Lot number strikethrough if closure is permanent        NaN   \n52                                               NaN        NaN   \n53                                               NaN        NaN   \n54                                               NaN        NaN   \n55                                               NaN        NaN   \n\n                                           Unnamed: 7 Unnamed: 8 Unnamed: 9  \\\n0                                                 NaN        NaN        NaN   \n1                                                 NaN        NaN        NaN   \n2                                                 NaN        NaN        NaN   \n3                                                 NaN        NaN        NaN   \n4                                                 NaN        NaN        NaN   \n5                                                 NaN        NaN        NaN   \n6                                                 NaN        NaN        NaN   \n7                                                 NaN        NaN        NaN   \n8                                                 NaN        NaN        NaN   \n9                                                 NaN        NaN        NaN   \n10                                               Muir   Marshall      North   \n11                                            College    College     Campus   \n12                                                NaN        NaN        NaN   \n13                                                NaN        NaN        NaN   \n14                                               P113       P302       P351   \n15                                               P114       P303       P352   \n16                                               P201       P304       P357   \n17                                               P202       P308       P358   \n18                                               P203       P309       P359   \n19                                               P204       P310        NaN   \n20                                               P205        NaN        NaN   \n21                                               P206        NaN        NaN   \n22                                                NaN        NaN        NaN   \n23                                                NaN        NaN        NaN   \n24                                               P211        NaN        NaN   \n25                                               P212        NaN        NaN   \n26                                               P213        NaN        NaN   \n27                                               P414        NaN        NaN   \n28                                                NaN        NaN        NaN   \n29                                                NaN        NaN        NaN   \n30                                                NaN        NaN        NaN   \n31                                                NaN        NaN        NaN   \n32                                                NaN        NaN        NaN   \n33                                                NaN        NaN        NaN   \n34                                                NaN        NaN        NaN   \n35                                                NaN        NaN        NaN   \n36                                                NaN        NaN        NaN   \n37                                                NaN        NaN        NaN   \n38                                                NaN        NaN        NaN   \n39                                                NaN        NaN        NaN   \n40                                                NaN        NaN        NaN   \n41                                                NaN        NaN        NaN   \n42                                                NaN        NaN        NaN   \n43                                           Scholars        NaN    Hopkins   \n44                                           (P211-3)        NaN   (P341-7)   \n45                                                NaN        NaN     Pangea   \n46                                                NaN        NaN   (P371-6)   \n47                                                NaN        NaN        NaN   \n48                                                NaN        NaN        NaN   \n49                                                NaN        NaN        NaN   \n50                                                NaN        NaN        NaN   \n51                                                NaN        NaN        NaN   \n52                                                NaN        NaN        NaN   \n53  *** P782 Scheduled to open for parking January...        NaN        NaN   \n54                                                NaN        NaN        NaN   \n55                                                NaN        NaN        NaN   \n\n    ... Unnamed: 14 Unnamed: 15 Unnamed: 16 Unnamed: 17 Unnamed: 18  \\\n0   ...         NaN         NaN         NaN         NaN         NaN   \n1   ...         NaN         NaN         NaN         NaN         NaN   \n2   ...         NaN         NaN         NaN         NaN         NaN   \n3   ...         NaN         NaN         NaN         NaN         NaN   \n4   ...         NaN         NaN         NaN         NaN         NaN   \n5   ...         NaN         NaN         NaN         NaN         NaN   \n6   ...         NaN         NaN         NaN        East         NaN   \n7   ...         NaN         NaN         NaN      Campus         NaN   \n8   ...         NaN         NaN         NaN         NaN         NaN   \n9   ...         NaN         NaN         NaN         NaN         NaN   \n10  ...       Sixth  University      School        East     Science   \n11  ...     College      Center          of      Campus    Research   \n12  ...         NaN         NaN    Medicine    Academic        Park   \n13  ...         NaN         NaN         NaN         NaN         NaN   \n14  ...        P401        P405        P601        P701    P782 ***   \n15  ...        P402        P407        P602        P703        P784   \n16  ...        P406        P408        P603        P704        P785   \n17  ...        P451        P410        P604        P705         NaN   \n18  ...        P452        P411        P605        P706        P791   \n19  ...        P453        P412        P606         NaN        P792   \n20  ...        P454        P413        P607         NaN        P793   \n21  ...        P455        P415        P608         NaN         NaN   \n22  ...        P456        P416        P610         NaN         NaN   \n23  ...        P506        P501        P651         NaN         NaN   \n24  ...         NaN         NaN        P652         NaN         NaN   \n25  ...         NaN         NaN        P653         NaN         NaN   \n26  ...         NaN         NaN        P654         NaN         NaN   \n27  ...         NaN         NaN        P655         NaN         NaN   \n28  ...         NaN         NaN         NaN         NaN         NaN   \n29  ...         NaN         NaN         NaN         NaN         NaN   \n30  ...         NaN         NaN         NaN         NaN         NaN   \n31  ...         NaN         NaN         NaN         NaN         NaN   \n32  ...         NaN         NaN         NaN         NaN         NaN   \n33  ...         NaN         NaN         NaN         NaN         NaN   \n34  ...         NaN         NaN         NaN         NaN         NaN   \n35  ...         NaN         NaN         NaN         NaN         NaN   \n36  ...         NaN         NaN         NaN         NaN         NaN   \n37  ...         NaN         NaN         NaN         NaN         NaN   \n38  ...         NaN         NaN         NaN         NaN         NaN   \n39  ...         NaN         NaN         NaN         NaN         NaN   \n40  ...         NaN         NaN         NaN         NaN         NaN   \n41  ...         NaN         NaN         NaN         NaN         NaN   \n42  ...         NaN         NaN         NaN         NaN         NaN   \n43  ...      Gilman         NaN       Osler         NaN       Vela/   \n44  ...    (P451-6)         NaN    (P651-6)         NaN    Nuevo W.   \n45  ...         NaN         NaN         NaN         NaN    (P791-3)   \n46  ...         NaN         NaN         NaN         NaN         NaN   \n47  ...         NaN         NaN         NaN         NaN         NaN   \n48  ...         NaN         NaN         NaN         NaN         NaN   \n49  ...         NaN         NaN         NaN         NaN         NaN   \n50  ...         NaN         NaN         NaN         NaN         NaN   \n51  ...         NaN         NaN         NaN         NaN         NaN   \n52  ...         NaN         NaN         NaN         NaN         NaN   \n53  ...         NaN         NaN         NaN         NaN         NaN   \n54  ...         NaN         NaN         NaN         NaN         NaN   \n55  ...         NaN         NaN         NaN         NaN         NaN   \n\n       Unnamed: 19 Unnamed: 20     Unnamed: 21 Unnamed: 22 Unnamed: 23  \n0              NaN         NaN             NaN         NaN         NaN  \n1              NaN         NaN             NaN         NaN         NaN  \n2              NaN         NaN             NaN         NaN         NaN  \n3              NaN         NaN  Medical Center         NaN         NaN  \n4              NaN         NaN       Hillcrest         NaN         NaN  \n5              NaN         NaN             NaN         NaN         NaN  \n6              NaN         NaN         Medical         NaN         NaN  \n7              NaN         NaN          Center         NaN         NaN  \n8              NaN         NaN       Hillcrest         NaN         NaN  \n9              NaN         NaN             NaN         NaN         NaN  \n10          Health      Health       Hillcrest   Hillcrest         NaN  \n11        Sciences    Sciences      Structures        Lots         NaN  \n12      Structures        Lots             NaN         NaN         NaN  \n13             NaN         NaN             NaN         NaN         NaN  \n14            P721        P751            P901        P941         NaN  \n15            P722        P752            P902        P942         NaN  \n16            P731        P753            P903        P952         NaN  \n17            P732        P757            P904        P953         NaN  \n18            P733        P758            P905        P954         NaN  \n19            P734        P759            P906        P955         NaN  \n20            P735        P760            P907        P956         NaN  \n21            P741        P761            P908        P957         NaN  \n22            P742        P762            P909        P958         NaN  \n23            P743         NaN            P910        P964         NaN  \n24            P744         NaN            P911         NaN         NaN  \n25            P745         NaN            P912         NaN         NaN  \n26            P746         NaN            P913         NaN         NaN  \n27            P747         NaN            P914         NaN         NaN  \n28             NaN         NaN            P921         NaN         NaN  \n29             NaN         NaN            P922         NaN         NaN  \n30             NaN         NaN            P923         NaN         NaN  \n31             NaN         NaN            P924         NaN         NaN  \n32             NaN         NaN            P925         NaN         NaN  \n33             NaN         NaN            P926         NaN         NaN  \n34             NaN         NaN            P927         NaN         NaN  \n35             NaN         NaN            P928         NaN         NaN  \n36             NaN         NaN            P929         NaN         NaN  \n37             NaN         NaN            P930         NaN         NaN  \n38             NaN         NaN            P931         NaN         NaN  \n39             NaN         NaN            P962         NaN         NaN  \n40             NaN         NaN            P963         NaN         NaN  \n41             NaN         NaN             NaN         NaN         NaN  \n42             NaN         NaN             NaN         NaN         NaN  \n43  Campus Pt East         NaN           Arbor   140 Arbor         NaN  \n44        (P721-2)         NaN       (P901-14)    (P941-2)         NaN  \n45  Campus Pt West         NaN         Bachman         NaN         NaN  \n46        (P731-5)         NaN       (P921-31)         NaN         NaN  \n47          Athena         NaN             NaN         NaN         NaN  \n48        (P741-7)         NaN             NaN         NaN         NaN  \n49             NaN         NaN             NaN         NaN         NaN  \n50             NaN         NaN             NaN         NaN         NaN  \n51             NaN         NaN             NaN         NaN         NaN  \n52             NaN         NaN             NaN         NaN         NaN  \n53             NaN         NaN             NaN         NaN         NaN  \n54             NaN         NaN             NaN         NaN         NaN  \n55             NaN         NaN             NaN         NaN         NaN  \n\n[56 rows x 24 columns]",
            "text/html": "<div>\n<style scoped>\n    .dataframe tbody tr th:only-of-type {\n        vertical-align: middle;\n    }\n\n    .dataframe tbody tr th {\n        vertical-align: top;\n    }\n\n    .dataframe thead th {\n        text-align: right;\n    }\n</style>\n<table border=\"1\" class=\"dataframe\">\n  <thead>\n    <tr style=\"text-align: right;\">\n      <th></th>\n      <th>Unnamed: 0</th>\n      <th>University of California, San Diego Survey of Parking Space Occupancy Levels, Winter 2022</th>\n      <th>Unnamed: 2</th>\n      <th>Unnamed: 3</th>\n      <th>Unnamed: 4</th>\n      <th>Unnamed: 5</th>\n      <th>Unnamed: 6</th>\n      <th>Unnamed: 7</th>\n      <th>Unnamed: 8</th>\n      <th>Unnamed: 9</th>\n      <th>...</th>\n      <th>Unnamed: 14</th>\n      <th>Unnamed: 15</th>\n      <th>Unnamed: 16</th>\n      <th>Unnamed: 17</th>\n      <th>Unnamed: 18</th>\n      <th>Unnamed: 19</th>\n      <th>Unnamed: 20</th>\n      <th>Unnamed: 21</th>\n      <th>Unnamed: 22</th>\n      <th>Unnamed: 23</th>\n    </tr>\n  </thead>\n  <tbody>\n    <tr>\n      <th>0</th>\n      <td>NaN</td>\n      <td>Key to Locations, Areas, Neighborhoods, Lots, ...</td>\n      <td>NaN</td>\n      <td>NaN</td>\n      <td>NaN</td>\n      <td>NaN</td>\n      <td>NaN</td>\n      <td>NaN</td>\n      <td>NaN</td>\n      <td>NaN</td>\n      <td>...</td>\n      <td>NaN</td>\n      <td>NaN</td>\n      <td>NaN</td>\n      <td>NaN</td>\n      <td>NaN</td>\n      <td>NaN</td>\n      <td>NaN</td>\n      <td>NaN</td>\n      <td>NaN</td>\n      <td>NaN</td>\n    </tr>\n    <tr>\n      <th>1</th>\n      <td>NaN</td>\n      <td>NaN</td>\n      <td>NaN</td>\n      <td>NaN</td>\n      <td>NaN</td>\n      <td>NaN</td>\n      <td>NaN</td>\n      <td>NaN</td>\n      <td>NaN</td>\n      <td>NaN</td>\n      <td>...</td>\n      <td>NaN</td>\n      <td>NaN</td>\n      <td>NaN</td>\n      <td>NaN</td>\n      <td>NaN</td>\n      <td>NaN</td>\n      <td>NaN</td>\n      <td>NaN</td>\n      <td>NaN</td>\n      <td>NaN</td>\n    </tr>\n    <tr>\n      <th>2</th>\n      <td>NaN</td>\n      <td>Location</td>\n      <td>NaN</td>\n      <td>NaN</td>\n      <td>NaN</td>\n      <td>NaN</td>\n      <td>NaN</td>\n      <td>NaN</td>\n      <td>NaN</td>\n      <td>NaN</td>\n      <td>...</td>\n      <td>NaN</td>\n      <td>NaN</td>\n      <td>NaN</td>\n      <td>NaN</td>\n      <td>NaN</td>\n      <td>NaN</td>\n      <td>NaN</td>\n      <td>NaN</td>\n      <td>NaN</td>\n      <td>NaN</td>\n    </tr>\n    <tr>\n      <th>3</th>\n      <td>NaN</td>\n      <td>La Jolla</td>\n      <td>NaN</td>\n      <td>NaN</td>\n      <td>NaN</td>\n      <td>NaN</td>\n      <td>NaN</td>\n      <td>NaN</td>\n      <td>NaN</td>\n      <td>NaN</td>\n      <td>...</td>\n      <td>NaN</td>\n      <td>NaN</td>\n      <td>NaN</td>\n      <td>NaN</td>\n      <td>NaN</td>\n      <td>NaN</td>\n      <td>NaN</td>\n      <td>Medical Center</td>\n      <td>NaN</td>\n      <td>NaN</td>\n    </tr>\n    <tr>\n      <th>4</th>\n      <td>NaN</td>\n      <td>Campus</td>\n      <td>NaN</td>\n      <td>NaN</td>\n      <td>NaN</td>\n      <td>NaN</td>\n      <td>NaN</td>\n      <td>NaN</td>\n      <td>NaN</td>\n      <td>NaN</td>\n      <td>...</td>\n      <td>NaN</td>\n      <td>NaN</td>\n      <td>NaN</td>\n      <td>NaN</td>\n      <td>NaN</td>\n      <td>NaN</td>\n      <td>NaN</td>\n      <td>Hillcrest</td>\n      <td>NaN</td>\n      <td>NaN</td>\n    </tr>\n    <tr>\n      <th>5</th>\n      <td>NaN</td>\n      <td>Area</td>\n      <td>NaN</td>\n      <td>NaN</td>\n      <td>NaN</td>\n      <td>NaN</td>\n      <td>NaN</td>\n      <td>NaN</td>\n      <td>NaN</td>\n      <td>NaN</td>\n      <td>...</td>\n      <td>NaN</td>\n      <td>NaN</td>\n      <td>NaN</td>\n      <td>NaN</td>\n      <td>NaN</td>\n      <td>NaN</td>\n      <td>NaN</td>\n      <td>NaN</td>\n      <td>NaN</td>\n      <td>NaN</td>\n    </tr>\n    <tr>\n      <th>6</th>\n      <td>NaN</td>\n      <td>Scripps Institution</td>\n      <td>NaN</td>\n      <td>NaN</td>\n      <td>NaN</td>\n      <td>West</td>\n      <td>NaN</td>\n      <td>NaN</td>\n      <td>NaN</td>\n      <td>NaN</td>\n      <td>...</td>\n      <td>NaN</td>\n      <td>NaN</td>\n      <td>NaN</td>\n      <td>East</td>\n      <td>NaN</td>\n      <td>NaN</td>\n      <td>NaN</td>\n      <td>Medical</td>\n      <td>NaN</td>\n      <td>NaN</td>\n    </tr>\n    <tr>\n      <th>7</th>\n      <td>NaN</td>\n      <td>of</td>\n      <td>NaN</td>\n      <td>NaN</td>\n      <td>NaN</td>\n      <td>Campus</td>\n      <td>NaN</td>\n      <td>NaN</td>\n      <td>NaN</td>\n      <td>NaN</td>\n      <td>...</td>\n      <td>NaN</td>\n      <td>NaN</td>\n      <td>NaN</td>\n      <td>Campus</td>\n      <td>NaN</td>\n      <td>NaN</td>\n      <td>NaN</td>\n      <td>Center</td>\n      <td>NaN</td>\n      <td>NaN</td>\n    </tr>\n    <tr>\n      <th>8</th>\n      <td>NaN</td>\n      <td>Oceanography</td>\n      <td>NaN</td>\n      <td>NaN</td>\n      <td>NaN</td>\n      <td>NaN</td>\n      <td>NaN</td>\n      <td>NaN</td>\n      <td>NaN</td>\n      <td>NaN</td>\n      <td>...</td>\n      <td>NaN</td>\n      <td>NaN</td>\n      <td>NaN</td>\n      <td>NaN</td>\n      <td>NaN</td>\n      <td>NaN</td>\n      <td>NaN</td>\n      <td>Hillcrest</td>\n      <td>NaN</td>\n      <td>NaN</td>\n    </tr>\n    <tr>\n      <th>9</th>\n      <td>NaN</td>\n      <td>Neighborhood</td>\n      <td>NaN</td>\n      <td>NaN</td>\n      <td>NaN</td>\n      <td>NaN</td>\n      <td>NaN</td>\n      <td>NaN</td>\n      <td>NaN</td>\n      <td>NaN</td>\n      <td>...</td>\n      <td>NaN</td>\n      <td>NaN</td>\n      <td>NaN</td>\n      <td>NaN</td>\n      <td>NaN</td>\n      <td>NaN</td>\n      <td>NaN</td>\n      <td>NaN</td>\n      <td>NaN</td>\n      <td>NaN</td>\n    </tr>\n    <tr>\n      <th>10</th>\n      <td>NaN</td>\n      <td>SIO</td>\n      <td>SIO</td>\n      <td>SIO</td>\n      <td>Aquarium</td>\n      <td>Theatre</td>\n      <td>Revelle</td>\n      <td>Muir</td>\n      <td>Marshall</td>\n      <td>North</td>\n      <td>...</td>\n      <td>Sixth</td>\n      <td>University</td>\n      <td>School</td>\n      <td>East</td>\n      <td>Science</td>\n      <td>Health</td>\n      <td>Health</td>\n      <td>Hillcrest</td>\n      <td>Hillcrest</td>\n      <td>NaN</td>\n    </tr>\n    <tr>\n      <th>11</th>\n      <td>NaN</td>\n      <td>South</td>\n      <td>West</td>\n      <td>Hillside</td>\n      <td>NaN</td>\n      <td>District</td>\n      <td>College</td>\n      <td>College</td>\n      <td>College</td>\n      <td>Campus</td>\n      <td>...</td>\n      <td>College</td>\n      <td>Center</td>\n      <td>of</td>\n      <td>Campus</td>\n      <td>Research</td>\n      <td>Sciences</td>\n      <td>Sciences</td>\n      <td>Structures</td>\n      <td>Lots</td>\n      <td>NaN</td>\n    </tr>\n    <tr>\n      <th>12</th>\n      <td>NaN</td>\n      <td>NaN</td>\n      <td>NaN</td>\n      <td>NaN</td>\n      <td>NaN</td>\n      <td>NaN</td>\n      <td>NaN</td>\n      <td>NaN</td>\n      <td>NaN</td>\n      <td>NaN</td>\n      <td>...</td>\n      <td>NaN</td>\n      <td>NaN</td>\n      <td>Medicine</td>\n      <td>Academic</td>\n      <td>Park</td>\n      <td>Structures</td>\n      <td>Lots</td>\n      <td>NaN</td>\n      <td>NaN</td>\n      <td>NaN</td>\n    </tr>\n    <tr>\n      <th>13</th>\n      <td>NaN</td>\n      <td>Lot</td>\n      <td>NaN</td>\n      <td>NaN</td>\n      <td>NaN</td>\n      <td>NaN</td>\n      <td>NaN</td>\n      <td>NaN</td>\n      <td>NaN</td>\n      <td>NaN</td>\n      <td>...</td>\n      <td>NaN</td>\n      <td>NaN</td>\n      <td>NaN</td>\n      <td>NaN</td>\n      <td>NaN</td>\n      <td>NaN</td>\n      <td>NaN</td>\n      <td>NaN</td>\n      <td>NaN</td>\n      <td>NaN</td>\n    </tr>\n    <tr>\n      <th>14</th>\n      <td>NaN</td>\n      <td>P001</td>\n      <td>P009</td>\n      <td>P014</td>\n      <td>P017</td>\n      <td>P105</td>\n      <td>P101</td>\n      <td>P113</td>\n      <td>P302</td>\n      <td>P351</td>\n      <td>...</td>\n      <td>P401</td>\n      <td>P405</td>\n      <td>P601</td>\n      <td>P701</td>\n      <td>P782 ***</td>\n      <td>P721</td>\n      <td>P751</td>\n      <td>P901</td>\n      <td>P941</td>\n      <td>NaN</td>\n    </tr>\n    <tr>\n      <th>15</th>\n      <td>NaN</td>\n      <td>P002</td>\n      <td>P010</td>\n      <td>P015</td>\n      <td>P021</td>\n      <td>NaN</td>\n      <td>P102</td>\n      <td>P114</td>\n      <td>P303</td>\n      <td>P352</td>\n      <td>...</td>\n      <td>P402</td>\n      <td>P407</td>\n      <td>P602</td>\n      <td>P703</td>\n      <td>P784</td>\n      <td>P722</td>\n      <td>P752</td>\n      <td>P902</td>\n      <td>P942</td>\n      <td>NaN</td>\n    </tr>\n    <tr>\n      <th>16</th>\n      <td>NaN</td>\n      <td>P003</td>\n      <td>P011</td>\n      <td>P016</td>\n      <td>NaN</td>\n      <td>NaN</td>\n      <td>P103</td>\n      <td>P201</td>\n      <td>P304</td>\n      <td>P357</td>\n      <td>...</td>\n      <td>P406</td>\n      <td>P408</td>\n      <td>P603</td>\n      <td>P704</td>\n      <td>P785</td>\n      <td>P731</td>\n      <td>P753</td>\n      <td>P903</td>\n      <td>P952</td>\n      <td>NaN</td>\n    </tr>\n    <tr>\n      <th>17</th>\n      <td>NaN</td>\n      <td>P004</td>\n      <td>P012</td>\n      <td>NaN</td>\n      <td>NaN</td>\n      <td>NaN</td>\n      <td>P106</td>\n      <td>P202</td>\n      <td>P308</td>\n      <td>P358</td>\n      <td>...</td>\n      <td>P451</td>\n      <td>P410</td>\n      <td>P604</td>\n      <td>P705</td>\n      <td>NaN</td>\n      <td>P732</td>\n      <td>P757</td>\n      <td>P904</td>\n      <td>P953</td>\n      <td>NaN</td>\n    </tr>\n    <tr>\n      <th>18</th>\n      <td>NaN</td>\n      <td>P005</td>\n      <td>P013</td>\n      <td>NaN</td>\n      <td>NaN</td>\n      <td>NaN</td>\n      <td>P107</td>\n      <td>P203</td>\n      <td>P309</td>\n      <td>P359</td>\n      <td>...</td>\n      <td>P452</td>\n      <td>P411</td>\n      <td>P605</td>\n      <td>P706</td>\n      <td>P791</td>\n      <td>P733</td>\n      <td>P758</td>\n      <td>P905</td>\n      <td>P954</td>\n      <td>NaN</td>\n    </tr>\n    <tr>\n      <th>19</th>\n      <td>NaN</td>\n      <td>P006</td>\n      <td>NaN</td>\n      <td>NaN</td>\n      <td>NaN</td>\n      <td>NaN</td>\n      <td>P108</td>\n      <td>P204</td>\n      <td>P310</td>\n      <td>NaN</td>\n      <td>...</td>\n      <td>P453</td>\n      <td>P412</td>\n      <td>P606</td>\n      <td>NaN</td>\n      <td>P792</td>\n      <td>P734</td>\n      <td>P759</td>\n      <td>P906</td>\n      <td>P955</td>\n      <td>NaN</td>\n    </tr>\n    <tr>\n      <th>20</th>\n      <td>NaN</td>\n      <td>P007</td>\n      <td>NaN</td>\n      <td>NaN</td>\n      <td>NaN</td>\n      <td>NaN</td>\n      <td>P110</td>\n      <td>P205</td>\n      <td>NaN</td>\n      <td>NaN</td>\n      <td>...</td>\n      <td>P454</td>\n      <td>P413</td>\n      <td>P607</td>\n      <td>NaN</td>\n      <td>P793</td>\n      <td>P735</td>\n      <td>P760</td>\n      <td>P907</td>\n      <td>P956</td>\n      <td>NaN</td>\n    </tr>\n    <tr>\n      <th>21</th>\n      <td>NaN</td>\n      <td>P008</td>\n      <td>NaN</td>\n      <td>NaN</td>\n      <td>NaN</td>\n      <td>NaN</td>\n      <td>P111</td>\n      <td>P206</td>\n      <td>NaN</td>\n      <td>NaN</td>\n      <td>...</td>\n      <td>P455</td>\n      <td>P415</td>\n      <td>P608</td>\n      <td>NaN</td>\n      <td>NaN</td>\n      <td>P741</td>\n      <td>P761</td>\n      <td>P908</td>\n      <td>P957</td>\n      <td>NaN</td>\n    </tr>\n    <tr>\n      <th>22</th>\n      <td>NaN</td>\n      <td>NaN</td>\n      <td>NaN</td>\n      <td>NaN</td>\n      <td>NaN</td>\n      <td>NaN</td>\n      <td>P112</td>\n      <td>NaN</td>\n      <td>NaN</td>\n      <td>NaN</td>\n      <td>...</td>\n      <td>P456</td>\n      <td>P416</td>\n      <td>P610</td>\n      <td>NaN</td>\n      <td>NaN</td>\n      <td>P742</td>\n      <td>P762</td>\n      <td>P909</td>\n      <td>P958</td>\n      <td>NaN</td>\n    </tr>\n    <tr>\n      <th>23</th>\n      <td>NaN</td>\n      <td>NaN</td>\n      <td>NaN</td>\n      <td>NaN</td>\n      <td>NaN</td>\n      <td>NaN</td>\n      <td>P116</td>\n      <td>NaN</td>\n      <td>NaN</td>\n      <td>NaN</td>\n      <td>...</td>\n      <td>P506</td>\n      <td>P501</td>\n      <td>P651</td>\n      <td>NaN</td>\n      <td>NaN</td>\n      <td>P743</td>\n      <td>NaN</td>\n      <td>P910</td>\n      <td>P964</td>\n      <td>NaN</td>\n    </tr>\n    <tr>\n      <th>24</th>\n      <td>NaN</td>\n      <td>NaN</td>\n      <td>NaN</td>\n      <td>NaN</td>\n      <td>NaN</td>\n      <td>NaN</td>\n      <td>NaN</td>\n      <td>P211</td>\n      <td>NaN</td>\n      <td>NaN</td>\n      <td>...</td>\n      <td>NaN</td>\n      <td>NaN</td>\n      <td>P652</td>\n      <td>NaN</td>\n      <td>NaN</td>\n      <td>P744</td>\n      <td>NaN</td>\n      <td>P911</td>\n      <td>NaN</td>\n      <td>NaN</td>\n    </tr>\n    <tr>\n      <th>25</th>\n      <td>NaN</td>\n      <td>NaN</td>\n      <td>NaN</td>\n      <td>NaN</td>\n      <td>NaN</td>\n      <td>NaN</td>\n      <td>NaN</td>\n      <td>P212</td>\n      <td>NaN</td>\n      <td>NaN</td>\n      <td>...</td>\n      <td>NaN</td>\n      <td>NaN</td>\n      <td>P653</td>\n      <td>NaN</td>\n      <td>NaN</td>\n      <td>P745</td>\n      <td>NaN</td>\n      <td>P912</td>\n      <td>NaN</td>\n      <td>NaN</td>\n    </tr>\n    <tr>\n      <th>26</th>\n      <td>NaN</td>\n      <td>NaN</td>\n      <td>NaN</td>\n      <td>NaN</td>\n      <td>NaN</td>\n      <td>NaN</td>\n      <td>NaN</td>\n      <td>P213</td>\n      <td>NaN</td>\n      <td>NaN</td>\n      <td>...</td>\n      <td>NaN</td>\n      <td>NaN</td>\n      <td>P654</td>\n      <td>NaN</td>\n      <td>NaN</td>\n      <td>P746</td>\n      <td>NaN</td>\n      <td>P913</td>\n      <td>NaN</td>\n      <td>NaN</td>\n    </tr>\n    <tr>\n      <th>27</th>\n      <td>NaN</td>\n      <td>NaN</td>\n      <td>NaN</td>\n      <td>NaN</td>\n      <td>NaN</td>\n      <td>NaN</td>\n      <td>NaN</td>\n      <td>P414</td>\n      <td>NaN</td>\n      <td>NaN</td>\n      <td>...</td>\n      <td>NaN</td>\n      <td>NaN</td>\n      <td>P655</td>\n      <td>NaN</td>\n      <td>NaN</td>\n      <td>P747</td>\n      <td>NaN</td>\n      <td>P914</td>\n      <td>NaN</td>\n      <td>NaN</td>\n    </tr>\n    <tr>\n      <th>28</th>\n      <td>NaN</td>\n      <td>NaN</td>\n      <td>NaN</td>\n      <td>NaN</td>\n      <td>NaN</td>\n      <td>NaN</td>\n      <td>NaN</td>\n      <td>NaN</td>\n      <td>NaN</td>\n      <td>NaN</td>\n      <td>...</td>\n      <td>NaN</td>\n      <td>NaN</td>\n      <td>NaN</td>\n      <td>NaN</td>\n      <td>NaN</td>\n      <td>NaN</td>\n      <td>NaN</td>\n      <td>P921</td>\n      <td>NaN</td>\n      <td>NaN</td>\n    </tr>\n    <tr>\n      <th>29</th>\n      <td>NaN</td>\n      <td>NaN</td>\n      <td>NaN</td>\n      <td>NaN</td>\n      <td>NaN</td>\n      <td>NaN</td>\n      <td>NaN</td>\n      <td>NaN</td>\n      <td>NaN</td>\n      <td>NaN</td>\n      <td>...</td>\n      <td>NaN</td>\n      <td>NaN</td>\n      <td>NaN</td>\n      <td>NaN</td>\n      <td>NaN</td>\n      <td>NaN</td>\n      <td>NaN</td>\n      <td>P922</td>\n      <td>NaN</td>\n      <td>NaN</td>\n    </tr>\n    <tr>\n      <th>30</th>\n      <td>NaN</td>\n      <td>NaN</td>\n      <td>NaN</td>\n      <td>NaN</td>\n      <td>NaN</td>\n      <td>NaN</td>\n      <td>NaN</td>\n      <td>NaN</td>\n      <td>NaN</td>\n      <td>NaN</td>\n      <td>...</td>\n      <td>NaN</td>\n      <td>NaN</td>\n      <td>NaN</td>\n      <td>NaN</td>\n      <td>NaN</td>\n      <td>NaN</td>\n      <td>NaN</td>\n      <td>P923</td>\n      <td>NaN</td>\n      <td>NaN</td>\n    </tr>\n    <tr>\n      <th>31</th>\n      <td>NaN</td>\n      <td>NaN</td>\n      <td>NaN</td>\n      <td>NaN</td>\n      <td>NaN</td>\n      <td>NaN</td>\n      <td>NaN</td>\n      <td>NaN</td>\n      <td>NaN</td>\n      <td>NaN</td>\n      <td>...</td>\n      <td>NaN</td>\n      <td>NaN</td>\n      <td>NaN</td>\n      <td>NaN</td>\n      <td>NaN</td>\n      <td>NaN</td>\n      <td>NaN</td>\n      <td>P924</td>\n      <td>NaN</td>\n      <td>NaN</td>\n    </tr>\n    <tr>\n      <th>32</th>\n      <td>NaN</td>\n      <td>NaN</td>\n      <td>NaN</td>\n      <td>NaN</td>\n      <td>NaN</td>\n      <td>NaN</td>\n      <td>NaN</td>\n      <td>NaN</td>\n      <td>NaN</td>\n      <td>NaN</td>\n      <td>...</td>\n      <td>NaN</td>\n      <td>NaN</td>\n      <td>NaN</td>\n      <td>NaN</td>\n      <td>NaN</td>\n      <td>NaN</td>\n      <td>NaN</td>\n      <td>P925</td>\n      <td>NaN</td>\n      <td>NaN</td>\n    </tr>\n    <tr>\n      <th>33</th>\n      <td>NaN</td>\n      <td>NaN</td>\n      <td>NaN</td>\n      <td>NaN</td>\n      <td>NaN</td>\n      <td>NaN</td>\n      <td>NaN</td>\n      <td>NaN</td>\n      <td>NaN</td>\n      <td>NaN</td>\n      <td>...</td>\n      <td>NaN</td>\n      <td>NaN</td>\n      <td>NaN</td>\n      <td>NaN</td>\n      <td>NaN</td>\n      <td>NaN</td>\n      <td>NaN</td>\n      <td>P926</td>\n      <td>NaN</td>\n      <td>NaN</td>\n    </tr>\n    <tr>\n      <th>34</th>\n      <td>NaN</td>\n      <td>NaN</td>\n      <td>NaN</td>\n      <td>NaN</td>\n      <td>NaN</td>\n      <td>NaN</td>\n      <td>NaN</td>\n      <td>NaN</td>\n      <td>NaN</td>\n      <td>NaN</td>\n      <td>...</td>\n      <td>NaN</td>\n      <td>NaN</td>\n      <td>NaN</td>\n      <td>NaN</td>\n      <td>NaN</td>\n      <td>NaN</td>\n      <td>NaN</td>\n      <td>P927</td>\n      <td>NaN</td>\n      <td>NaN</td>\n    </tr>\n    <tr>\n      <th>35</th>\n      <td>NaN</td>\n      <td>NaN</td>\n      <td>NaN</td>\n      <td>NaN</td>\n      <td>NaN</td>\n      <td>NaN</td>\n      <td>NaN</td>\n      <td>NaN</td>\n      <td>NaN</td>\n      <td>NaN</td>\n      <td>...</td>\n      <td>NaN</td>\n      <td>NaN</td>\n      <td>NaN</td>\n      <td>NaN</td>\n      <td>NaN</td>\n      <td>NaN</td>\n      <td>NaN</td>\n      <td>P928</td>\n      <td>NaN</td>\n      <td>NaN</td>\n    </tr>\n    <tr>\n      <th>36</th>\n      <td>NaN</td>\n      <td>NaN</td>\n      <td>NaN</td>\n      <td>NaN</td>\n      <td>NaN</td>\n      <td>NaN</td>\n      <td>NaN</td>\n      <td>NaN</td>\n      <td>NaN</td>\n      <td>NaN</td>\n      <td>...</td>\n      <td>NaN</td>\n      <td>NaN</td>\n      <td>NaN</td>\n      <td>NaN</td>\n      <td>NaN</td>\n      <td>NaN</td>\n      <td>NaN</td>\n      <td>P929</td>\n      <td>NaN</td>\n      <td>NaN</td>\n    </tr>\n    <tr>\n      <th>37</th>\n      <td>NaN</td>\n      <td>NaN</td>\n      <td>NaN</td>\n      <td>NaN</td>\n      <td>NaN</td>\n      <td>NaN</td>\n      <td>NaN</td>\n      <td>NaN</td>\n      <td>NaN</td>\n      <td>NaN</td>\n      <td>...</td>\n      <td>NaN</td>\n      <td>NaN</td>\n      <td>NaN</td>\n      <td>NaN</td>\n      <td>NaN</td>\n      <td>NaN</td>\n      <td>NaN</td>\n      <td>P930</td>\n      <td>NaN</td>\n      <td>NaN</td>\n    </tr>\n    <tr>\n      <th>38</th>\n      <td>NaN</td>\n      <td>NaN</td>\n      <td>NaN</td>\n      <td>NaN</td>\n      <td>NaN</td>\n      <td>NaN</td>\n      <td>NaN</td>\n      <td>NaN</td>\n      <td>NaN</td>\n      <td>NaN</td>\n      <td>...</td>\n      <td>NaN</td>\n      <td>NaN</td>\n      <td>NaN</td>\n      <td>NaN</td>\n      <td>NaN</td>\n      <td>NaN</td>\n      <td>NaN</td>\n      <td>P931</td>\n      <td>NaN</td>\n      <td>NaN</td>\n    </tr>\n    <tr>\n      <th>39</th>\n      <td>NaN</td>\n      <td>NaN</td>\n      <td>NaN</td>\n      <td>NaN</td>\n      <td>NaN</td>\n      <td>NaN</td>\n      <td>NaN</td>\n      <td>NaN</td>\n      <td>NaN</td>\n      <td>NaN</td>\n      <td>...</td>\n      <td>NaN</td>\n      <td>NaN</td>\n      <td>NaN</td>\n      <td>NaN</td>\n      <td>NaN</td>\n      <td>NaN</td>\n      <td>NaN</td>\n      <td>P962</td>\n      <td>NaN</td>\n      <td>NaN</td>\n    </tr>\n    <tr>\n      <th>40</th>\n      <td>NaN</td>\n      <td>NaN</td>\n      <td>NaN</td>\n      <td>NaN</td>\n      <td>NaN</td>\n      <td>NaN</td>\n      <td>NaN</td>\n      <td>NaN</td>\n      <td>NaN</td>\n      <td>NaN</td>\n      <td>...</td>\n      <td>NaN</td>\n      <td>NaN</td>\n      <td>NaN</td>\n      <td>NaN</td>\n      <td>NaN</td>\n      <td>NaN</td>\n      <td>NaN</td>\n      <td>P963</td>\n      <td>NaN</td>\n      <td>NaN</td>\n    </tr>\n    <tr>\n      <th>41</th>\n      <td>NaN</td>\n      <td>NaN</td>\n      <td>NaN</td>\n      <td>NaN</td>\n      <td>NaN</td>\n      <td>NaN</td>\n      <td>NaN</td>\n      <td>NaN</td>\n      <td>NaN</td>\n      <td>NaN</td>\n      <td>...</td>\n      <td>NaN</td>\n      <td>NaN</td>\n      <td>NaN</td>\n      <td>NaN</td>\n      <td>NaN</td>\n      <td>NaN</td>\n      <td>NaN</td>\n      <td>NaN</td>\n      <td>NaN</td>\n      <td>NaN</td>\n    </tr>\n    <tr>\n      <th>42</th>\n      <td>NaN</td>\n      <td>Structure</td>\n      <td>NaN</td>\n      <td>NaN</td>\n      <td>NaN</td>\n      <td>NaN</td>\n      <td>NaN</td>\n      <td>NaN</td>\n      <td>NaN</td>\n      <td>NaN</td>\n      <td>...</td>\n      <td>NaN</td>\n      <td>NaN</td>\n      <td>NaN</td>\n      <td>NaN</td>\n      <td>NaN</td>\n      <td>NaN</td>\n      <td>NaN</td>\n      <td>NaN</td>\n      <td>NaN</td>\n      <td>NaN</td>\n    </tr>\n    <tr>\n      <th>43</th>\n      <td>NaN</td>\n      <td>NaN</td>\n      <td>NaN</td>\n      <td>NaN</td>\n      <td>NaN</td>\n      <td>NaN</td>\n      <td>NaN</td>\n      <td>Scholars</td>\n      <td>NaN</td>\n      <td>Hopkins</td>\n      <td>...</td>\n      <td>Gilman</td>\n      <td>NaN</td>\n      <td>Osler</td>\n      <td>NaN</td>\n      <td>Vela/</td>\n      <td>Campus Pt East</td>\n      <td>NaN</td>\n      <td>Arbor</td>\n      <td>140 Arbor</td>\n      <td>NaN</td>\n    </tr>\n    <tr>\n      <th>44</th>\n      <td>NaN</td>\n      <td>NaN</td>\n      <td>NaN</td>\n      <td>NaN</td>\n      <td>NaN</td>\n      <td>NaN</td>\n      <td>NaN</td>\n      <td>(P211-3)</td>\n      <td>NaN</td>\n      <td>(P341-7)</td>\n      <td>...</td>\n      <td>(P451-6)</td>\n      <td>NaN</td>\n      <td>(P651-6)</td>\n      <td>NaN</td>\n      <td>Nuevo W.</td>\n      <td>(P721-2)</td>\n      <td>NaN</td>\n      <td>(P901-14)</td>\n      <td>(P941-2)</td>\n      <td>NaN</td>\n    </tr>\n    <tr>\n      <th>45</th>\n      <td>NaN</td>\n      <td>NaN</td>\n      <td>NaN</td>\n      <td>NaN</td>\n      <td>NaN</td>\n      <td>NaN</td>\n      <td>NaN</td>\n      <td>NaN</td>\n      <td>NaN</td>\n      <td>Pangea</td>\n      <td>...</td>\n      <td>NaN</td>\n      <td>NaN</td>\n      <td>NaN</td>\n      <td>NaN</td>\n      <td>(P791-3)</td>\n      <td>Campus Pt West</td>\n      <td>NaN</td>\n      <td>Bachman</td>\n      <td>NaN</td>\n      <td>NaN</td>\n    </tr>\n    <tr>\n      <th>46</th>\n      <td>NaN</td>\n      <td>NaN</td>\n      <td>NaN</td>\n      <td>NaN</td>\n      <td>NaN</td>\n      <td>NaN</td>\n      <td>NaN</td>\n      <td>NaN</td>\n      <td>NaN</td>\n      <td>(P371-6)</td>\n      <td>...</td>\n      <td>NaN</td>\n      <td>NaN</td>\n      <td>NaN</td>\n      <td>NaN</td>\n      <td>NaN</td>\n      <td>(P731-5)</td>\n      <td>NaN</td>\n      <td>(P921-31)</td>\n      <td>NaN</td>\n      <td>NaN</td>\n    </tr>\n    <tr>\n      <th>47</th>\n      <td>NaN</td>\n      <td>NaN</td>\n      <td>NaN</td>\n      <td>NaN</td>\n      <td>NaN</td>\n      <td>NaN</td>\n      <td>NaN</td>\n      <td>NaN</td>\n      <td>NaN</td>\n      <td>NaN</td>\n      <td>...</td>\n      <td>NaN</td>\n      <td>NaN</td>\n      <td>NaN</td>\n      <td>NaN</td>\n      <td>NaN</td>\n      <td>Athena</td>\n      <td>NaN</td>\n      <td>NaN</td>\n      <td>NaN</td>\n      <td>NaN</td>\n    </tr>\n    <tr>\n      <th>48</th>\n      <td>NaN</td>\n      <td>NaN</td>\n      <td>NaN</td>\n      <td>NaN</td>\n      <td>NaN</td>\n      <td>NaN</td>\n      <td>NaN</td>\n      <td>NaN</td>\n      <td>NaN</td>\n      <td>NaN</td>\n      <td>...</td>\n      <td>NaN</td>\n      <td>NaN</td>\n      <td>NaN</td>\n      <td>NaN</td>\n      <td>NaN</td>\n      <td>(P741-7)</td>\n      <td>NaN</td>\n      <td>NaN</td>\n      <td>NaN</td>\n      <td>NaN</td>\n    </tr>\n    <tr>\n      <th>49</th>\n      <td>NaN</td>\n      <td>NaN</td>\n      <td>NaN</td>\n      <td>NaN</td>\n      <td>NaN</td>\n      <td>NaN</td>\n      <td>NaN</td>\n      <td>NaN</td>\n      <td>NaN</td>\n      <td>NaN</td>\n      <td>...</td>\n      <td>NaN</td>\n      <td>NaN</td>\n      <td>NaN</td>\n      <td>NaN</td>\n      <td>NaN</td>\n      <td>NaN</td>\n      <td>NaN</td>\n      <td>NaN</td>\n      <td>NaN</td>\n      <td>NaN</td>\n    </tr>\n    <tr>\n      <th>50</th>\n      <td>NaN</td>\n      <td>NaN</td>\n      <td>NaN</td>\n      <td>NaN</td>\n      <td>NaN</td>\n      <td>NaN</td>\n      <td>NaN</td>\n      <td>NaN</td>\n      <td>NaN</td>\n      <td>NaN</td>\n      <td>...</td>\n      <td>NaN</td>\n      <td>NaN</td>\n      <td>NaN</td>\n      <td>NaN</td>\n      <td>NaN</td>\n      <td>NaN</td>\n      <td>NaN</td>\n      <td>NaN</td>\n      <td>NaN</td>\n      <td>NaN</td>\n    </tr>\n    <tr>\n      <th>51</th>\n      <td>NaN</td>\n      <td>Lot Completely Closed</td>\n      <td>NaN</td>\n      <td>NaN</td>\n      <td>NaN</td>\n      <td>Lot number strikethrough if closure is permanent</td>\n      <td>NaN</td>\n      <td>NaN</td>\n      <td>NaN</td>\n      <td>NaN</td>\n      <td>...</td>\n      <td>NaN</td>\n      <td>NaN</td>\n      <td>NaN</td>\n      <td>NaN</td>\n      <td>NaN</td>\n      <td>NaN</td>\n      <td>NaN</td>\n      <td>NaN</td>\n      <td>NaN</td>\n      <td>NaN</td>\n    </tr>\n    <tr>\n      <th>52</th>\n      <td>NaN</td>\n      <td>Total Inventory Numbers Affected by Construction</td>\n      <td>NaN</td>\n      <td>NaN</td>\n      <td>NaN</td>\n      <td>NaN</td>\n      <td>NaN</td>\n      <td>NaN</td>\n      <td>NaN</td>\n      <td>NaN</td>\n      <td>...</td>\n      <td>NaN</td>\n      <td>NaN</td>\n      <td>NaN</td>\n      <td>NaN</td>\n      <td>NaN</td>\n      <td>NaN</td>\n      <td>NaN</td>\n      <td>NaN</td>\n      <td>NaN</td>\n      <td>NaN</td>\n    </tr>\n    <tr>\n      <th>53</th>\n      <td>NaN</td>\n      <td>Closed for COVID-19 testing</td>\n      <td>NaN</td>\n      <td>NaN</td>\n      <td>NaN</td>\n      <td>NaN</td>\n      <td>NaN</td>\n      <td>*** P782 Scheduled to open for parking January...</td>\n      <td>NaN</td>\n      <td>NaN</td>\n      <td>...</td>\n      <td>NaN</td>\n      <td>NaN</td>\n      <td>NaN</td>\n      <td>NaN</td>\n      <td>NaN</td>\n      <td>NaN</td>\n      <td>NaN</td>\n      <td>NaN</td>\n      <td>NaN</td>\n      <td>NaN</td>\n    </tr>\n    <tr>\n      <th>54</th>\n      <td>NaN</td>\n      <td>NaN</td>\n      <td>NaN</td>\n      <td>NaN</td>\n      <td>NaN</td>\n      <td>NaN</td>\n      <td>NaN</td>\n      <td>NaN</td>\n      <td>NaN</td>\n      <td>NaN</td>\n      <td>...</td>\n      <td>NaN</td>\n      <td>NaN</td>\n      <td>NaN</td>\n      <td>NaN</td>\n      <td>NaN</td>\n      <td>NaN</td>\n      <td>NaN</td>\n      <td>NaN</td>\n      <td>NaN</td>\n      <td>NaN</td>\n    </tr>\n    <tr>\n      <th>55</th>\n      <td>NaN</td>\n      <td>NaN</td>\n      <td>Data Not Collected</td>\n      <td>NaN</td>\n      <td>NaN</td>\n      <td>NaN</td>\n      <td>NaN</td>\n      <td>NaN</td>\n      <td>NaN</td>\n      <td>NaN</td>\n      <td>...</td>\n      <td>NaN</td>\n      <td>NaN</td>\n      <td>NaN</td>\n      <td>NaN</td>\n      <td>NaN</td>\n      <td>NaN</td>\n      <td>NaN</td>\n      <td>NaN</td>\n      <td>NaN</td>\n      <td>NaN</td>\n    </tr>\n  </tbody>\n</table>\n<p>56 rows × 24 columns</p>\n</div>"
          },
          "metadata": {}
        }
      ],
      "execution_count": null,
      "block_group": "f78159f9cb2a459e9e4cd5df09610f03"
    },
    {
      "cell_type": "markdown",
      "source": "<a style='text-decoration:none;line-height:16px;display:flex;color:#5B5B62;padding:10px;justify-content:end;' href='https://deepnote.com?utm_source=created-in-deepnote-cell&projectId=79f50031-d40f-43af-acaa-365d48045c9e' target=\"_blank\">\n<img alt='Created in deepnote.com' style='display:inline;max-height:16px;margin:0px;margin-right:7.5px;' src='data:image/svg+xml;base64,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' > </img>\nCreated in <span style='font-weight:600;margin-left:4px;'>Deepnote</span></a>",
      "metadata": {
        "created_in_deepnote_cell": true,
        "deepnote_cell_type": "markdown"
      }
    }
  ],
  "nbformat": 4,
  "nbformat_minor": 0,
  "metadata": {
    "deepnote": {},
    "orig_nbformat": 2,
    "deepnote_notebook_id": "dc00e3b4e1c648198a63083773afd11d",
    "deepnote_persisted_session": {
      "createdAt": "2023-09-17T06:16:06.729Z"
    },
    "deepnote_execution_queue": []
  }
}