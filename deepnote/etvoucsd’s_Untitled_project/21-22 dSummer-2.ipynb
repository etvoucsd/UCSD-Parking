{
  "cells": [
    {
      "cell_type": "code",
      "source": "import pandas as pd",
      "metadata": {
        "source_hash": null,
        "execution_start": 1694926859162,
        "execution_millis": 44,
        "deepnote_to_be_reexecuted": false,
        "cell_id": "c70ddd311bb843bca21d4fcb34f462a0",
        "deepnote_cell_type": "code"
      },
      "outputs": [],
      "execution_count": null,
      "block_group": "647f54bd2e7e4a2e814807afd7ee8d75"
    },
    {
      "cell_type": "code",
      "source": "summer_data = pd.read_excel('/work/2021-2022/2021-2022-1 Summer.xlsx')",
      "metadata": {
        "source_hash": null,
        "execution_start": 1694926859229,
        "execution_millis": 497,
        "deepnote_to_be_reexecuted": false,
        "cell_id": "b878e3a6c1ca4fe590ad0d257f8989a0",
        "deepnote_cell_type": "code"
      },
      "outputs": [],
      "execution_count": null,
      "block_group": "d899a378283345079ed2eccb6c176cc9"
    },
    {
      "cell_type": "code",
      "source": "summer_data",
      "metadata": {
        "source_hash": null,
        "execution_start": 1694926859735,
        "execution_millis": 248,
        "deepnote_to_be_reexecuted": false,
        "cell_id": "fd265f7969254d7585c634786d942180",
        "deepnote_cell_type": "code"
      },
      "outputs": [
        {
          "output_type": "execute_result",
          "execution_count": 3,
          "data": {
            "application/vnd.deepnote.dataframe.v3+json": {
              "column_count": 17,
              "row_count": 19,
              "columns": [
                {
                  "name": "University of California, San Diego Survey of Parking Space Occupancy Levels, Summer 2021",
                  "dtype": "object",
                  "stats": {
                    "unique_count": 5,
                    "nan_count": 14,
                    "categories": [
                      {
                        "name": "University-wide",
                        "count": 1
                      },
                      {
                        "name": "4 others",
                        "count": 4
                      },
                      {
                        "name": "Missing",
                        "count": 14
                      }
                    ]
                  }
                },
                {
                  "name": "Unnamed: 1",
                  "dtype": "object",
                  "stats": {
                    "unique_count": 16,
                    "nan_count": 3,
                    "categories": [
                      {
                        "name": "Parking",
                        "count": 1
                      },
                      {
                        "name": "15 others",
                        "count": 15
                      },
                      {
                        "name": "Missing",
                        "count": 3
                      }
                    ]
                  }
                },
                {
                  "name": "Unnamed: 2",
                  "dtype": "object",
                  "stats": {
                    "unique_count": 16,
                    "nan_count": 3,
                    "categories": [
                      {
                        "name": "Parking",
                        "count": 1
                      },
                      {
                        "name": "15 others",
                        "count": 15
                      },
                      {
                        "name": "Missing",
                        "count": 3
                      }
                    ]
                  }
                },
                {
                  "name": "Unnamed: 3",
                  "dtype": "object",
                  "stats": {
                    "unique_count": 17,
                    "nan_count": 2,
                    "categories": [
                      {
                        "name": "Empty Parking Spaces",
                        "count": 1
                      },
                      {
                        "name": "16 others",
                        "count": 16
                      },
                      {
                        "name": "Missing",
                        "count": 2
                      }
                    ]
                  }
                },
                {
                  "name": "Unnamed: 4",
                  "dtype": "object",
                  "stats": {
                    "unique_count": 16,
                    "nan_count": 3,
                    "categories": [
                      {
                        "name": "9:00",
                        "count": 1
                      },
                      {
                        "name": "15 others",
                        "count": 15
                      },
                      {
                        "name": "Missing",
                        "count": 3
                      }
                    ]
                  }
                },
                {
                  "name": "Unnamed: 5",
                  "dtype": "object",
                  "stats": {
                    "unique_count": 16,
                    "nan_count": 3,
                    "categories": [
                      {
                        "name": "10:00",
                        "count": 1
                      },
                      {
                        "name": "15 others",
                        "count": 15
                      },
                      {
                        "name": "Missing",
                        "count": 3
                      }
                    ]
                  }
                },
                {
                  "name": "Unnamed: 6",
                  "dtype": "object",
                  "stats": {
                    "unique_count": 16,
                    "nan_count": 3,
                    "categories": [
                      {
                        "name": "11:00",
                        "count": 1
                      },
                      {
                        "name": "15 others",
                        "count": 15
                      },
                      {
                        "name": "Missing",
                        "count": 3
                      }
                    ]
                  }
                },
                {
                  "name": "Unnamed: 7",
                  "dtype": "object",
                  "stats": {
                    "unique_count": 16,
                    "nan_count": 3,
                    "categories": [
                      {
                        "name": "12:00",
                        "count": 1
                      },
                      {
                        "name": "15 others",
                        "count": 15
                      },
                      {
                        "name": "Missing",
                        "count": 3
                      }
                    ]
                  }
                },
                {
                  "name": "Unnamed: 8",
                  "dtype": "object",
                  "stats": {
                    "unique_count": 16,
                    "nan_count": 3,
                    "categories": [
                      {
                        "name": "1:00",
                        "count": 1
                      },
                      {
                        "name": "15 others",
                        "count": 15
                      },
                      {
                        "name": "Missing",
                        "count": 3
                      }
                    ]
                  }
                },
                {
                  "name": "Unnamed: 9",
                  "dtype": "object",
                  "stats": {
                    "unique_count": 16,
                    "nan_count": 3,
                    "categories": [
                      {
                        "name": "2:00",
                        "count": 1
                      },
                      {
                        "name": "15 others",
                        "count": 15
                      },
                      {
                        "name": "Missing",
                        "count": 3
                      }
                    ]
                  }
                },
                {
                  "name": "Unnamed: 10",
                  "dtype": "object",
                  "stats": {
                    "unique_count": 16,
                    "nan_count": 3,
                    "categories": [
                      {
                        "name": "3:00",
                        "count": 1
                      },
                      {
                        "name": "15 others",
                        "count": 15
                      },
                      {
                        "name": "Missing",
                        "count": 3
                      }
                    ]
                  }
                },
                {
                  "name": "Unnamed: 11",
                  "dtype": "object",
                  "stats": {
                    "unique_count": 16,
                    "nan_count": 3,
                    "categories": [
                      {
                        "name": "4:00",
                        "count": 1
                      },
                      {
                        "name": "15 others",
                        "count": 15
                      },
                      {
                        "name": "Missing",
                        "count": 3
                      }
                    ]
                  }
                },
                {
                  "name": "Unnamed: 12",
                  "dtype": "object",
                  "stats": {
                    "unique_count": 16,
                    "nan_count": 3,
                    "categories": [
                      {
                        "name": "5:00",
                        "count": 1
                      },
                      {
                        "name": "15 others",
                        "count": 15
                      },
                      {
                        "name": "Missing",
                        "count": 3
                      }
                    ]
                  }
                },
                {
                  "name": "Unnamed: 13",
                  "dtype": "object",
                  "stats": {
                    "unique_count": 17,
                    "nan_count": 2,
                    "categories": [
                      {
                        "name": "At Peak",
                        "count": 1
                      },
                      {
                        "name": "16 others",
                        "count": 16
                      },
                      {
                        "name": "Missing",
                        "count": 2
                      }
                    ]
                  }
                },
                {
                  "name": "Unnamed: 14",
                  "dtype": "object",
                  "stats": {
                    "unique_count": 16,
                    "nan_count": 3,
                    "categories": [
                      {
                        "name": "Occupied",
                        "count": 1
                      },
                      {
                        "name": "15 others",
                        "count": 15
                      },
                      {
                        "name": "Missing",
                        "count": 3
                      }
                    ]
                  }
                },
                {
                  "name": "Unnamed: 15",
                  "dtype": "object",
                  "stats": {
                    "unique_count": 16,
                    "nan_count": 3,
                    "categories": [
                      {
                        "name": "%",
                        "count": 1
                      },
                      {
                        "name": "15 others",
                        "count": 15
                      },
                      {
                        "name": "Missing",
                        "count": 3
                      }
                    ]
                  }
                },
                {
                  "name": "Unnamed: 16",
                  "dtype": "float64",
                  "stats": {
                    "unique_count": 0,
                    "nan_count": 19,
                    "min": null,
                    "max": null,
                    "histogram": [
                      {
                        "bin_start": 0,
                        "bin_end": 0.1,
                        "count": 0
                      },
                      {
                        "bin_start": 0.1,
                        "bin_end": 0.2,
                        "count": 0
                      },
                      {
                        "bin_start": 0.2,
                        "bin_end": 0.30000000000000004,
                        "count": 0
                      },
                      {
                        "bin_start": 0.30000000000000004,
                        "bin_end": 0.4,
                        "count": 0
                      },
                      {
                        "bin_start": 0.4,
                        "bin_end": 0.5,
                        "count": 0
                      },
                      {
                        "bin_start": 0.5,
                        "bin_end": 0.6000000000000001,
                        "count": 0
                      },
                      {
                        "bin_start": 0.6000000000000001,
                        "bin_end": 0.7000000000000001,
                        "count": 0
                      },
                      {
                        "bin_start": 0.7000000000000001,
                        "bin_end": 0.8,
                        "count": 0
                      },
                      {
                        "bin_start": 0.8,
                        "bin_end": 0.9,
                        "count": 0
                      },
                      {
                        "bin_start": 0.9,
                        "bin_end": 1,
                        "count": 0
                      }
                    ]
                  }
                },
                {
                  "name": "_deepnote_index_column",
                  "dtype": "int64"
                }
              ],
              "rows": [
                {
                  "University of California, San Diego Survey of Parking Space Occupancy Levels, Summer 2021": "University-wide",
                  "Unnamed: 1": "nan",
                  "Unnamed: 2": "nan",
                  "Unnamed: 3": "nan",
                  "Unnamed: 4": "nan",
                  "Unnamed: 5": "nan",
                  "Unnamed: 6": "nan",
                  "Unnamed: 7": "nan",
                  "Unnamed: 8": "nan",
                  "Unnamed: 9": "nan",
                  "Unnamed: 10": "nan",
                  "Unnamed: 11": "nan",
                  "Unnamed: 12": "nan",
                  "Unnamed: 13": "nan",
                  "Unnamed: 14": "nan",
                  "Unnamed: 15": "nan",
                  "Unnamed: 16": "nan",
                  "_deepnote_index_column": 0
                },
                {
                  "University of California, San Diego Survey of Parking Space Occupancy Levels, Summer 2021": "nan",
                  "Unnamed: 1": "nan",
                  "Unnamed: 2": "nan",
                  "Unnamed: 3": "nan",
                  "Unnamed: 4": "nan",
                  "Unnamed: 5": "nan",
                  "Unnamed: 6": "nan",
                  "Unnamed: 7": "nan",
                  "Unnamed: 8": "nan",
                  "Unnamed: 9": "nan",
                  "Unnamed: 10": "nan",
                  "Unnamed: 11": "nan",
                  "Unnamed: 12": "nan",
                  "Unnamed: 13": "nan",
                  "Unnamed: 14": "nan",
                  "Unnamed: 15": "nan",
                  "Unnamed: 16": "nan",
                  "_deepnote_index_column": 1
                },
                {
                  "University of California, San Diego Survey of Parking Space Occupancy Levels, Summer 2021": "nan",
                  "Unnamed: 1": "Parking",
                  "Unnamed: 2": "Parking",
                  "Unnamed: 3": "Empty Parking Spaces",
                  "Unnamed: 4": "nan",
                  "Unnamed: 5": "nan",
                  "Unnamed: 6": "nan",
                  "Unnamed: 7": "nan",
                  "Unnamed: 8": "nan",
                  "Unnamed: 9": "nan",
                  "Unnamed: 10": "nan",
                  "Unnamed: 11": "nan",
                  "Unnamed: 12": "nan",
                  "Unnamed: 13": "At Peak",
                  "Unnamed: 14": "nan",
                  "Unnamed: 15": "nan",
                  "Unnamed: 16": "nan",
                  "_deepnote_index_column": 2
                },
                {
                  "University of California, San Diego Survey of Parking Space Occupancy Levels, Summer 2021": "nan",
                  "Unnamed: 1": "Space",
                  "Unnamed: 2": "Spaces",
                  "Unnamed: 3": "8:00",
                  "Unnamed: 4": "9:00",
                  "Unnamed: 5": "10:00",
                  "Unnamed: 6": "11:00",
                  "Unnamed: 7": "12:00",
                  "Unnamed: 8": "1:00",
                  "Unnamed: 9": "2:00",
                  "Unnamed: 10": "3:00",
                  "Unnamed: 11": "4:00",
                  "Unnamed: 12": "5:00",
                  "Unnamed: 13": "Empty",
                  "Unnamed: 14": "Occupied",
                  "Unnamed: 15": "%",
                  "Unnamed: 16": "nan",
                  "_deepnote_index_column": 3
                },
                {
                  "University of California, San Diego Survey of Parking Space Occupancy Levels, Summer 2021": "nan",
                  "Unnamed: 1": "nan",
                  "Unnamed: 2": "nan",
                  "Unnamed: 3": "am",
                  "Unnamed: 4": "am",
                  "Unnamed: 5": "am",
                  "Unnamed: 6": "am",
                  "Unnamed: 7": "pm",
                  "Unnamed: 8": "pm",
                  "Unnamed: 9": "pm",
                  "Unnamed: 10": "pm",
                  "Unnamed: 11": "pm",
                  "Unnamed: 12": "pm",
                  "Unnamed: 13": "Spaces",
                  "Unnamed: 14": "Spaces",
                  "Unnamed: 15": "Occupied",
                  "Unnamed: 16": "nan",
                  "_deepnote_index_column": 4
                },
                {
                  "University of California, San Diego Survey of Parking Space Occupancy Levels, Summer 2021": "University",
                  "Unnamed: 1": "A",
                  "Unnamed: 2": "2333",
                  "Unnamed: 3": "1703",
                  "Unnamed: 4": "1310",
                  "Unnamed: 5": "1070",
                  "Unnamed: 6": "996",
                  "Unnamed: 7": "1031",
                  "Unnamed: 8": "1044",
                  "Unnamed: 9": "1053",
                  "Unnamed: 10": "1100",
                  "Unnamed: 11": "1226",
                  "Unnamed: 12": "1453",
                  "Unnamed: 13": "996",
                  "Unnamed: 14": "1337",
                  "Unnamed: 15": "0.5730818688384055",
                  "Unnamed: 16": "nan",
                  "_deepnote_index_column": 5
                },
                {
                  "University of California, San Diego Survey of Parking Space Occupancy Levels, Summer 2021": "of",
                  "Unnamed: 1": "B",
                  "Unnamed: 2": "6414",
                  "Unnamed: 3": "3105",
                  "Unnamed: 4": "2228",
                  "Unnamed: 5": "2027",
                  "Unnamed: 6": "1936",
                  "Unnamed: 7": "2026",
                  "Unnamed: 8": "1994",
                  "Unnamed: 9": "2162",
                  "Unnamed: 10": "2276",
                  "Unnamed: 11": "2864",
                  "Unnamed: 12": "3527",
                  "Unnamed: 13": "1936",
                  "Unnamed: 14": "4478",
                  "Unnamed: 15": "0.6981602743997506",
                  "Unnamed: 16": "nan",
                  "_deepnote_index_column": 6
                },
                {
                  "University of California, San Diego Survey of Parking Space Occupancy Levels, Summer 2021": "California,",
                  "Unnamed: 1": "S",
                  "Unnamed: 2": "1244",
                  "Unnamed: 3": "922",
                  "Unnamed: 4": "838",
                  "Unnamed: 5": "660",
                  "Unnamed: 6": "754",
                  "Unnamed: 7": "871",
                  "Unnamed: 8": "743",
                  "Unnamed: 9": "748",
                  "Unnamed: 10": "707",
                  "Unnamed: 11": "833",
                  "Unnamed: 12": "867",
                  "Unnamed: 13": "660",
                  "Unnamed: 14": "584",
                  "Unnamed: 15": "0.4694533762057878",
                  "Unnamed: 16": "nan",
                  "_deepnote_index_column": 7
                },
                {
                  "University of California, San Diego Survey of Parking Space Occupancy Levels, Summer 2021": "San Diego",
                  "Unnamed: 1": "SR",
                  "Unnamed: 2": "228",
                  "Unnamed: 3": "218",
                  "Unnamed: 4": "218",
                  "Unnamed: 5": "218",
                  "Unnamed: 6": "220",
                  "Unnamed: 7": "219",
                  "Unnamed: 8": "221",
                  "Unnamed: 9": "221",
                  "Unnamed: 10": "221",
                  "Unnamed: 11": "221",
                  "Unnamed: 12": "221",
                  "Unnamed: 13": "218",
                  "Unnamed: 14": "10",
                  "Unnamed: 15": "0.043859649122807015",
                  "Unnamed: 16": "nan",
                  "_deepnote_index_column": 8
                },
                {
                  "University of California, San Diego Survey of Parking Space Occupancy Levels, Summer 2021": "nan",
                  "Unnamed: 1": "D",
                  "Unnamed: 2": "759",
                  "Unnamed: 3": "410",
                  "Unnamed: 4": "377",
                  "Unnamed: 5": "354",
                  "Unnamed: 6": "347",
                  "Unnamed: 7": "359",
                  "Unnamed: 8": "367",
                  "Unnamed: 9": "356",
                  "Unnamed: 10": "377",
                  "Unnamed: 11": "447",
                  "Unnamed: 12": "487",
                  "Unnamed: 13": "347",
                  "Unnamed: 14": "412",
                  "Unnamed: 15": "0.5428194993412385",
                  "Unnamed: 16": "nan",
                  "_deepnote_index_column": 9
                }
              ]
            },
            "text/plain": "   University of California, San Diego Survey of Parking Space Occupancy Levels, Summer 2021  \\\n0                                     University-wide                                          \n1                                                 NaN                                          \n2                                                 NaN                                          \n3                                                 NaN                                          \n4                                                 NaN                                          \n5                                          University                                          \n6                                                  of                                          \n7                                         California,                                          \n8                                           San Diego                                          \n9                                                 NaN                                          \n10                                                NaN                                          \n11                                                NaN                                          \n12                                                NaN                                          \n13                                                NaN                                          \n14                                                NaN                                          \n15                                                NaN                                          \n16                                                NaN                                          \n17                                                NaN                                          \n18                                                NaN                                          \n\n      Unnamed: 1 Unnamed: 2            Unnamed: 3 Unnamed: 4 Unnamed: 5  \\\n0            NaN        NaN                   NaN        NaN        NaN   \n1            NaN        NaN                   NaN        NaN        NaN   \n2        Parking    Parking  Empty Parking Spaces        NaN        NaN   \n3          Space     Spaces                  8:00       9:00      10:00   \n4            NaN        NaN                    am         am         am   \n5              A       2333                  1703       1310       1070   \n6              B       6414                  3105       2228       2027   \n7              S       1244                   922        838        660   \n8             SR        228                   218        218        218   \n9              D        759                   410        377        354   \n10             3        398                   398        396        385   \n11       Visitor       2109                   978        660        522   \n12      Reserved        636                   504        457        422   \n13     Allocated       2553                  1750       1580       1435   \n14    Accessible        750                   419        403        367   \n15    UC Vehicle        270                   119        117         99   \n16  Service Yard        107                    50         49         45   \n17       Loading        132                    98         89         82   \n18         Total      17933                 10674       8722       7686   \n\n   Unnamed: 6 Unnamed: 7 Unnamed: 8 Unnamed: 9 Unnamed: 10 Unnamed: 11  \\\n0         NaN        NaN        NaN        NaN         NaN         NaN   \n1         NaN        NaN        NaN        NaN         NaN         NaN   \n2         NaN        NaN        NaN        NaN         NaN         NaN   \n3       11:00      12:00       1:00       2:00        3:00        4:00   \n4          am         pm         pm         pm          pm          pm   \n5         996       1031       1044       1053        1100        1226   \n6        1936       2026       1994       2162        2276        2864   \n7         754        871        743        748         707         833   \n8         220        219        221        221         221         221   \n9         347        359        367        356         377         447   \n10        381        381        380        386         389         390   \n11        606        664        554        545         655         798   \n12        413        404        419        410         426         435   \n13       1354       1400       1331       1332        1409        1607   \n14        314        336        335        343         394         456   \n15         97         88         98         72          57          74   \n16         54         50         50         52          56          52   \n17         81         81         78         80          80          90   \n18       7553       7910       7614       7760        8147        9493   \n\n   Unnamed: 12 Unnamed: 13 Unnamed: 14 Unnamed: 15  Unnamed: 16  \n0          NaN         NaN         NaN         NaN          NaN  \n1          NaN         NaN         NaN         NaN          NaN  \n2          NaN     At Peak         NaN         NaN          NaN  \n3         5:00       Empty    Occupied           %          NaN  \n4           pm      Spaces      Spaces    Occupied          NaN  \n5         1453         996        1337    0.573082          NaN  \n6         3527        1936        4478     0.69816          NaN  \n7          867         660         584    0.469453          NaN  \n8          221         218          10     0.04386          NaN  \n9          487         347         412    0.542819          NaN  \n10         398         380          18    0.045226          NaN  \n11         936         522        1587    0.752489          NaN  \n12         437         404         232     0.36478          NaN  \n13         942         942        1611    0.631022          NaN  \n14         453         314         436    0.581333          NaN  \n15          73          57         213    0.788889          NaN  \n16          54          45          62    0.579439          NaN  \n17          97          78          54    0.409091          NaN  \n18        9945        7553       10380    0.578821          NaN  ",
            "text/html": "<div>\n<style scoped>\n    .dataframe tbody tr th:only-of-type {\n        vertical-align: middle;\n    }\n\n    .dataframe tbody tr th {\n        vertical-align: top;\n    }\n\n    .dataframe thead th {\n        text-align: right;\n    }\n</style>\n<table border=\"1\" class=\"dataframe\">\n  <thead>\n    <tr style=\"text-align: right;\">\n      <th></th>\n      <th>University of California, San Diego Survey of Parking Space Occupancy Levels, Summer 2021</th>\n      <th>Unnamed: 1</th>\n      <th>Unnamed: 2</th>\n      <th>Unnamed: 3</th>\n      <th>Unnamed: 4</th>\n      <th>Unnamed: 5</th>\n      <th>Unnamed: 6</th>\n      <th>Unnamed: 7</th>\n      <th>Unnamed: 8</th>\n      <th>Unnamed: 9</th>\n      <th>Unnamed: 10</th>\n      <th>Unnamed: 11</th>\n      <th>Unnamed: 12</th>\n      <th>Unnamed: 13</th>\n      <th>Unnamed: 14</th>\n      <th>Unnamed: 15</th>\n      <th>Unnamed: 16</th>\n    </tr>\n  </thead>\n  <tbody>\n    <tr>\n      <th>0</th>\n      <td>University-wide</td>\n      <td>NaN</td>\n      <td>NaN</td>\n      <td>NaN</td>\n      <td>NaN</td>\n      <td>NaN</td>\n      <td>NaN</td>\n      <td>NaN</td>\n      <td>NaN</td>\n      <td>NaN</td>\n      <td>NaN</td>\n      <td>NaN</td>\n      <td>NaN</td>\n      <td>NaN</td>\n      <td>NaN</td>\n      <td>NaN</td>\n      <td>NaN</td>\n    </tr>\n    <tr>\n      <th>1</th>\n      <td>NaN</td>\n      <td>NaN</td>\n      <td>NaN</td>\n      <td>NaN</td>\n      <td>NaN</td>\n      <td>NaN</td>\n      <td>NaN</td>\n      <td>NaN</td>\n      <td>NaN</td>\n      <td>NaN</td>\n      <td>NaN</td>\n      <td>NaN</td>\n      <td>NaN</td>\n      <td>NaN</td>\n      <td>NaN</td>\n      <td>NaN</td>\n      <td>NaN</td>\n    </tr>\n    <tr>\n      <th>2</th>\n      <td>NaN</td>\n      <td>Parking</td>\n      <td>Parking</td>\n      <td>Empty Parking Spaces</td>\n      <td>NaN</td>\n      <td>NaN</td>\n      <td>NaN</td>\n      <td>NaN</td>\n      <td>NaN</td>\n      <td>NaN</td>\n      <td>NaN</td>\n      <td>NaN</td>\n      <td>NaN</td>\n      <td>At Peak</td>\n      <td>NaN</td>\n      <td>NaN</td>\n      <td>NaN</td>\n    </tr>\n    <tr>\n      <th>3</th>\n      <td>NaN</td>\n      <td>Space</td>\n      <td>Spaces</td>\n      <td>8:00</td>\n      <td>9:00</td>\n      <td>10:00</td>\n      <td>11:00</td>\n      <td>12:00</td>\n      <td>1:00</td>\n      <td>2:00</td>\n      <td>3:00</td>\n      <td>4:00</td>\n      <td>5:00</td>\n      <td>Empty</td>\n      <td>Occupied</td>\n      <td>%</td>\n      <td>NaN</td>\n    </tr>\n    <tr>\n      <th>4</th>\n      <td>NaN</td>\n      <td>NaN</td>\n      <td>NaN</td>\n      <td>am</td>\n      <td>am</td>\n      <td>am</td>\n      <td>am</td>\n      <td>pm</td>\n      <td>pm</td>\n      <td>pm</td>\n      <td>pm</td>\n      <td>pm</td>\n      <td>pm</td>\n      <td>Spaces</td>\n      <td>Spaces</td>\n      <td>Occupied</td>\n      <td>NaN</td>\n    </tr>\n    <tr>\n      <th>5</th>\n      <td>University</td>\n      <td>A</td>\n      <td>2333</td>\n      <td>1703</td>\n      <td>1310</td>\n      <td>1070</td>\n      <td>996</td>\n      <td>1031</td>\n      <td>1044</td>\n      <td>1053</td>\n      <td>1100</td>\n      <td>1226</td>\n      <td>1453</td>\n      <td>996</td>\n      <td>1337</td>\n      <td>0.573082</td>\n      <td>NaN</td>\n    </tr>\n    <tr>\n      <th>6</th>\n      <td>of</td>\n      <td>B</td>\n      <td>6414</td>\n      <td>3105</td>\n      <td>2228</td>\n      <td>2027</td>\n      <td>1936</td>\n      <td>2026</td>\n      <td>1994</td>\n      <td>2162</td>\n      <td>2276</td>\n      <td>2864</td>\n      <td>3527</td>\n      <td>1936</td>\n      <td>4478</td>\n      <td>0.69816</td>\n      <td>NaN</td>\n    </tr>\n    <tr>\n      <th>7</th>\n      <td>California,</td>\n      <td>S</td>\n      <td>1244</td>\n      <td>922</td>\n      <td>838</td>\n      <td>660</td>\n      <td>754</td>\n      <td>871</td>\n      <td>743</td>\n      <td>748</td>\n      <td>707</td>\n      <td>833</td>\n      <td>867</td>\n      <td>660</td>\n      <td>584</td>\n      <td>0.469453</td>\n      <td>NaN</td>\n    </tr>\n    <tr>\n      <th>8</th>\n      <td>San Diego</td>\n      <td>SR</td>\n      <td>228</td>\n      <td>218</td>\n      <td>218</td>\n      <td>218</td>\n      <td>220</td>\n      <td>219</td>\n      <td>221</td>\n      <td>221</td>\n      <td>221</td>\n      <td>221</td>\n      <td>221</td>\n      <td>218</td>\n      <td>10</td>\n      <td>0.04386</td>\n      <td>NaN</td>\n    </tr>\n    <tr>\n      <th>9</th>\n      <td>NaN</td>\n      <td>D</td>\n      <td>759</td>\n      <td>410</td>\n      <td>377</td>\n      <td>354</td>\n      <td>347</td>\n      <td>359</td>\n      <td>367</td>\n      <td>356</td>\n      <td>377</td>\n      <td>447</td>\n      <td>487</td>\n      <td>347</td>\n      <td>412</td>\n      <td>0.542819</td>\n      <td>NaN</td>\n    </tr>\n    <tr>\n      <th>10</th>\n      <td>NaN</td>\n      <td>3</td>\n      <td>398</td>\n      <td>398</td>\n      <td>396</td>\n      <td>385</td>\n      <td>381</td>\n      <td>381</td>\n      <td>380</td>\n      <td>386</td>\n      <td>389</td>\n      <td>390</td>\n      <td>398</td>\n      <td>380</td>\n      <td>18</td>\n      <td>0.045226</td>\n      <td>NaN</td>\n    </tr>\n    <tr>\n      <th>11</th>\n      <td>NaN</td>\n      <td>Visitor</td>\n      <td>2109</td>\n      <td>978</td>\n      <td>660</td>\n      <td>522</td>\n      <td>606</td>\n      <td>664</td>\n      <td>554</td>\n      <td>545</td>\n      <td>655</td>\n      <td>798</td>\n      <td>936</td>\n      <td>522</td>\n      <td>1587</td>\n      <td>0.752489</td>\n      <td>NaN</td>\n    </tr>\n    <tr>\n      <th>12</th>\n      <td>NaN</td>\n      <td>Reserved</td>\n      <td>636</td>\n      <td>504</td>\n      <td>457</td>\n      <td>422</td>\n      <td>413</td>\n      <td>404</td>\n      <td>419</td>\n      <td>410</td>\n      <td>426</td>\n      <td>435</td>\n      <td>437</td>\n      <td>404</td>\n      <td>232</td>\n      <td>0.36478</td>\n      <td>NaN</td>\n    </tr>\n    <tr>\n      <th>13</th>\n      <td>NaN</td>\n      <td>Allocated</td>\n      <td>2553</td>\n      <td>1750</td>\n      <td>1580</td>\n      <td>1435</td>\n      <td>1354</td>\n      <td>1400</td>\n      <td>1331</td>\n      <td>1332</td>\n      <td>1409</td>\n      <td>1607</td>\n      <td>942</td>\n      <td>942</td>\n      <td>1611</td>\n      <td>0.631022</td>\n      <td>NaN</td>\n    </tr>\n    <tr>\n      <th>14</th>\n      <td>NaN</td>\n      <td>Accessible</td>\n      <td>750</td>\n      <td>419</td>\n      <td>403</td>\n      <td>367</td>\n      <td>314</td>\n      <td>336</td>\n      <td>335</td>\n      <td>343</td>\n      <td>394</td>\n      <td>456</td>\n      <td>453</td>\n      <td>314</td>\n      <td>436</td>\n      <td>0.581333</td>\n      <td>NaN</td>\n    </tr>\n    <tr>\n      <th>15</th>\n      <td>NaN</td>\n      <td>UC Vehicle</td>\n      <td>270</td>\n      <td>119</td>\n      <td>117</td>\n      <td>99</td>\n      <td>97</td>\n      <td>88</td>\n      <td>98</td>\n      <td>72</td>\n      <td>57</td>\n      <td>74</td>\n      <td>73</td>\n      <td>57</td>\n      <td>213</td>\n      <td>0.788889</td>\n      <td>NaN</td>\n    </tr>\n    <tr>\n      <th>16</th>\n      <td>NaN</td>\n      <td>Service Yard</td>\n      <td>107</td>\n      <td>50</td>\n      <td>49</td>\n      <td>45</td>\n      <td>54</td>\n      <td>50</td>\n      <td>50</td>\n      <td>52</td>\n      <td>56</td>\n      <td>52</td>\n      <td>54</td>\n      <td>45</td>\n      <td>62</td>\n      <td>0.579439</td>\n      <td>NaN</td>\n    </tr>\n    <tr>\n      <th>17</th>\n      <td>NaN</td>\n      <td>Loading</td>\n      <td>132</td>\n      <td>98</td>\n      <td>89</td>\n      <td>82</td>\n      <td>81</td>\n      <td>81</td>\n      <td>78</td>\n      <td>80</td>\n      <td>80</td>\n      <td>90</td>\n      <td>97</td>\n      <td>78</td>\n      <td>54</td>\n      <td>0.409091</td>\n      <td>NaN</td>\n    </tr>\n    <tr>\n      <th>18</th>\n      <td>NaN</td>\n      <td>Total</td>\n      <td>17933</td>\n      <td>10674</td>\n      <td>8722</td>\n      <td>7686</td>\n      <td>7553</td>\n      <td>7910</td>\n      <td>7614</td>\n      <td>7760</td>\n      <td>8147</td>\n      <td>9493</td>\n      <td>9945</td>\n      <td>7553</td>\n      <td>10380</td>\n      <td>0.578821</td>\n      <td>NaN</td>\n    </tr>\n  </tbody>\n</table>\n</div>"
          },
          "metadata": {}
        }
      ],
      "execution_count": null,
      "block_group": "e5789445ee5d41879713dcf27e06744b"
    },
    {
      "cell_type": "markdown",
      "source": "<a style='text-decoration:none;line-height:16px;display:flex;color:#5B5B62;padding:10px;justify-content:end;' href='https://deepnote.com?utm_source=created-in-deepnote-cell&projectId=79f50031-d40f-43af-acaa-365d48045c9e' target=\"_blank\">\n<img alt='Created in deepnote.com' style='display:inline;max-height:16px;margin:0px;margin-right:7.5px;' src='data:image/svg+xml;base64,PD94bWwgdmVyc2lvbj0iMS4wIiBlbmNvZGluZz0iVVRGLTgiPz4KPHN2ZyB3aWR0aD0iODBweCIgaGVpZ2h0PSI4MHB4IiB2aWV3Qm94PSIwIDAgODAgODAiIHZlcnNpb249IjEuMSIgeG1sbnM9Imh0dHA6Ly93d3cudzMub3JnLzIwMDAvc3ZnIiB4bWxuczp4bGluaz0iaHR0cDovL3d3dy53My5vcmcvMTk5OS94bGluayI+CiAgICA8IS0tIEdlbmVyYXRvcjogU2tldGNoIDU0LjEgKDc2NDkwKSAtIGh0dHBzOi8vc2tldGNoYXBwLmNvbSAtLT4KICAgIDx0aXRsZT5Hcm91cCAzPC90aXRsZT4KICAgIDxkZXNjPkNyZWF0ZWQgd2l0aCBTa2V0Y2guPC9kZXNjPgogICAgPGcgaWQ9IkxhbmRpbmciIHN0cm9rZT0ibm9uZSIgc3Ryb2tlLXdpZHRoPSIxIiBmaWxsPSJub25lIiBmaWxsLXJ1bGU9ImV2ZW5vZGQiPgogICAgICAgIDxnIGlkPSJBcnRib2FyZCIgdHJhbnNmb3JtPSJ0cmFuc2xhdGUoLTEyMzUuMDAwMDAwLCAtNzkuMDAwMDAwKSI+CiAgICAgICAgICAgIDxnIGlkPSJHcm91cC0zIiB0cmFuc2Zvcm09InRyYW5zbGF0ZSgxMjM1LjAwMDAwMCwgNzkuMDAwMDAwKSI+CiAgICAgICAgICAgICAgICA8cG9seWdvbiBpZD0iUGF0aC0yMCIgZmlsbD0iIzAyNjVCNCIgcG9pbnRzPSIyLjM3NjIzNzYyIDgwIDM4LjA0NzY2NjcgODAgNTcuODIxNzgyMiA3My44MDU3NTkyIDU3LjgyMTc4MjIgMzIuNzU5MjczOSAzOS4xNDAyMjc4IDMxLjY4MzE2ODMiPjwvcG9seWdvbj4KICAgICAgICAgICAgICAgIDxwYXRoIGQ9Ik0zNS4wMDc3MTgsODAgQzQyLjkwNjIwMDcsNzYuNDU0OTM1OCA0Ny41NjQ5MTY3LDcxLjU0MjI2NzEgNDguOTgzODY2LDY1LjI2MTk5MzkgQzUxLjExMjI4OTksNTUuODQxNTg0MiA0MS42NzcxNzk1LDQ5LjIxMjIyODQgMjUuNjIzOTg0Niw0OS4yMTIyMjg0IEMyNS40ODQ5Mjg5LDQ5LjEyNjg0NDggMjkuODI2MTI5Niw0My4yODM4MjQ4IDM4LjY0NzU4NjksMzEuNjgzMTY4MyBMNzIuODcxMjg3MSwzMi41NTQ0MjUgTDY1LjI4MDk3Myw2Ny42NzYzNDIxIEw1MS4xMTIyODk5LDc3LjM3NjE0NCBMMzUuMDA3NzE4LDgwIFoiIGlkPSJQYXRoLTIyIiBmaWxsPSIjMDAyODY4Ij48L3BhdGg+CiAgICAgICAgICAgICAgICA8cGF0aCBkPSJNMCwzNy43MzA0NDA1IEwyNy4xMTQ1MzcsMC4yNTcxMTE0MzYgQzYyLjM3MTUxMjMsLTEuOTkwNzE3MDEgODAsMTAuNTAwMzkyNyA4MCwzNy43MzA0NDA1IEM4MCw2NC45NjA0ODgyIDY0Ljc3NjUwMzgsNzkuMDUwMzQxNCAzNC4zMjk1MTEzLDgwIEM0Ny4wNTUzNDg5LDc3LjU2NzA4MDggNTMuNDE4MjY3Nyw3MC4zMTM2MTAzIDUzLjQxODI2NzcsNTguMjM5NTg4NSBDNTMuNDE4MjY3Nyw0MC4xMjg1NTU3IDM2LjMwMzk1NDQsMzcuNzMwNDQwNSAyNS4yMjc0MTcsMzcuNzMwNDQwNSBDMTcuODQzMDU4NiwzNy43MzA0NDA1IDkuNDMzOTE5NjYsMzcuNzMwNDQwNSAwLDM3LjczMDQ0MDUgWiIgaWQ9IlBhdGgtMTkiIGZpbGw9IiMzNzkzRUYiPjwvcGF0aD4KICAgICAgICAgICAgPC9nPgogICAgICAgIDwvZz4KICAgIDwvZz4KPC9zdmc+' > </img>\nCreated in <span style='font-weight:600;margin-left:4px;'>Deepnote</span></a>",
      "metadata": {
        "created_in_deepnote_cell": true,
        "deepnote_cell_type": "markdown"
      }
    }
  ],
  "nbformat": 4,
  "nbformat_minor": 0,
  "metadata": {
    "deepnote": {},
    "orig_nbformat": 2,
    "deepnote_notebook_id": "5f3f9c9739314131949b52eed103b698",
    "deepnote_persisted_session": {
      "createdAt": "2023-09-17T06:16:07.027Z"
    },
    "deepnote_execution_queue": []
  }
}