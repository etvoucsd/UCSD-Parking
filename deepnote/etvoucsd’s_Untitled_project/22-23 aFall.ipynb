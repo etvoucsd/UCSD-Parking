{
  "cells": [
    {
      "cell_type": "code",
      "source": "import pandas as pd",
      "metadata": {
        "source_hash": "9b82ee11",
        "execution_start": 1695052977727,
        "execution_millis": 12,
        "deepnote_to_be_reexecuted": false,
        "cell_id": "673c8cf0c97d4c29838b4d902abdab8f",
        "deepnote_cell_type": "code"
      },
      "outputs": [],
      "execution_count": 3,
      "block_group": "fec3bb23c7b44f968f84cf8f073621cc"
    },
    {
      "cell_type": "code",
      "source": "raw_data = pd.read_excel('/work/2022-2023/2022-2023-2 Fall.xlsx')\nraw_data",
      "metadata": {
        "source_hash": "525f4b50",
        "execution_start": 1695052978121,
        "execution_millis": 1682,
        "deepnote_to_be_reexecuted": false,
        "cell_id": "dbe9fdb586904d6bacbc98b1cbfdde45",
        "deepnote_cell_type": "code"
      },
      "outputs": [
        {
          "output_type": "execute_result",
          "execution_count": 4,
          "data": {
            "application/vnd.deepnote.dataframe.v3+json": {
              "column_count": 23,
              "row_count": 3362,
              "columns": [
                {
                  "name": "University of California San Diego Survey of Parking Space Occupancy Levels, Fall 2022",
                  "dtype": "object",
                  "stats": {
                    "unique_count": 4,
                    "nan_count": 2,
                    "categories": [
                      {
                        "name": "La Jolla Campus",
                        "count": 2737
                      },
                      {
                        "name": "3 others",
                        "count": 623
                      },
                      {
                        "name": "Missing",
                        "count": 2
                      }
                    ]
                  }
                },
                {
                  "name": "Unnamed: 1",
                  "dtype": "object",
                  "stats": {
                    "unique_count": 5,
                    "nan_count": 3,
                    "categories": [
                      {
                        "name": "West Campus",
                        "count": 1812
                      },
                      {
                        "name": "4 others",
                        "count": 1547
                      },
                      {
                        "name": "Missing",
                        "count": 3
                      }
                    ]
                  }
                },
                {
                  "name": "Unnamed: 2",
                  "dtype": "object",
                  "stats": {
                    "unique_count": 19,
                    "nan_count": 3,
                    "categories": [
                      {
                        "name": "Medical Center Hillcrest",
                        "count": 621
                      },
                      {
                        "name": "18 others",
                        "count": 2738
                      },
                      {
                        "name": "Missing",
                        "count": 3
                      }
                    ]
                  }
                },
                {
                  "name": "Unnamed: 3",
                  "dtype": "object",
                  "stats": {
                    "unique_count": 13,
                    "nan_count": 3,
                    "categories": [
                      {
                        "name": "Parking Lot",
                        "count": 1847
                      },
                      {
                        "name": "12 others",
                        "count": 1512
                      },
                      {
                        "name": "Missing",
                        "count": 3
                      }
                    ]
                  }
                },
                {
                  "name": "Unnamed: 4",
                  "dtype": "object",
                  "stats": {
                    "unique_count": 198,
                    "nan_count": 3,
                    "categories": [
                      {
                        "name": "P103",
                        "count": 19
                      },
                      {
                        "name": "197 others",
                        "count": 3340
                      },
                      {
                        "name": "Missing",
                        "count": 3
                      }
                    ]
                  }
                },
                {
                  "name": "Unnamed: 5",
                  "dtype": "object",
                  "stats": {
                    "unique_count": 16,
                    "nan_count": 191,
                    "categories": [
                      {
                        "name": "Allocated",
                        "count": 1070
                      },
                      {
                        "name": "15 others",
                        "count": 2101
                      },
                      {
                        "name": "Missing",
                        "count": 191
                      }
                    ]
                  }
                },
                {
                  "name": "Unnamed: 6",
                  "dtype": "object",
                  "stats": {
                    "unique_count": 88,
                    "nan_count": 3136,
                    "categories": [
                      {
                        "name": " ",
                        "count": 49
                      },
                      {
                        "name": "87 others",
                        "count": 177
                      },
                      {
                        "name": "Missing",
                        "count": 3136
                      }
                    ]
                  }
                },
                {
                  "name": "Unnamed: 7",
                  "dtype": "object",
                  "stats": {
                    "unique_count": 1,
                    "nan_count": 3361,
                    "categories": [
                      {
                        "name": "Column1",
                        "count": 1
                      },
                      {
                        "name": "Missing",
                        "count": 3361
                      }
                    ]
                  }
                },
                {
                  "name": "Unnamed: 8",
                  "dtype": "object",
                  "stats": {
                    "unique_count": 182,
                    "nan_count": 2613,
                    "categories": [
                      {
                        "name": "2",
                        "count": 86
                      },
                      {
                        "name": "181 others",
                        "count": 663
                      },
                      {
                        "name": "Missing",
                        "count": 2613
                      }
                    ]
                  }
                },
                {
                  "name": "Unnamed: 9",
                  "dtype": "object",
                  "stats": {
                    "unique_count": 113,
                    "nan_count": 2588,
                    "categories": [
                      {
                        "name": "0",
                        "count": 147
                      },
                      {
                        "name": "112 others",
                        "count": 627
                      },
                      {
                        "name": "Missing",
                        "count": 2588
                      }
                    ]
                  }
                },
                {
                  "name": "Unnamed: 10",
                  "dtype": "object",
                  "stats": {
                    "unique_count": 90,
                    "nan_count": 2588,
                    "categories": [
                      {
                        "name": "0",
                        "count": 183
                      },
                      {
                        "name": "89 others",
                        "count": 591
                      },
                      {
                        "name": "Missing",
                        "count": 2588
                      }
                    ]
                  }
                },
                {
                  "name": "Unnamed: 11",
                  "dtype": "object",
                  "stats": {
                    "unique_count": 73,
                    "nan_count": 2588,
                    "categories": [
                      {
                        "name": "0",
                        "count": 247
                      },
                      {
                        "name": "72 others",
                        "count": 527
                      },
                      {
                        "name": "Missing",
                        "count": 2588
                      }
                    ]
                  }
                },
                {
                  "name": "Unnamed: 12",
                  "dtype": "object",
                  "stats": {
                    "unique_count": 67,
                    "nan_count": 2588,
                    "categories": [
                      {
                        "name": "0",
                        "count": 238
                      },
                      {
                        "name": "66 others",
                        "count": 536
                      },
                      {
                        "name": "Missing",
                        "count": 2588
                      }
                    ]
                  }
                },
                {
                  "name": "Unnamed: 13",
                  "dtype": "object",
                  "stats": {
                    "unique_count": 71,
                    "nan_count": 2588,
                    "categories": [
                      {
                        "name": "0",
                        "count": 249
                      },
                      {
                        "name": "70 others",
                        "count": 525
                      },
                      {
                        "name": "Missing",
                        "count": 2588
                      }
                    ]
                  }
                },
                {
                  "name": "Unnamed: 14",
                  "dtype": "object",
                  "stats": {
                    "unique_count": 73,
                    "nan_count": 2588,
                    "categories": [
                      {
                        "name": "0",
                        "count": 222
                      },
                      {
                        "name": "72 others",
                        "count": 552
                      },
                      {
                        "name": "Missing",
                        "count": 2588
                      }
                    ]
                  }
                },
                {
                  "name": "Unnamed: 15",
                  "dtype": "object",
                  "stats": {
                    "unique_count": 75,
                    "nan_count": 2588,
                    "categories": [
                      {
                        "name": "0",
                        "count": 177
                      },
                      {
                        "name": "74 others",
                        "count": 597
                      },
                      {
                        "name": "Missing",
                        "count": 2588
                      }
                    ]
                  }
                },
                {
                  "name": "Unnamed: 16",
                  "dtype": "object",
                  "stats": {
                    "unique_count": 81,
                    "nan_count": 2590,
                    "categories": [
                      {
                        "name": "0",
                        "count": 144
                      },
                      {
                        "name": "80 others",
                        "count": 628
                      },
                      {
                        "name": "Missing",
                        "count": 2590
                      }
                    ]
                  }
                },
                {
                  "name": "Unnamed: 17",
                  "dtype": "object",
                  "stats": {
                    "unique_count": 99,
                    "nan_count": 2589,
                    "categories": [
                      {
                        "name": "1",
                        "count": 118
                      },
                      {
                        "name": "98 others",
                        "count": 655
                      },
                      {
                        "name": "Missing",
                        "count": 2589
                      }
                    ]
                  }
                },
                {
                  "name": "Unnamed: 18",
                  "dtype": "object",
                  "stats": {
                    "unique_count": 108,
                    "nan_count": 2590,
                    "categories": [
                      {
                        "name": "1",
                        "count": 102
                      },
                      {
                        "name": "107 others",
                        "count": 670
                      },
                      {
                        "name": "Missing",
                        "count": 2590
                      }
                    ]
                  }
                },
                {
                  "name": "Unnamed: 19",
                  "dtype": "object",
                  "stats": {
                    "unique_count": 61,
                    "nan_count": 10,
                    "categories": [
                      {
                        "name": "0",
                        "count": 2967
                      },
                      {
                        "name": "60 others",
                        "count": 385
                      },
                      {
                        "name": "Missing",
                        "count": 10
                      }
                    ]
                  }
                },
                {
                  "name": "Unnamed: 20",
                  "dtype": "object",
                  "stats": {
                    "unique_count": 162,
                    "nan_count": 2627,
                    "categories": [
                      {
                        "name": "2",
                        "count": 92
                      },
                      {
                        "name": "161 others",
                        "count": 643
                      },
                      {
                        "name": "Missing",
                        "count": 2627
                      }
                    ]
                  }
                },
                {
                  "name": "Unnamed: 21",
                  "dtype": "object",
                  "stats": {
                    "unique_count": 195,
                    "nan_count": 2627,
                    "categories": [
                      {
                        "name": "1",
                        "count": 356
                      },
                      {
                        "name": "194 others",
                        "count": 379
                      },
                      {
                        "name": "Missing",
                        "count": 2627
                      }
                    ]
                  }
                },
                {
                  "name": "Unnamed: 22",
                  "dtype": "object",
                  "stats": {
                    "unique_count": 20,
                    "nan_count": 3328,
                    "categories": [
                      {
                        "name": "Construction",
                        "count": 7
                      },
                      {
                        "name": "19 others",
                        "count": 27
                      },
                      {
                        "name": "Missing",
                        "count": 3328
                      }
                    ]
                  }
                },
                {
                  "name": "_deepnote_index_column",
                  "dtype": "int64"
                }
              ],
              "rows": [
                {
                  "University of California San Diego Survey of Parking Space Occupancy Levels, Fall 2022": "La Jolla Campus",
                  "Unnamed: 1": "Scripps Institution of Oceanography",
                  "Unnamed: 2": "Scripps Institution of Oceanography",
                  "Unnamed: 3": "Parking Lot",
                  "Unnamed: 4": "P003",
                  "Unnamed: 5": "UC Vehicle",
                  "Unnamed: 6": "nan",
                  "Unnamed: 7": "nan",
                  "Unnamed: 8": "nan",
                  "Unnamed: 9": "nan",
                  "Unnamed: 10": "nan",
                  "Unnamed: 11": "nan",
                  "Unnamed: 12": "nan",
                  "Unnamed: 13": "nan",
                  "Unnamed: 14": "nan",
                  "Unnamed: 15": "nan",
                  "Unnamed: 16": "nan",
                  "Unnamed: 17": "nan",
                  "Unnamed: 18": "nan",
                  "Unnamed: 19": "0",
                  "Unnamed: 20": "nan",
                  "Unnamed: 21": "nan",
                  "Unnamed: 22": "nan",
                  "_deepnote_index_column": 50
                },
                {
                  "University of California San Diego Survey of Parking Space Occupancy Levels, Fall 2022": "La Jolla Campus",
                  "Unnamed: 1": "Scripps Institution of Oceanography",
                  "Unnamed: 2": "Scripps Institution of Oceanography",
                  "Unnamed: 3": "Parking Lot",
                  "Unnamed: 4": "P003",
                  "Unnamed: 5": "Service Yard",
                  "Unnamed: 6": "nan",
                  "Unnamed: 7": "nan",
                  "Unnamed: 8": "nan",
                  "Unnamed: 9": "nan",
                  "Unnamed: 10": "nan",
                  "Unnamed: 11": "nan",
                  "Unnamed: 12": "nan",
                  "Unnamed: 13": "nan",
                  "Unnamed: 14": "nan",
                  "Unnamed: 15": "nan",
                  "Unnamed: 16": "nan",
                  "Unnamed: 17": "nan",
                  "Unnamed: 18": "nan",
                  "Unnamed: 19": "0",
                  "Unnamed: 20": "nan",
                  "Unnamed: 21": "nan",
                  "Unnamed: 22": "nan",
                  "_deepnote_index_column": 51
                },
                {
                  "University of California San Diego Survey of Parking Space Occupancy Levels, Fall 2022": "La Jolla Campus",
                  "Unnamed: 1": "Scripps Institution of Oceanography",
                  "Unnamed: 2": "Scripps Institution of Oceanography",
                  "Unnamed: 3": "Parking Lot",
                  "Unnamed: 4": "P003",
                  "Unnamed: 5": "Loading",
                  "Unnamed: 6": "Regular and Commercial",
                  "Unnamed: 7": "nan",
                  "Unnamed: 8": "5",
                  "Unnamed: 9": "5",
                  "Unnamed: 10": "5",
                  "Unnamed: 11": "3",
                  "Unnamed: 12": "4",
                  "Unnamed: 13": "4",
                  "Unnamed: 14": "3",
                  "Unnamed: 15": "5",
                  "Unnamed: 16": "0",
                  "Unnamed: 17": "5",
                  "Unnamed: 18": "4",
                  "Unnamed: 19": "0",
                  "Unnamed: 20": "5",
                  "Unnamed: 21": "1",
                  "Unnamed: 22": "nan",
                  "_deepnote_index_column": 52
                },
                {
                  "University of California San Diego Survey of Parking Space Occupancy Levels, Fall 2022": "La Jolla Campus",
                  "Unnamed: 1": "Scripps Institution of Oceanography",
                  "Unnamed: 2": "Scripps Institution of Oceanography",
                  "Unnamed: 3": "Parking Lot",
                  "Unnamed: 4": "P003",
                  "Unnamed: 5": "Total",
                  "Unnamed: 6": "nan",
                  "Unnamed: 7": "nan",
                  "Unnamed: 8": "72",
                  "Unnamed: 9": "51",
                  "Unnamed: 10": "32",
                  "Unnamed: 11": "15",
                  "Unnamed: 12": "7",
                  "Unnamed: 13": "7",
                  "Unnamed: 14": "7",
                  "Unnamed: 15": "9",
                  "Unnamed: 16": "6",
                  "Unnamed: 17": "19",
                  "Unnamed: 18": "30",
                  "Unnamed: 19": "6",
                  "Unnamed: 20": "66",
                  "Unnamed: 21": "0.9166666666666666",
                  "Unnamed: 22": "nan",
                  "_deepnote_index_column": 53
                },
                {
                  "University of California San Diego Survey of Parking Space Occupancy Levels, Fall 2022": "La Jolla Campus",
                  "Unnamed: 1": "Scripps Institution of Oceanography",
                  "Unnamed: 2": "Scripps Institution of Oceanography",
                  "Unnamed: 3": "Parking Lot",
                  "Unnamed: 4": "P004 (blocked by construction)",
                  "Unnamed: 5": "A",
                  "Unnamed: 6": "nan",
                  "Unnamed: 7": "nan",
                  "Unnamed: 8": "nan",
                  "Unnamed: 9": "nan",
                  "Unnamed: 10": "nan",
                  "Unnamed: 11": "nan",
                  "Unnamed: 12": "nan",
                  "Unnamed: 13": "nan",
                  "Unnamed: 14": "nan",
                  "Unnamed: 15": "nan",
                  "Unnamed: 16": "nan",
                  "Unnamed: 17": "nan",
                  "Unnamed: 18": "nan",
                  "Unnamed: 19": "0",
                  "Unnamed: 20": "nan",
                  "Unnamed: 21": "nan",
                  "Unnamed: 22": "nan",
                  "_deepnote_index_column": 54
                },
                {
                  "University of California San Diego Survey of Parking Space Occupancy Levels, Fall 2022": "La Jolla Campus",
                  "Unnamed: 1": "Scripps Institution of Oceanography",
                  "Unnamed: 2": "Scripps Institution of Oceanography",
                  "Unnamed: 3": "Parking Lot",
                  "Unnamed: 4": "P004 (blocked by construction)",
                  "Unnamed: 5": "B",
                  "Unnamed: 6": "nan",
                  "Unnamed: 7": "nan",
                  "Unnamed: 8": "nan",
                  "Unnamed: 9": "nan",
                  "Unnamed: 10": "nan",
                  "Unnamed: 11": "nan",
                  "Unnamed: 12": "nan",
                  "Unnamed: 13": "nan",
                  "Unnamed: 14": "nan",
                  "Unnamed: 15": "nan",
                  "Unnamed: 16": "nan",
                  "Unnamed: 17": "nan",
                  "Unnamed: 18": "nan",
                  "Unnamed: 19": "0",
                  "Unnamed: 20": "nan",
                  "Unnamed: 21": "nan",
                  "Unnamed: 22": "nan",
                  "_deepnote_index_column": 55
                },
                {
                  "University of California San Diego Survey of Parking Space Occupancy Levels, Fall 2022": "La Jolla Campus",
                  "Unnamed: 1": "Scripps Institution of Oceanography",
                  "Unnamed: 2": "Scripps Institution of Oceanography",
                  "Unnamed: 3": "Parking Lot",
                  "Unnamed: 4": "P004 (blocked by construction)",
                  "Unnamed: 5": "S",
                  "Unnamed: 6": "nan",
                  "Unnamed: 7": "nan",
                  "Unnamed: 8": "nan",
                  "Unnamed: 9": "nan",
                  "Unnamed: 10": "nan",
                  "Unnamed: 11": "nan",
                  "Unnamed: 12": "nan",
                  "Unnamed: 13": "nan",
                  "Unnamed: 14": "nan",
                  "Unnamed: 15": "nan",
                  "Unnamed: 16": "nan",
                  "Unnamed: 17": "nan",
                  "Unnamed: 18": "nan",
                  "Unnamed: 19": "0",
                  "Unnamed: 20": "nan",
                  "Unnamed: 21": "nan",
                  "Unnamed: 22": "nan",
                  "_deepnote_index_column": 56
                },
                {
                  "University of California San Diego Survey of Parking Space Occupancy Levels, Fall 2022": "La Jolla Campus",
                  "Unnamed: 1": "Scripps Institution of Oceanography",
                  "Unnamed: 2": "Scripps Institution of Oceanography",
                  "Unnamed: 3": "Parking Lot",
                  "Unnamed: 4": "P004 (blocked by construction)",
                  "Unnamed: 5": "Visitor",
                  "Unnamed: 6": "nan",
                  "Unnamed: 7": "nan",
                  "Unnamed: 8": "nan",
                  "Unnamed: 9": "nan",
                  "Unnamed: 10": "nan",
                  "Unnamed: 11": "nan",
                  "Unnamed: 12": "nan",
                  "Unnamed: 13": "nan",
                  "Unnamed: 14": "nan",
                  "Unnamed: 15": "nan",
                  "Unnamed: 16": "nan",
                  "Unnamed: 17": "nan",
                  "Unnamed: 18": "nan",
                  "Unnamed: 19": "0",
                  "Unnamed: 20": "nan",
                  "Unnamed: 21": "nan",
                  "Unnamed: 22": "nan",
                  "_deepnote_index_column": 57
                },
                {
                  "University of California San Diego Survey of Parking Space Occupancy Levels, Fall 2022": "La Jolla Campus",
                  "Unnamed: 1": "Scripps Institution of Oceanography",
                  "Unnamed: 2": "Scripps Institution of Oceanography",
                  "Unnamed: 3": "Parking Lot",
                  "Unnamed: 4": "P004 (blocked by construction)",
                  "Unnamed: 5": "Visitor",
                  "Unnamed: 6": "nan",
                  "Unnamed: 7": "nan",
                  "Unnamed: 8": "nan",
                  "Unnamed: 9": "nan",
                  "Unnamed: 10": "nan",
                  "Unnamed: 11": "nan",
                  "Unnamed: 12": "nan",
                  "Unnamed: 13": "nan",
                  "Unnamed: 14": "nan",
                  "Unnamed: 15": "nan",
                  "Unnamed: 16": "nan",
                  "Unnamed: 17": "nan",
                  "Unnamed: 18": "nan",
                  "Unnamed: 19": "0",
                  "Unnamed: 20": "nan",
                  "Unnamed: 21": "nan",
                  "Unnamed: 22": "nan",
                  "_deepnote_index_column": 58
                },
                {
                  "University of California San Diego Survey of Parking Space Occupancy Levels, Fall 2022": "La Jolla Campus",
                  "Unnamed: 1": "Scripps Institution of Oceanography",
                  "Unnamed: 2": "Scripps Institution of Oceanography",
                  "Unnamed: 3": "Parking Lot",
                  "Unnamed: 4": "P004 (blocked by construction)",
                  "Unnamed: 5": "Reserved",
                  "Unnamed: 6": "nan",
                  "Unnamed: 7": "nan",
                  "Unnamed: 8": "nan",
                  "Unnamed: 9": "nan",
                  "Unnamed: 10": "nan",
                  "Unnamed: 11": "nan",
                  "Unnamed: 12": "nan",
                  "Unnamed: 13": "nan",
                  "Unnamed: 14": "nan",
                  "Unnamed: 15": "nan",
                  "Unnamed: 16": "nan",
                  "Unnamed: 17": "nan",
                  "Unnamed: 18": "nan",
                  "Unnamed: 19": "0",
                  "Unnamed: 20": "nan",
                  "Unnamed: 21": "nan",
                  "Unnamed: 22": "nan",
                  "_deepnote_index_column": 59
                }
              ]
            },
            "text/plain": "     University of California San Diego Survey of Parking Space Occupancy Levels, Fall 2022  \\\n0                                                By Lot                                       \n1                                                   NaN                                       \n2                                              Location                                       \n3                                       La Jolla Campus                                       \n4                                       La Jolla Campus                                       \n...                                                 ...                                       \n3357                           Medical Center Hillcrest                                       \n3358                           Medical Center Hillcrest                                       \n3359                           Medical Center Hillcrest                                       \n3360                           Medical Center Hillcrest                                       \n3361                           Medical Center Hillcrest                                       \n\n                               Unnamed: 1  \\\n0                                     NaN   \n1                                     NaN   \n2                                    Area   \n3     Scripps Institution of Oceanography   \n4     Scripps Institution of Oceanography   \n...                                   ...   \n3357             Medical Center Hillcrest   \n3358             Medical Center Hillcrest   \n3359             Medical Center Hillcrest   \n3360             Medical Center Hillcrest   \n3361             Medical Center Hillcrest   \n\n                               Unnamed: 2                Unnamed: 3  \\\n0                                     NaN                       NaN   \n1                                     NaN                       NaN   \n2                            Neighborhood                 Structure   \n3     Scripps Institution of Oceanography               Parking Lot   \n4     Scripps Institution of Oceanography               Parking Lot   \n...                                   ...                       ...   \n3357             Medical Center Hillcrest  Medical Center Hillcrest   \n3358             Medical Center Hillcrest  Medical Center Hillcrest   \n3359             Medical Center Hillcrest  Medical Center Hillcrest   \n3360             Medical Center Hillcrest  Medical Center Hillcrest   \n3361             Medical Center Hillcrest  Medical Center Hillcrest   \n\n     Unnamed: 4    Unnamed: 5 Unnamed: 6 Unnamed: 7 Unnamed: 8 Unnamed: 9  \\\n0           NaN           NaN        NaN        NaN        NaN        NaN   \n1           NaN           NaN        NaN        NaN        NaN        NaN   \n2           Lot     SpaceType    Subtype    Column1  Inventory        8am   \n3          P001             A        NaN        NaN        NaN        NaN   \n4          P001             B        NaN        NaN        NaN        NaN   \n...         ...           ...        ...        ...        ...        ...   \n3357       P964    Accessible        NaN        NaN         11          0   \n3358       P964    UC Vehicle        NaN        NaN        NaN        NaN   \n3359       P964  Service Yard        NaN        NaN        NaN        NaN   \n3360       P964       Loading        NaN        NaN        NaN        NaN   \n3361       P964         Total        NaN        NaN        104         37   \n\n      ... Unnamed: 13 Unnamed: 14 Unnamed: 15 Unnamed: 16 Unnamed: 17  \\\n0     ...         NaN         NaN         NaN         NaN         NaN   \n1     ...         NaN         NaN         NaN         NaN         NaN   \n2     ...        12pm         1pm         2pm         3pm         4pm   \n3     ...         NaN         NaN         NaN         NaN         NaN   \n4     ...         NaN         NaN         NaN         NaN         NaN   \n...   ...         ...         ...         ...         ...         ...   \n3357  ...           1           0           1           2           0   \n3358  ...         NaN         NaN         NaN         NaN         NaN   \n3359  ...         NaN         NaN         NaN         NaN         NaN   \n3360  ...         NaN         NaN         NaN         NaN         NaN   \n3361  ...          34          30          37          48          47   \n\n     Unnamed: 18  Unnamed: 19     Unnamed: 20      Unnamed: 21 Unnamed: 22  \n0            NaN          NaN             NaN              NaN         NaN  \n1            NaN          NaN             NaN              NaN         NaN  \n2            5pm  EmptySpaces  OccupiedSpaces  PercentOccupied     Column2  \n3            NaN          NaN             NaN              NaN         NaN  \n4            NaN          NaN             NaN              NaN         NaN  \n...          ...          ...             ...              ...         ...  \n3357           4            0              11                1         NaN  \n3358         NaN          NaN             NaN              NaN         NaN  \n3359         NaN          NaN             NaN              NaN         NaN  \n3360         NaN          NaN             NaN              NaN         NaN  \n3361          75           22              82         0.788462         NaN  \n\n[3362 rows x 23 columns]",
            "text/html": "<div>\n<style scoped>\n    .dataframe tbody tr th:only-of-type {\n        vertical-align: middle;\n    }\n\n    .dataframe tbody tr th {\n        vertical-align: top;\n    }\n\n    .dataframe thead th {\n        text-align: right;\n    }\n</style>\n<table border=\"1\" class=\"dataframe\">\n  <thead>\n    <tr style=\"text-align: right;\">\n      <th></th>\n      <th>University of California San Diego Survey of Parking Space Occupancy Levels, Fall 2022</th>\n      <th>Unnamed: 1</th>\n      <th>Unnamed: 2</th>\n      <th>Unnamed: 3</th>\n      <th>Unnamed: 4</th>\n      <th>Unnamed: 5</th>\n      <th>Unnamed: 6</th>\n      <th>Unnamed: 7</th>\n      <th>Unnamed: 8</th>\n      <th>Unnamed: 9</th>\n      <th>...</th>\n      <th>Unnamed: 13</th>\n      <th>Unnamed: 14</th>\n      <th>Unnamed: 15</th>\n      <th>Unnamed: 16</th>\n      <th>Unnamed: 17</th>\n      <th>Unnamed: 18</th>\n      <th>Unnamed: 19</th>\n      <th>Unnamed: 20</th>\n      <th>Unnamed: 21</th>\n      <th>Unnamed: 22</th>\n    </tr>\n  </thead>\n  <tbody>\n    <tr>\n      <th>0</th>\n      <td>By Lot</td>\n      <td>NaN</td>\n      <td>NaN</td>\n      <td>NaN</td>\n      <td>NaN</td>\n      <td>NaN</td>\n      <td>NaN</td>\n      <td>NaN</td>\n      <td>NaN</td>\n      <td>NaN</td>\n      <td>...</td>\n      <td>NaN</td>\n      <td>NaN</td>\n      <td>NaN</td>\n      <td>NaN</td>\n      <td>NaN</td>\n      <td>NaN</td>\n      <td>NaN</td>\n      <td>NaN</td>\n      <td>NaN</td>\n      <td>NaN</td>\n    </tr>\n    <tr>\n      <th>1</th>\n      <td>NaN</td>\n      <td>NaN</td>\n      <td>NaN</td>\n      <td>NaN</td>\n      <td>NaN</td>\n      <td>NaN</td>\n      <td>NaN</td>\n      <td>NaN</td>\n      <td>NaN</td>\n      <td>NaN</td>\n      <td>...</td>\n      <td>NaN</td>\n      <td>NaN</td>\n      <td>NaN</td>\n      <td>NaN</td>\n      <td>NaN</td>\n      <td>NaN</td>\n      <td>NaN</td>\n      <td>NaN</td>\n      <td>NaN</td>\n      <td>NaN</td>\n    </tr>\n    <tr>\n      <th>2</th>\n      <td>Location</td>\n      <td>Area</td>\n      <td>Neighborhood</td>\n      <td>Structure</td>\n      <td>Lot</td>\n      <td>SpaceType</td>\n      <td>Subtype</td>\n      <td>Column1</td>\n      <td>Inventory</td>\n      <td>8am</td>\n      <td>...</td>\n      <td>12pm</td>\n      <td>1pm</td>\n      <td>2pm</td>\n      <td>3pm</td>\n      <td>4pm</td>\n      <td>5pm</td>\n      <td>EmptySpaces</td>\n      <td>OccupiedSpaces</td>\n      <td>PercentOccupied</td>\n      <td>Column2</td>\n    </tr>\n    <tr>\n      <th>3</th>\n      <td>La Jolla Campus</td>\n      <td>Scripps Institution of Oceanography</td>\n      <td>Scripps Institution of Oceanography</td>\n      <td>Parking Lot</td>\n      <td>P001</td>\n      <td>A</td>\n      <td>NaN</td>\n      <td>NaN</td>\n      <td>NaN</td>\n      <td>NaN</td>\n      <td>...</td>\n      <td>NaN</td>\n      <td>NaN</td>\n      <td>NaN</td>\n      <td>NaN</td>\n      <td>NaN</td>\n      <td>NaN</td>\n      <td>NaN</td>\n      <td>NaN</td>\n      <td>NaN</td>\n      <td>NaN</td>\n    </tr>\n    <tr>\n      <th>4</th>\n      <td>La Jolla Campus</td>\n      <td>Scripps Institution of Oceanography</td>\n      <td>Scripps Institution of Oceanography</td>\n      <td>Parking Lot</td>\n      <td>P001</td>\n      <td>B</td>\n      <td>NaN</td>\n      <td>NaN</td>\n      <td>NaN</td>\n      <td>NaN</td>\n      <td>...</td>\n      <td>NaN</td>\n      <td>NaN</td>\n      <td>NaN</td>\n      <td>NaN</td>\n      <td>NaN</td>\n      <td>NaN</td>\n      <td>NaN</td>\n      <td>NaN</td>\n      <td>NaN</td>\n      <td>NaN</td>\n    </tr>\n    <tr>\n      <th>...</th>\n      <td>...</td>\n      <td>...</td>\n      <td>...</td>\n      <td>...</td>\n      <td>...</td>\n      <td>...</td>\n      <td>...</td>\n      <td>...</td>\n      <td>...</td>\n      <td>...</td>\n      <td>...</td>\n      <td>...</td>\n      <td>...</td>\n      <td>...</td>\n      <td>...</td>\n      <td>...</td>\n      <td>...</td>\n      <td>...</td>\n      <td>...</td>\n      <td>...</td>\n      <td>...</td>\n    </tr>\n    <tr>\n      <th>3357</th>\n      <td>Medical Center Hillcrest</td>\n      <td>Medical Center Hillcrest</td>\n      <td>Medical Center Hillcrest</td>\n      <td>Medical Center Hillcrest</td>\n      <td>P964</td>\n      <td>Accessible</td>\n      <td>NaN</td>\n      <td>NaN</td>\n      <td>11</td>\n      <td>0</td>\n      <td>...</td>\n      <td>1</td>\n      <td>0</td>\n      <td>1</td>\n      <td>2</td>\n      <td>0</td>\n      <td>4</td>\n      <td>0</td>\n      <td>11</td>\n      <td>1</td>\n      <td>NaN</td>\n    </tr>\n    <tr>\n      <th>3358</th>\n      <td>Medical Center Hillcrest</td>\n      <td>Medical Center Hillcrest</td>\n      <td>Medical Center Hillcrest</td>\n      <td>Medical Center Hillcrest</td>\n      <td>P964</td>\n      <td>UC Vehicle</td>\n      <td>NaN</td>\n      <td>NaN</td>\n      <td>NaN</td>\n      <td>NaN</td>\n      <td>...</td>\n      <td>NaN</td>\n      <td>NaN</td>\n      <td>NaN</td>\n      <td>NaN</td>\n      <td>NaN</td>\n      <td>NaN</td>\n      <td>NaN</td>\n      <td>NaN</td>\n      <td>NaN</td>\n      <td>NaN</td>\n    </tr>\n    <tr>\n      <th>3359</th>\n      <td>Medical Center Hillcrest</td>\n      <td>Medical Center Hillcrest</td>\n      <td>Medical Center Hillcrest</td>\n      <td>Medical Center Hillcrest</td>\n      <td>P964</td>\n      <td>Service Yard</td>\n      <td>NaN</td>\n      <td>NaN</td>\n      <td>NaN</td>\n      <td>NaN</td>\n      <td>...</td>\n      <td>NaN</td>\n      <td>NaN</td>\n      <td>NaN</td>\n      <td>NaN</td>\n      <td>NaN</td>\n      <td>NaN</td>\n      <td>NaN</td>\n      <td>NaN</td>\n      <td>NaN</td>\n      <td>NaN</td>\n    </tr>\n    <tr>\n      <th>3360</th>\n      <td>Medical Center Hillcrest</td>\n      <td>Medical Center Hillcrest</td>\n      <td>Medical Center Hillcrest</td>\n      <td>Medical Center Hillcrest</td>\n      <td>P964</td>\n      <td>Loading</td>\n      <td>NaN</td>\n      <td>NaN</td>\n      <td>NaN</td>\n      <td>NaN</td>\n      <td>...</td>\n      <td>NaN</td>\n      <td>NaN</td>\n      <td>NaN</td>\n      <td>NaN</td>\n      <td>NaN</td>\n      <td>NaN</td>\n      <td>NaN</td>\n      <td>NaN</td>\n      <td>NaN</td>\n      <td>NaN</td>\n    </tr>\n    <tr>\n      <th>3361</th>\n      <td>Medical Center Hillcrest</td>\n      <td>Medical Center Hillcrest</td>\n      <td>Medical Center Hillcrest</td>\n      <td>Medical Center Hillcrest</td>\n      <td>P964</td>\n      <td>Total</td>\n      <td>NaN</td>\n      <td>NaN</td>\n      <td>104</td>\n      <td>37</td>\n      <td>...</td>\n      <td>34</td>\n      <td>30</td>\n      <td>37</td>\n      <td>48</td>\n      <td>47</td>\n      <td>75</td>\n      <td>22</td>\n      <td>82</td>\n      <td>0.788462</td>\n      <td>NaN</td>\n    </tr>\n  </tbody>\n</table>\n<p>3362 rows × 23 columns</p>\n</div>"
          },
          "metadata": {}
        }
      ],
      "execution_count": 4,
      "block_group": "feaf4e70d74b432eb581d3b7269c1bb1"
    },
    {
      "cell_type": "markdown",
      "source": "",
      "metadata": {
        "formattedRanges": [],
        "cell_id": "2d02f3566ccd4306a137874f88ef3bc7",
        "deepnote_cell_type": "text-cell-p"
      },
      "block_group": "8e93828942db4df0818cd9096b0083a6"
    },
    {
      "cell_type": "markdown",
      "source": "Collumns to get rid of: Location, Area, Neighborhood, Subtype, Column1, Column2",
      "metadata": {
        "formattedRanges": [],
        "cell_id": "0937f2b6448545178ad8e1370a64397e",
        "deepnote_cell_type": "text-cell-p"
      },
      "block_group": "8e93828942db4df0818cd9096b0083a6"
    },
    {
      "cell_type": "markdown",
      "source": "What we can do: In spacetype col if Reserved",
      "metadata": {
        "formattedRanges": [],
        "cell_id": "2aacc1da31394e6daab9b7ea503342de",
        "deepnote_cell_type": "text-cell-p"
      },
      "block_group": "f5a353cb22384656875a6622167ca4e0"
    },
    {
      "cell_type": "markdown",
      "source": "",
      "metadata": {
        "formattedRanges": [],
        "cell_id": "540472ccba2a4f7c99283fee09b061a3",
        "deepnote_cell_type": "text-cell-p"
      },
      "block_group": "1363fbb26c214785bb8c37c573951a27"
    },
    {
      "cell_type": "code",
      "source": "#rename columns\nraw_data.set_axis([\"Location\", \"Area\", \"Neighborhood\",\"Structure\",\"Lot\",\"SpaceType\",\n'Subtype','Column1',' Inventory','8AM','9AM','10AM','11AM','12PM','1PM','2PM','3PM',\n'4PM','5PM','EmptySpaces','OccupiedSpaces','PercentOccupied','Column2'], axis=\"columns\", inplace=True)\n\n#get rid of unnecessary columns\nnonanrows_data = raw_data[raw_data['8AM'].apply(lambda x: not isinstance(x, float))]\ndropped_columns = nonanrows_data.drop(columns=[\"Location\",\"Area\",\"Neighborhood\",\"Column1\", \"Column2\"])\ndropped_index2 = dropped_columns.drop(index=[2])\nupdated_data = dropped_index2.reset_index(drop=True)\nupdated_data\n\n\n",
      "metadata": {
        "source_hash": "980c6adc",
        "execution_start": 1695052979688,
        "execution_millis": 217,
        "deepnote_table_state": {
          "sortBy": [],
          "filters": [],
          "pageSize": 25,
          "pageIndex": 0
        },
        "deepnote_table_loading": false,
        "deepnote_to_be_reexecuted": false,
        "cell_id": "d3273789b43e464e92e79ad0c35ae937",
        "deepnote_cell_type": "code"
      },
      "outputs": [
        {
          "output_type": "execute_result",
          "execution_count": 5,
          "data": {
            "application/vnd.deepnote.dataframe.v3+json": {
              "column_count": 18,
              "row_count": 773,
              "columns": [
                {
                  "name": "Structure",
                  "dtype": "object",
                  "stats": {
                    "unique_count": 12,
                    "nan_count": 0,
                    "categories": [
                      {
                        "name": "Parking Lot",
                        "count": 414
                      },
                      {
                        "name": "Medical Center Hillcrest",
                        "count": 103
                      },
                      {
                        "name": "10 others",
                        "count": 256
                      }
                    ]
                  }
                },
                {
                  "name": "Lot",
                  "dtype": "object",
                  "stats": {
                    "unique_count": 180,
                    "nan_count": 0,
                    "categories": [
                      {
                        "name": "P381",
                        "count": 13
                      },
                      {
                        "name": "P382",
                        "count": 11
                      },
                      {
                        "name": "178 others",
                        "count": 749
                      }
                    ]
                  }
                },
                {
                  "name": "SpaceType",
                  "dtype": "object",
                  "stats": {
                    "unique_count": 15,
                    "nan_count": 0,
                    "categories": [
                      {
                        "name": "Total",
                        "count": 179
                      },
                      {
                        "name": "Allocated",
                        "count": 117
                      },
                      {
                        "name": "13 others",
                        "count": 477
                      }
                    ]
                  }
                },
                {
                  "name": "Subtype",
                  "dtype": "object",
                  "stats": {
                    "unique_count": 78,
                    "nan_count": 615,
                    "categories": [
                      {
                        "name": " Electric Vehicle",
                        "count": 36
                      },
                      {
                        "name": "77 others",
                        "count": 122
                      },
                      {
                        "name": "Missing",
                        "count": 615
                      }
                    ]
                  }
                },
                {
                  "name": " Inventory",
                  "dtype": "object",
                  "stats": {
                    "unique_count": 181,
                    "nan_count": 33,
                    "categories": [
                      {
                        "name": "2.0",
                        "count": 85
                      },
                      {
                        "name": "180 others",
                        "count": 655
                      },
                      {
                        "name": "Missing",
                        "count": 33
                      }
                    ]
                  }
                },
                {
                  "name": "8AM",
                  "dtype": "object",
                  "stats": {
                    "unique_count": 112,
                    "nan_count": 0,
                    "categories": [
                      {
                        "name": "0",
                        "count": 147
                      },
                      {
                        "name": "1",
                        "count": 107
                      },
                      {
                        "name": "110 others",
                        "count": 519
                      }
                    ]
                  }
                },
                {
                  "name": "9AM",
                  "dtype": "object",
                  "stats": {
                    "unique_count": 89,
                    "nan_count": 0,
                    "categories": [
                      {
                        "name": "0",
                        "count": 183
                      },
                      {
                        "name": "1",
                        "count": 131
                      },
                      {
                        "name": "87 others",
                        "count": 459
                      }
                    ]
                  }
                },
                {
                  "name": "10AM",
                  "dtype": "object",
                  "stats": {
                    "unique_count": 72,
                    "nan_count": 0,
                    "categories": [
                      {
                        "name": "0",
                        "count": 247
                      },
                      {
                        "name": "1",
                        "count": 127
                      },
                      {
                        "name": "70 others",
                        "count": 399
                      }
                    ]
                  }
                },
                {
                  "name": "11AM",
                  "dtype": "object",
                  "stats": {
                    "unique_count": 66,
                    "nan_count": 0,
                    "categories": [
                      {
                        "name": "0",
                        "count": 238
                      },
                      {
                        "name": "1",
                        "count": 141
                      },
                      {
                        "name": "64 others",
                        "count": 394
                      }
                    ]
                  }
                },
                {
                  "name": "12PM",
                  "dtype": "object",
                  "stats": {
                    "unique_count": 70,
                    "nan_count": 0,
                    "categories": [
                      {
                        "name": "0",
                        "count": 249
                      },
                      {
                        "name": "1",
                        "count": 138
                      },
                      {
                        "name": "68 others",
                        "count": 386
                      }
                    ]
                  }
                },
                {
                  "name": "1PM",
                  "dtype": "object",
                  "stats": {
                    "unique_count": 72,
                    "nan_count": 0,
                    "categories": [
                      {
                        "name": "0",
                        "count": 222
                      },
                      {
                        "name": "1",
                        "count": 148
                      },
                      {
                        "name": "70 others",
                        "count": 403
                      }
                    ]
                  }
                },
                {
                  "name": "2PM",
                  "dtype": "object",
                  "stats": {
                    "unique_count": 74,
                    "nan_count": 0,
                    "categories": [
                      {
                        "name": "0",
                        "count": 177
                      },
                      {
                        "name": "1",
                        "count": 145
                      },
                      {
                        "name": "72 others",
                        "count": 451
                      }
                    ]
                  }
                },
                {
                  "name": "3PM",
                  "dtype": "object",
                  "stats": {
                    "unique_count": 80,
                    "nan_count": 2,
                    "categories": [
                      {
                        "name": "0",
                        "count": 144
                      },
                      {
                        "name": "79 others",
                        "count": 627
                      },
                      {
                        "name": "Missing",
                        "count": 2
                      }
                    ]
                  }
                },
                {
                  "name": "4PM",
                  "dtype": "object",
                  "stats": {
                    "unique_count": 98,
                    "nan_count": 1,
                    "categories": [
                      {
                        "name": "1",
                        "count": 118
                      },
                      {
                        "name": "97 others",
                        "count": 654
                      },
                      {
                        "name": "Missing",
                        "count": 1
                      }
                    ]
                  }
                },
                {
                  "name": "5PM",
                  "dtype": "object",
                  "stats": {
                    "unique_count": 107,
                    "nan_count": 2,
                    "categories": [
                      {
                        "name": "1",
                        "count": 102
                      },
                      {
                        "name": "106 others",
                        "count": 669
                      },
                      {
                        "name": "Missing",
                        "count": 2
                      }
                    ]
                  }
                },
                {
                  "name": "EmptySpaces",
                  "dtype": "object",
                  "stats": {
                    "unique_count": 60,
                    "nan_count": 0,
                    "categories": [
                      {
                        "name": "0",
                        "count": 389
                      },
                      {
                        "name": "1",
                        "count": 109
                      },
                      {
                        "name": "58 others",
                        "count": 275
                      }
                    ]
                  }
                },
                {
                  "name": "OccupiedSpaces",
                  "dtype": "object",
                  "stats": {
                    "unique_count": 161,
                    "nan_count": 44,
                    "categories": [
                      {
                        "name": "2.0",
                        "count": 91
                      },
                      {
                        "name": "160 others",
                        "count": 638
                      },
                      {
                        "name": "Missing",
                        "count": 44
                      }
                    ]
                  }
                },
                {
                  "name": "PercentOccupied",
                  "dtype": "object",
                  "stats": {
                    "unique_count": 194,
                    "nan_count": 44,
                    "categories": [
                      {
                        "name": "1.0",
                        "count": 351
                      },
                      {
                        "name": "193 others",
                        "count": 378
                      },
                      {
                        "name": "Missing",
                        "count": 44
                      }
                    ]
                  }
                },
                {
                  "name": "_deepnote_index_column",
                  "dtype": "int64"
                }
              ],
              "rows": [
                {
                  "Structure": "Parking Lot",
                  "Lot": "P001",
                  "SpaceType": "Reserved",
                  "Subtype": "816",
                  " Inventory": "1",
                  "8AM": "1",
                  "9AM": "1",
                  "10AM": "0",
                  "11AM": "0",
                  "12PM": "0",
                  "1PM": "1",
                  "2PM": "0",
                  "3PM": "1",
                  "4PM": "0",
                  "5PM": "0",
                  "EmptySpaces": "0",
                  "OccupiedSpaces": "1",
                  "PercentOccupied": "1",
                  "_deepnote_index_column": 0
                },
                {
                  "Structure": "Parking Lot",
                  "Lot": "P001",
                  "SpaceType": "Allocated",
                  "Subtype": " Electric Vehicle",
                  " Inventory": "4",
                  "8AM": "2",
                  "9AM": "2",
                  "10AM": "1",
                  "11AM": "0",
                  "12PM": "0",
                  "1PM": "1",
                  "2PM": "1",
                  "3PM": "1",
                  "4PM": "1",
                  "5PM": "3",
                  "EmptySpaces": "0",
                  "OccupiedSpaces": "4",
                  "PercentOccupied": "1",
                  "_deepnote_index_column": 1
                },
                {
                  "Structure": "Parking Lot",
                  "Lot": "P001",
                  "SpaceType": "Allocated",
                  "Subtype": " SIO",
                  " Inventory": "4",
                  "8AM": "2",
                  "9AM": "0",
                  "10AM": "0",
                  "11AM": "0",
                  "12PM": "0",
                  "1PM": "0",
                  "2PM": "0",
                  "3PM": "1",
                  "4PM": "3",
                  "5PM": "3",
                  "EmptySpaces": "0",
                  "OccupiedSpaces": "4",
                  "PercentOccupied": "1",
                  "_deepnote_index_column": 2
                },
                {
                  "Structure": "Parking Lot",
                  "Lot": "P001",
                  "SpaceType": "Reserved",
                  "Subtype": "815",
                  " Inventory": "1",
                  "8AM": "0",
                  "9AM": "0",
                  "10AM": "0",
                  "11AM": "0",
                  "12PM": "0",
                  "1PM": "0",
                  "2PM": "0",
                  "3PM": "0",
                  "4PM": "0",
                  "5PM": "0",
                  "EmptySpaces": "0",
                  "OccupiedSpaces": "nan",
                  "PercentOccupied": "nan",
                  "_deepnote_index_column": 3
                },
                {
                  "Structure": "Parking Lot",
                  "Lot": "P001",
                  "SpaceType": "Accessible",
                  "Subtype": "nan",
                  " Inventory": "1",
                  "8AM": "1",
                  "9AM": "1",
                  "10AM": "0",
                  "11AM": "0",
                  "12PM": "0",
                  "1PM": "0",
                  "2PM": "0",
                  "3PM": "0",
                  "4PM": "0",
                  "5PM": "0",
                  "EmptySpaces": "0",
                  "OccupiedSpaces": "1",
                  "PercentOccupied": "1",
                  "_deepnote_index_column": 4
                },
                {
                  "Structure": "Parking Lot",
                  "Lot": "P001",
                  "SpaceType": "Total",
                  "Subtype": "nan",
                  " Inventory": "14",
                  "8AM": "6",
                  "9AM": "4",
                  "10AM": "1",
                  "11AM": "0",
                  "12PM": "0",
                  "1PM": "2",
                  "2PM": "1",
                  "3PM": "3",
                  "4PM": "4",
                  "5PM": "6",
                  "EmptySpaces": "0",
                  "OccupiedSpaces": "14",
                  "PercentOccupied": "1",
                  "_deepnote_index_column": 5
                },
                {
                  "Structure": "Parking Lot",
                  "Lot": "P002",
                  "SpaceType": "Allocated",
                  "Subtype": " SIO",
                  " Inventory": "31",
                  "8AM": "12",
                  "9AM": "16",
                  "10AM": "4",
                  "11AM": "4",
                  "12PM": "2",
                  "1PM": "0",
                  "2PM": "2",
                  "3PM": "9",
                  "4PM": "14",
                  "5PM": "8",
                  "EmptySpaces": "0",
                  "OccupiedSpaces": "31",
                  "PercentOccupied": "1",
                  "_deepnote_index_column": 6
                },
                {
                  "Structure": "Parking Lot",
                  "Lot": "P002",
                  "SpaceType": "Accessible",
                  "Subtype": "nan",
                  " Inventory": "2",
                  "8AM": "2",
                  "9AM": "2",
                  "10AM": "2",
                  "11AM": "0",
                  "12PM": "0",
                  "1PM": "2",
                  "2PM": "2",
                  "3PM": "1",
                  "4PM": "1",
                  "5PM": "2",
                  "EmptySpaces": "0",
                  "OccupiedSpaces": "2",
                  "PercentOccupied": "1",
                  "_deepnote_index_column": 7
                },
                {
                  "Structure": "Parking Lot",
                  "Lot": "P002",
                  "SpaceType": "Total",
                  "Subtype": "nan",
                  " Inventory": "33",
                  "8AM": "14",
                  "9AM": "18",
                  "10AM": "6",
                  "11AM": "4",
                  "12PM": "2",
                  "1PM": "2",
                  "2PM": "4",
                  "3PM": "10",
                  "4PM": "15",
                  "5PM": "10",
                  "EmptySpaces": "2",
                  "OccupiedSpaces": "31",
                  "PercentOccupied": "0.9393939393939394",
                  "_deepnote_index_column": 8
                },
                {
                  "Structure": "Parking Lot",
                  "Lot": "P003",
                  "SpaceType": "Allocated",
                  "Subtype": " Lifeguard",
                  " Inventory": "1",
                  "8AM": "0",
                  "9AM": "0",
                  "10AM": "0",
                  "11AM": "0",
                  "12PM": "0",
                  "1PM": "0",
                  "2PM": "0",
                  "3PM": "0",
                  "4PM": "1",
                  "5PM": "1",
                  "EmptySpaces": "0",
                  "OccupiedSpaces": "1",
                  "PercentOccupied": "1",
                  "_deepnote_index_column": 9
                },
                {
                  "Structure": "Parking Lot",
                  "Lot": "P003",
                  "SpaceType": "Allocated",
                  "Subtype": " SIO",
                  " Inventory": "64",
                  "8AM": "44",
                  "9AM": "26",
                  "10AM": "11",
                  "11AM": "1",
                  "12PM": "1",
                  "1PM": "2",
                  "2PM": "2",
                  "3PM": "6",
                  "4PM": "11",
                  "5PM": "23",
                  "EmptySpaces": "1",
                  "OccupiedSpaces": "63",
                  "PercentOccupied": "0.984375",
                  "_deepnote_index_column": 10
                },
                {
                  "Structure": "Parking Lot",
                  "Lot": "P003",
                  "SpaceType": "Accessible",
                  "Subtype": "nan",
                  " Inventory": "2",
                  "8AM": "2",
                  "9AM": "1",
                  "10AM": "1",
                  "11AM": "2",
                  "12PM": "2",
                  "1PM": "2",
                  "2PM": "2",
                  "3PM": "0",
                  "4PM": "2",
                  "5PM": "2",
                  "EmptySpaces": "0",
                  "OccupiedSpaces": "2",
                  "PercentOccupied": "1",
                  "_deepnote_index_column": 11
                },
                {
                  "Structure": "Parking Lot",
                  "Lot": "P003",
                  "SpaceType": "Loading",
                  "Subtype": "Regular and Commercial",
                  " Inventory": "5",
                  "8AM": "5",
                  "9AM": "5",
                  "10AM": "3",
                  "11AM": "4",
                  "12PM": "4",
                  "1PM": "3",
                  "2PM": "5",
                  "3PM": "0",
                  "4PM": "5",
                  "5PM": "4",
                  "EmptySpaces": "0",
                  "OccupiedSpaces": "5",
                  "PercentOccupied": "1",
                  "_deepnote_index_column": 12
                },
                {
                  "Structure": "Parking Lot",
                  "Lot": "P003",
                  "SpaceType": "Total",
                  "Subtype": "nan",
                  " Inventory": "72",
                  "8AM": "51",
                  "9AM": "32",
                  "10AM": "15",
                  "11AM": "7",
                  "12PM": "7",
                  "1PM": "7",
                  "2PM": "9",
                  "3PM": "6",
                  "4PM": "19",
                  "5PM": "30",
                  "EmptySpaces": "6",
                  "OccupiedSpaces": "66",
                  "PercentOccupied": "0.9166666666666666",
                  "_deepnote_index_column": 13
                },
                {
                  "Structure": "Parking Lot",
                  "Lot": "P004 (blocked by construction)",
                  "SpaceType": "Allocated",
                  "Subtype": " Electric Vehicle",
                  " Inventory": "1",
                  "8AM": "1",
                  "9AM": "1",
                  "10AM": "0",
                  "11AM": "1",
                  "12PM": "0",
                  "1PM": "1",
                  "2PM": "0",
                  "3PM": "1",
                  "4PM": "1",
                  "5PM": "1",
                  "EmptySpaces": "0",
                  "OccupiedSpaces": "1",
                  "PercentOccupied": "1",
                  "_deepnote_index_column": 14
                },
                {
                  "Structure": "Parking Lot",
                  "Lot": "P004 (blocked by construction)",
                  "SpaceType": "UC Vehicle",
                  "Subtype": "UC Cart",
                  " Inventory": "6",
                  "8AM": "4",
                  "9AM": "3",
                  "10AM": "4",
                  "11AM": "2",
                  "12PM": "2",
                  "1PM": "4",
                  "2PM": "4",
                  "3PM": "2",
                  "4PM": "3",
                  "5PM": "3",
                  "EmptySpaces": "2",
                  "OccupiedSpaces": "4",
                  "PercentOccupied": "0.6666666666666666",
                  "_deepnote_index_column": 15
                },
                {
                  "Structure": "Parking Lot",
                  "Lot": "P004 (blocked by construction)",
                  "SpaceType": "Service Yard",
                  "Subtype": "nan",
                  " Inventory": "1",
                  "8AM": "1",
                  "9AM": "1",
                  "10AM": "0",
                  "11AM": "0",
                  "12PM": "1",
                  "1PM": "1",
                  "2PM": "0",
                  "3PM": "0",
                  "4PM": "0",
                  "5PM": "0",
                  "EmptySpaces": "0",
                  "OccupiedSpaces": "1",
                  "PercentOccupied": "1",
                  "_deepnote_index_column": 16
                },
                {
                  "Structure": "Parking Lot",
                  "Lot": "P004 (blocked by construction)",
                  "SpaceType": "Loading",
                  "Subtype": " Commercial",
                  " Inventory": "2",
                  "8AM": "2",
                  "9AM": "0",
                  "10AM": "0",
                  "11AM": "0",
                  "12PM": "0",
                  "1PM": "1",
                  "2PM": "1",
                  "3PM": "1",
                  "4PM": "1",
                  "5PM": "1",
                  "EmptySpaces": "0",
                  "OccupiedSpaces": "2",
                  "PercentOccupied": "1",
                  "_deepnote_index_column": 17
                },
                {
                  "Structure": "Parking Lot",
                  "Lot": "P004 (blocked by construction)",
                  "SpaceType": "Total",
                  "Subtype": "nan",
                  " Inventory": "10",
                  "8AM": "8",
                  "9AM": "5",
                  "10AM": "4",
                  "11AM": "3",
                  "12PM": "3",
                  "1PM": "7",
                  "2PM": "5",
                  "3PM": "4",
                  "4PM": "5",
                  "5PM": "5",
                  "EmptySpaces": "3",
                  "OccupiedSpaces": "7",
                  "PercentOccupied": "0.7",
                  "_deepnote_index_column": 18
                },
                {
                  "Structure": "Parking Lot",
                  "Lot": "P005",
                  "SpaceType": "Accessible",
                  "Subtype": "nan",
                  " Inventory": "1",
                  "8AM": "1",
                  "9AM": "1",
                  "10AM": "1",
                  "11AM": "0",
                  "12PM": "1",
                  "1PM": "0",
                  "2PM": "1",
                  "3PM": "1",
                  "4PM": "1",
                  "5PM": "1",
                  "EmptySpaces": "0",
                  "OccupiedSpaces": "1",
                  "PercentOccupied": "1",
                  "_deepnote_index_column": 19
                },
                {
                  "Structure": "Parking Lot",
                  "Lot": "P005",
                  "SpaceType": "Loading",
                  "Subtype": " 2 Bars",
                  " Inventory": "2",
                  "8AM": "0",
                  "9AM": "0",
                  "10AM": "0",
                  "11AM": "0",
                  "12PM": "0",
                  "1PM": "0",
                  "2PM": "0",
                  "3PM": "0",
                  "4PM": "0",
                  "5PM": "0",
                  "EmptySpaces": "0",
                  "OccupiedSpaces": "nan",
                  "PercentOccupied": "nan",
                  "_deepnote_index_column": 20
                },
                {
                  "Structure": "Parking Lot",
                  "Lot": "P005",
                  "SpaceType": "Total",
                  "Subtype": "nan",
                  " Inventory": "3",
                  "8AM": "1",
                  "9AM": "1",
                  "10AM": "1",
                  "11AM": "0",
                  "12PM": "1",
                  "1PM": "0",
                  "2PM": "1",
                  "3PM": "1",
                  "4PM": "1",
                  "5PM": "1",
                  "EmptySpaces": "0",
                  "OccupiedSpaces": "3",
                  "PercentOccupied": "1",
                  "_deepnote_index_column": 21
                },
                {
                  "Structure": "Parking Lot",
                  "Lot": "P006",
                  "SpaceType": "Allocated",
                  "Subtype": " SIO",
                  " Inventory": "6",
                  "8AM": "5",
                  "9AM": "1",
                  "10AM": "1",
                  "11AM": "0",
                  "12PM": "0",
                  "1PM": "0",
                  "2PM": "0",
                  "3PM": "2",
                  "4PM": "1",
                  "5PM": "2",
                  "EmptySpaces": "0",
                  "OccupiedSpaces": "6",
                  "PercentOccupied": "1",
                  "_deepnote_index_column": 22
                },
                {
                  "Structure": "Parking Lot",
                  "Lot": "P006",
                  "SpaceType": "Accessible",
                  "Subtype": "nan",
                  " Inventory": "1",
                  "8AM": "1",
                  "9AM": "1",
                  "10AM": "1",
                  "11AM": "0",
                  "12PM": "0",
                  "1PM": "1",
                  "2PM": "1",
                  "3PM": "1",
                  "4PM": "1",
                  "5PM": "1",
                  "EmptySpaces": "0",
                  "OccupiedSpaces": "1",
                  "PercentOccupied": "1",
                  "_deepnote_index_column": 23
                },
                {
                  "Structure": "Parking Lot",
                  "Lot": "P006",
                  "SpaceType": "Total",
                  "Subtype": "nan",
                  " Inventory": "7",
                  "8AM": "6",
                  "9AM": "2",
                  "10AM": "2",
                  "11AM": "0",
                  "12PM": "0",
                  "1PM": "1",
                  "2PM": "1",
                  "3PM": "3",
                  "4PM": "2",
                  "5PM": "3",
                  "EmptySpaces": "0",
                  "OccupiedSpaces": "7",
                  "PercentOccupied": "1",
                  "_deepnote_index_column": 24
                }
              ]
            },
            "text/plain": "                    Structure   Lot   SpaceType            Subtype  Inventory  \\\n0                 Parking Lot  P001    Reserved                816          1   \n1                 Parking Lot  P001   Allocated   Electric Vehicle          4   \n2                 Parking Lot  P001   Allocated                SIO          4   \n3                 Parking Lot  P001    Reserved                815          1   \n4                 Parking Lot  P001  Accessible                NaN          1   \n..                        ...   ...         ...                ...        ...   \n768  Medical Center Hillcrest  P964   Allocated          Pulmonary         12   \n769  Medical Center Hillcrest  P964   Allocated           Security          3   \n770  Medical Center Hillcrest  P964   Allocated           30 MIN V          1   \n771  Medical Center Hillcrest  P964  Accessible                NaN         11   \n772  Medical Center Hillcrest  P964       Total                NaN        104   \n\n    8AM 9AM 10AM 11AM 12PM 1PM 2PM 3PM 4PM 5PM EmptySpaces OccupiedSpaces  \\\n0     1   1    0    0    0   1   0   1   0   0           0              1   \n1     2   2    1    0    0   1   1   1   1   3           0              4   \n2     2   0    0    0    0   0   0   1   3   3           0              4   \n3     0   0    0    0    0   0   0   0   0   0           0            NaN   \n4     1   1    0    0    0   0   0   0   0   0           0              1   \n..   ..  ..  ...  ...  ...  ..  ..  ..  ..  ..         ...            ...   \n768   8  11   10    8   10   6   8  11   9   9           6              6   \n769   2   2    2    2    1   1   1   2   2   2           1              2   \n770   1   1    1    0    1   1   1   1   1   1           0              1   \n771   0   0    1    1    1   0   1   2   0   4           0             11   \n772  37  34   29   22   34  30  37  48  47  75          22             82   \n\n    PercentOccupied  \n0                 1  \n1                 1  \n2                 1  \n3               NaN  \n4                 1  \n..              ...  \n768             0.5  \n769        0.666667  \n770               1  \n771               1  \n772        0.788462  \n\n[773 rows x 18 columns]",
            "text/html": "<div>\n<style scoped>\n    .dataframe tbody tr th:only-of-type {\n        vertical-align: middle;\n    }\n\n    .dataframe tbody tr th {\n        vertical-align: top;\n    }\n\n    .dataframe thead th {\n        text-align: right;\n    }\n</style>\n<table border=\"1\" class=\"dataframe\">\n  <thead>\n    <tr style=\"text-align: right;\">\n      <th></th>\n      <th>Structure</th>\n      <th>Lot</th>\n      <th>SpaceType</th>\n      <th>Subtype</th>\n      <th>Inventory</th>\n      <th>8AM</th>\n      <th>9AM</th>\n      <th>10AM</th>\n      <th>11AM</th>\n      <th>12PM</th>\n      <th>1PM</th>\n      <th>2PM</th>\n      <th>3PM</th>\n      <th>4PM</th>\n      <th>5PM</th>\n      <th>EmptySpaces</th>\n      <th>OccupiedSpaces</th>\n      <th>PercentOccupied</th>\n    </tr>\n  </thead>\n  <tbody>\n    <tr>\n      <th>0</th>\n      <td>Parking Lot</td>\n      <td>P001</td>\n      <td>Reserved</td>\n      <td>816</td>\n      <td>1</td>\n      <td>1</td>\n      <td>1</td>\n      <td>0</td>\n      <td>0</td>\n      <td>0</td>\n      <td>1</td>\n      <td>0</td>\n      <td>1</td>\n      <td>0</td>\n      <td>0</td>\n      <td>0</td>\n      <td>1</td>\n      <td>1</td>\n    </tr>\n    <tr>\n      <th>1</th>\n      <td>Parking Lot</td>\n      <td>P001</td>\n      <td>Allocated</td>\n      <td>Electric Vehicle</td>\n      <td>4</td>\n      <td>2</td>\n      <td>2</td>\n      <td>1</td>\n      <td>0</td>\n      <td>0</td>\n      <td>1</td>\n      <td>1</td>\n      <td>1</td>\n      <td>1</td>\n      <td>3</td>\n      <td>0</td>\n      <td>4</td>\n      <td>1</td>\n    </tr>\n    <tr>\n      <th>2</th>\n      <td>Parking Lot</td>\n      <td>P001</td>\n      <td>Allocated</td>\n      <td>SIO</td>\n      <td>4</td>\n      <td>2</td>\n      <td>0</td>\n      <td>0</td>\n      <td>0</td>\n      <td>0</td>\n      <td>0</td>\n      <td>0</td>\n      <td>1</td>\n      <td>3</td>\n      <td>3</td>\n      <td>0</td>\n      <td>4</td>\n      <td>1</td>\n    </tr>\n    <tr>\n      <th>3</th>\n      <td>Parking Lot</td>\n      <td>P001</td>\n      <td>Reserved</td>\n      <td>815</td>\n      <td>1</td>\n      <td>0</td>\n      <td>0</td>\n      <td>0</td>\n      <td>0</td>\n      <td>0</td>\n      <td>0</td>\n      <td>0</td>\n      <td>0</td>\n      <td>0</td>\n      <td>0</td>\n      <td>0</td>\n      <td>NaN</td>\n      <td>NaN</td>\n    </tr>\n    <tr>\n      <th>4</th>\n      <td>Parking Lot</td>\n      <td>P001</td>\n      <td>Accessible</td>\n      <td>NaN</td>\n      <td>1</td>\n      <td>1</td>\n      <td>1</td>\n      <td>0</td>\n      <td>0</td>\n      <td>0</td>\n      <td>0</td>\n      <td>0</td>\n      <td>0</td>\n      <td>0</td>\n      <td>0</td>\n      <td>0</td>\n      <td>1</td>\n      <td>1</td>\n    </tr>\n    <tr>\n      <th>...</th>\n      <td>...</td>\n      <td>...</td>\n      <td>...</td>\n      <td>...</td>\n      <td>...</td>\n      <td>...</td>\n      <td>...</td>\n      <td>...</td>\n      <td>...</td>\n      <td>...</td>\n      <td>...</td>\n      <td>...</td>\n      <td>...</td>\n      <td>...</td>\n      <td>...</td>\n      <td>...</td>\n      <td>...</td>\n      <td>...</td>\n    </tr>\n    <tr>\n      <th>768</th>\n      <td>Medical Center Hillcrest</td>\n      <td>P964</td>\n      <td>Allocated</td>\n      <td>Pulmonary</td>\n      <td>12</td>\n      <td>8</td>\n      <td>11</td>\n      <td>10</td>\n      <td>8</td>\n      <td>10</td>\n      <td>6</td>\n      <td>8</td>\n      <td>11</td>\n      <td>9</td>\n      <td>9</td>\n      <td>6</td>\n      <td>6</td>\n      <td>0.5</td>\n    </tr>\n    <tr>\n      <th>769</th>\n      <td>Medical Center Hillcrest</td>\n      <td>P964</td>\n      <td>Allocated</td>\n      <td>Security</td>\n      <td>3</td>\n      <td>2</td>\n      <td>2</td>\n      <td>2</td>\n      <td>2</td>\n      <td>1</td>\n      <td>1</td>\n      <td>1</td>\n      <td>2</td>\n      <td>2</td>\n      <td>2</td>\n      <td>1</td>\n      <td>2</td>\n      <td>0.666667</td>\n    </tr>\n    <tr>\n      <th>770</th>\n      <td>Medical Center Hillcrest</td>\n      <td>P964</td>\n      <td>Allocated</td>\n      <td>30 MIN V</td>\n      <td>1</td>\n      <td>1</td>\n      <td>1</td>\n      <td>1</td>\n      <td>0</td>\n      <td>1</td>\n      <td>1</td>\n      <td>1</td>\n      <td>1</td>\n      <td>1</td>\n      <td>1</td>\n      <td>0</td>\n      <td>1</td>\n      <td>1</td>\n    </tr>\n    <tr>\n      <th>771</th>\n      <td>Medical Center Hillcrest</td>\n      <td>P964</td>\n      <td>Accessible</td>\n      <td>NaN</td>\n      <td>11</td>\n      <td>0</td>\n      <td>0</td>\n      <td>1</td>\n      <td>1</td>\n      <td>1</td>\n      <td>0</td>\n      <td>1</td>\n      <td>2</td>\n      <td>0</td>\n      <td>4</td>\n      <td>0</td>\n      <td>11</td>\n      <td>1</td>\n    </tr>\n    <tr>\n      <th>772</th>\n      <td>Medical Center Hillcrest</td>\n      <td>P964</td>\n      <td>Total</td>\n      <td>NaN</td>\n      <td>104</td>\n      <td>37</td>\n      <td>34</td>\n      <td>29</td>\n      <td>22</td>\n      <td>34</td>\n      <td>30</td>\n      <td>37</td>\n      <td>48</td>\n      <td>47</td>\n      <td>75</td>\n      <td>22</td>\n      <td>82</td>\n      <td>0.788462</td>\n    </tr>\n  </tbody>\n</table>\n<p>773 rows × 18 columns</p>\n</div>"
          },
          "metadata": {}
        }
      ],
      "execution_count": 5,
      "block_group": "d3273789b43e464e92e79ad0c35ae937"
    },
    {
      "cell_type": "code",
      "source": "#combines subtype and spacetype\nspace_column = updated_data.get(\"SpaceType\")\nsub_column = updated_data.get(\"Subtype\")\n\nfor i in range(space_column.size - 1):\n    if (space_column[i] == \"Allocated\") or (space_column[i] == \"Reserved\"):\n        space_column[i] = sub_column[i]\n\n\nupdated_data2 = updated_data.drop(columns =['Subtype'])\nupdated_data2\n\n\n",
      "metadata": {
        "source_hash": "32a85fdb",
        "execution_start": 1695053030613,
        "execution_millis": 272,
        "deepnote_table_state": {
          "sortBy": [],
          "filters": [],
          "pageSize": 10,
          "pageIndex": 5
        },
        "deepnote_table_loading": false,
        "deepnote_to_be_reexecuted": false,
        "cell_id": "84b5649c59ba4df2a73b71b43cd6b154",
        "deepnote_cell_type": "code"
      },
      "outputs": [
        {
          "output_type": "execute_result",
          "execution_count": 10,
          "data": {
            "application/vnd.deepnote.dataframe.v3+json": {
              "column_count": 17,
              "row_count": 773,
              "columns": [
                {
                  "name": "Structure",
                  "dtype": "object",
                  "stats": {
                    "unique_count": 12,
                    "nan_count": 0,
                    "categories": [
                      {
                        "name": "Parking Lot",
                        "count": 414
                      },
                      {
                        "name": "Medical Center Hillcrest",
                        "count": 103
                      },
                      {
                        "name": "10 others",
                        "count": 256
                      }
                    ]
                  }
                },
                {
                  "name": "Lot",
                  "dtype": "object",
                  "stats": {
                    "unique_count": 180,
                    "nan_count": 0,
                    "categories": [
                      {
                        "name": "P381",
                        "count": 13
                      },
                      {
                        "name": "P382",
                        "count": 11
                      },
                      {
                        "name": "178 others",
                        "count": 749
                      }
                    ]
                  }
                },
                {
                  "name": "SpaceType",
                  "dtype": "object",
                  "stats": {
                    "unique_count": 75,
                    "nan_count": 60,
                    "categories": [
                      {
                        "name": "Total",
                        "count": 179
                      },
                      {
                        "name": "74 others",
                        "count": 534
                      },
                      {
                        "name": "Missing",
                        "count": 60
                      }
                    ]
                  }
                },
                {
                  "name": " Inventory",
                  "dtype": "object",
                  "stats": {
                    "unique_count": 181,
                    "nan_count": 33,
                    "categories": [
                      {
                        "name": "2.0",
                        "count": 85
                      },
                      {
                        "name": "180 others",
                        "count": 655
                      },
                      {
                        "name": "Missing",
                        "count": 33
                      }
                    ]
                  }
                },
                {
                  "name": "8AM",
                  "dtype": "object",
                  "stats": {
                    "unique_count": 112,
                    "nan_count": 0,
                    "categories": [
                      {
                        "name": "0",
                        "count": 147
                      },
                      {
                        "name": "1",
                        "count": 107
                      },
                      {
                        "name": "110 others",
                        "count": 519
                      }
                    ]
                  }
                },
                {
                  "name": "9AM",
                  "dtype": "object",
                  "stats": {
                    "unique_count": 89,
                    "nan_count": 0,
                    "categories": [
                      {
                        "name": "0",
                        "count": 183
                      },
                      {
                        "name": "1",
                        "count": 131
                      },
                      {
                        "name": "87 others",
                        "count": 459
                      }
                    ]
                  }
                },
                {
                  "name": "10AM",
                  "dtype": "object",
                  "stats": {
                    "unique_count": 72,
                    "nan_count": 0,
                    "categories": [
                      {
                        "name": "0",
                        "count": 247
                      },
                      {
                        "name": "1",
                        "count": 127
                      },
                      {
                        "name": "70 others",
                        "count": 399
                      }
                    ]
                  }
                },
                {
                  "name": "11AM",
                  "dtype": "object",
                  "stats": {
                    "unique_count": 66,
                    "nan_count": 0,
                    "categories": [
                      {
                        "name": "0",
                        "count": 238
                      },
                      {
                        "name": "1",
                        "count": 141
                      },
                      {
                        "name": "64 others",
                        "count": 394
                      }
                    ]
                  }
                },
                {
                  "name": "12PM",
                  "dtype": "object",
                  "stats": {
                    "unique_count": 70,
                    "nan_count": 0,
                    "categories": [
                      {
                        "name": "0",
                        "count": 249
                      },
                      {
                        "name": "1",
                        "count": 138
                      },
                      {
                        "name": "68 others",
                        "count": 386
                      }
                    ]
                  }
                },
                {
                  "name": "1PM",
                  "dtype": "object",
                  "stats": {
                    "unique_count": 72,
                    "nan_count": 0,
                    "categories": [
                      {
                        "name": "0",
                        "count": 222
                      },
                      {
                        "name": "1",
                        "count": 148
                      },
                      {
                        "name": "70 others",
                        "count": 403
                      }
                    ]
                  }
                },
                {
                  "name": "2PM",
                  "dtype": "object",
                  "stats": {
                    "unique_count": 74,
                    "nan_count": 0,
                    "categories": [
                      {
                        "name": "0",
                        "count": 177
                      },
                      {
                        "name": "1",
                        "count": 145
                      },
                      {
                        "name": "72 others",
                        "count": 451
                      }
                    ]
                  }
                },
                {
                  "name": "3PM",
                  "dtype": "object",
                  "stats": {
                    "unique_count": 80,
                    "nan_count": 2,
                    "categories": [
                      {
                        "name": "0",
                        "count": 144
                      },
                      {
                        "name": "79 others",
                        "count": 627
                      },
                      {
                        "name": "Missing",
                        "count": 2
                      }
                    ]
                  }
                },
                {
                  "name": "4PM",
                  "dtype": "object",
                  "stats": {
                    "unique_count": 98,
                    "nan_count": 1,
                    "categories": [
                      {
                        "name": "1",
                        "count": 118
                      },
                      {
                        "name": "97 others",
                        "count": 654
                      },
                      {
                        "name": "Missing",
                        "count": 1
                      }
                    ]
                  }
                },
                {
                  "name": "5PM",
                  "dtype": "object",
                  "stats": {
                    "unique_count": 107,
                    "nan_count": 2,
                    "categories": [
                      {
                        "name": "1",
                        "count": 102
                      },
                      {
                        "name": "106 others",
                        "count": 669
                      },
                      {
                        "name": "Missing",
                        "count": 2
                      }
                    ]
                  }
                },
                {
                  "name": "EmptySpaces",
                  "dtype": "object",
                  "stats": {
                    "unique_count": 60,
                    "nan_count": 0,
                    "categories": [
                      {
                        "name": "0",
                        "count": 389
                      },
                      {
                        "name": "1",
                        "count": 109
                      },
                      {
                        "name": "58 others",
                        "count": 275
                      }
                    ]
                  }
                },
                {
                  "name": "OccupiedSpaces",
                  "dtype": "object",
                  "stats": {
                    "unique_count": 161,
                    "nan_count": 44,
                    "categories": [
                      {
                        "name": "2.0",
                        "count": 91
                      },
                      {
                        "name": "160 others",
                        "count": 638
                      },
                      {
                        "name": "Missing",
                        "count": 44
                      }
                    ]
                  }
                },
                {
                  "name": "PercentOccupied",
                  "dtype": "object",
                  "stats": {
                    "unique_count": 194,
                    "nan_count": 44,
                    "categories": [
                      {
                        "name": "1.0",
                        "count": 351
                      },
                      {
                        "name": "193 others",
                        "count": 378
                      },
                      {
                        "name": "Missing",
                        "count": 44
                      }
                    ]
                  }
                },
                {
                  "name": "_deepnote_index_column",
                  "dtype": "int64"
                }
              ],
              "rows": [
                {
                  "Structure": "Parking Lot",
                  "Lot": "P013",
                  "SpaceType": "Accessible",
                  " Inventory": "1",
                  "8AM": "1",
                  "9AM": "1",
                  "10AM": "0",
                  "11AM": "1",
                  "12PM": "1",
                  "1PM": "1",
                  "2PM": "0",
                  "3PM": "0",
                  "4PM": "0",
                  "5PM": "0",
                  "EmptySpaces": "0",
                  "OccupiedSpaces": "1",
                  "PercentOccupied": "1",
                  "_deepnote_index_column": 50
                },
                {
                  "Structure": "Parking Lot",
                  "Lot": "P013",
                  "SpaceType": "Total",
                  " Inventory": "15",
                  "8AM": "15",
                  "9AM": "10",
                  "10AM": "5",
                  "11AM": "5",
                  "12PM": "2",
                  "1PM": "3",
                  "2PM": "3",
                  "3PM": "4",
                  "4PM": "4",
                  "5PM": "6",
                  "EmptySpaces": "2",
                  "OccupiedSpaces": "13",
                  "PercentOccupied": "0.8666666666666667",
                  "_deepnote_index_column": 51
                },
                {
                  "Structure": "Parking Lot",
                  "Lot": "P014",
                  "SpaceType": "Visitor",
                  " Inventory": "4",
                  "8AM": "2",
                  "9AM": "1",
                  "10AM": "0",
                  "11AM": "1",
                  "12PM": "2",
                  "1PM": "2",
                  "2PM": "2",
                  "3PM": "2",
                  "4PM": "4",
                  "5PM": "3",
                  "EmptySpaces": "0",
                  "OccupiedSpaces": "4",
                  "PercentOccupied": "1",
                  "_deepnote_index_column": 52
                },
                {
                  "Structure": "Parking Lot",
                  "Lot": "P014",
                  "SpaceType": " Electric Vehicle",
                  " Inventory": "2",
                  "8AM": "2",
                  "9AM": "1",
                  "10AM": "1",
                  "11AM": "1",
                  "12PM": "1",
                  "1PM": "2",
                  "2PM": "1",
                  "3PM": "0",
                  "4PM": "1",
                  "5PM": "1",
                  "EmptySpaces": "0",
                  "OccupiedSpaces": "2",
                  "PercentOccupied": "1",
                  "_deepnote_index_column": 53
                },
                {
                  "Structure": "Parking Lot",
                  "Lot": "P014",
                  "SpaceType": " SIO B",
                  " Inventory": "69",
                  "8AM": "64",
                  "9AM": "54",
                  "10AM": "33",
                  "11AM": "35",
                  "12PM": "40",
                  "1PM": "36",
                  "2PM": "35",
                  "3PM": "38",
                  "4PM": "43",
                  "5PM": "36",
                  "EmptySpaces": "33",
                  "OccupiedSpaces": "36",
                  "PercentOccupied": "0.5217391304347826",
                  "_deepnote_index_column": 54
                },
                {
                  "Structure": "Parking Lot",
                  "Lot": "P014",
                  "SpaceType": " SIO S",
                  " Inventory": "26",
                  "8AM": "22",
                  "9AM": "16",
                  "10AM": "15",
                  "11AM": "16",
                  "12PM": "11",
                  "1PM": "12",
                  "2PM": "15",
                  "3PM": "11",
                  "4PM": "13",
                  "5PM": "15",
                  "EmptySpaces": "11",
                  "OccupiedSpaces": "0",
                  "PercentOccupied": "0",
                  "_deepnote_index_column": 55
                },
                {
                  "Structure": "Parking Lot",
                  "Lot": "P014",
                  "SpaceType": "Accessible",
                  " Inventory": "4",
                  "8AM": "4",
                  "9AM": "4",
                  "10AM": "4",
                  "11AM": "4",
                  "12PM": "4",
                  "1PM": "4",
                  "2PM": "4",
                  "3PM": "4",
                  "4PM": "4",
                  "5PM": "4",
                  "EmptySpaces": "4",
                  "OccupiedSpaces": "0",
                  "PercentOccupied": "0",
                  "_deepnote_index_column": 56
                },
                {
                  "Structure": "Parking Lot",
                  "Lot": "P014",
                  "SpaceType": "Total",
                  " Inventory": "106",
                  "8AM": "94",
                  "9AM": "76",
                  "10AM": "53",
                  "11AM": "57",
                  "12PM": "58",
                  "1PM": "56",
                  "2PM": "57",
                  "3PM": "55",
                  "4PM": "65",
                  "5PM": "59",
                  "EmptySpaces": "53",
                  "OccupiedSpaces": "53",
                  "PercentOccupied": "0.5",
                  "_deepnote_index_column": 57
                },
                {
                  "Structure": "Parking Lot",
                  "Lot": "P015",
                  "SpaceType": "Loading",
                  " Inventory": "1",
                  "8AM": "0",
                  "9AM": "1",
                  "10AM": "0",
                  "11AM": "1",
                  "12PM": "1",
                  "1PM": "0",
                  "2PM": "1",
                  "3PM": "1",
                  "4PM": "1",
                  "5PM": "1",
                  "EmptySpaces": "0",
                  "OccupiedSpaces": "1",
                  "PercentOccupied": "1",
                  "_deepnote_index_column": 58
                },
                {
                  "Structure": "Parking Lot",
                  "Lot": "P015",
                  "SpaceType": "Total",
                  " Inventory": "1",
                  "8AM": "0",
                  "9AM": "1",
                  "10AM": "0",
                  "11AM": "1",
                  "12PM": "1",
                  "1PM": "0",
                  "2PM": "1",
                  "3PM": "1",
                  "4PM": "1",
                  "5PM": "1",
                  "EmptySpaces": "0",
                  "OccupiedSpaces": "1",
                  "PercentOccupied": "1",
                  "_deepnote_index_column": 59
                }
              ]
            },
            "text/plain": "                    Structure   Lot          SpaceType  Inventory 8AM 9AM  \\\n0                 Parking Lot  P001                816          1   1   1   \n1                 Parking Lot  P001   Electric Vehicle          4   2   2   \n2                 Parking Lot  P001                SIO          4   2   0   \n3                 Parking Lot  P001                815          1   0   0   \n4                 Parking Lot  P001         Accessible          1   1   1   \n..                        ...   ...                ...        ...  ..  ..   \n768  Medical Center Hillcrest  P964          Pulmonary         12   8  11   \n769  Medical Center Hillcrest  P964           Security          3   2   2   \n770  Medical Center Hillcrest  P964           30 MIN V          1   1   1   \n771  Medical Center Hillcrest  P964         Accessible         11   0   0   \n772  Medical Center Hillcrest  P964              Total        104  37  34   \n\n    10AM 11AM 12PM 1PM 2PM 3PM 4PM 5PM EmptySpaces OccupiedSpaces  \\\n0      0    0    0   1   0   1   0   0           0              1   \n1      1    0    0   1   1   1   1   3           0              4   \n2      0    0    0   0   0   1   3   3           0              4   \n3      0    0    0   0   0   0   0   0           0            NaN   \n4      0    0    0   0   0   0   0   0           0              1   \n..   ...  ...  ...  ..  ..  ..  ..  ..         ...            ...   \n768   10    8   10   6   8  11   9   9           6              6   \n769    2    2    1   1   1   2   2   2           1              2   \n770    1    0    1   1   1   1   1   1           0              1   \n771    1    1    1   0   1   2   0   4           0             11   \n772   29   22   34  30  37  48  47  75          22             82   \n\n    PercentOccupied  \n0                 1  \n1                 1  \n2                 1  \n3               NaN  \n4                 1  \n..              ...  \n768             0.5  \n769        0.666667  \n770               1  \n771               1  \n772        0.788462  \n\n[773 rows x 17 columns]",
            "text/html": "<div>\n<style scoped>\n    .dataframe tbody tr th:only-of-type {\n        vertical-align: middle;\n    }\n\n    .dataframe tbody tr th {\n        vertical-align: top;\n    }\n\n    .dataframe thead th {\n        text-align: right;\n    }\n</style>\n<table border=\"1\" class=\"dataframe\">\n  <thead>\n    <tr style=\"text-align: right;\">\n      <th></th>\n      <th>Structure</th>\n      <th>Lot</th>\n      <th>SpaceType</th>\n      <th>Inventory</th>\n      <th>8AM</th>\n      <th>9AM</th>\n      <th>10AM</th>\n      <th>11AM</th>\n      <th>12PM</th>\n      <th>1PM</th>\n      <th>2PM</th>\n      <th>3PM</th>\n      <th>4PM</th>\n      <th>5PM</th>\n      <th>EmptySpaces</th>\n      <th>OccupiedSpaces</th>\n      <th>PercentOccupied</th>\n    </tr>\n  </thead>\n  <tbody>\n    <tr>\n      <th>0</th>\n      <td>Parking Lot</td>\n      <td>P001</td>\n      <td>816</td>\n      <td>1</td>\n      <td>1</td>\n      <td>1</td>\n      <td>0</td>\n      <td>0</td>\n      <td>0</td>\n      <td>1</td>\n      <td>0</td>\n      <td>1</td>\n      <td>0</td>\n      <td>0</td>\n      <td>0</td>\n      <td>1</td>\n      <td>1</td>\n    </tr>\n    <tr>\n      <th>1</th>\n      <td>Parking Lot</td>\n      <td>P001</td>\n      <td>Electric Vehicle</td>\n      <td>4</td>\n      <td>2</td>\n      <td>2</td>\n      <td>1</td>\n      <td>0</td>\n      <td>0</td>\n      <td>1</td>\n      <td>1</td>\n      <td>1</td>\n      <td>1</td>\n      <td>3</td>\n      <td>0</td>\n      <td>4</td>\n      <td>1</td>\n    </tr>\n    <tr>\n      <th>2</th>\n      <td>Parking Lot</td>\n      <td>P001</td>\n      <td>SIO</td>\n      <td>4</td>\n      <td>2</td>\n      <td>0</td>\n      <td>0</td>\n      <td>0</td>\n      <td>0</td>\n      <td>0</td>\n      <td>0</td>\n      <td>1</td>\n      <td>3</td>\n      <td>3</td>\n      <td>0</td>\n      <td>4</td>\n      <td>1</td>\n    </tr>\n    <tr>\n      <th>3</th>\n      <td>Parking Lot</td>\n      <td>P001</td>\n      <td>815</td>\n      <td>1</td>\n      <td>0</td>\n      <td>0</td>\n      <td>0</td>\n      <td>0</td>\n      <td>0</td>\n      <td>0</td>\n      <td>0</td>\n      <td>0</td>\n      <td>0</td>\n      <td>0</td>\n      <td>0</td>\n      <td>NaN</td>\n      <td>NaN</td>\n    </tr>\n    <tr>\n      <th>4</th>\n      <td>Parking Lot</td>\n      <td>P001</td>\n      <td>Accessible</td>\n      <td>1</td>\n      <td>1</td>\n      <td>1</td>\n      <td>0</td>\n      <td>0</td>\n      <td>0</td>\n      <td>0</td>\n      <td>0</td>\n      <td>0</td>\n      <td>0</td>\n      <td>0</td>\n      <td>0</td>\n      <td>1</td>\n      <td>1</td>\n    </tr>\n    <tr>\n      <th>...</th>\n      <td>...</td>\n      <td>...</td>\n      <td>...</td>\n      <td>...</td>\n      <td>...</td>\n      <td>...</td>\n      <td>...</td>\n      <td>...</td>\n      <td>...</td>\n      <td>...</td>\n      <td>...</td>\n      <td>...</td>\n      <td>...</td>\n      <td>...</td>\n      <td>...</td>\n      <td>...</td>\n      <td>...</td>\n    </tr>\n    <tr>\n      <th>768</th>\n      <td>Medical Center Hillcrest</td>\n      <td>P964</td>\n      <td>Pulmonary</td>\n      <td>12</td>\n      <td>8</td>\n      <td>11</td>\n      <td>10</td>\n      <td>8</td>\n      <td>10</td>\n      <td>6</td>\n      <td>8</td>\n      <td>11</td>\n      <td>9</td>\n      <td>9</td>\n      <td>6</td>\n      <td>6</td>\n      <td>0.5</td>\n    </tr>\n    <tr>\n      <th>769</th>\n      <td>Medical Center Hillcrest</td>\n      <td>P964</td>\n      <td>Security</td>\n      <td>3</td>\n      <td>2</td>\n      <td>2</td>\n      <td>2</td>\n      <td>2</td>\n      <td>1</td>\n      <td>1</td>\n      <td>1</td>\n      <td>2</td>\n      <td>2</td>\n      <td>2</td>\n      <td>1</td>\n      <td>2</td>\n      <td>0.666667</td>\n    </tr>\n    <tr>\n      <th>770</th>\n      <td>Medical Center Hillcrest</td>\n      <td>P964</td>\n      <td>30 MIN V</td>\n      <td>1</td>\n      <td>1</td>\n      <td>1</td>\n      <td>1</td>\n      <td>0</td>\n      <td>1</td>\n      <td>1</td>\n      <td>1</td>\n      <td>1</td>\n      <td>1</td>\n      <td>1</td>\n      <td>0</td>\n      <td>1</td>\n      <td>1</td>\n    </tr>\n    <tr>\n      <th>771</th>\n      <td>Medical Center Hillcrest</td>\n      <td>P964</td>\n      <td>Accessible</td>\n      <td>11</td>\n      <td>0</td>\n      <td>0</td>\n      <td>1</td>\n      <td>1</td>\n      <td>1</td>\n      <td>0</td>\n      <td>1</td>\n      <td>2</td>\n      <td>0</td>\n      <td>4</td>\n      <td>0</td>\n      <td>11</td>\n      <td>1</td>\n    </tr>\n    <tr>\n      <th>772</th>\n      <td>Medical Center Hillcrest</td>\n      <td>P964</td>\n      <td>Total</td>\n      <td>104</td>\n      <td>37</td>\n      <td>34</td>\n      <td>29</td>\n      <td>22</td>\n      <td>34</td>\n      <td>30</td>\n      <td>37</td>\n      <td>48</td>\n      <td>47</td>\n      <td>75</td>\n      <td>22</td>\n      <td>82</td>\n      <td>0.788462</td>\n    </tr>\n  </tbody>\n</table>\n<p>773 rows × 17 columns</p>\n</div>"
          },
          "metadata": {}
        }
      ],
      "execution_count": 10,
      "block_group": "dfb6194acce04e8ca2f362608cab33b7"
    },
    {
      "cell_type": "code",
      "source": "",
      "metadata": {
        "source_hash": "b623e53d",
        "execution_start": 1695052980119,
        "execution_millis": 28,
        "deepnote_to_be_reexecuted": false,
        "cell_id": "157b67a555584a64b4e0ba60b689cf68",
        "deepnote_cell_type": "code"
      },
      "outputs": [],
      "execution_count": 8,
      "block_group": "bcaa1b45159747558e123dd15815859f"
    },
    {
      "cell_type": "code",
      "source": "",
      "metadata": {
        "cell_id": "30a0e925f16e410bb44d8981f60406b5",
        "deepnote_cell_type": "code"
      },
      "outputs": [],
      "execution_count": null,
      "block_group": "b5e230e7f43345cda87a201687638783"
    },
    {
      "cell_type": "markdown",
      "source": "<a style='text-decoration:none;line-height:16px;display:flex;color:#5B5B62;padding:10px;justify-content:end;' href='https://deepnote.com?utm_source=created-in-deepnote-cell&projectId=79f50031-d40f-43af-acaa-365d48045c9e' target=\"_blank\">\n<img alt='Created in deepnote.com' style='display:inline;max-height:16px;margin:0px;margin-right:7.5px;' src='data:image/svg+xml;base64,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' > </img>\nCreated in <span style='font-weight:600;margin-left:4px;'>Deepnote</span></a>",
      "metadata": {
        "created_in_deepnote_cell": true,
        "deepnote_cell_type": "markdown"
      }
    }
  ],
  "nbformat": 4,
  "nbformat_minor": 0,
  "metadata": {
    "deepnote": {},
    "orig_nbformat": 2,
    "deepnote_notebook_id": "7a87e516356b4a40b057953ad8b5d8a7",
    "deepnote_execution_queue": []
  }
}