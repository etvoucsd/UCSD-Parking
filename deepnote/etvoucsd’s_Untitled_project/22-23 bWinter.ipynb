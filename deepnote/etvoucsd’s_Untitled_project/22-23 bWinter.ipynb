{
  "cells": [
    {
      "cell_type": "code",
      "source": "import pandas as pd",
      "metadata": {
        "source_hash": null,
        "execution_start": 1694928445032,
        "execution_millis": 7,
        "deepnote_to_be_reexecuted": false,
        "cell_id": "0e681db6c6104538b4089ad5422bd1cb",
        "deepnote_cell_type": "code"
      },
      "outputs": [],
      "execution_count": null,
      "block_group": "0e681db6c6104538b4089ad5422bd1cb"
    },
    {
      "cell_type": "code",
      "source": "raw_data = pd.read_excel('/work/2022-2023/2022-2023-3 Winter.xlsx')",
      "metadata": {
        "source_hash": null,
        "execution_start": 1694928445073,
        "execution_millis": 665,
        "deepnote_to_be_reexecuted": false,
        "cell_id": "1200a6a029794d51a10d3962be965989",
        "deepnote_cell_type": "code"
      },
      "outputs": [],
      "execution_count": null,
      "block_group": "a88307b121834f4d98179a189b0b1e2e"
    },
    {
      "cell_type": "code",
      "source": "raw_data ",
      "metadata": {
        "source_hash": null,
        "execution_start": 1694928445748,
        "execution_millis": 356,
        "deepnote_to_be_reexecuted": false,
        "cell_id": "3d36e33ac8b94ad8a93efba1ddb31efa",
        "deepnote_cell_type": "code"
      },
      "outputs": [
        {
          "output_type": "execute_result",
          "execution_count": 3,
          "data": {
            "application/vnd.deepnote.dataframe.v3+json": {
              "column_count": 22,
              "row_count": 773,
              "columns": [
                {
                  "name": "Unnamed: 0",
                  "dtype": "float64",
                  "stats": {
                    "unique_count": 0,
                    "nan_count": 773,
                    "min": null,
                    "max": null,
                    "histogram": [
                      {
                        "bin_start": 0,
                        "bin_end": 0.1,
                        "count": 0
                      },
                      {
                        "bin_start": 0.1,
                        "bin_end": 0.2,
                        "count": 0
                      },
                      {
                        "bin_start": 0.2,
                        "bin_end": 0.30000000000000004,
                        "count": 0
                      },
                      {
                        "bin_start": 0.30000000000000004,
                        "bin_end": 0.4,
                        "count": 0
                      },
                      {
                        "bin_start": 0.4,
                        "bin_end": 0.5,
                        "count": 0
                      },
                      {
                        "bin_start": 0.5,
                        "bin_end": 0.6000000000000001,
                        "count": 0
                      },
                      {
                        "bin_start": 0.6000000000000001,
                        "bin_end": 0.7000000000000001,
                        "count": 0
                      },
                      {
                        "bin_start": 0.7000000000000001,
                        "bin_end": 0.8,
                        "count": 0
                      },
                      {
                        "bin_start": 0.8,
                        "bin_end": 0.9,
                        "count": 0
                      },
                      {
                        "bin_start": 0.9,
                        "bin_end": 1,
                        "count": 0
                      }
                    ]
                  }
                },
                {
                  "name": "University of California San Diego Survey of Parking Space Occupancy Levels, Winter 2023",
                  "dtype": "object",
                  "stats": {
                    "unique_count": 185,
                    "nan_count": 586,
                    "categories": [
                      {
                        "name": "Behind Keeling",
                        "count": 3
                      },
                      {
                        "name": "184 others",
                        "count": 184
                      },
                      {
                        "name": "Missing",
                        "count": 586
                      }
                    ]
                  }
                },
                {
                  "name": "Unnamed: 2",
                  "dtype": "object",
                  "stats": {
                    "unique_count": 3,
                    "nan_count": 186,
                    "categories": [
                      {
                        "name": "La Jolla Campus",
                        "count": 514
                      },
                      {
                        "name": "2 others",
                        "count": 73
                      },
                      {
                        "name": "Missing",
                        "count": 186
                      }
                    ]
                  }
                },
                {
                  "name": "Unnamed: 3",
                  "dtype": "object",
                  "stats": {
                    "unique_count": 5,
                    "nan_count": 186,
                    "categories": [
                      {
                        "name": "West Campus",
                        "count": 345
                      },
                      {
                        "name": "4 others",
                        "count": 242
                      },
                      {
                        "name": "Missing",
                        "count": 186
                      }
                    ]
                  }
                },
                {
                  "name": "Unnamed: 4",
                  "dtype": "object",
                  "stats": {
                    "unique_count": 20,
                    "nan_count": 186,
                    "categories": [
                      {
                        "name": "Health Sciences East",
                        "count": 95
                      },
                      {
                        "name": "19 others",
                        "count": 492
                      },
                      {
                        "name": "Missing",
                        "count": 186
                      }
                    ]
                  }
                },
                {
                  "name": "Unnamed: 5",
                  "dtype": "object",
                  "stats": {
                    "unique_count": 30,
                    "nan_count": 7,
                    "categories": [
                      {
                        "name": "Surface Lot",
                        "count": 353
                      },
                      {
                        "name": "29 others",
                        "count": 413
                      },
                      {
                        "name": "Missing",
                        "count": 7
                      }
                    ]
                  }
                },
                {
                  "name": "Unnamed: 6",
                  "dtype": "object",
                  "stats": {
                    "unique_count": 16,
                    "nan_count": 186,
                    "categories": [
                      {
                        "name": "Accessible",
                        "count": 111
                      },
                      {
                        "name": "15 others",
                        "count": 476
                      },
                      {
                        "name": "Missing",
                        "count": 186
                      }
                    ]
                  }
                },
                {
                  "name": "Unnamed: 7",
                  "dtype": "object",
                  "stats": {
                    "unique_count": 73,
                    "nan_count": 454,
                    "categories": [
                      {
                        "name": "                                                    Total",
                        "count": 182
                      },
                      {
                        "name": "72 others",
                        "count": 137
                      },
                      {
                        "name": "Missing",
                        "count": 454
                      }
                    ]
                  }
                },
                {
                  "name": "Unnamed: 8",
                  "dtype": "object",
                  "stats": {
                    "unique_count": 178,
                    "nan_count": 3,
                    "categories": [
                      {
                        "name": "2",
                        "count": 90
                      },
                      {
                        "name": "177 others",
                        "count": 680
                      },
                      {
                        "name": "Missing",
                        "count": 3
                      }
                    ]
                  }
                },
                {
                  "name": "Unnamed: 9",
                  "dtype": "object",
                  "stats": {
                    "unique_count": 123,
                    "nan_count": 3,
                    "categories": [
                      {
                        "name": "0",
                        "count": 152
                      },
                      {
                        "name": "122 others",
                        "count": 618
                      },
                      {
                        "name": "Missing",
                        "count": 3
                      }
                    ]
                  }
                },
                {
                  "name": "Unnamed: 10",
                  "dtype": "object",
                  "stats": {
                    "unique_count": 100,
                    "nan_count": 3,
                    "categories": [
                      {
                        "name": "0",
                        "count": 190
                      },
                      {
                        "name": "99 others",
                        "count": 580
                      },
                      {
                        "name": "Missing",
                        "count": 3
                      }
                    ]
                  }
                },
                {
                  "name": "Unnamed: 11",
                  "dtype": "object",
                  "stats": {
                    "unique_count": 86,
                    "nan_count": 3,
                    "categories": [
                      {
                        "name": "0",
                        "count": 260
                      },
                      {
                        "name": "85 others",
                        "count": 510
                      },
                      {
                        "name": "Missing",
                        "count": 3
                      }
                    ]
                  }
                },
                {
                  "name": "Unnamed: 12",
                  "dtype": "object",
                  "stats": {
                    "unique_count": 74,
                    "nan_count": 3,
                    "categories": [
                      {
                        "name": "0",
                        "count": 297
                      },
                      {
                        "name": "73 others",
                        "count": 473
                      },
                      {
                        "name": "Missing",
                        "count": 3
                      }
                    ]
                  }
                },
                {
                  "name": "Unnamed: 13",
                  "dtype": "object",
                  "stats": {
                    "unique_count": 70,
                    "nan_count": 3,
                    "categories": [
                      {
                        "name": "0",
                        "count": 273
                      },
                      {
                        "name": "69 others",
                        "count": 497
                      },
                      {
                        "name": "Missing",
                        "count": 3
                      }
                    ]
                  }
                },
                {
                  "name": "Unnamed: 14",
                  "dtype": "object",
                  "stats": {
                    "unique_count": 68,
                    "nan_count": 3,
                    "categories": [
                      {
                        "name": "0",
                        "count": 248
                      },
                      {
                        "name": "67 others",
                        "count": 522
                      },
                      {
                        "name": "Missing",
                        "count": 3
                      }
                    ]
                  }
                },
                {
                  "name": "Unnamed: 15",
                  "dtype": "object",
                  "stats": {
                    "unique_count": 74,
                    "nan_count": 3,
                    "categories": [
                      {
                        "name": "0",
                        "count": 219
                      },
                      {
                        "name": "73 others",
                        "count": 551
                      },
                      {
                        "name": "Missing",
                        "count": 3
                      }
                    ]
                  }
                },
                {
                  "name": "Unnamed: 16",
                  "dtype": "object",
                  "stats": {
                    "unique_count": 77,
                    "nan_count": 3,
                    "categories": [
                      {
                        "name": "0",
                        "count": 167
                      },
                      {
                        "name": "76 others",
                        "count": 603
                      },
                      {
                        "name": "Missing",
                        "count": 3
                      }
                    ]
                  }
                },
                {
                  "name": "Unnamed: 17",
                  "dtype": "object",
                  "stats": {
                    "unique_count": 96,
                    "nan_count": 3,
                    "categories": [
                      {
                        "name": "1",
                        "count": 126
                      },
                      {
                        "name": "95 others",
                        "count": 644
                      },
                      {
                        "name": "Missing",
                        "count": 3
                      }
                    ]
                  }
                },
                {
                  "name": "Unnamed: 18",
                  "dtype": "object",
                  "stats": {
                    "unique_count": 111,
                    "nan_count": 3,
                    "categories": [
                      {
                        "name": "1",
                        "count": 111
                      },
                      {
                        "name": "110 others",
                        "count": 659
                      },
                      {
                        "name": "Missing",
                        "count": 3
                      }
                    ]
                  }
                },
                {
                  "name": "Unnamed: 19",
                  "dtype": "object",
                  "stats": {
                    "unique_count": 64,
                    "nan_count": 3,
                    "categories": [
                      {
                        "name": "0",
                        "count": 400
                      },
                      {
                        "name": "63 others",
                        "count": 370
                      },
                      {
                        "name": "Missing",
                        "count": 3
                      }
                    ]
                  }
                },
                {
                  "name": "Unnamed: 20",
                  "dtype": "object",
                  "stats": {
                    "unique_count": 172,
                    "nan_count": 2,
                    "categories": [
                      {
                        "name": "1",
                        "count": 98
                      },
                      {
                        "name": "171 others",
                        "count": 673
                      },
                      {
                        "name": "Missing",
                        "count": 2
                      }
                    ]
                  }
                },
                {
                  "name": "Unnamed: 21",
                  "dtype": "object",
                  "stats": {
                    "unique_count": 76,
                    "nan_count": 3,
                    "categories": [
                      {
                        "name": "1",
                        "count": 402
                      },
                      {
                        "name": "75 others",
                        "count": 368
                      },
                      {
                        "name": "Missing",
                        "count": 3
                      }
                    ]
                  }
                },
                {
                  "name": "_deepnote_index_column",
                  "dtype": "int64"
                }
              ],
              "rows": [
                {
                  "Unnamed: 0": "nan",
                  "University of California San Diego Survey of Parking Space Occupancy Levels, Winter 2023": "By Lot",
                  "Unnamed: 2": "nan",
                  "Unnamed: 3": "nan",
                  "Unnamed: 4": "nan",
                  "Unnamed: 5": "nan",
                  "Unnamed: 6": "nan",
                  "Unnamed: 7": "nan",
                  "Unnamed: 8": "nan",
                  "Unnamed: 9": "nan",
                  "Unnamed: 10": "nan",
                  "Unnamed: 11": "nan",
                  "Unnamed: 12": "nan",
                  "Unnamed: 13": "nan",
                  "Unnamed: 14": "nan",
                  "Unnamed: 15": "nan",
                  "Unnamed: 16": "nan",
                  "Unnamed: 17": "nan",
                  "Unnamed: 18": "nan",
                  "Unnamed: 19": "nan",
                  "Unnamed: 20": "nan",
                  "Unnamed: 21": "nan",
                  "_deepnote_index_column": 0
                },
                {
                  "Unnamed: 0": "nan",
                  "University of California San Diego Survey of Parking Space Occupancy Levels, Winter 2023": "nan",
                  "Unnamed: 2": "nan",
                  "Unnamed: 3": "nan",
                  "Unnamed: 4": "nan",
                  "Unnamed: 5": "nan",
                  "Unnamed: 6": "nan",
                  "Unnamed: 7": "nan",
                  "Unnamed: 8": "nan",
                  "Unnamed: 9": "nan",
                  "Unnamed: 10": "nan",
                  "Unnamed: 11": "nan",
                  "Unnamed: 12": "nan",
                  "Unnamed: 13": "nan",
                  "Unnamed: 14": "nan",
                  "Unnamed: 15": "nan",
                  "Unnamed: 16": "nan",
                  "Unnamed: 17": "nan",
                  "Unnamed: 18": "nan",
                  "Unnamed: 19": "nan",
                  "Unnamed: 20": "nan",
                  "Unnamed: 21": "nan",
                  "_deepnote_index_column": 1
                },
                {
                  "Unnamed: 0": "nan",
                  "University of California San Diego Survey of Parking Space Occupancy Levels, Winter 2023": "nan",
                  "Unnamed: 2": "nan",
                  "Unnamed: 3": "nan",
                  "Unnamed: 4": "nan",
                  "Unnamed: 5": "nan",
                  "Unnamed: 6": "nan",
                  "Unnamed: 7": "nan",
                  "Unnamed: 8": "nan",
                  "Unnamed: 9": "nan",
                  "Unnamed: 10": "nan",
                  "Unnamed: 11": "nan",
                  "Unnamed: 12": "nan",
                  "Unnamed: 13": "nan",
                  "Unnamed: 14": "nan",
                  "Unnamed: 15": "nan",
                  "Unnamed: 16": "nan",
                  "Unnamed: 17": "nan",
                  "Unnamed: 18": "nan",
                  "Unnamed: 19": "nan",
                  "Unnamed: 20": "At Peak",
                  "Unnamed: 21": "nan",
                  "_deepnote_index_column": 2
                },
                {
                  "Unnamed: 0": "nan",
                  "University of California San Diego Survey of Parking Space Occupancy Levels, Winter 2023": "Lot Number ",
                  "Unnamed: 2": "Location ",
                  "Unnamed: 3": "Area ",
                  "Unnamed: 4": "Neighborhood ",
                  "Unnamed: 5": "Structure ",
                  "Unnamed: 6": "Space Type ",
                  "Unnamed: 7": "Space Subtype ",
                  "Unnamed: 8": "Parking Spaces",
                  "Unnamed: 9": "8am",
                  "Unnamed: 10": "9am",
                  "Unnamed: 11": "10am",
                  "Unnamed: 12": "11am",
                  "Unnamed: 13": "12pm",
                  "Unnamed: 14": "1pm",
                  "Unnamed: 15": "2pm",
                  "Unnamed: 16": "3pm",
                  "Unnamed: 17": "4pm",
                  "Unnamed: 18": "5pm",
                  "Unnamed: 19": "Empty Spaces",
                  "Unnamed: 20": "Occupied Spaces",
                  "Unnamed: 21": "% Occupied",
                  "_deepnote_index_column": 3
                },
                {
                  "Unnamed: 0": "nan",
                  "University of California San Diego Survey of Parking Space Occupancy Levels, Winter 2023": "Behind Keeling",
                  "Unnamed: 2": "La Jolla Campus",
                  "Unnamed: 3": "West Campus",
                  "Unnamed: 4": "Revelle College ",
                  "Unnamed: 5": "nan",
                  "Unnamed: 6": "Accessible",
                  "Unnamed: 7": "nan",
                  "Unnamed: 8": "2",
                  "Unnamed: 9": "0",
                  "Unnamed: 10": "0",
                  "Unnamed: 11": "0",
                  "Unnamed: 12": "0",
                  "Unnamed: 13": "0",
                  "Unnamed: 14": "0",
                  "Unnamed: 15": "0",
                  "Unnamed: 16": "0",
                  "Unnamed: 17": "0",
                  "Unnamed: 18": "0",
                  "Unnamed: 19": "0",
                  "Unnamed: 20": "2",
                  "Unnamed: 21": "1",
                  "_deepnote_index_column": 4
                },
                {
                  "Unnamed: 0": "nan",
                  "University of California San Diego Survey of Parking Space Occupancy Levels, Winter 2023": "Behind Keeling",
                  "Unnamed: 2": "La Jolla Campus",
                  "Unnamed: 3": "West Campus",
                  "Unnamed: 4": "Revelle College ",
                  "Unnamed: 5": "nan",
                  "Unnamed: 6": "Loading",
                  "Unnamed: 7": "Curb",
                  "Unnamed: 8": "10",
                  "Unnamed: 9": "5",
                  "Unnamed: 10": "2",
                  "Unnamed: 11": "1",
                  "Unnamed: 12": "0",
                  "Unnamed: 13": "0",
                  "Unnamed: 14": "0",
                  "Unnamed: 15": "0",
                  "Unnamed: 16": "1",
                  "Unnamed: 17": "0",
                  "Unnamed: 18": "3",
                  "Unnamed: 19": "0",
                  "Unnamed: 20": "10",
                  "Unnamed: 21": "1",
                  "_deepnote_index_column": 5
                },
                {
                  "Unnamed: 0": "nan",
                  "University of California San Diego Survey of Parking Space Occupancy Levels, Winter 2023": "Behind Keeling",
                  "Unnamed: 2": "La Jolla Campus",
                  "Unnamed: 3": "West Campus",
                  "Unnamed: 4": "Revelle College ",
                  "Unnamed: 5": "nan",
                  "Unnamed: 6": "Reserved",
                  "Unnamed: 7": "nan",
                  "Unnamed: 8": "6",
                  "Unnamed: 9": "1",
                  "Unnamed: 10": "3",
                  "Unnamed: 11": "1",
                  "Unnamed: 12": "2",
                  "Unnamed: 13": "2",
                  "Unnamed: 14": "1",
                  "Unnamed: 15": "2",
                  "Unnamed: 16": "0",
                  "Unnamed: 17": "1",
                  "Unnamed: 18": "1",
                  "Unnamed: 19": "0",
                  "Unnamed: 20": "6",
                  "Unnamed: 21": "1",
                  "_deepnote_index_column": 6
                },
                {
                  "Unnamed: 0": "nan",
                  "University of California San Diego Survey of Parking Space Occupancy Levels, Winter 2023": "nan",
                  "Unnamed: 2": "nan",
                  "Unnamed: 3": "nan",
                  "Unnamed: 4": "nan",
                  "Unnamed: 5": " Total",
                  "Unnamed: 6": "nan",
                  "Unnamed: 7": "                                                    Total",
                  "Unnamed: 8": "18",
                  "Unnamed: 9": "6",
                  "Unnamed: 10": "5",
                  "Unnamed: 11": "2",
                  "Unnamed: 12": "2",
                  "Unnamed: 13": "2",
                  "Unnamed: 14": "1",
                  "Unnamed: 15": "2",
                  "Unnamed: 16": "1",
                  "Unnamed: 17": "1",
                  "Unnamed: 18": "4",
                  "Unnamed: 19": "1",
                  "Unnamed: 20": "17",
                  "Unnamed: 21": "0.94",
                  "_deepnote_index_column": 7
                },
                {
                  "Unnamed: 0": "nan",
                  "University of California San Diego Survey of Parking Space Occupancy Levels, Winter 2023": "1",
                  "Unnamed: 2": "La Jolla Campus",
                  "Unnamed: 3": "Scripps Institution of Oceanography",
                  "Unnamed: 4": "Scripps Institution of Oceanography",
                  "Unnamed: 5": "Surface Lot",
                  "Unnamed: 6": "Accessible",
                  "Unnamed: 7": "nan",
                  "Unnamed: 8": "1",
                  "Unnamed: 9": "0",
                  "Unnamed: 10": "0",
                  "Unnamed: 11": "0",
                  "Unnamed: 12": "1",
                  "Unnamed: 13": "0",
                  "Unnamed: 14": "1",
                  "Unnamed: 15": "1",
                  "Unnamed: 16": "1",
                  "Unnamed: 17": "1",
                  "Unnamed: 18": "1",
                  "Unnamed: 19": "0",
                  "Unnamed: 20": "1",
                  "Unnamed: 21": "1",
                  "_deepnote_index_column": 8
                },
                {
                  "Unnamed: 0": "nan",
                  "University of California San Diego Survey of Parking Space Occupancy Levels, Winter 2023": "nan",
                  "Unnamed: 2": "La Jolla Campus",
                  "Unnamed: 3": "Scripps Institution of Oceanography",
                  "Unnamed: 4": "Scripps Institution of Oceanography",
                  "Unnamed: 5": "Surface Lot",
                  "Unnamed: 6": "B",
                  "Unnamed: 7": "Scripps Institution of Oceanography",
                  "Unnamed: 8": "4",
                  "Unnamed: 9": "1",
                  "Unnamed: 10": "0",
                  "Unnamed: 11": "0",
                  "Unnamed: 12": "0",
                  "Unnamed: 13": "0",
                  "Unnamed: 14": "0",
                  "Unnamed: 15": "0",
                  "Unnamed: 16": "0",
                  "Unnamed: 17": "2",
                  "Unnamed: 18": "4",
                  "Unnamed: 19": "0",
                  "Unnamed: 20": "4",
                  "Unnamed: 21": "1",
                  "_deepnote_index_column": 9
                }
              ]
            },
            "text/plain": "     Unnamed: 0  \\\n0           NaN   \n1           NaN   \n2           NaN   \n3           NaN   \n4           NaN   \n..          ...   \n768         NaN   \n769         NaN   \n770         NaN   \n771         NaN   \n772         NaN   \n\n    University of California San Diego Survey of Parking Space Occupancy Levels, Winter 2023  \\\n0                                               By Lot                                         \n1                                                  NaN                                         \n2                                                  NaN                                         \n3                                          Lot Number                                          \n4                                       Behind Keeling                                         \n..                                                 ...                                         \n768                                                NaN                                         \n769                                                NaN                                         \n770                                                NaN                                         \n771                                                NaN                                         \n772                                        Grand Total                                         \n\n                   Unnamed: 2                Unnamed: 3  \\\n0                         NaN                       NaN   \n1                         NaN                       NaN   \n2                         NaN                       NaN   \n3                   Location                      Area    \n4             La Jolla Campus               West Campus   \n..                        ...                       ...   \n768  Medical Center Hillcrest  Medical Center Hillcrest   \n769  Medical Center Hillcrest  Medical Center Hillcrest   \n770  Medical Center Hillcrest  Medical Center Hillcrest   \n771                       NaN                       NaN   \n772                       NaN                       NaN   \n\n                   Unnamed: 4         Unnamed: 5   Unnamed: 6  \\\n0                         NaN                NaN          NaN   \n1                         NaN                NaN          NaN   \n2                         NaN                NaN          NaN   \n3               Neighborhood          Structure   Space Type    \n4            Revelle College                 NaN   Accessible   \n..                        ...                ...          ...   \n768  Medical Center Hillcrest        Surface Lot    Allocated   \n769  Medical Center Hillcrest        Surface Lot      Carpool   \n770  Medical Center Hillcrest        Surface Lot      Visitor   \n771                       NaN  Surface Lot Total          NaN   \n772                       NaN                NaN          NaN   \n\n                                            Unnamed: 7      Unnamed: 8  \\\n0                                                  NaN             NaN   \n1                                                  NaN             NaN   \n2                                                  NaN             NaN   \n3                                       Space Subtype   Parking Spaces   \n4                                                  NaN               2   \n..                                                 ...             ...   \n768                                           Security               3   \n769                                   Electric Vehicle              53   \n770                           Patient/Visitor Reserved               1   \n771                                                ...              84   \n772                                                NaN           18926   \n\n    Unnamed: 9  ... Unnamed: 12 Unnamed: 13 Unnamed: 14 Unnamed: 15  \\\n0          NaN  ...         NaN         NaN         NaN         NaN   \n1          NaN  ...         NaN         NaN         NaN         NaN   \n2          NaN  ...         NaN         NaN         NaN         NaN   \n3          8am  ...        11am        12pm         1pm         2pm   \n4            0  ...           0           0           0           0   \n..         ...  ...         ...         ...         ...         ...   \n768          1  ...           3           2           2           2   \n769         20  ...           0           0           1           6   \n770          1  ...           0           0           0           0   \n771         35  ...           6           8           9          11   \n772       9331  ...        4069        3903        3961        4076   \n\n    Unnamed: 16 Unnamed: 17 Unnamed: 18   Unnamed: 19      Unnamed: 20  \\\n0           NaN         NaN         NaN           NaN              NaN   \n1           NaN         NaN         NaN           NaN              NaN   \n2           NaN         NaN         NaN           NaN          At Peak   \n3           3pm         4pm         5pm  Empty Spaces  Occupied Spaces   \n4             0           0           0             0                2   \n..          ...         ...         ...           ...              ...   \n768           2           2           2             1                2   \n769          13           9          31             0               53   \n770           1           1           1             0                1   \n771          26          21          51             6               78   \n772        4882        6876        8713          3903            15023   \n\n    Unnamed: 21  \n0           NaN  \n1           NaN  \n2           NaN  \n3    % Occupied  \n4             1  \n..          ...  \n768        0.67  \n769           1  \n770           1  \n771        0.93  \n772        0.79  \n\n[773 rows x 22 columns]",
            "text/html": "<div>\n<style scoped>\n    .dataframe tbody tr th:only-of-type {\n        vertical-align: middle;\n    }\n\n    .dataframe tbody tr th {\n        vertical-align: top;\n    }\n\n    .dataframe thead th {\n        text-align: right;\n    }\n</style>\n<table border=\"1\" class=\"dataframe\">\n  <thead>\n    <tr style=\"text-align: right;\">\n      <th></th>\n      <th>Unnamed: 0</th>\n      <th>University of California San Diego Survey of Parking Space Occupancy Levels, Winter 2023</th>\n      <th>Unnamed: 2</th>\n      <th>Unnamed: 3</th>\n      <th>Unnamed: 4</th>\n      <th>Unnamed: 5</th>\n      <th>Unnamed: 6</th>\n      <th>Unnamed: 7</th>\n      <th>Unnamed: 8</th>\n      <th>Unnamed: 9</th>\n      <th>...</th>\n      <th>Unnamed: 12</th>\n      <th>Unnamed: 13</th>\n      <th>Unnamed: 14</th>\n      <th>Unnamed: 15</th>\n      <th>Unnamed: 16</th>\n      <th>Unnamed: 17</th>\n      <th>Unnamed: 18</th>\n      <th>Unnamed: 19</th>\n      <th>Unnamed: 20</th>\n      <th>Unnamed: 21</th>\n    </tr>\n  </thead>\n  <tbody>\n    <tr>\n      <th>0</th>\n      <td>NaN</td>\n      <td>By Lot</td>\n      <td>NaN</td>\n      <td>NaN</td>\n      <td>NaN</td>\n      <td>NaN</td>\n      <td>NaN</td>\n      <td>NaN</td>\n      <td>NaN</td>\n      <td>NaN</td>\n      <td>...</td>\n      <td>NaN</td>\n      <td>NaN</td>\n      <td>NaN</td>\n      <td>NaN</td>\n      <td>NaN</td>\n      <td>NaN</td>\n      <td>NaN</td>\n      <td>NaN</td>\n      <td>NaN</td>\n      <td>NaN</td>\n    </tr>\n    <tr>\n      <th>1</th>\n      <td>NaN</td>\n      <td>NaN</td>\n      <td>NaN</td>\n      <td>NaN</td>\n      <td>NaN</td>\n      <td>NaN</td>\n      <td>NaN</td>\n      <td>NaN</td>\n      <td>NaN</td>\n      <td>NaN</td>\n      <td>...</td>\n      <td>NaN</td>\n      <td>NaN</td>\n      <td>NaN</td>\n      <td>NaN</td>\n      <td>NaN</td>\n      <td>NaN</td>\n      <td>NaN</td>\n      <td>NaN</td>\n      <td>NaN</td>\n      <td>NaN</td>\n    </tr>\n    <tr>\n      <th>2</th>\n      <td>NaN</td>\n      <td>NaN</td>\n      <td>NaN</td>\n      <td>NaN</td>\n      <td>NaN</td>\n      <td>NaN</td>\n      <td>NaN</td>\n      <td>NaN</td>\n      <td>NaN</td>\n      <td>NaN</td>\n      <td>...</td>\n      <td>NaN</td>\n      <td>NaN</td>\n      <td>NaN</td>\n      <td>NaN</td>\n      <td>NaN</td>\n      <td>NaN</td>\n      <td>NaN</td>\n      <td>NaN</td>\n      <td>At Peak</td>\n      <td>NaN</td>\n    </tr>\n    <tr>\n      <th>3</th>\n      <td>NaN</td>\n      <td>Lot Number</td>\n      <td>Location</td>\n      <td>Area</td>\n      <td>Neighborhood</td>\n      <td>Structure</td>\n      <td>Space Type</td>\n      <td>Space Subtype</td>\n      <td>Parking Spaces</td>\n      <td>8am</td>\n      <td>...</td>\n      <td>11am</td>\n      <td>12pm</td>\n      <td>1pm</td>\n      <td>2pm</td>\n      <td>3pm</td>\n      <td>4pm</td>\n      <td>5pm</td>\n      <td>Empty Spaces</td>\n      <td>Occupied Spaces</td>\n      <td>% Occupied</td>\n    </tr>\n    <tr>\n      <th>4</th>\n      <td>NaN</td>\n      <td>Behind Keeling</td>\n      <td>La Jolla Campus</td>\n      <td>West Campus</td>\n      <td>Revelle College</td>\n      <td>NaN</td>\n      <td>Accessible</td>\n      <td>NaN</td>\n      <td>2</td>\n      <td>0</td>\n      <td>...</td>\n      <td>0</td>\n      <td>0</td>\n      <td>0</td>\n      <td>0</td>\n      <td>0</td>\n      <td>0</td>\n      <td>0</td>\n      <td>0</td>\n      <td>2</td>\n      <td>1</td>\n    </tr>\n    <tr>\n      <th>...</th>\n      <td>...</td>\n      <td>...</td>\n      <td>...</td>\n      <td>...</td>\n      <td>...</td>\n      <td>...</td>\n      <td>...</td>\n      <td>...</td>\n      <td>...</td>\n      <td>...</td>\n      <td>...</td>\n      <td>...</td>\n      <td>...</td>\n      <td>...</td>\n      <td>...</td>\n      <td>...</td>\n      <td>...</td>\n      <td>...</td>\n      <td>...</td>\n      <td>...</td>\n      <td>...</td>\n    </tr>\n    <tr>\n      <th>768</th>\n      <td>NaN</td>\n      <td>NaN</td>\n      <td>Medical Center Hillcrest</td>\n      <td>Medical Center Hillcrest</td>\n      <td>Medical Center Hillcrest</td>\n      <td>Surface Lot</td>\n      <td>Allocated</td>\n      <td>Security</td>\n      <td>3</td>\n      <td>1</td>\n      <td>...</td>\n      <td>3</td>\n      <td>2</td>\n      <td>2</td>\n      <td>2</td>\n      <td>2</td>\n      <td>2</td>\n      <td>2</td>\n      <td>1</td>\n      <td>2</td>\n      <td>0.67</td>\n    </tr>\n    <tr>\n      <th>769</th>\n      <td>NaN</td>\n      <td>NaN</td>\n      <td>Medical Center Hillcrest</td>\n      <td>Medical Center Hillcrest</td>\n      <td>Medical Center Hillcrest</td>\n      <td>Surface Lot</td>\n      <td>Carpool</td>\n      <td>Electric Vehicle</td>\n      <td>53</td>\n      <td>20</td>\n      <td>...</td>\n      <td>0</td>\n      <td>0</td>\n      <td>1</td>\n      <td>6</td>\n      <td>13</td>\n      <td>9</td>\n      <td>31</td>\n      <td>0</td>\n      <td>53</td>\n      <td>1</td>\n    </tr>\n    <tr>\n      <th>770</th>\n      <td>NaN</td>\n      <td>NaN</td>\n      <td>Medical Center Hillcrest</td>\n      <td>Medical Center Hillcrest</td>\n      <td>Medical Center Hillcrest</td>\n      <td>Surface Lot</td>\n      <td>Visitor</td>\n      <td>Patient/Visitor Reserved</td>\n      <td>1</td>\n      <td>1</td>\n      <td>...</td>\n      <td>0</td>\n      <td>0</td>\n      <td>0</td>\n      <td>0</td>\n      <td>1</td>\n      <td>1</td>\n      <td>1</td>\n      <td>0</td>\n      <td>1</td>\n      <td>1</td>\n    </tr>\n    <tr>\n      <th>771</th>\n      <td>NaN</td>\n      <td>NaN</td>\n      <td>NaN</td>\n      <td>NaN</td>\n      <td>NaN</td>\n      <td>Surface Lot Total</td>\n      <td>NaN</td>\n      <td>...</td>\n      <td>84</td>\n      <td>35</td>\n      <td>...</td>\n      <td>6</td>\n      <td>8</td>\n      <td>9</td>\n      <td>11</td>\n      <td>26</td>\n      <td>21</td>\n      <td>51</td>\n      <td>6</td>\n      <td>78</td>\n      <td>0.93</td>\n    </tr>\n    <tr>\n      <th>772</th>\n      <td>NaN</td>\n      <td>Grand Total</td>\n      <td>NaN</td>\n      <td>NaN</td>\n      <td>NaN</td>\n      <td>NaN</td>\n      <td>NaN</td>\n      <td>NaN</td>\n      <td>18926</td>\n      <td>9331</td>\n      <td>...</td>\n      <td>4069</td>\n      <td>3903</td>\n      <td>3961</td>\n      <td>4076</td>\n      <td>4882</td>\n      <td>6876</td>\n      <td>8713</td>\n      <td>3903</td>\n      <td>15023</td>\n      <td>0.79</td>\n    </tr>\n  </tbody>\n</table>\n<p>773 rows × 22 columns</p>\n</div>"
          },
          "metadata": {}
        }
      ],
      "execution_count": null,
      "block_group": "2e3c951fe7014b7097f49e5c5745b501"
    },
    {
      "cell_type": "markdown",
      "source": "<a style='text-decoration:none;line-height:16px;display:flex;color:#5B5B62;padding:10px;justify-content:end;' href='https://deepnote.com?utm_source=created-in-deepnote-cell&projectId=79f50031-d40f-43af-acaa-365d48045c9e' target=\"_blank\">\n<img alt='Created in deepnote.com' style='display:inline;max-height:16px;margin:0px;margin-right:7.5px;' src='data:image/svg+xml;base64,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' > </img>\nCreated in <span style='font-weight:600;margin-left:4px;'>Deepnote</span></a>",
      "metadata": {
        "created_in_deepnote_cell": true,
        "deepnote_cell_type": "markdown"
      }
    }
  ],
  "nbformat": 4,
  "nbformat_minor": 0,
  "metadata": {
    "deepnote": {},
    "orig_nbformat": 2,
    "deepnote_notebook_id": "56f84165e2084bd6a3a5703faa42a8be",
    "deepnote_persisted_session": {
      "createdAt": "2023-09-17T06:16:07.133Z"
    },
    "deepnote_execution_queue": []
  }
}