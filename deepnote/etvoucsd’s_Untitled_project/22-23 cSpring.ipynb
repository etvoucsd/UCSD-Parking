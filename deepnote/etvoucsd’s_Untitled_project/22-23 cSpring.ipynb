{
  "cells": [
    {
      "cell_type": "code",
      "source": "import pandas as pd",
      "metadata": {
        "source_hash": "9b82ee11",
        "execution_start": 1694928509637,
        "execution_millis": 7,
        "deepnote_to_be_reexecuted": false,
        "cell_id": "8fc7aa9bf2ad4f1c8f4e0a86820a661e",
        "deepnote_cell_type": "code"
      },
      "outputs": [],
      "execution_count": 1,
      "block_group": "8fc7aa9bf2ad4f1c8f4e0a86820a661e"
    },
    {
      "cell_type": "code",
      "source": "raw_data = pd.read_excel('/work/2022-2023/2022-2023-4 Spring.xlsx')",
      "metadata": {
        "source_hash": "b611b112",
        "execution_start": 1694928509642,
        "execution_millis": 703,
        "deepnote_to_be_reexecuted": false,
        "cell_id": "5213dc1f56d64661852807f9795bc055",
        "deepnote_cell_type": "code"
      },
      "outputs": [],
      "execution_count": 2,
      "block_group": "c4635fd3aafd4f379d44148257779f73"
    },
    {
      "cell_type": "code",
      "source": "raw_data",
      "metadata": {
        "source_hash": "b5c45783",
        "execution_start": 1694928510331,
        "execution_millis": 517,
        "deepnote_to_be_reexecuted": false,
        "cell_id": "75328ef961204de1b2493c9bb663847d",
        "deepnote_cell_type": "code"
      },
      "outputs": [
        {
          "output_type": "execute_result",
          "execution_count": 3,
          "data": {
            "application/vnd.deepnote.dataframe.v3+json": {
              "column_count": 25,
              "row_count": 38,
              "columns": [
                {
                  "name": "Unnamed: 0",
                  "dtype": "float64",
                  "stats": {
                    "unique_count": 0,
                    "nan_count": 38,
                    "min": null,
                    "max": null,
                    "histogram": [
                      {
                        "bin_start": 0,
                        "bin_end": 0.1,
                        "count": 0
                      },
                      {
                        "bin_start": 0.1,
                        "bin_end": 0.2,
                        "count": 0
                      },
                      {
                        "bin_start": 0.2,
                        "bin_end": 0.30000000000000004,
                        "count": 0
                      },
                      {
                        "bin_start": 0.30000000000000004,
                        "bin_end": 0.4,
                        "count": 0
                      },
                      {
                        "bin_start": 0.4,
                        "bin_end": 0.5,
                        "count": 0
                      },
                      {
                        "bin_start": 0.5,
                        "bin_end": 0.6000000000000001,
                        "count": 0
                      },
                      {
                        "bin_start": 0.6000000000000001,
                        "bin_end": 0.7000000000000001,
                        "count": 0
                      },
                      {
                        "bin_start": 0.7000000000000001,
                        "bin_end": 0.8,
                        "count": 0
                      },
                      {
                        "bin_start": 0.8,
                        "bin_end": 0.9,
                        "count": 0
                      },
                      {
                        "bin_start": 0.9,
                        "bin_end": 1,
                        "count": 0
                      }
                    ]
                  }
                },
                {
                  "name": "Unnamed: 1",
                  "dtype": "object",
                  "stats": {
                    "unique_count": 28,
                    "nan_count": 10,
                    "categories": [
                      {
                        "name": "Location",
                        "count": 1
                      },
                      {
                        "name": "27 others",
                        "count": 27
                      },
                      {
                        "name": "Missing",
                        "count": 10
                      }
                    ]
                  }
                },
                {
                  "name": "Unnamed: 2",
                  "dtype": "float64",
                  "stats": {
                    "unique_count": 0,
                    "nan_count": 38,
                    "min": null,
                    "max": null,
                    "histogram": [
                      {
                        "bin_start": 0,
                        "bin_end": 0.1,
                        "count": 0
                      },
                      {
                        "bin_start": 0.1,
                        "bin_end": 0.2,
                        "count": 0
                      },
                      {
                        "bin_start": 0.2,
                        "bin_end": 0.30000000000000004,
                        "count": 0
                      },
                      {
                        "bin_start": 0.30000000000000004,
                        "bin_end": 0.4,
                        "count": 0
                      },
                      {
                        "bin_start": 0.4,
                        "bin_end": 0.5,
                        "count": 0
                      },
                      {
                        "bin_start": 0.5,
                        "bin_end": 0.6000000000000001,
                        "count": 0
                      },
                      {
                        "bin_start": 0.6000000000000001,
                        "bin_end": 0.7000000000000001,
                        "count": 0
                      },
                      {
                        "bin_start": 0.7000000000000001,
                        "bin_end": 0.8,
                        "count": 0
                      },
                      {
                        "bin_start": 0.8,
                        "bin_end": 0.9,
                        "count": 0
                      },
                      {
                        "bin_start": 0.9,
                        "bin_end": 1,
                        "count": 0
                      }
                    ]
                  }
                },
                {
                  "name": "Unnamed: 3",
                  "dtype": "object",
                  "stats": {
                    "unique_count": 16,
                    "nan_count": 22,
                    "categories": [
                      {
                        "name": "Location",
                        "count": 1
                      },
                      {
                        "name": "15 others",
                        "count": 15
                      },
                      {
                        "name": "Missing",
                        "count": 22
                      }
                    ]
                  }
                },
                {
                  "name": "Unnamed: 4",
                  "dtype": "object",
                  "stats": {
                    "unique_count": 12,
                    "nan_count": 26,
                    "categories": [
                      {
                        "name": "Muir",
                        "count": 1
                      },
                      {
                        "name": "11 others",
                        "count": 11
                      },
                      {
                        "name": "Missing",
                        "count": 26
                      }
                    ]
                  }
                },
                {
                  "name": "Unnamed: 5",
                  "dtype": "object",
                  "stats": {
                    "unique_count": 4,
                    "nan_count": 34,
                    "categories": [
                      {
                        "name": "N. Torrey Pines",
                        "count": 1
                      },
                      {
                        "name": "3 others",
                        "count": 3
                      },
                      {
                        "name": "Missing",
                        "count": 34
                      }
                    ]
                  }
                },
                {
                  "name": "Unnamed: 6",
                  "dtype": "object",
                  "stats": {
                    "unique_count": 8,
                    "nan_count": 30,
                    "categories": [
                      {
                        "name": "Marshall",
                        "count": 1
                      },
                      {
                        "name": "7 others",
                        "count": 7
                      },
                      {
                        "name": "Missing",
                        "count": 30
                      }
                    ]
                  }
                },
                {
                  "name": "Unnamed: 7",
                  "dtype": "object",
                  "stats": {
                    "unique_count": 9,
                    "nan_count": 29,
                    "categories": [
                      {
                        "name": "Roosevelt",
                        "count": 1
                      },
                      {
                        "name": "8 others",
                        "count": 8
                      },
                      {
                        "name": "Missing",
                        "count": 29
                      }
                    ]
                  }
                },
                {
                  "name": "Unnamed: 8",
                  "dtype": "object",
                  "stats": {
                    "unique_count": 7,
                    "nan_count": 31,
                    "categories": [
                      {
                        "name": "North",
                        "count": 1
                      },
                      {
                        "name": "6 others",
                        "count": 6
                      },
                      {
                        "name": "Missing",
                        "count": 31
                      }
                    ]
                  }
                },
                {
                  "name": "Unnamed: 9",
                  "dtype": "object",
                  "stats": {
                    "unique_count": 9,
                    "nan_count": 29,
                    "categories": [
                      {
                        "name": "Torrey Pines",
                        "count": 1
                      },
                      {
                        "name": "8 others",
                        "count": 8
                      },
                      {
                        "name": "Missing",
                        "count": 29
                      }
                    ]
                  }
                },
                {
                  "name": "Unnamed: 10",
                  "dtype": "object",
                  "stats": {
                    "unique_count": 6,
                    "nan_count": 32,
                    "categories": [
                      {
                        "name": "Pepper ",
                        "count": 1
                      },
                      {
                        "name": "5 others",
                        "count": 5
                      },
                      {
                        "name": "Missing",
                        "count": 32
                      }
                    ]
                  }
                },
                {
                  "name": "Unnamed: 11",
                  "dtype": "object",
                  "stats": {
                    "unique_count": 12,
                    "nan_count": 26,
                    "categories": [
                      {
                        "name": "University",
                        "count": 1
                      },
                      {
                        "name": "11 others",
                        "count": 11
                      },
                      {
                        "name": "Missing",
                        "count": 26
                      }
                    ]
                  }
                },
                {
                  "name": "Unnamed: 12",
                  "dtype": "object",
                  "stats": {
                    "unique_count": 9,
                    "nan_count": 29,
                    "categories": [
                      {
                        "name": "Warren",
                        "count": 1
                      },
                      {
                        "name": "8 others",
                        "count": 8
                      },
                      {
                        "name": "Missing",
                        "count": 29
                      }
                    ]
                  }
                },
                {
                  "name": "Unnamed: 13",
                  "dtype": "object",
                  "stats": {
                    "unique_count": 5,
                    "nan_count": 33,
                    "categories": [
                      {
                        "name": "Campus",
                        "count": 1
                      },
                      {
                        "name": "4 others",
                        "count": 4
                      },
                      {
                        "name": "Missing",
                        "count": 33
                      }
                    ]
                  }
                },
                {
                  "name": "Unnamed: 14",
                  "dtype": "object",
                  "stats": {
                    "unique_count": 14,
                    "nan_count": 24,
                    "categories": [
                      {
                        "name": "Health ",
                        "count": 1
                      },
                      {
                        "name": "13 others",
                        "count": 13
                      },
                      {
                        "name": "Missing",
                        "count": 24
                      }
                    ]
                  }
                },
                {
                  "name": "Unnamed: 15",
                  "dtype": "float64",
                  "stats": {
                    "unique_count": 0,
                    "nan_count": 38,
                    "min": null,
                    "max": null,
                    "histogram": [
                      {
                        "bin_start": 0,
                        "bin_end": 0.1,
                        "count": 0
                      },
                      {
                        "bin_start": 0.1,
                        "bin_end": 0.2,
                        "count": 0
                      },
                      {
                        "bin_start": 0.2,
                        "bin_end": 0.30000000000000004,
                        "count": 0
                      },
                      {
                        "bin_start": 0.30000000000000004,
                        "bin_end": 0.4,
                        "count": 0
                      },
                      {
                        "bin_start": 0.4,
                        "bin_end": 0.5,
                        "count": 0
                      },
                      {
                        "bin_start": 0.5,
                        "bin_end": 0.6000000000000001,
                        "count": 0
                      },
                      {
                        "bin_start": 0.6000000000000001,
                        "bin_end": 0.7000000000000001,
                        "count": 0
                      },
                      {
                        "bin_start": 0.7000000000000001,
                        "bin_end": 0.8,
                        "count": 0
                      },
                      {
                        "bin_start": 0.8,
                        "bin_end": 0.9,
                        "count": 0
                      },
                      {
                        "bin_start": 0.9,
                        "bin_end": 1,
                        "count": 0
                      }
                    ]
                  }
                },
                {
                  "name": "Unnamed: 16",
                  "dtype": "object",
                  "stats": {
                    "unique_count": 9,
                    "nan_count": 29,
                    "categories": [
                      {
                        "name": "Location",
                        "count": 1
                      },
                      {
                        "name": "8 others",
                        "count": 8
                      },
                      {
                        "name": "Missing",
                        "count": 29
                      }
                    ]
                  }
                },
                {
                  "name": "Unnamed: 17",
                  "dtype": "object",
                  "stats": {
                    "unique_count": 25,
                    "nan_count": 13,
                    "categories": [
                      {
                        "name": "Health",
                        "count": 1
                      },
                      {
                        "name": "24 others",
                        "count": 24
                      },
                      {
                        "name": "Missing",
                        "count": 13
                      }
                    ]
                  }
                },
                {
                  "name": "Unnamed: 18",
                  "dtype": "object",
                  "stats": {
                    "unique_count": 3,
                    "nan_count": 35,
                    "categories": [
                      {
                        "name": "Preuss",
                        "count": 1
                      },
                      {
                        "name": "2 others",
                        "count": 2
                      },
                      {
                        "name": "Missing",
                        "count": 35
                      }
                    ]
                  }
                },
                {
                  "name": "Unnamed: 19",
                  "dtype": "object",
                  "stats": {
                    "unique_count": 8,
                    "nan_count": 30,
                    "categories": [
                      {
                        "name": "Science",
                        "count": 1
                      },
                      {
                        "name": "7 others",
                        "count": 7
                      },
                      {
                        "name": "Missing",
                        "count": 30
                      }
                    ]
                  }
                },
                {
                  "name": "Unnamed: 20",
                  "dtype": "float64",
                  "stats": {
                    "unique_count": 0,
                    "nan_count": 38,
                    "min": null,
                    "max": null,
                    "histogram": [
                      {
                        "bin_start": 0,
                        "bin_end": 0.1,
                        "count": 0
                      },
                      {
                        "bin_start": 0.1,
                        "bin_end": 0.2,
                        "count": 0
                      },
                      {
                        "bin_start": 0.2,
                        "bin_end": 0.30000000000000004,
                        "count": 0
                      },
                      {
                        "bin_start": 0.30000000000000004,
                        "bin_end": 0.4,
                        "count": 0
                      },
                      {
                        "bin_start": 0.4,
                        "bin_end": 0.5,
                        "count": 0
                      },
                      {
                        "bin_start": 0.5,
                        "bin_end": 0.6000000000000001,
                        "count": 0
                      },
                      {
                        "bin_start": 0.6000000000000001,
                        "bin_end": 0.7000000000000001,
                        "count": 0
                      },
                      {
                        "bin_start": 0.7000000000000001,
                        "bin_end": 0.8,
                        "count": 0
                      },
                      {
                        "bin_start": 0.8,
                        "bin_end": 0.9,
                        "count": 0
                      },
                      {
                        "bin_start": 0.9,
                        "bin_end": 1,
                        "count": 0
                      }
                    ]
                  }
                },
                {
                  "name": "Unnamed: 21",
                  "dtype": "object",
                  "stats": {
                    "unique_count": 19,
                    "nan_count": 17,
                    "categories": [
                      {
                        "name": "Medical Center Hillcrest",
                        "count": 3
                      },
                      {
                        "name": "18 others",
                        "count": 18
                      },
                      {
                        "name": "Missing",
                        "count": 17
                      }
                    ]
                  }
                },
                {
                  "name": "Unnamed: 22",
                  "dtype": "float64",
                  "stats": {
                    "unique_count": 0,
                    "nan_count": 38,
                    "min": null,
                    "max": null,
                    "histogram": [
                      {
                        "bin_start": 0,
                        "bin_end": 0.1,
                        "count": 0
                      },
                      {
                        "bin_start": 0.1,
                        "bin_end": 0.2,
                        "count": 0
                      },
                      {
                        "bin_start": 0.2,
                        "bin_end": 0.30000000000000004,
                        "count": 0
                      },
                      {
                        "bin_start": 0.30000000000000004,
                        "bin_end": 0.4,
                        "count": 0
                      },
                      {
                        "bin_start": 0.4,
                        "bin_end": 0.5,
                        "count": 0
                      },
                      {
                        "bin_start": 0.5,
                        "bin_end": 0.6000000000000001,
                        "count": 0
                      },
                      {
                        "bin_start": 0.6000000000000001,
                        "bin_end": 0.7000000000000001,
                        "count": 0
                      },
                      {
                        "bin_start": 0.7000000000000001,
                        "bin_end": 0.8,
                        "count": 0
                      },
                      {
                        "bin_start": 0.8,
                        "bin_end": 0.9,
                        "count": 0
                      },
                      {
                        "bin_start": 0.9,
                        "bin_end": 1,
                        "count": 0
                      }
                    ]
                  }
                },
                {
                  "name": "Unnamed: 23",
                  "dtype": "float64",
                  "stats": {
                    "unique_count": 0,
                    "nan_count": 38,
                    "min": null,
                    "max": null,
                    "histogram": [
                      {
                        "bin_start": 0,
                        "bin_end": 0.1,
                        "count": 0
                      },
                      {
                        "bin_start": 0.1,
                        "bin_end": 0.2,
                        "count": 0
                      },
                      {
                        "bin_start": 0.2,
                        "bin_end": 0.30000000000000004,
                        "count": 0
                      },
                      {
                        "bin_start": 0.30000000000000004,
                        "bin_end": 0.4,
                        "count": 0
                      },
                      {
                        "bin_start": 0.4,
                        "bin_end": 0.5,
                        "count": 0
                      },
                      {
                        "bin_start": 0.5,
                        "bin_end": 0.6000000000000001,
                        "count": 0
                      },
                      {
                        "bin_start": 0.6000000000000001,
                        "bin_end": 0.7000000000000001,
                        "count": 0
                      },
                      {
                        "bin_start": 0.7000000000000001,
                        "bin_end": 0.8,
                        "count": 0
                      },
                      {
                        "bin_start": 0.8,
                        "bin_end": 0.9,
                        "count": 0
                      },
                      {
                        "bin_start": 0.9,
                        "bin_end": 1,
                        "count": 0
                      }
                    ]
                  }
                },
                {
                  "name": "Unnamed: 24",
                  "dtype": "float64",
                  "stats": {
                    "unique_count": 0,
                    "nan_count": 38,
                    "min": null,
                    "max": null,
                    "histogram": [
                      {
                        "bin_start": 0,
                        "bin_end": 0.1,
                        "count": 0
                      },
                      {
                        "bin_start": 0.1,
                        "bin_end": 0.2,
                        "count": 0
                      },
                      {
                        "bin_start": 0.2,
                        "bin_end": 0.30000000000000004,
                        "count": 0
                      },
                      {
                        "bin_start": 0.30000000000000004,
                        "bin_end": 0.4,
                        "count": 0
                      },
                      {
                        "bin_start": 0.4,
                        "bin_end": 0.5,
                        "count": 0
                      },
                      {
                        "bin_start": 0.5,
                        "bin_end": 0.6000000000000001,
                        "count": 0
                      },
                      {
                        "bin_start": 0.6000000000000001,
                        "bin_end": 0.7000000000000001,
                        "count": 0
                      },
                      {
                        "bin_start": 0.7000000000000001,
                        "bin_end": 0.8,
                        "count": 0
                      },
                      {
                        "bin_start": 0.8,
                        "bin_end": 0.9,
                        "count": 0
                      },
                      {
                        "bin_start": 0.9,
                        "bin_end": 1,
                        "count": 0
                      }
                    ]
                  }
                },
                {
                  "name": "_deepnote_index_column",
                  "dtype": "int64"
                }
              ],
              "rows": [
                {
                  "Unnamed: 0": "nan",
                  "Unnamed: 1": "Location",
                  "Unnamed: 2": "nan",
                  "Unnamed: 3": "Location",
                  "Unnamed: 4": "nan",
                  "Unnamed: 5": "nan",
                  "Unnamed: 6": "nan",
                  "Unnamed: 7": "nan",
                  "Unnamed: 8": "nan",
                  "Unnamed: 9": "nan",
                  "Unnamed: 10": "nan",
                  "Unnamed: 11": "nan",
                  "Unnamed: 12": "nan",
                  "Unnamed: 13": "nan",
                  "Unnamed: 14": "nan",
                  "Unnamed: 15": "nan",
                  "Unnamed: 16": "Location",
                  "Unnamed: 17": "nan",
                  "Unnamed: 18": "nan",
                  "Unnamed: 19": "nan",
                  "Unnamed: 20": "nan",
                  "Unnamed: 21": "Location",
                  "Unnamed: 22": "nan",
                  "Unnamed: 23": "nan",
                  "Unnamed: 24": "nan",
                  "_deepnote_index_column": 0
                },
                {
                  "Unnamed: 0": "nan",
                  "Unnamed: 1": "La Jolla Campus",
                  "Unnamed: 2": "nan",
                  "Unnamed: 3": " La Jolla Campus",
                  "Unnamed: 4": "nan",
                  "Unnamed: 5": "nan",
                  "Unnamed: 6": "nan",
                  "Unnamed: 7": "nan",
                  "Unnamed: 8": "nan",
                  "Unnamed: 9": "nan",
                  "Unnamed: 10": "nan",
                  "Unnamed: 11": "nan",
                  "Unnamed: 12": "nan",
                  "Unnamed: 13": "nan",
                  "Unnamed: 14": "nan",
                  "Unnamed: 15": "nan",
                  "Unnamed: 16": " La Jolla Campus",
                  "Unnamed: 17": "nan",
                  "Unnamed: 18": "nan",
                  "Unnamed: 19": "nan",
                  "Unnamed: 20": "nan",
                  "Unnamed: 21": "Medical Center Hillcrest",
                  "Unnamed: 22": "nan",
                  "Unnamed: 23": "nan",
                  "Unnamed: 24": "nan",
                  "_deepnote_index_column": 1
                },
                {
                  "Unnamed: 0": "nan",
                  "Unnamed: 1": "nan",
                  "Unnamed: 2": "nan",
                  "Unnamed: 3": "nan",
                  "Unnamed: 4": "nan",
                  "Unnamed: 5": "nan",
                  "Unnamed: 6": "nan",
                  "Unnamed: 7": "nan",
                  "Unnamed: 8": "nan",
                  "Unnamed: 9": "nan",
                  "Unnamed: 10": "nan",
                  "Unnamed: 11": "nan",
                  "Unnamed: 12": "nan",
                  "Unnamed: 13": "nan",
                  "Unnamed: 14": "nan",
                  "Unnamed: 15": "nan",
                  "Unnamed: 16": "nan",
                  "Unnamed: 17": "nan",
                  "Unnamed: 18": "nan",
                  "Unnamed: 19": "nan",
                  "Unnamed: 20": "nan",
                  "Unnamed: 21": "nan",
                  "Unnamed: 22": "nan",
                  "Unnamed: 23": "nan",
                  "Unnamed: 24": "nan",
                  "_deepnote_index_column": 2
                },
                {
                  "Unnamed: 0": "nan",
                  "Unnamed: 1": "Area",
                  "Unnamed: 2": "nan",
                  "Unnamed: 3": "Area",
                  "Unnamed: 4": "nan",
                  "Unnamed: 5": "nan",
                  "Unnamed: 6": "nan",
                  "Unnamed: 7": "nan",
                  "Unnamed: 8": "nan",
                  "Unnamed: 9": "nan",
                  "Unnamed: 10": "nan",
                  "Unnamed: 11": "nan",
                  "Unnamed: 12": "nan",
                  "Unnamed: 13": "nan",
                  "Unnamed: 14": "nan",
                  "Unnamed: 15": "nan",
                  "Unnamed: 16": "Area",
                  "Unnamed: 17": "nan",
                  "Unnamed: 18": "nan",
                  "Unnamed: 19": "nan",
                  "Unnamed: 20": "nan",
                  "Unnamed: 21": "Area",
                  "Unnamed: 22": "nan",
                  "Unnamed: 23": "nan",
                  "Unnamed: 24": "nan",
                  "_deepnote_index_column": 3
                },
                {
                  "Unnamed: 0": "nan",
                  "Unnamed: 1": "Scripps Institution of Oceanography",
                  "Unnamed: 2": "nan",
                  "Unnamed: 3": " West Campus",
                  "Unnamed: 4": "nan",
                  "Unnamed: 5": "nan",
                  "Unnamed: 6": "nan",
                  "Unnamed: 7": "nan",
                  "Unnamed: 8": "nan",
                  "Unnamed: 9": "nan",
                  "Unnamed: 10": "nan",
                  "Unnamed: 11": "nan",
                  "Unnamed: 12": "nan",
                  "Unnamed: 13": "nan",
                  "Unnamed: 14": "nan",
                  "Unnamed: 15": "nan",
                  "Unnamed: 16": " East Campus",
                  "Unnamed: 17": "nan",
                  "Unnamed: 18": "nan",
                  "Unnamed: 19": "nan",
                  "Unnamed: 20": "nan",
                  "Unnamed: 21": "Medical Center Hillcrest",
                  "Unnamed: 22": "nan",
                  "Unnamed: 23": "nan",
                  "Unnamed: 24": "nan",
                  "_deepnote_index_column": 4
                },
                {
                  "Unnamed: 0": "nan",
                  "Unnamed: 1": "nan",
                  "Unnamed: 2": "nan",
                  "Unnamed: 3": "nan",
                  "Unnamed: 4": "nan",
                  "Unnamed: 5": "nan",
                  "Unnamed: 6": "nan",
                  "Unnamed: 7": "nan",
                  "Unnamed: 8": "nan",
                  "Unnamed: 9": "nan",
                  "Unnamed: 10": "nan",
                  "Unnamed: 11": "nan",
                  "Unnamed: 12": "nan",
                  "Unnamed: 13": "nan",
                  "Unnamed: 14": "nan",
                  "Unnamed: 15": "nan",
                  "Unnamed: 16": "nan",
                  "Unnamed: 17": "nan",
                  "Unnamed: 18": "nan",
                  "Unnamed: 19": "nan",
                  "Unnamed: 20": "nan",
                  "Unnamed: 21": "nan",
                  "Unnamed: 22": "nan",
                  "Unnamed: 23": "nan",
                  "Unnamed: 24": "nan",
                  "_deepnote_index_column": 5
                },
                {
                  "Unnamed: 0": "nan",
                  "Unnamed: 1": "Neighborhood",
                  "Unnamed: 2": "nan",
                  "Unnamed: 3": "Neighborhood",
                  "Unnamed: 4": "nan",
                  "Unnamed: 5": "nan",
                  "Unnamed: 6": "nan",
                  "Unnamed: 7": "nan",
                  "Unnamed: 8": "nan",
                  "Unnamed: 9": "nan",
                  "Unnamed: 10": "nan",
                  "Unnamed: 11": "nan",
                  "Unnamed: 12": "nan",
                  "Unnamed: 13": "nan",
                  "Unnamed: 14": "nan",
                  "Unnamed: 15": "nan",
                  "Unnamed: 16": "Neighborhood",
                  "Unnamed: 17": "nan",
                  "Unnamed: 18": "nan",
                  "Unnamed: 19": "nan",
                  "Unnamed: 20": "nan",
                  "Unnamed: 21": "Neighborhood",
                  "Unnamed: 22": "nan",
                  "Unnamed: 23": "nan",
                  "Unnamed: 24": "nan",
                  "_deepnote_index_column": 6
                },
                {
                  "Unnamed: 0": "nan",
                  "Unnamed: 1": "nan",
                  "Unnamed: 2": "nan",
                  "Unnamed: 3": "Revelle",
                  "Unnamed: 4": "Muir",
                  "Unnamed: 5": "N. Torrey Pines",
                  "Unnamed: 6": "Marshall",
                  "Unnamed: 7": "Roosevelt",
                  "Unnamed: 8": "North",
                  "Unnamed: 9": "Torrey Pines",
                  "Unnamed: 10": "Pepper ",
                  "Unnamed: 11": "University",
                  "Unnamed: 12": "Warren",
                  "Unnamed: 13": "Campus",
                  "Unnamed: 14": "Health ",
                  "Unnamed: 15": "nan",
                  "Unnamed: 16": "East",
                  "Unnamed: 17": "Health",
                  "Unnamed: 18": "Preuss",
                  "Unnamed: 19": "Science",
                  "Unnamed: 20": "nan",
                  "Unnamed: 21": "Medical Center Hillcrest",
                  "Unnamed: 22": "nan",
                  "Unnamed: 23": "nan",
                  "Unnamed: 24": "nan",
                  "_deepnote_index_column": 7
                },
                {
                  "Unnamed: 0": "nan",
                  "Unnamed: 1": "SIO",
                  "Unnamed: 2": "nan",
                  "Unnamed: 3": "College",
                  "Unnamed: 4": "College",
                  "Unnamed: 5": "Living &Learning",
                  "Unnamed: 6": "College",
                  "Unnamed: 7": "College",
                  "Unnamed: 8": "Campus",
                  "Unnamed: 9": "Center",
                  "Unnamed: 10": "Canyon",
                  "Unnamed: 11": "Center",
                  "Unnamed: 12": "College",
                  "Unnamed: 13": "Services",
                  "Unnamed: 14": "Science",
                  "Unnamed: 15": "nan",
                  "Unnamed: 16": "Recreation",
                  "Unnamed: 17": "Sciences",
                  "Unnamed: 18": "School",
                  "Unnamed: 19": "Research",
                  "Unnamed: 20": "nan",
                  "Unnamed: 21": "nan",
                  "Unnamed: 22": "nan",
                  "Unnamed: 23": "nan",
                  "Unnamed: 24": "nan",
                  "_deepnote_index_column": 8
                },
                {
                  "Unnamed: 0": "nan",
                  "Unnamed: 1": "nan",
                  "Unnamed: 2": "nan",
                  "Unnamed: 3": "nan",
                  "Unnamed: 4": "nan",
                  "Unnamed: 5": "nan",
                  "Unnamed: 6": "nan",
                  "Unnamed: 7": "nan",
                  "Unnamed: 8": "nan",
                  "Unnamed: 9": "nan",
                  "Unnamed: 10": "nan",
                  "Unnamed: 11": "nan",
                  "Unnamed: 12": "nan",
                  "Unnamed: 13": "Complex",
                  "Unnamed: 14": "West",
                  "Unnamed: 15": "nan",
                  "Unnamed: 16": "nan",
                  "Unnamed: 17": "East",
                  "Unnamed: 18": "nan",
                  "Unnamed: 19": "Park",
                  "Unnamed: 20": "nan",
                  "Unnamed: 21": "nan",
                  "Unnamed: 22": "nan",
                  "Unnamed: 23": "nan",
                  "Unnamed: 24": "nan",
                  "_deepnote_index_column": 9
                }
              ]
            },
            "text/plain": "    Unnamed: 0                                        Unnamed: 1  Unnamed: 2  \\\n0          NaN                                          Location         NaN   \n1          NaN                                   La Jolla Campus         NaN   \n2          NaN                                               NaN         NaN   \n3          NaN                                              Area         NaN   \n4          NaN               Scripps Institution of Oceanography         NaN   \n5          NaN                                               NaN         NaN   \n6          NaN                                      Neighborhood         NaN   \n7          NaN                                               NaN         NaN   \n8          NaN                                               SIO         NaN   \n9          NaN                                               NaN         NaN   \n10         NaN                                 Lots & Structures         NaN   \n11         NaN                                              P001         NaN   \n12         NaN                                              P002         NaN   \n13         NaN                                              P003         NaN   \n14         NaN                                              P004         NaN   \n15         NaN                                              P005         NaN   \n16         NaN                                              P006         NaN   \n17         NaN                                              P007         NaN   \n18         NaN                                              P008         NaN   \n19         NaN                                              P009         NaN   \n20         NaN                                              P010         NaN   \n21         NaN                                              P011         NaN   \n22         NaN                                              P012         NaN   \n23         NaN                                              P013         NaN   \n24         NaN                                              P014         NaN   \n25         NaN                                              P015         NaN   \n26         NaN                                              P016         NaN   \n27         NaN                                              P017         NaN   \n28         NaN                                              P021         NaN   \n29         NaN                                               NaN         NaN   \n30         NaN                                               NaN         NaN   \n31         NaN                                               NaN         NaN   \n32         NaN                                               NaN         NaN   \n33         NaN                                               NaN         NaN   \n34         NaN                                               NaN         NaN   \n35         NaN                             Lot Completely Closed         NaN   \n36         NaN  Total Inventory Numbers Affected by Construction         NaN   \n37         NaN                       Closed for COVID-19 testing         NaN   \n\n           Unnamed: 3 Unnamed: 4        Unnamed: 5 Unnamed: 6 Unnamed: 7  \\\n0            Location        NaN               NaN        NaN        NaN   \n1     La Jolla Campus        NaN               NaN        NaN        NaN   \n2                 NaN        NaN               NaN        NaN        NaN   \n3                Area        NaN               NaN        NaN        NaN   \n4         West Campus        NaN               NaN        NaN        NaN   \n5                 NaN        NaN               NaN        NaN        NaN   \n6        Neighborhood        NaN               NaN        NaN        NaN   \n7             Revelle       Muir   N. Torrey Pines   Marshall  Roosevelt   \n8             College    College  Living &Learning    College    College   \n9                 NaN        NaN               NaN        NaN        NaN   \n10  Lots & Structures        NaN               NaN        NaN        NaN   \n11               P101       P113          Scholars       P302       P306   \n12               P103       P201          (P211-3)       P303    Hopkins   \n13               P106       P202               NaN       P304   (P341-7)   \n14               P107       P203               NaN       P308       P353   \n15               P108       P204               NaN       P309       P354   \n16               P110       P205               NaN       P310     Pangea   \n17               P112       P206               NaN        NaN   (P371-6)   \n18               P116       P414               NaN        NaN        NaN   \n19                NaN       P415               NaN        NaN        NaN   \n20                NaN       P416               NaN        NaN        NaN   \n21                NaN        NaN               NaN        NaN        NaN   \n22                NaN        NaN               NaN        NaN        NaN   \n23                NaN        NaN               NaN        NaN        NaN   \n24                NaN        NaN               NaN        NaN        NaN   \n25                NaN        NaN               NaN        NaN        NaN   \n26                NaN        NaN               NaN        NaN        NaN   \n27                NaN        NaN               NaN        NaN        NaN   \n28                NaN        NaN               NaN        NaN        NaN   \n29                NaN        NaN               NaN        NaN        NaN   \n30                NaN        NaN               NaN        NaN        NaN   \n31                NaN        NaN               NaN        NaN        NaN   \n32                NaN        NaN               NaN        NaN        NaN   \n33                NaN        NaN               NaN        NaN        NaN   \n34                NaN        NaN               NaN        NaN        NaN   \n35                NaN        NaN               NaN        NaN        NaN   \n36                NaN        NaN               NaN        NaN        NaN   \n37                NaN        NaN               NaN        NaN        NaN   \n\n   Unnamed: 8    Unnamed: 9  ... Unnamed: 15        Unnamed: 16   Unnamed: 17  \\\n0         NaN           NaN  ...         NaN           Location           NaN   \n1         NaN           NaN  ...         NaN    La Jolla Campus           NaN   \n2         NaN           NaN  ...         NaN                NaN           NaN   \n3         NaN           NaN  ...         NaN               Area           NaN   \n4         NaN           NaN  ...         NaN        East Campus           NaN   \n5         NaN           NaN  ...         NaN                NaN           NaN   \n6         NaN           NaN  ...         NaN       Neighborhood           NaN   \n7       North  Torrey Pines  ...         NaN               East        Health   \n8      Campus        Center  ...         NaN         Recreation      Sciences   \n9         NaN           NaN  ...         NaN                NaN          East   \n10        NaN           NaN  ...         NaN  Lots & Structures           NaN   \n11       P351     TPC South  ...         NaN               P701          P702   \n12       P352      (P381-3)  ...         NaN                NaN          P703   \n13       P357          P384  ...         NaN                NaN          P704   \n14       P358          P385  ...         NaN                NaN          P705   \n15       P359          P386  ...         NaN                NaN          P706   \n16        NaN     TPC North  ...         NaN                NaN          P707   \n17        NaN      (P391-5)  ...         NaN                NaN  Campus Pt E.   \n18        NaN           NaN  ...         NaN                NaN      (P721-2)   \n19        NaN           NaN  ...         NaN                NaN  Campus Pt W.   \n20        NaN           NaN  ...         NaN                NaN      (P731-5)   \n21        NaN           NaN  ...         NaN                NaN        Athena   \n22        NaN           NaN  ...         NaN                NaN      (P741-7)   \n23        NaN           NaN  ...         NaN                NaN          P751   \n24        NaN           NaN  ...         NaN                NaN          P752   \n25        NaN           NaN  ...         NaN                NaN          P753   \n26        NaN           NaN  ...         NaN                NaN          P757   \n27        NaN           NaN  ...         NaN                NaN          P758   \n28        NaN           NaN  ...         NaN                NaN          P759   \n29        NaN           NaN  ...         NaN                NaN          P760   \n30        NaN           NaN  ...         NaN                NaN          P761   \n31        NaN           NaN  ...         NaN                NaN          P762   \n32        NaN           NaN  ...         NaN                NaN          P784   \n33        NaN           NaN  ...         NaN                NaN           NaN   \n34        NaN           NaN  ...         NaN                NaN           NaN   \n35        NaN           NaN  ...         NaN                NaN           NaN   \n36        NaN           NaN  ...         NaN                NaN           NaN   \n37        NaN           NaN  ...         NaN                NaN           NaN   \n\n   Unnamed: 18 Unnamed: 19  Unnamed: 20               Unnamed: 21 Unnamed: 22  \\\n0          NaN         NaN          NaN                  Location         NaN   \n1          NaN         NaN          NaN  Medical Center Hillcrest         NaN   \n2          NaN         NaN          NaN                       NaN         NaN   \n3          NaN         NaN          NaN                      Area         NaN   \n4          NaN         NaN          NaN  Medical Center Hillcrest         NaN   \n5          NaN         NaN          NaN                       NaN         NaN   \n6          NaN         NaN          NaN              Neighborhood         NaN   \n7       Preuss     Science          NaN  Medical Center Hillcrest         NaN   \n8       School    Research          NaN                       NaN         NaN   \n9          NaN        Park          NaN                       NaN         NaN   \n10         NaN         NaN          NaN         Lots & Structures         NaN   \n11        P706        P782          NaN                     Arbor         NaN   \n12         NaN        P785          NaN                 (P901-14)         NaN   \n13         NaN       Vela/          NaN                   Bachman         NaN   \n14         NaN    Nuevo W.          NaN                 (P921-31)         NaN   \n15         NaN    (P791-3)          NaN                      P952         NaN   \n16         NaN         NaN          NaN                      P953         NaN   \n17         NaN         NaN          NaN                      P954         NaN   \n18         NaN         NaN          NaN                      P955         NaN   \n19         NaN         NaN          NaN                      P956         NaN   \n20         NaN         NaN          NaN                      P957         NaN   \n21         NaN         NaN          NaN                      P958         NaN   \n22         NaN         NaN          NaN                      P962         NaN   \n23         NaN         NaN          NaN                      P963         NaN   \n24         NaN         NaN          NaN                      P964         NaN   \n25         NaN         NaN          NaN                       NaN         NaN   \n26         NaN         NaN          NaN                       NaN         NaN   \n27         NaN         NaN          NaN                       NaN         NaN   \n28         NaN         NaN          NaN                       NaN         NaN   \n29         NaN         NaN          NaN                       NaN         NaN   \n30         NaN         NaN          NaN                       NaN         NaN   \n31         NaN         NaN          NaN                       NaN         NaN   \n32         NaN         NaN          NaN                       NaN         NaN   \n33         NaN         NaN          NaN                       NaN         NaN   \n34         NaN         NaN          NaN                       NaN         NaN   \n35         NaN         NaN          NaN                       NaN         NaN   \n36         NaN         NaN          NaN                       NaN         NaN   \n37         NaN         NaN          NaN                       NaN         NaN   \n\n   Unnamed: 23 Unnamed: 24  \n0          NaN         NaN  \n1          NaN         NaN  \n2          NaN         NaN  \n3          NaN         NaN  \n4          NaN         NaN  \n5          NaN         NaN  \n6          NaN         NaN  \n7          NaN         NaN  \n8          NaN         NaN  \n9          NaN         NaN  \n10         NaN         NaN  \n11         NaN         NaN  \n12         NaN         NaN  \n13         NaN         NaN  \n14         NaN         NaN  \n15         NaN         NaN  \n16         NaN         NaN  \n17         NaN         NaN  \n18         NaN         NaN  \n19         NaN         NaN  \n20         NaN         NaN  \n21         NaN         NaN  \n22         NaN         NaN  \n23         NaN         NaN  \n24         NaN         NaN  \n25         NaN         NaN  \n26         NaN         NaN  \n27         NaN         NaN  \n28         NaN         NaN  \n29         NaN         NaN  \n30         NaN         NaN  \n31         NaN         NaN  \n32         NaN         NaN  \n33         NaN         NaN  \n34         NaN         NaN  \n35         NaN         NaN  \n36         NaN         NaN  \n37         NaN         NaN  \n\n[38 rows x 25 columns]",
            "text/html": "<div>\n<style scoped>\n    .dataframe tbody tr th:only-of-type {\n        vertical-align: middle;\n    }\n\n    .dataframe tbody tr th {\n        vertical-align: top;\n    }\n\n    .dataframe thead th {\n        text-align: right;\n    }\n</style>\n<table border=\"1\" class=\"dataframe\">\n  <thead>\n    <tr style=\"text-align: right;\">\n      <th></th>\n      <th>Unnamed: 0</th>\n      <th>Unnamed: 1</th>\n      <th>Unnamed: 2</th>\n      <th>Unnamed: 3</th>\n      <th>Unnamed: 4</th>\n      <th>Unnamed: 5</th>\n      <th>Unnamed: 6</th>\n      <th>Unnamed: 7</th>\n      <th>Unnamed: 8</th>\n      <th>Unnamed: 9</th>\n      <th>...</th>\n      <th>Unnamed: 15</th>\n      <th>Unnamed: 16</th>\n      <th>Unnamed: 17</th>\n      <th>Unnamed: 18</th>\n      <th>Unnamed: 19</th>\n      <th>Unnamed: 20</th>\n      <th>Unnamed: 21</th>\n      <th>Unnamed: 22</th>\n      <th>Unnamed: 23</th>\n      <th>Unnamed: 24</th>\n    </tr>\n  </thead>\n  <tbody>\n    <tr>\n      <th>0</th>\n      <td>NaN</td>\n      <td>Location</td>\n      <td>NaN</td>\n      <td>Location</td>\n      <td>NaN</td>\n      <td>NaN</td>\n      <td>NaN</td>\n      <td>NaN</td>\n      <td>NaN</td>\n      <td>NaN</td>\n      <td>...</td>\n      <td>NaN</td>\n      <td>Location</td>\n      <td>NaN</td>\n      <td>NaN</td>\n      <td>NaN</td>\n      <td>NaN</td>\n      <td>Location</td>\n      <td>NaN</td>\n      <td>NaN</td>\n      <td>NaN</td>\n    </tr>\n    <tr>\n      <th>1</th>\n      <td>NaN</td>\n      <td>La Jolla Campus</td>\n      <td>NaN</td>\n      <td>La Jolla Campus</td>\n      <td>NaN</td>\n      <td>NaN</td>\n      <td>NaN</td>\n      <td>NaN</td>\n      <td>NaN</td>\n      <td>NaN</td>\n      <td>...</td>\n      <td>NaN</td>\n      <td>La Jolla Campus</td>\n      <td>NaN</td>\n      <td>NaN</td>\n      <td>NaN</td>\n      <td>NaN</td>\n      <td>Medical Center Hillcrest</td>\n      <td>NaN</td>\n      <td>NaN</td>\n      <td>NaN</td>\n    </tr>\n    <tr>\n      <th>2</th>\n      <td>NaN</td>\n      <td>NaN</td>\n      <td>NaN</td>\n      <td>NaN</td>\n      <td>NaN</td>\n      <td>NaN</td>\n      <td>NaN</td>\n      <td>NaN</td>\n      <td>NaN</td>\n      <td>NaN</td>\n      <td>...</td>\n      <td>NaN</td>\n      <td>NaN</td>\n      <td>NaN</td>\n      <td>NaN</td>\n      <td>NaN</td>\n      <td>NaN</td>\n      <td>NaN</td>\n      <td>NaN</td>\n      <td>NaN</td>\n      <td>NaN</td>\n    </tr>\n    <tr>\n      <th>3</th>\n      <td>NaN</td>\n      <td>Area</td>\n      <td>NaN</td>\n      <td>Area</td>\n      <td>NaN</td>\n      <td>NaN</td>\n      <td>NaN</td>\n      <td>NaN</td>\n      <td>NaN</td>\n      <td>NaN</td>\n      <td>...</td>\n      <td>NaN</td>\n      <td>Area</td>\n      <td>NaN</td>\n      <td>NaN</td>\n      <td>NaN</td>\n      <td>NaN</td>\n      <td>Area</td>\n      <td>NaN</td>\n      <td>NaN</td>\n      <td>NaN</td>\n    </tr>\n    <tr>\n      <th>4</th>\n      <td>NaN</td>\n      <td>Scripps Institution of Oceanography</td>\n      <td>NaN</td>\n      <td>West Campus</td>\n      <td>NaN</td>\n      <td>NaN</td>\n      <td>NaN</td>\n      <td>NaN</td>\n      <td>NaN</td>\n      <td>NaN</td>\n      <td>...</td>\n      <td>NaN</td>\n      <td>East Campus</td>\n      <td>NaN</td>\n      <td>NaN</td>\n      <td>NaN</td>\n      <td>NaN</td>\n      <td>Medical Center Hillcrest</td>\n      <td>NaN</td>\n      <td>NaN</td>\n      <td>NaN</td>\n    </tr>\n    <tr>\n      <th>5</th>\n      <td>NaN</td>\n      <td>NaN</td>\n      <td>NaN</td>\n      <td>NaN</td>\n      <td>NaN</td>\n      <td>NaN</td>\n      <td>NaN</td>\n      <td>NaN</td>\n      <td>NaN</td>\n      <td>NaN</td>\n      <td>...</td>\n      <td>NaN</td>\n      <td>NaN</td>\n      <td>NaN</td>\n      <td>NaN</td>\n      <td>NaN</td>\n      <td>NaN</td>\n      <td>NaN</td>\n      <td>NaN</td>\n      <td>NaN</td>\n      <td>NaN</td>\n    </tr>\n    <tr>\n      <th>6</th>\n      <td>NaN</td>\n      <td>Neighborhood</td>\n      <td>NaN</td>\n      <td>Neighborhood</td>\n      <td>NaN</td>\n      <td>NaN</td>\n      <td>NaN</td>\n      <td>NaN</td>\n      <td>NaN</td>\n      <td>NaN</td>\n      <td>...</td>\n      <td>NaN</td>\n      <td>Neighborhood</td>\n      <td>NaN</td>\n      <td>NaN</td>\n      <td>NaN</td>\n      <td>NaN</td>\n      <td>Neighborhood</td>\n      <td>NaN</td>\n      <td>NaN</td>\n      <td>NaN</td>\n    </tr>\n    <tr>\n      <th>7</th>\n      <td>NaN</td>\n      <td>NaN</td>\n      <td>NaN</td>\n      <td>Revelle</td>\n      <td>Muir</td>\n      <td>N. Torrey Pines</td>\n      <td>Marshall</td>\n      <td>Roosevelt</td>\n      <td>North</td>\n      <td>Torrey Pines</td>\n      <td>...</td>\n      <td>NaN</td>\n      <td>East</td>\n      <td>Health</td>\n      <td>Preuss</td>\n      <td>Science</td>\n      <td>NaN</td>\n      <td>Medical Center Hillcrest</td>\n      <td>NaN</td>\n      <td>NaN</td>\n      <td>NaN</td>\n    </tr>\n    <tr>\n      <th>8</th>\n      <td>NaN</td>\n      <td>SIO</td>\n      <td>NaN</td>\n      <td>College</td>\n      <td>College</td>\n      <td>Living &amp;Learning</td>\n      <td>College</td>\n      <td>College</td>\n      <td>Campus</td>\n      <td>Center</td>\n      <td>...</td>\n      <td>NaN</td>\n      <td>Recreation</td>\n      <td>Sciences</td>\n      <td>School</td>\n      <td>Research</td>\n      <td>NaN</td>\n      <td>NaN</td>\n      <td>NaN</td>\n      <td>NaN</td>\n      <td>NaN</td>\n    </tr>\n    <tr>\n      <th>9</th>\n      <td>NaN</td>\n      <td>NaN</td>\n      <td>NaN</td>\n      <td>NaN</td>\n      <td>NaN</td>\n      <td>NaN</td>\n      <td>NaN</td>\n      <td>NaN</td>\n      <td>NaN</td>\n      <td>NaN</td>\n      <td>...</td>\n      <td>NaN</td>\n      <td>NaN</td>\n      <td>East</td>\n      <td>NaN</td>\n      <td>Park</td>\n      <td>NaN</td>\n      <td>NaN</td>\n      <td>NaN</td>\n      <td>NaN</td>\n      <td>NaN</td>\n    </tr>\n    <tr>\n      <th>10</th>\n      <td>NaN</td>\n      <td>Lots &amp; Structures</td>\n      <td>NaN</td>\n      <td>Lots &amp; Structures</td>\n      <td>NaN</td>\n      <td>NaN</td>\n      <td>NaN</td>\n      <td>NaN</td>\n      <td>NaN</td>\n      <td>NaN</td>\n      <td>...</td>\n      <td>NaN</td>\n      <td>Lots &amp; Structures</td>\n      <td>NaN</td>\n      <td>NaN</td>\n      <td>NaN</td>\n      <td>NaN</td>\n      <td>Lots &amp; Structures</td>\n      <td>NaN</td>\n      <td>NaN</td>\n      <td>NaN</td>\n    </tr>\n    <tr>\n      <th>11</th>\n      <td>NaN</td>\n      <td>P001</td>\n      <td>NaN</td>\n      <td>P101</td>\n      <td>P113</td>\n      <td>Scholars</td>\n      <td>P302</td>\n      <td>P306</td>\n      <td>P351</td>\n      <td>TPC South</td>\n      <td>...</td>\n      <td>NaN</td>\n      <td>P701</td>\n      <td>P702</td>\n      <td>P706</td>\n      <td>P782</td>\n      <td>NaN</td>\n      <td>Arbor</td>\n      <td>NaN</td>\n      <td>NaN</td>\n      <td>NaN</td>\n    </tr>\n    <tr>\n      <th>12</th>\n      <td>NaN</td>\n      <td>P002</td>\n      <td>NaN</td>\n      <td>P103</td>\n      <td>P201</td>\n      <td>(P211-3)</td>\n      <td>P303</td>\n      <td>Hopkins</td>\n      <td>P352</td>\n      <td>(P381-3)</td>\n      <td>...</td>\n      <td>NaN</td>\n      <td>NaN</td>\n      <td>P703</td>\n      <td>NaN</td>\n      <td>P785</td>\n      <td>NaN</td>\n      <td>(P901-14)</td>\n      <td>NaN</td>\n      <td>NaN</td>\n      <td>NaN</td>\n    </tr>\n    <tr>\n      <th>13</th>\n      <td>NaN</td>\n      <td>P003</td>\n      <td>NaN</td>\n      <td>P106</td>\n      <td>P202</td>\n      <td>NaN</td>\n      <td>P304</td>\n      <td>(P341-7)</td>\n      <td>P357</td>\n      <td>P384</td>\n      <td>...</td>\n      <td>NaN</td>\n      <td>NaN</td>\n      <td>P704</td>\n      <td>NaN</td>\n      <td>Vela/</td>\n      <td>NaN</td>\n      <td>Bachman</td>\n      <td>NaN</td>\n      <td>NaN</td>\n      <td>NaN</td>\n    </tr>\n    <tr>\n      <th>14</th>\n      <td>NaN</td>\n      <td>P004</td>\n      <td>NaN</td>\n      <td>P107</td>\n      <td>P203</td>\n      <td>NaN</td>\n      <td>P308</td>\n      <td>P353</td>\n      <td>P358</td>\n      <td>P385</td>\n      <td>...</td>\n      <td>NaN</td>\n      <td>NaN</td>\n      <td>P705</td>\n      <td>NaN</td>\n      <td>Nuevo W.</td>\n      <td>NaN</td>\n      <td>(P921-31)</td>\n      <td>NaN</td>\n      <td>NaN</td>\n      <td>NaN</td>\n    </tr>\n    <tr>\n      <th>15</th>\n      <td>NaN</td>\n      <td>P005</td>\n      <td>NaN</td>\n      <td>P108</td>\n      <td>P204</td>\n      <td>NaN</td>\n      <td>P309</td>\n      <td>P354</td>\n      <td>P359</td>\n      <td>P386</td>\n      <td>...</td>\n      <td>NaN</td>\n      <td>NaN</td>\n      <td>P706</td>\n      <td>NaN</td>\n      <td>(P791-3)</td>\n      <td>NaN</td>\n      <td>P952</td>\n      <td>NaN</td>\n      <td>NaN</td>\n      <td>NaN</td>\n    </tr>\n    <tr>\n      <th>16</th>\n      <td>NaN</td>\n      <td>P006</td>\n      <td>NaN</td>\n      <td>P110</td>\n      <td>P205</td>\n      <td>NaN</td>\n      <td>P310</td>\n      <td>Pangea</td>\n      <td>NaN</td>\n      <td>TPC North</td>\n      <td>...</td>\n      <td>NaN</td>\n      <td>NaN</td>\n      <td>P707</td>\n      <td>NaN</td>\n      <td>NaN</td>\n      <td>NaN</td>\n      <td>P953</td>\n      <td>NaN</td>\n      <td>NaN</td>\n      <td>NaN</td>\n    </tr>\n    <tr>\n      <th>17</th>\n      <td>NaN</td>\n      <td>P007</td>\n      <td>NaN</td>\n      <td>P112</td>\n      <td>P206</td>\n      <td>NaN</td>\n      <td>NaN</td>\n      <td>(P371-6)</td>\n      <td>NaN</td>\n      <td>(P391-5)</td>\n      <td>...</td>\n      <td>NaN</td>\n      <td>NaN</td>\n      <td>Campus Pt E.</td>\n      <td>NaN</td>\n      <td>NaN</td>\n      <td>NaN</td>\n      <td>P954</td>\n      <td>NaN</td>\n      <td>NaN</td>\n      <td>NaN</td>\n    </tr>\n    <tr>\n      <th>18</th>\n      <td>NaN</td>\n      <td>P008</td>\n      <td>NaN</td>\n      <td>P116</td>\n      <td>P414</td>\n      <td>NaN</td>\n      <td>NaN</td>\n      <td>NaN</td>\n      <td>NaN</td>\n      <td>NaN</td>\n      <td>...</td>\n      <td>NaN</td>\n      <td>NaN</td>\n      <td>(P721-2)</td>\n      <td>NaN</td>\n      <td>NaN</td>\n      <td>NaN</td>\n      <td>P955</td>\n      <td>NaN</td>\n      <td>NaN</td>\n      <td>NaN</td>\n    </tr>\n    <tr>\n      <th>19</th>\n      <td>NaN</td>\n      <td>P009</td>\n      <td>NaN</td>\n      <td>NaN</td>\n      <td>P415</td>\n      <td>NaN</td>\n      <td>NaN</td>\n      <td>NaN</td>\n      <td>NaN</td>\n      <td>NaN</td>\n      <td>...</td>\n      <td>NaN</td>\n      <td>NaN</td>\n      <td>Campus Pt W.</td>\n      <td>NaN</td>\n      <td>NaN</td>\n      <td>NaN</td>\n      <td>P956</td>\n      <td>NaN</td>\n      <td>NaN</td>\n      <td>NaN</td>\n    </tr>\n    <tr>\n      <th>20</th>\n      <td>NaN</td>\n      <td>P010</td>\n      <td>NaN</td>\n      <td>NaN</td>\n      <td>P416</td>\n      <td>NaN</td>\n      <td>NaN</td>\n      <td>NaN</td>\n      <td>NaN</td>\n      <td>NaN</td>\n      <td>...</td>\n      <td>NaN</td>\n      <td>NaN</td>\n      <td>(P731-5)</td>\n      <td>NaN</td>\n      <td>NaN</td>\n      <td>NaN</td>\n      <td>P957</td>\n      <td>NaN</td>\n      <td>NaN</td>\n      <td>NaN</td>\n    </tr>\n    <tr>\n      <th>21</th>\n      <td>NaN</td>\n      <td>P011</td>\n      <td>NaN</td>\n      <td>NaN</td>\n      <td>NaN</td>\n      <td>NaN</td>\n      <td>NaN</td>\n      <td>NaN</td>\n      <td>NaN</td>\n      <td>NaN</td>\n      <td>...</td>\n      <td>NaN</td>\n      <td>NaN</td>\n      <td>Athena</td>\n      <td>NaN</td>\n      <td>NaN</td>\n      <td>NaN</td>\n      <td>P958</td>\n      <td>NaN</td>\n      <td>NaN</td>\n      <td>NaN</td>\n    </tr>\n    <tr>\n      <th>22</th>\n      <td>NaN</td>\n      <td>P012</td>\n      <td>NaN</td>\n      <td>NaN</td>\n      <td>NaN</td>\n      <td>NaN</td>\n      <td>NaN</td>\n      <td>NaN</td>\n      <td>NaN</td>\n      <td>NaN</td>\n      <td>...</td>\n      <td>NaN</td>\n      <td>NaN</td>\n      <td>(P741-7)</td>\n      <td>NaN</td>\n      <td>NaN</td>\n      <td>NaN</td>\n      <td>P962</td>\n      <td>NaN</td>\n      <td>NaN</td>\n      <td>NaN</td>\n    </tr>\n    <tr>\n      <th>23</th>\n      <td>NaN</td>\n      <td>P013</td>\n      <td>NaN</td>\n      <td>NaN</td>\n      <td>NaN</td>\n      <td>NaN</td>\n      <td>NaN</td>\n      <td>NaN</td>\n      <td>NaN</td>\n      <td>NaN</td>\n      <td>...</td>\n      <td>NaN</td>\n      <td>NaN</td>\n      <td>P751</td>\n      <td>NaN</td>\n      <td>NaN</td>\n      <td>NaN</td>\n      <td>P963</td>\n      <td>NaN</td>\n      <td>NaN</td>\n      <td>NaN</td>\n    </tr>\n    <tr>\n      <th>24</th>\n      <td>NaN</td>\n      <td>P014</td>\n      <td>NaN</td>\n      <td>NaN</td>\n      <td>NaN</td>\n      <td>NaN</td>\n      <td>NaN</td>\n      <td>NaN</td>\n      <td>NaN</td>\n      <td>NaN</td>\n      <td>...</td>\n      <td>NaN</td>\n      <td>NaN</td>\n      <td>P752</td>\n      <td>NaN</td>\n      <td>NaN</td>\n      <td>NaN</td>\n      <td>P964</td>\n      <td>NaN</td>\n      <td>NaN</td>\n      <td>NaN</td>\n    </tr>\n    <tr>\n      <th>25</th>\n      <td>NaN</td>\n      <td>P015</td>\n      <td>NaN</td>\n      <td>NaN</td>\n      <td>NaN</td>\n      <td>NaN</td>\n      <td>NaN</td>\n      <td>NaN</td>\n      <td>NaN</td>\n      <td>NaN</td>\n      <td>...</td>\n      <td>NaN</td>\n      <td>NaN</td>\n      <td>P753</td>\n      <td>NaN</td>\n      <td>NaN</td>\n      <td>NaN</td>\n      <td>NaN</td>\n      <td>NaN</td>\n      <td>NaN</td>\n      <td>NaN</td>\n    </tr>\n    <tr>\n      <th>26</th>\n      <td>NaN</td>\n      <td>P016</td>\n      <td>NaN</td>\n      <td>NaN</td>\n      <td>NaN</td>\n      <td>NaN</td>\n      <td>NaN</td>\n      <td>NaN</td>\n      <td>NaN</td>\n      <td>NaN</td>\n      <td>...</td>\n      <td>NaN</td>\n      <td>NaN</td>\n      <td>P757</td>\n      <td>NaN</td>\n      <td>NaN</td>\n      <td>NaN</td>\n      <td>NaN</td>\n      <td>NaN</td>\n      <td>NaN</td>\n      <td>NaN</td>\n    </tr>\n    <tr>\n      <th>27</th>\n      <td>NaN</td>\n      <td>P017</td>\n      <td>NaN</td>\n      <td>NaN</td>\n      <td>NaN</td>\n      <td>NaN</td>\n      <td>NaN</td>\n      <td>NaN</td>\n      <td>NaN</td>\n      <td>NaN</td>\n      <td>...</td>\n      <td>NaN</td>\n      <td>NaN</td>\n      <td>P758</td>\n      <td>NaN</td>\n      <td>NaN</td>\n      <td>NaN</td>\n      <td>NaN</td>\n      <td>NaN</td>\n      <td>NaN</td>\n      <td>NaN</td>\n    </tr>\n    <tr>\n      <th>28</th>\n      <td>NaN</td>\n      <td>P021</td>\n      <td>NaN</td>\n      <td>NaN</td>\n      <td>NaN</td>\n      <td>NaN</td>\n      <td>NaN</td>\n      <td>NaN</td>\n      <td>NaN</td>\n      <td>NaN</td>\n      <td>...</td>\n      <td>NaN</td>\n      <td>NaN</td>\n      <td>P759</td>\n      <td>NaN</td>\n      <td>NaN</td>\n      <td>NaN</td>\n      <td>NaN</td>\n      <td>NaN</td>\n      <td>NaN</td>\n      <td>NaN</td>\n    </tr>\n    <tr>\n      <th>29</th>\n      <td>NaN</td>\n      <td>NaN</td>\n      <td>NaN</td>\n      <td>NaN</td>\n      <td>NaN</td>\n      <td>NaN</td>\n      <td>NaN</td>\n      <td>NaN</td>\n      <td>NaN</td>\n      <td>NaN</td>\n      <td>...</td>\n      <td>NaN</td>\n      <td>NaN</td>\n      <td>P760</td>\n      <td>NaN</td>\n      <td>NaN</td>\n      <td>NaN</td>\n      <td>NaN</td>\n      <td>NaN</td>\n      <td>NaN</td>\n      <td>NaN</td>\n    </tr>\n    <tr>\n      <th>30</th>\n      <td>NaN</td>\n      <td>NaN</td>\n      <td>NaN</td>\n      <td>NaN</td>\n      <td>NaN</td>\n      <td>NaN</td>\n      <td>NaN</td>\n      <td>NaN</td>\n      <td>NaN</td>\n      <td>NaN</td>\n      <td>...</td>\n      <td>NaN</td>\n      <td>NaN</td>\n      <td>P761</td>\n      <td>NaN</td>\n      <td>NaN</td>\n      <td>NaN</td>\n      <td>NaN</td>\n      <td>NaN</td>\n      <td>NaN</td>\n      <td>NaN</td>\n    </tr>\n    <tr>\n      <th>31</th>\n      <td>NaN</td>\n      <td>NaN</td>\n      <td>NaN</td>\n      <td>NaN</td>\n      <td>NaN</td>\n      <td>NaN</td>\n      <td>NaN</td>\n      <td>NaN</td>\n      <td>NaN</td>\n      <td>NaN</td>\n      <td>...</td>\n      <td>NaN</td>\n      <td>NaN</td>\n      <td>P762</td>\n      <td>NaN</td>\n      <td>NaN</td>\n      <td>NaN</td>\n      <td>NaN</td>\n      <td>NaN</td>\n      <td>NaN</td>\n      <td>NaN</td>\n    </tr>\n    <tr>\n      <th>32</th>\n      <td>NaN</td>\n      <td>NaN</td>\n      <td>NaN</td>\n      <td>NaN</td>\n      <td>NaN</td>\n      <td>NaN</td>\n      <td>NaN</td>\n      <td>NaN</td>\n      <td>NaN</td>\n      <td>NaN</td>\n      <td>...</td>\n      <td>NaN</td>\n      <td>NaN</td>\n      <td>P784</td>\n      <td>NaN</td>\n      <td>NaN</td>\n      <td>NaN</td>\n      <td>NaN</td>\n      <td>NaN</td>\n      <td>NaN</td>\n      <td>NaN</td>\n    </tr>\n    <tr>\n      <th>33</th>\n      <td>NaN</td>\n      <td>NaN</td>\n      <td>NaN</td>\n      <td>NaN</td>\n      <td>NaN</td>\n      <td>NaN</td>\n      <td>NaN</td>\n      <td>NaN</td>\n      <td>NaN</td>\n      <td>NaN</td>\n      <td>...</td>\n      <td>NaN</td>\n      <td>NaN</td>\n      <td>NaN</td>\n      <td>NaN</td>\n      <td>NaN</td>\n      <td>NaN</td>\n      <td>NaN</td>\n      <td>NaN</td>\n      <td>NaN</td>\n      <td>NaN</td>\n    </tr>\n    <tr>\n      <th>34</th>\n      <td>NaN</td>\n      <td>NaN</td>\n      <td>NaN</td>\n      <td>NaN</td>\n      <td>NaN</td>\n      <td>NaN</td>\n      <td>NaN</td>\n      <td>NaN</td>\n      <td>NaN</td>\n      <td>NaN</td>\n      <td>...</td>\n      <td>NaN</td>\n      <td>NaN</td>\n      <td>NaN</td>\n      <td>NaN</td>\n      <td>NaN</td>\n      <td>NaN</td>\n      <td>NaN</td>\n      <td>NaN</td>\n      <td>NaN</td>\n      <td>NaN</td>\n    </tr>\n    <tr>\n      <th>35</th>\n      <td>NaN</td>\n      <td>Lot Completely Closed</td>\n      <td>NaN</td>\n      <td>NaN</td>\n      <td>NaN</td>\n      <td>NaN</td>\n      <td>NaN</td>\n      <td>NaN</td>\n      <td>NaN</td>\n      <td>NaN</td>\n      <td>...</td>\n      <td>NaN</td>\n      <td>NaN</td>\n      <td>NaN</td>\n      <td>NaN</td>\n      <td>NaN</td>\n      <td>NaN</td>\n      <td>NaN</td>\n      <td>NaN</td>\n      <td>NaN</td>\n      <td>NaN</td>\n    </tr>\n    <tr>\n      <th>36</th>\n      <td>NaN</td>\n      <td>Total Inventory Numbers Affected by Construction</td>\n      <td>NaN</td>\n      <td>NaN</td>\n      <td>NaN</td>\n      <td>NaN</td>\n      <td>NaN</td>\n      <td>NaN</td>\n      <td>NaN</td>\n      <td>NaN</td>\n      <td>...</td>\n      <td>NaN</td>\n      <td>NaN</td>\n      <td>NaN</td>\n      <td>NaN</td>\n      <td>NaN</td>\n      <td>NaN</td>\n      <td>NaN</td>\n      <td>NaN</td>\n      <td>NaN</td>\n      <td>NaN</td>\n    </tr>\n    <tr>\n      <th>37</th>\n      <td>NaN</td>\n      <td>Closed for COVID-19 testing</td>\n      <td>NaN</td>\n      <td>NaN</td>\n      <td>NaN</td>\n      <td>NaN</td>\n      <td>NaN</td>\n      <td>NaN</td>\n      <td>NaN</td>\n      <td>NaN</td>\n      <td>...</td>\n      <td>NaN</td>\n      <td>NaN</td>\n      <td>NaN</td>\n      <td>NaN</td>\n      <td>NaN</td>\n      <td>NaN</td>\n      <td>NaN</td>\n      <td>NaN</td>\n      <td>NaN</td>\n      <td>NaN</td>\n    </tr>\n  </tbody>\n</table>\n<p>38 rows × 25 columns</p>\n</div>"
          },
          "metadata": {}
        }
      ],
      "execution_count": 3,
      "block_group": "5876d2bdf16e469e9b7309da51b37dfe"
    },
    {
      "cell_type": "markdown",
      "source": "<a style='text-decoration:none;line-height:16px;display:flex;color:#5B5B62;padding:10px;justify-content:end;' href='https://deepnote.com?utm_source=created-in-deepnote-cell&projectId=79f50031-d40f-43af-acaa-365d48045c9e' target=\"_blank\">\n<img alt='Created in deepnote.com' style='display:inline;max-height:16px;margin:0px;margin-right:7.5px;' src='data:image/svg+xml;base64,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' > </img>\nCreated in <span style='font-weight:600;margin-left:4px;'>Deepnote</span></a>",
      "metadata": {
        "created_in_deepnote_cell": true,
        "deepnote_cell_type": "markdown"
      }
    }
  ],
  "nbformat": 4,
  "nbformat_minor": 0,
  "metadata": {
    "deepnote": {},
    "orig_nbformat": 2,
    "deepnote_notebook_id": "6895af0528ae4ceaaf3cefdbec8f84b3",
    "deepnote_execution_queue": []
  }
}