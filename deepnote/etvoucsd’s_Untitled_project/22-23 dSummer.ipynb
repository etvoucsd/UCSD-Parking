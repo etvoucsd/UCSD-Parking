{
  "cells": [
    {
      "cell_type": "code",
      "source": "import pandas as pd",
      "metadata": {
        "source_hash": "9b82ee11",
        "execution_start": 1694928569230,
        "execution_millis": 6,
        "deepnote_to_be_reexecuted": false,
        "cell_id": "647f54bd2e7e4a2e814807afd7ee8d75",
        "deepnote_cell_type": "code"
      },
      "outputs": [],
      "execution_count": 1,
      "block_group": "647f54bd2e7e4a2e814807afd7ee8d75"
    },
    {
      "cell_type": "code",
      "source": "raw_data = pd.read_excel('/work/2022-2023/2022-2023-1 Summer.xlsx')",
      "metadata": {
        "source_hash": "d023f437",
        "execution_start": 1694928569232,
        "execution_millis": 932,
        "deepnote_to_be_reexecuted": false,
        "cell_id": "83d8b4b1eb944fafb85d24136c2f8b60",
        "deepnote_cell_type": "code"
      },
      "outputs": [],
      "execution_count": 2,
      "block_group": "c4fc22560cb04f9b922ecd90c9a9b8ee"
    },
    {
      "cell_type": "code",
      "source": "raw_data",
      "metadata": {
        "source_hash": "b5c45783",
        "execution_start": 1694928570168,
        "execution_millis": 310,
        "deepnote_to_be_reexecuted": false,
        "cell_id": "c65ca392a40347a69a4614e360e04d9d",
        "deepnote_cell_type": "code"
      },
      "outputs": [
        {
          "output_type": "execute_result",
          "execution_count": 3,
          "data": {
            "application/vnd.deepnote.dataframe.v3+json": {
              "column_count": 24,
              "row_count": 3362,
              "columns": [
                {
                  "name": "University of California San Diego Survey of Parking Space Occupancy Levels, Summer 2022",
                  "dtype": "object",
                  "stats": {
                    "unique_count": 1,
                    "nan_count": 3361,
                    "categories": [
                      {
                        "name": "By Lot",
                        "count": 1
                      },
                      {
                        "name": "Missing",
                        "count": 3361
                      }
                    ]
                  }
                },
                {
                  "name": "Unnamed: 1",
                  "dtype": "object",
                  "stats": {
                    "unique_count": 3,
                    "nan_count": 3,
                    "categories": [
                      {
                        "name": "La Jolla Campus",
                        "count": 2737
                      },
                      {
                        "name": "2 others",
                        "count": 622
                      },
                      {
                        "name": "Missing",
                        "count": 3
                      }
                    ]
                  }
                },
                {
                  "name": "Unnamed: 2",
                  "dtype": "object",
                  "stats": {
                    "unique_count": 5,
                    "nan_count": 3,
                    "categories": [
                      {
                        "name": "West Campus",
                        "count": 1812
                      },
                      {
                        "name": "4 others",
                        "count": 1547
                      },
                      {
                        "name": "Missing",
                        "count": 3
                      }
                    ]
                  }
                },
                {
                  "name": "Unnamed: 3",
                  "dtype": "object",
                  "stats": {
                    "unique_count": 19,
                    "nan_count": 3,
                    "categories": [
                      {
                        "name": "Medical Center Hillcrest",
                        "count": 621
                      },
                      {
                        "name": "18 others",
                        "count": 2738
                      },
                      {
                        "name": "Missing",
                        "count": 3
                      }
                    ]
                  }
                },
                {
                  "name": "Unnamed: 4",
                  "dtype": "object",
                  "stats": {
                    "unique_count": 13,
                    "nan_count": 3,
                    "categories": [
                      {
                        "name": "Parking Lot",
                        "count": 1847
                      },
                      {
                        "name": "12 others",
                        "count": 1512
                      },
                      {
                        "name": "Missing",
                        "count": 3
                      }
                    ]
                  }
                },
                {
                  "name": "Unnamed: 5",
                  "dtype": "object",
                  "stats": {
                    "unique_count": 198,
                    "nan_count": 3,
                    "categories": [
                      {
                        "name": "P103",
                        "count": 19
                      },
                      {
                        "name": "197 others",
                        "count": 3340
                      },
                      {
                        "name": "Missing",
                        "count": 3
                      }
                    ]
                  }
                },
                {
                  "name": "Unnamed: 6",
                  "dtype": "object",
                  "stats": {
                    "unique_count": 21,
                    "nan_count": 3,
                    "categories": [
                      {
                        "name": "Allocated",
                        "count": 1131
                      },
                      {
                        "name": "20 others",
                        "count": 2228
                      },
                      {
                        "name": "Missing",
                        "count": 3
                      }
                    ]
                  }
                },
                {
                  "name": "Unnamed: 7",
                  "dtype": "object",
                  "stats": {
                    "unique_count": 99,
                    "nan_count": 3131,
                    "categories": [
                      {
                        "name": " ",
                        "count": 44
                      },
                      {
                        "name": "98 others",
                        "count": 187
                      },
                      {
                        "name": "Missing",
                        "count": 3131
                      }
                    ]
                  }
                },
                {
                  "name": "Unnamed: 8",
                  "dtype": "object",
                  "stats": {
                    "unique_count": 1,
                    "nan_count": 3361,
                    "categories": [
                      {
                        "name": "Column1",
                        "count": 1
                      },
                      {
                        "name": "Missing",
                        "count": 3361
                      }
                    ]
                  }
                },
                {
                  "name": "Unnamed: 9",
                  "dtype": "object",
                  "stats": {
                    "unique_count": 177,
                    "nan_count": 2593,
                    "categories": [
                      {
                        "name": "2",
                        "count": 89
                      },
                      {
                        "name": "176 others",
                        "count": 680
                      },
                      {
                        "name": "Missing",
                        "count": 2593
                      }
                    ]
                  }
                },
                {
                  "name": "Unnamed: 10",
                  "dtype": "object",
                  "stats": {
                    "unique_count": 134,
                    "nan_count": 2560,
                    "categories": [
                      {
                        "name": "0",
                        "count": 141
                      },
                      {
                        "name": "133 others",
                        "count": 661
                      },
                      {
                        "name": "Missing",
                        "count": 2560
                      }
                    ]
                  }
                },
                {
                  "name": "Unnamed: 11",
                  "dtype": "object",
                  "stats": {
                    "unique_count": 119,
                    "nan_count": 2560,
                    "categories": [
                      {
                        "name": "0",
                        "count": 172
                      },
                      {
                        "name": "118 others",
                        "count": 630
                      },
                      {
                        "name": "Missing",
                        "count": 2560
                      }
                    ]
                  }
                },
                {
                  "name": "Unnamed: 12",
                  "dtype": "object",
                  "stats": {
                    "unique_count": 110,
                    "nan_count": 2560,
                    "categories": [
                      {
                        "name": "0",
                        "count": 194
                      },
                      {
                        "name": "109 others",
                        "count": 608
                      },
                      {
                        "name": "Missing",
                        "count": 2560
                      }
                    ]
                  }
                },
                {
                  "name": "Unnamed: 13",
                  "dtype": "object",
                  "stats": {
                    "unique_count": 104,
                    "nan_count": 2560,
                    "categories": [
                      {
                        "name": "0",
                        "count": 194
                      },
                      {
                        "name": "103 others",
                        "count": 608
                      },
                      {
                        "name": "Missing",
                        "count": 2560
                      }
                    ]
                  }
                },
                {
                  "name": "Unnamed: 14",
                  "dtype": "object",
                  "stats": {
                    "unique_count": 100,
                    "nan_count": 2561,
                    "categories": [
                      {
                        "name": "0",
                        "count": 163
                      },
                      {
                        "name": "99 others",
                        "count": 638
                      },
                      {
                        "name": "Missing",
                        "count": 2561
                      }
                    ]
                  }
                },
                {
                  "name": "Unnamed: 15",
                  "dtype": "object",
                  "stats": {
                    "unique_count": 106,
                    "nan_count": 2560,
                    "categories": [
                      {
                        "name": "0",
                        "count": 169
                      },
                      {
                        "name": "105 others",
                        "count": 633
                      },
                      {
                        "name": "Missing",
                        "count": 2560
                      }
                    ]
                  }
                },
                {
                  "name": "Unnamed: 16",
                  "dtype": "object",
                  "stats": {
                    "unique_count": 103,
                    "nan_count": 2560,
                    "categories": [
                      {
                        "name": "0",
                        "count": 154
                      },
                      {
                        "name": "102 others",
                        "count": 648
                      },
                      {
                        "name": "Missing",
                        "count": 2560
                      }
                    ]
                  }
                },
                {
                  "name": "Unnamed: 17",
                  "dtype": "object",
                  "stats": {
                    "unique_count": 113,
                    "nan_count": 2561,
                    "categories": [
                      {
                        "name": "0",
                        "count": 126
                      },
                      {
                        "name": "112 others",
                        "count": 675
                      },
                      {
                        "name": "Missing",
                        "count": 2561
                      }
                    ]
                  }
                },
                {
                  "name": "Unnamed: 18",
                  "dtype": "object",
                  "stats": {
                    "unique_count": 126,
                    "nan_count": 2560,
                    "categories": [
                      {
                        "name": "0",
                        "count": 102
                      },
                      {
                        "name": "125 others",
                        "count": 700
                      },
                      {
                        "name": "Missing",
                        "count": 2560
                      }
                    ]
                  }
                },
                {
                  "name": "Unnamed: 19",
                  "dtype": "object",
                  "stats": {
                    "unique_count": 132,
                    "nan_count": 2560,
                    "categories": [
                      {
                        "name": "1",
                        "count": 93
                      },
                      {
                        "name": "131 others",
                        "count": 709
                      },
                      {
                        "name": "Missing",
                        "count": 2560
                      }
                    ]
                  }
                },
                {
                  "name": "Unnamed: 20",
                  "dtype": "object",
                  "stats": {
                    "unique_count": 101,
                    "nan_count": 2598,
                    "categories": [
                      {
                        "name": "0",
                        "count": 274
                      },
                      {
                        "name": "100 others",
                        "count": 490
                      },
                      {
                        "name": "Missing",
                        "count": 2598
                      }
                    ]
                  }
                },
                {
                  "name": "Unnamed: 21",
                  "dtype": "object",
                  "stats": {
                    "unique_count": 139,
                    "nan_count": 2598,
                    "categories": [
                      {
                        "name": "2",
                        "count": 89
                      },
                      {
                        "name": "138 others",
                        "count": 675
                      },
                      {
                        "name": "Missing",
                        "count": 2598
                      }
                    ]
                  }
                },
                {
                  "name": "Unnamed: 22",
                  "dtype": "object",
                  "stats": {
                    "unique_count": 234,
                    "nan_count": 2598,
                    "categories": [
                      {
                        "name": "1",
                        "count": 269
                      },
                      {
                        "name": "233 others",
                        "count": 495
                      },
                      {
                        "name": "Missing",
                        "count": 2598
                      }
                    ]
                  }
                },
                {
                  "name": "Unnamed: 23",
                  "dtype": "object",
                  "stats": {
                    "unique_count": 31,
                    "nan_count": 3300,
                    "categories": [
                      {
                        "name": "Construction",
                        "count": 8
                      },
                      {
                        "name": "30 others",
                        "count": 54
                      },
                      {
                        "name": "Missing",
                        "count": 3300
                      }
                    ]
                  }
                },
                {
                  "name": "_deepnote_index_column",
                  "dtype": "int64"
                }
              ],
              "rows": [
                {
                  "University of California San Diego Survey of Parking Space Occupancy Levels, Summer 2022": "By Lot",
                  "Unnamed: 1": "nan",
                  "Unnamed: 2": "nan",
                  "Unnamed: 3": "nan",
                  "Unnamed: 4": "nan",
                  "Unnamed: 5": "nan",
                  "Unnamed: 6": "nan",
                  "Unnamed: 7": "nan",
                  "Unnamed: 8": "nan",
                  "Unnamed: 9": "nan",
                  "Unnamed: 10": "nan",
                  "Unnamed: 11": "nan",
                  "Unnamed: 12": "nan",
                  "Unnamed: 13": "nan",
                  "Unnamed: 14": "nan",
                  "Unnamed: 15": "nan",
                  "Unnamed: 16": "nan",
                  "Unnamed: 17": "nan",
                  "Unnamed: 18": "nan",
                  "Unnamed: 19": "nan",
                  "Unnamed: 20": "nan",
                  "Unnamed: 21": "nan",
                  "Unnamed: 22": "nan",
                  "Unnamed: 23": "nan",
                  "_deepnote_index_column": 0
                },
                {
                  "University of California San Diego Survey of Parking Space Occupancy Levels, Summer 2022": "nan",
                  "Unnamed: 1": "nan",
                  "Unnamed: 2": "nan",
                  "Unnamed: 3": "nan",
                  "Unnamed: 4": "nan",
                  "Unnamed: 5": "nan",
                  "Unnamed: 6": "nan",
                  "Unnamed: 7": "nan",
                  "Unnamed: 8": "nan",
                  "Unnamed: 9": "nan",
                  "Unnamed: 10": "nan",
                  "Unnamed: 11": "nan",
                  "Unnamed: 12": "nan",
                  "Unnamed: 13": "nan",
                  "Unnamed: 14": "nan",
                  "Unnamed: 15": "nan",
                  "Unnamed: 16": "nan",
                  "Unnamed: 17": "nan",
                  "Unnamed: 18": "nan",
                  "Unnamed: 19": "nan",
                  "Unnamed: 20": "nan",
                  "Unnamed: 21": "nan",
                  "Unnamed: 22": "nan",
                  "Unnamed: 23": "nan",
                  "_deepnote_index_column": 1
                },
                {
                  "University of California San Diego Survey of Parking Space Occupancy Levels, Summer 2022": "nan",
                  "Unnamed: 1": "Location",
                  "Unnamed: 2": "Area",
                  "Unnamed: 3": "Neighborhood",
                  "Unnamed: 4": "Structure",
                  "Unnamed: 5": "Lot",
                  "Unnamed: 6": "SpaceType",
                  "Unnamed: 7": "Subtype",
                  "Unnamed: 8": "Column1",
                  "Unnamed: 9": "Inventory",
                  "Unnamed: 10": "8am",
                  "Unnamed: 11": "9am",
                  "Unnamed: 12": "10am",
                  "Unnamed: 13": "11am",
                  "Unnamed: 14": "12pm",
                  "Unnamed: 15": "1pm",
                  "Unnamed: 16": "2pm",
                  "Unnamed: 17": "3pm",
                  "Unnamed: 18": "4pm",
                  "Unnamed: 19": "5pm",
                  "Unnamed: 20": "EmptySpaces",
                  "Unnamed: 21": "OccupiedSpaces",
                  "Unnamed: 22": "PercentOccupied",
                  "Unnamed: 23": "Column2",
                  "_deepnote_index_column": 2
                },
                {
                  "University of California San Diego Survey of Parking Space Occupancy Levels, Summer 2022": "nan",
                  "Unnamed: 1": "La Jolla Campus",
                  "Unnamed: 2": "Scripps Institution of Oceanography",
                  "Unnamed: 3": "Scripps Institution of Oceanography",
                  "Unnamed: 4": "Parking Lot",
                  "Unnamed: 5": "P001",
                  "Unnamed: 6": "A",
                  "Unnamed: 7": "nan",
                  "Unnamed: 8": "nan",
                  "Unnamed: 9": "nan",
                  "Unnamed: 10": "nan",
                  "Unnamed: 11": "nan",
                  "Unnamed: 12": "nan",
                  "Unnamed: 13": "nan",
                  "Unnamed: 14": "nan",
                  "Unnamed: 15": "nan",
                  "Unnamed: 16": "nan",
                  "Unnamed: 17": "nan",
                  "Unnamed: 18": "nan",
                  "Unnamed: 19": "nan",
                  "Unnamed: 20": "nan",
                  "Unnamed: 21": "nan",
                  "Unnamed: 22": "nan",
                  "Unnamed: 23": "nan",
                  "_deepnote_index_column": 3
                },
                {
                  "University of California San Diego Survey of Parking Space Occupancy Levels, Summer 2022": "nan",
                  "Unnamed: 1": "La Jolla Campus",
                  "Unnamed: 2": "Scripps Institution of Oceanography",
                  "Unnamed: 3": "Scripps Institution of Oceanography",
                  "Unnamed: 4": "Parking Lot",
                  "Unnamed: 5": "P001",
                  "Unnamed: 6": "B",
                  "Unnamed: 7": "nan",
                  "Unnamed: 8": "nan",
                  "Unnamed: 9": "nan",
                  "Unnamed: 10": "nan",
                  "Unnamed: 11": "nan",
                  "Unnamed: 12": "nan",
                  "Unnamed: 13": "nan",
                  "Unnamed: 14": "nan",
                  "Unnamed: 15": "nan",
                  "Unnamed: 16": "nan",
                  "Unnamed: 17": "nan",
                  "Unnamed: 18": "nan",
                  "Unnamed: 19": "nan",
                  "Unnamed: 20": "nan",
                  "Unnamed: 21": "nan",
                  "Unnamed: 22": "nan",
                  "Unnamed: 23": "nan",
                  "_deepnote_index_column": 4
                },
                {
                  "University of California San Diego Survey of Parking Space Occupancy Levels, Summer 2022": "nan",
                  "Unnamed: 1": "La Jolla Campus",
                  "Unnamed: 2": "Scripps Institution of Oceanography",
                  "Unnamed: 3": "Scripps Institution of Oceanography",
                  "Unnamed: 4": "Parking Lot",
                  "Unnamed: 5": "P001",
                  "Unnamed: 6": "S",
                  "Unnamed: 7": "nan",
                  "Unnamed: 8": "nan",
                  "Unnamed: 9": "nan",
                  "Unnamed: 10": "nan",
                  "Unnamed: 11": "nan",
                  "Unnamed: 12": "nan",
                  "Unnamed: 13": "nan",
                  "Unnamed: 14": "nan",
                  "Unnamed: 15": "nan",
                  "Unnamed: 16": "nan",
                  "Unnamed: 17": "nan",
                  "Unnamed: 18": "nan",
                  "Unnamed: 19": "nan",
                  "Unnamed: 20": "nan",
                  "Unnamed: 21": "nan",
                  "Unnamed: 22": "nan",
                  "Unnamed: 23": "nan",
                  "_deepnote_index_column": 5
                },
                {
                  "University of California San Diego Survey of Parking Space Occupancy Levels, Summer 2022": "nan",
                  "Unnamed: 1": "La Jolla Campus",
                  "Unnamed: 2": "Scripps Institution of Oceanography",
                  "Unnamed: 3": "Scripps Institution of Oceanography",
                  "Unnamed: 4": "Parking Lot",
                  "Unnamed: 5": "P001",
                  "Unnamed: 6": "Visitor",
                  "Unnamed: 7": "nan",
                  "Unnamed: 8": "nan",
                  "Unnamed: 9": "nan",
                  "Unnamed: 10": "nan",
                  "Unnamed: 11": "nan",
                  "Unnamed: 12": "nan",
                  "Unnamed: 13": "nan",
                  "Unnamed: 14": "nan",
                  "Unnamed: 15": "nan",
                  "Unnamed: 16": "nan",
                  "Unnamed: 17": "nan",
                  "Unnamed: 18": "nan",
                  "Unnamed: 19": "nan",
                  "Unnamed: 20": "nan",
                  "Unnamed: 21": "nan",
                  "Unnamed: 22": "nan",
                  "Unnamed: 23": "nan",
                  "_deepnote_index_column": 6
                },
                {
                  "University of California San Diego Survey of Parking Space Occupancy Levels, Summer 2022": "nan",
                  "Unnamed: 1": "La Jolla Campus",
                  "Unnamed: 2": "Scripps Institution of Oceanography",
                  "Unnamed: 3": "Scripps Institution of Oceanography",
                  "Unnamed: 4": "Parking Lot",
                  "Unnamed: 5": "P001",
                  "Unnamed: 6": "Visitor",
                  "Unnamed: 7": "nan",
                  "Unnamed: 8": "nan",
                  "Unnamed: 9": "nan",
                  "Unnamed: 10": "nan",
                  "Unnamed: 11": "nan",
                  "Unnamed: 12": "nan",
                  "Unnamed: 13": "nan",
                  "Unnamed: 14": "nan",
                  "Unnamed: 15": "nan",
                  "Unnamed: 16": "nan",
                  "Unnamed: 17": "nan",
                  "Unnamed: 18": "nan",
                  "Unnamed: 19": "nan",
                  "Unnamed: 20": "nan",
                  "Unnamed: 21": "nan",
                  "Unnamed: 22": "nan",
                  "Unnamed: 23": "nan",
                  "_deepnote_index_column": 7
                },
                {
                  "University of California San Diego Survey of Parking Space Occupancy Levels, Summer 2022": "nan",
                  "Unnamed: 1": "La Jolla Campus",
                  "Unnamed: 2": "Scripps Institution of Oceanography",
                  "Unnamed: 3": "Scripps Institution of Oceanography",
                  "Unnamed: 4": "Parking Lot",
                  "Unnamed: 5": "P001",
                  "Unnamed: 6": "Reserved",
                  "Unnamed: 7": "816",
                  "Unnamed: 8": "nan",
                  "Unnamed: 9": "1",
                  "Unnamed: 10": "1",
                  "Unnamed: 11": "0",
                  "Unnamed: 12": "0",
                  "Unnamed: 13": "1",
                  "Unnamed: 14": "1",
                  "Unnamed: 15": "0",
                  "Unnamed: 16": "0",
                  "Unnamed: 17": "0",
                  "Unnamed: 18": "0",
                  "Unnamed: 19": "0",
                  "Unnamed: 20": "0",
                  "Unnamed: 21": "1",
                  "Unnamed: 22": "1",
                  "Unnamed: 23": "nan",
                  "_deepnote_index_column": 8
                },
                {
                  "University of California San Diego Survey of Parking Space Occupancy Levels, Summer 2022": "nan",
                  "Unnamed: 1": "La Jolla Campus",
                  "Unnamed: 2": "Scripps Institution of Oceanography",
                  "Unnamed: 3": "Scripps Institution of Oceanography",
                  "Unnamed: 4": "Parking Lot",
                  "Unnamed: 5": "P001",
                  "Unnamed: 6": "Allocated",
                  "Unnamed: 7": " SIO V1G",
                  "Unnamed: 8": "nan",
                  "Unnamed: 9": "1",
                  "Unnamed: 10": "nan",
                  "Unnamed: 11": "nan",
                  "Unnamed: 12": "nan",
                  "Unnamed: 13": "nan",
                  "Unnamed: 14": "nan",
                  "Unnamed: 15": "nan",
                  "Unnamed: 16": "nan",
                  "Unnamed: 17": "nan",
                  "Unnamed: 18": "nan",
                  "Unnamed: 19": "nan",
                  "Unnamed: 20": "0",
                  "Unnamed: 21": "1",
                  "Unnamed: 22": "1",
                  "Unnamed: 23": "nan",
                  "_deepnote_index_column": 9
                }
              ]
            },
            "text/plain": "     University of California San Diego Survey of Parking Space Occupancy Levels, Summer 2022  \\\n0                                                By Lot                                         \n1                                                   NaN                                         \n2                                                   NaN                                         \n3                                                   NaN                                         \n4                                                   NaN                                         \n...                                                 ...                                         \n3357                                                NaN                                         \n3358                                                NaN                                         \n3359                                                NaN                                         \n3360                                                NaN                                         \n3361                                                NaN                                         \n\n                    Unnamed: 1                           Unnamed: 2  \\\n0                          NaN                                  NaN   \n1                          NaN                                  NaN   \n2                     Location                                 Area   \n3              La Jolla Campus  Scripps Institution of Oceanography   \n4              La Jolla Campus  Scripps Institution of Oceanography   \n...                        ...                                  ...   \n3357  Medical Center Hillcrest             Medical Center Hillcrest   \n3358  Medical Center Hillcrest             Medical Center Hillcrest   \n3359  Medical Center Hillcrest             Medical Center Hillcrest   \n3360  Medical Center Hillcrest             Medical Center Hillcrest   \n3361  Medical Center Hillcrest             Medical Center Hillcrest   \n\n                               Unnamed: 3                Unnamed: 4  \\\n0                                     NaN                       NaN   \n1                                     NaN                       NaN   \n2                            Neighborhood                 Structure   \n3     Scripps Institution of Oceanography               Parking Lot   \n4     Scripps Institution of Oceanography               Parking Lot   \n...                                   ...                       ...   \n3357             Medical Center Hillcrest  Medical Center Hillcrest   \n3358             Medical Center Hillcrest  Medical Center Hillcrest   \n3359             Medical Center Hillcrest  Medical Center Hillcrest   \n3360             Medical Center Hillcrest  Medical Center Hillcrest   \n3361             Medical Center Hillcrest  Medical Center Hillcrest   \n\n     Unnamed: 5    Unnamed: 6 Unnamed: 7 Unnamed: 8 Unnamed: 9  ...  \\\n0           NaN           NaN        NaN        NaN        NaN  ...   \n1           NaN           NaN        NaN        NaN        NaN  ...   \n2           Lot     SpaceType    Subtype    Column1  Inventory  ...   \n3          P001             A        NaN        NaN        NaN  ...   \n4          P001             B        NaN        NaN        NaN  ...   \n...         ...           ...        ...        ...        ...  ...   \n3357       P964    Accessible        NaN        NaN         11  ...   \n3358       P964    UC Vehicle        NaN        NaN        NaN  ...   \n3359       P964  Service Yard        NaN        NaN        NaN  ...   \n3360       P964       Loading        NaN        NaN        NaN  ...   \n3361       P964         Total        NaN        NaN        105  ...   \n\n     Unnamed: 14 Unnamed: 15 Unnamed: 16 Unnamed: 17 Unnamed: 18 Unnamed: 19  \\\n0            NaN         NaN         NaN         NaN         NaN         NaN   \n1            NaN         NaN         NaN         NaN         NaN         NaN   \n2           12pm         1pm         2pm         3pm         4pm         5pm   \n3            NaN         NaN         NaN         NaN         NaN         NaN   \n4            NaN         NaN         NaN         NaN         NaN         NaN   \n...          ...         ...         ...         ...         ...         ...   \n3357           1           2           0           1           0           4   \n3358         NaN         NaN         NaN         NaN         NaN         NaN   \n3359         NaN         NaN         NaN         NaN         NaN         NaN   \n3360         NaN         NaN         NaN         NaN         NaN         NaN   \n3361          57          60          44          56          57          62   \n\n      Unnamed: 20     Unnamed: 21      Unnamed: 22 Unnamed: 23  \n0             NaN             NaN              NaN         NaN  \n1             NaN             NaN              NaN         NaN  \n2     EmptySpaces  OccupiedSpaces  PercentOccupied     Column2  \n3             NaN             NaN              NaN         NaN  \n4             NaN             NaN              NaN         NaN  \n...           ...             ...              ...         ...  \n3357            0              11                1         NaN  \n3358          NaN             NaN              NaN         NaN  \n3359          NaN             NaN              NaN         NaN  \n3360          NaN             NaN              NaN         NaN  \n3361           44              61         0.580952         NaN  \n\n[3362 rows x 24 columns]",
            "text/html": "<div>\n<style scoped>\n    .dataframe tbody tr th:only-of-type {\n        vertical-align: middle;\n    }\n\n    .dataframe tbody tr th {\n        vertical-align: top;\n    }\n\n    .dataframe thead th {\n        text-align: right;\n    }\n</style>\n<table border=\"1\" class=\"dataframe\">\n  <thead>\n    <tr style=\"text-align: right;\">\n      <th></th>\n      <th>University of California San Diego Survey of Parking Space Occupancy Levels, Summer 2022</th>\n      <th>Unnamed: 1</th>\n      <th>Unnamed: 2</th>\n      <th>Unnamed: 3</th>\n      <th>Unnamed: 4</th>\n      <th>Unnamed: 5</th>\n      <th>Unnamed: 6</th>\n      <th>Unnamed: 7</th>\n      <th>Unnamed: 8</th>\n      <th>Unnamed: 9</th>\n      <th>...</th>\n      <th>Unnamed: 14</th>\n      <th>Unnamed: 15</th>\n      <th>Unnamed: 16</th>\n      <th>Unnamed: 17</th>\n      <th>Unnamed: 18</th>\n      <th>Unnamed: 19</th>\n      <th>Unnamed: 20</th>\n      <th>Unnamed: 21</th>\n      <th>Unnamed: 22</th>\n      <th>Unnamed: 23</th>\n    </tr>\n  </thead>\n  <tbody>\n    <tr>\n      <th>0</th>\n      <td>By Lot</td>\n      <td>NaN</td>\n      <td>NaN</td>\n      <td>NaN</td>\n      <td>NaN</td>\n      <td>NaN</td>\n      <td>NaN</td>\n      <td>NaN</td>\n      <td>NaN</td>\n      <td>NaN</td>\n      <td>...</td>\n      <td>NaN</td>\n      <td>NaN</td>\n      <td>NaN</td>\n      <td>NaN</td>\n      <td>NaN</td>\n      <td>NaN</td>\n      <td>NaN</td>\n      <td>NaN</td>\n      <td>NaN</td>\n      <td>NaN</td>\n    </tr>\n    <tr>\n      <th>1</th>\n      <td>NaN</td>\n      <td>NaN</td>\n      <td>NaN</td>\n      <td>NaN</td>\n      <td>NaN</td>\n      <td>NaN</td>\n      <td>NaN</td>\n      <td>NaN</td>\n      <td>NaN</td>\n      <td>NaN</td>\n      <td>...</td>\n      <td>NaN</td>\n      <td>NaN</td>\n      <td>NaN</td>\n      <td>NaN</td>\n      <td>NaN</td>\n      <td>NaN</td>\n      <td>NaN</td>\n      <td>NaN</td>\n      <td>NaN</td>\n      <td>NaN</td>\n    </tr>\n    <tr>\n      <th>2</th>\n      <td>NaN</td>\n      <td>Location</td>\n      <td>Area</td>\n      <td>Neighborhood</td>\n      <td>Structure</td>\n      <td>Lot</td>\n      <td>SpaceType</td>\n      <td>Subtype</td>\n      <td>Column1</td>\n      <td>Inventory</td>\n      <td>...</td>\n      <td>12pm</td>\n      <td>1pm</td>\n      <td>2pm</td>\n      <td>3pm</td>\n      <td>4pm</td>\n      <td>5pm</td>\n      <td>EmptySpaces</td>\n      <td>OccupiedSpaces</td>\n      <td>PercentOccupied</td>\n      <td>Column2</td>\n    </tr>\n    <tr>\n      <th>3</th>\n      <td>NaN</td>\n      <td>La Jolla Campus</td>\n      <td>Scripps Institution of Oceanography</td>\n      <td>Scripps Institution of Oceanography</td>\n      <td>Parking Lot</td>\n      <td>P001</td>\n      <td>A</td>\n      <td>NaN</td>\n      <td>NaN</td>\n      <td>NaN</td>\n      <td>...</td>\n      <td>NaN</td>\n      <td>NaN</td>\n      <td>NaN</td>\n      <td>NaN</td>\n      <td>NaN</td>\n      <td>NaN</td>\n      <td>NaN</td>\n      <td>NaN</td>\n      <td>NaN</td>\n      <td>NaN</td>\n    </tr>\n    <tr>\n      <th>4</th>\n      <td>NaN</td>\n      <td>La Jolla Campus</td>\n      <td>Scripps Institution of Oceanography</td>\n      <td>Scripps Institution of Oceanography</td>\n      <td>Parking Lot</td>\n      <td>P001</td>\n      <td>B</td>\n      <td>NaN</td>\n      <td>NaN</td>\n      <td>NaN</td>\n      <td>...</td>\n      <td>NaN</td>\n      <td>NaN</td>\n      <td>NaN</td>\n      <td>NaN</td>\n      <td>NaN</td>\n      <td>NaN</td>\n      <td>NaN</td>\n      <td>NaN</td>\n      <td>NaN</td>\n      <td>NaN</td>\n    </tr>\n    <tr>\n      <th>...</th>\n      <td>...</td>\n      <td>...</td>\n      <td>...</td>\n      <td>...</td>\n      <td>...</td>\n      <td>...</td>\n      <td>...</td>\n      <td>...</td>\n      <td>...</td>\n      <td>...</td>\n      <td>...</td>\n      <td>...</td>\n      <td>...</td>\n      <td>...</td>\n      <td>...</td>\n      <td>...</td>\n      <td>...</td>\n      <td>...</td>\n      <td>...</td>\n      <td>...</td>\n      <td>...</td>\n    </tr>\n    <tr>\n      <th>3357</th>\n      <td>NaN</td>\n      <td>Medical Center Hillcrest</td>\n      <td>Medical Center Hillcrest</td>\n      <td>Medical Center Hillcrest</td>\n      <td>Medical Center Hillcrest</td>\n      <td>P964</td>\n      <td>Accessible</td>\n      <td>NaN</td>\n      <td>NaN</td>\n      <td>11</td>\n      <td>...</td>\n      <td>1</td>\n      <td>2</td>\n      <td>0</td>\n      <td>1</td>\n      <td>0</td>\n      <td>4</td>\n      <td>0</td>\n      <td>11</td>\n      <td>1</td>\n      <td>NaN</td>\n    </tr>\n    <tr>\n      <th>3358</th>\n      <td>NaN</td>\n      <td>Medical Center Hillcrest</td>\n      <td>Medical Center Hillcrest</td>\n      <td>Medical Center Hillcrest</td>\n      <td>Medical Center Hillcrest</td>\n      <td>P964</td>\n      <td>UC Vehicle</td>\n      <td>NaN</td>\n      <td>NaN</td>\n      <td>NaN</td>\n      <td>...</td>\n      <td>NaN</td>\n      <td>NaN</td>\n      <td>NaN</td>\n      <td>NaN</td>\n      <td>NaN</td>\n      <td>NaN</td>\n      <td>NaN</td>\n      <td>NaN</td>\n      <td>NaN</td>\n      <td>NaN</td>\n    </tr>\n    <tr>\n      <th>3359</th>\n      <td>NaN</td>\n      <td>Medical Center Hillcrest</td>\n      <td>Medical Center Hillcrest</td>\n      <td>Medical Center Hillcrest</td>\n      <td>Medical Center Hillcrest</td>\n      <td>P964</td>\n      <td>Service Yard</td>\n      <td>NaN</td>\n      <td>NaN</td>\n      <td>NaN</td>\n      <td>...</td>\n      <td>NaN</td>\n      <td>NaN</td>\n      <td>NaN</td>\n      <td>NaN</td>\n      <td>NaN</td>\n      <td>NaN</td>\n      <td>NaN</td>\n      <td>NaN</td>\n      <td>NaN</td>\n      <td>NaN</td>\n    </tr>\n    <tr>\n      <th>3360</th>\n      <td>NaN</td>\n      <td>Medical Center Hillcrest</td>\n      <td>Medical Center Hillcrest</td>\n      <td>Medical Center Hillcrest</td>\n      <td>Medical Center Hillcrest</td>\n      <td>P964</td>\n      <td>Loading</td>\n      <td>NaN</td>\n      <td>NaN</td>\n      <td>NaN</td>\n      <td>...</td>\n      <td>NaN</td>\n      <td>NaN</td>\n      <td>NaN</td>\n      <td>NaN</td>\n      <td>NaN</td>\n      <td>NaN</td>\n      <td>NaN</td>\n      <td>NaN</td>\n      <td>NaN</td>\n      <td>NaN</td>\n    </tr>\n    <tr>\n      <th>3361</th>\n      <td>NaN</td>\n      <td>Medical Center Hillcrest</td>\n      <td>Medical Center Hillcrest</td>\n      <td>Medical Center Hillcrest</td>\n      <td>Medical Center Hillcrest</td>\n      <td>P964</td>\n      <td>Total</td>\n      <td>NaN</td>\n      <td>NaN</td>\n      <td>105</td>\n      <td>...</td>\n      <td>57</td>\n      <td>60</td>\n      <td>44</td>\n      <td>56</td>\n      <td>57</td>\n      <td>62</td>\n      <td>44</td>\n      <td>61</td>\n      <td>0.580952</td>\n      <td>NaN</td>\n    </tr>\n  </tbody>\n</table>\n<p>3362 rows × 24 columns</p>\n</div>"
          },
          "metadata": {}
        }
      ],
      "execution_count": 3,
      "block_group": "dc0044bfd98c47d880699bce990848d4"
    },
    {
      "cell_type": "markdown",
      "source": "<a style='text-decoration:none;line-height:16px;display:flex;color:#5B5B62;padding:10px;justify-content:end;' href='https://deepnote.com?utm_source=created-in-deepnote-cell&projectId=79f50031-d40f-43af-acaa-365d48045c9e' target=\"_blank\">\n<img alt='Created in deepnote.com' style='display:inline;max-height:16px;margin:0px;margin-right:7.5px;' src='data:image/svg+xml;base64,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' > </img>\nCreated in <span style='font-weight:600;margin-left:4px;'>Deepnote</span></a>",
      "metadata": {
        "created_in_deepnote_cell": true,
        "deepnote_cell_type": "markdown"
      }
    }
  ],
  "nbformat": 4,
  "nbformat_minor": 0,
  "metadata": {
    "deepnote": {},
    "orig_nbformat": 2,
    "deepnote_notebook_id": "7990e8bc0d714890a643914edb1851ca",
    "deepnote_execution_queue": []
  }
}