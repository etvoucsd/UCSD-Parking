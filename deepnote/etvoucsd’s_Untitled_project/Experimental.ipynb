{
  "cells": [
    {
      "cell_type": "code",
      "source": "import pandas as pd",
      "metadata": {
        "source_hash": null,
        "execution_start": 1695050285234,
        "execution_millis": 8,
        "deepnote_to_be_reexecuted": false,
        "cell_id": "8cd70abcb22a4db5bf4f60ffb38bfe02",
        "deepnote_cell_type": "code"
      },
      "outputs": [
        {
          "output_type": "error",
          "ename": "SyntaxError",
          "evalue": "invalid syntax (3564508045.py, line 2)",
          "traceback": [
            "\u001b[0;36m  Cell \u001b[0;32mIn [1], line 2\u001b[0;36m\u001b[0m\n\u001b[0;31m    pip install openpyxl\u001b[0m\n\u001b[0m        ^\u001b[0m\n\u001b[0;31mSyntaxError\u001b[0m\u001b[0;31m:\u001b[0m invalid syntax\n"
          ]
        }
      ],
      "execution_count": null,
      "block_group": "8cd70abcb22a4db5bf4f60ffb38bfe02"
    },
    {
      "cell_type": "code",
      "source": "#raw imported data\nsummer2019_2020 = pd.read_excel('2019-2020/QPASS 2019-2020-1 Summer.xlsx')\nsummer2019_2020",
      "metadata": {
        "source_hash": null,
        "execution_start": 1695050288408,
        "execution_millis": 319,
        "deepnote_table_state": {
          "sortBy": [],
          "filters": [],
          "pageSize": 10,
          "pageIndex": 0
        },
        "deepnote_table_loading": false,
        "deepnote_to_be_reexecuted": false,
        "cell_id": "7c33ed4ff4914463b255f68f2b72cc50",
        "deepnote_cell_type": "code"
      },
      "outputs": [
        {
          "output_type": "error",
          "ename": "FileNotFoundError",
          "evalue": "[Errno 2] No such file or directory: '2019-2020/QPASS 2019-2020-1 Summer.xlsx'",
          "traceback": [
            "\u001b[0;31m---------------------------------------------------------------------------\u001b[0m",
            "\u001b[0;31mFileNotFoundError\u001b[0m                         Traceback (most recent call last)",
            "Cell \u001b[0;32mIn [3], line 3\u001b[0m\n\u001b[1;32m      1\u001b[0m _deepnote_current_table_attrs \u001b[38;5;241m=\u001b[39m \u001b[38;5;124m'\u001b[39m\u001b[38;5;124m{\u001b[39m\u001b[38;5;124m\"\u001b[39m\u001b[38;5;124mpageSize\u001b[39m\u001b[38;5;124m\"\u001b[39m\u001b[38;5;124m:10,\u001b[39m\u001b[38;5;124m\"\u001b[39m\u001b[38;5;124mpageIndex\u001b[39m\u001b[38;5;124m\"\u001b[39m\u001b[38;5;124m:0,\u001b[39m\u001b[38;5;124m\"\u001b[39m\u001b[38;5;124msortBy\u001b[39m\u001b[38;5;124m\"\u001b[39m\u001b[38;5;124m:[],\u001b[39m\u001b[38;5;124m\"\u001b[39m\u001b[38;5;124mfilters\u001b[39m\u001b[38;5;124m\"\u001b[39m\u001b[38;5;124m:[]}\u001b[39m\u001b[38;5;124m'\u001b[39m\n\u001b[1;32m      2\u001b[0m \u001b[38;5;66;03m#raw imported data\u001b[39;00m\n\u001b[0;32m----> 3\u001b[0m summer2019_2020 \u001b[38;5;241m=\u001b[39m \u001b[43mpd\u001b[49m\u001b[38;5;241;43m.\u001b[39;49m\u001b[43mread_excel\u001b[49m\u001b[43m(\u001b[49m\u001b[38;5;124;43m'\u001b[39;49m\u001b[38;5;124;43m2019-2020/QPASS 2019-2020-1 Summer.xlsx\u001b[39;49m\u001b[38;5;124;43m'\u001b[39;49m\u001b[43m)\u001b[49m\n\u001b[1;32m      4\u001b[0m summer2019_2020\n",
            "File \u001b[0;32m/shared-libs/python3.9/py/lib/python3.9/site-packages/pandas/util/_decorators.py:299\u001b[0m, in \u001b[0;36mdeprecate_nonkeyword_arguments.<locals>.decorate.<locals>.wrapper\u001b[0;34m(*args, **kwargs)\u001b[0m\n\u001b[1;32m    294\u001b[0m     msg \u001b[38;5;241m=\u001b[39m (\n\u001b[1;32m    295\u001b[0m         \u001b[38;5;124mf\u001b[39m\u001b[38;5;124m\"\u001b[39m\u001b[38;5;124mStarting with Pandas version \u001b[39m\u001b[38;5;132;01m{\u001b[39;00mversion\u001b[38;5;132;01m}\u001b[39;00m\u001b[38;5;124m all arguments of \u001b[39m\u001b[38;5;124m\"\u001b[39m\n\u001b[1;32m    296\u001b[0m         \u001b[38;5;124mf\u001b[39m\u001b[38;5;124m\"\u001b[39m\u001b[38;5;132;01m{\u001b[39;00mfunc\u001b[38;5;241m.\u001b[39m\u001b[38;5;18m__name__\u001b[39m\u001b[38;5;132;01m}\u001b[39;00m\u001b[38;5;132;01m{\u001b[39;00marguments\u001b[38;5;132;01m}\u001b[39;00m\u001b[38;5;124m will be keyword-only\u001b[39m\u001b[38;5;124m\"\u001b[39m\n\u001b[1;32m    297\u001b[0m     )\n\u001b[1;32m    298\u001b[0m     warnings\u001b[38;5;241m.\u001b[39mwarn(msg, \u001b[38;5;167;01mFutureWarning\u001b[39;00m, stacklevel\u001b[38;5;241m=\u001b[39mstacklevel)\n\u001b[0;32m--> 299\u001b[0m \u001b[38;5;28;01mreturn\u001b[39;00m \u001b[43mfunc\u001b[49m\u001b[43m(\u001b[49m\u001b[38;5;241;43m*\u001b[39;49m\u001b[43margs\u001b[49m\u001b[43m,\u001b[49m\u001b[43m \u001b[49m\u001b[38;5;241;43m*\u001b[39;49m\u001b[38;5;241;43m*\u001b[39;49m\u001b[43mkwargs\u001b[49m\u001b[43m)\u001b[49m\n",
            "File \u001b[0;32m/shared-libs/python3.9/py/lib/python3.9/site-packages/pandas/io/excel/_base.py:336\u001b[0m, in \u001b[0;36mread_excel\u001b[0;34m(io, sheet_name, header, names, index_col, usecols, squeeze, dtype, engine, converters, true_values, false_values, skiprows, nrows, na_values, keep_default_na, na_filter, verbose, parse_dates, date_parser, thousands, comment, skipfooter, convert_float, mangle_dupe_cols, storage_options)\u001b[0m\n\u001b[1;32m    334\u001b[0m \u001b[38;5;28;01mif\u001b[39;00m \u001b[38;5;129;01mnot\u001b[39;00m \u001b[38;5;28misinstance\u001b[39m(io, ExcelFile):\n\u001b[1;32m    335\u001b[0m     should_close \u001b[38;5;241m=\u001b[39m \u001b[38;5;28;01mTrue\u001b[39;00m\n\u001b[0;32m--> 336\u001b[0m     io \u001b[38;5;241m=\u001b[39m \u001b[43mExcelFile\u001b[49m\u001b[43m(\u001b[49m\u001b[43mio\u001b[49m\u001b[43m,\u001b[49m\u001b[43m \u001b[49m\u001b[43mstorage_options\u001b[49m\u001b[38;5;241;43m=\u001b[39;49m\u001b[43mstorage_options\u001b[49m\u001b[43m,\u001b[49m\u001b[43m \u001b[49m\u001b[43mengine\u001b[49m\u001b[38;5;241;43m=\u001b[39;49m\u001b[43mengine\u001b[49m\u001b[43m)\u001b[49m\n\u001b[1;32m    337\u001b[0m \u001b[38;5;28;01melif\u001b[39;00m engine \u001b[38;5;129;01mand\u001b[39;00m engine \u001b[38;5;241m!=\u001b[39m io\u001b[38;5;241m.\u001b[39mengine:\n\u001b[1;32m    338\u001b[0m     \u001b[38;5;28;01mraise\u001b[39;00m \u001b[38;5;167;01mValueError\u001b[39;00m(\n\u001b[1;32m    339\u001b[0m         \u001b[38;5;124m\"\u001b[39m\u001b[38;5;124mEngine should not be specified when passing \u001b[39m\u001b[38;5;124m\"\u001b[39m\n\u001b[1;32m    340\u001b[0m         \u001b[38;5;124m\"\u001b[39m\u001b[38;5;124man ExcelFile - ExcelFile already has the engine set\u001b[39m\u001b[38;5;124m\"\u001b[39m\n\u001b[1;32m    341\u001b[0m     )\n",
            "File \u001b[0;32m/shared-libs/python3.9/py/lib/python3.9/site-packages/pandas/io/excel/_base.py:1080\u001b[0m, in \u001b[0;36mExcelFile.__init__\u001b[0;34m(self, path_or_buffer, engine, storage_options)\u001b[0m\n\u001b[1;32m   1078\u001b[0m     ext \u001b[38;5;241m=\u001b[39m \u001b[38;5;124m\"\u001b[39m\u001b[38;5;124mxls\u001b[39m\u001b[38;5;124m\"\u001b[39m\n\u001b[1;32m   1079\u001b[0m \u001b[38;5;28;01melse\u001b[39;00m:\n\u001b[0;32m-> 1080\u001b[0m     ext \u001b[38;5;241m=\u001b[39m \u001b[43minspect_excel_format\u001b[49m\u001b[43m(\u001b[49m\n\u001b[1;32m   1081\u001b[0m \u001b[43m        \u001b[49m\u001b[43mcontent\u001b[49m\u001b[38;5;241;43m=\u001b[39;49m\u001b[43mpath_or_buffer\u001b[49m\u001b[43m,\u001b[49m\u001b[43m \u001b[49m\u001b[43mstorage_options\u001b[49m\u001b[38;5;241;43m=\u001b[39;49m\u001b[43mstorage_options\u001b[49m\n\u001b[1;32m   1082\u001b[0m \u001b[43m    \u001b[49m\u001b[43m)\u001b[49m\n\u001b[1;32m   1084\u001b[0m \u001b[38;5;28;01mif\u001b[39;00m ext \u001b[38;5;241m==\u001b[39m \u001b[38;5;124m\"\u001b[39m\u001b[38;5;124mods\u001b[39m\u001b[38;5;124m\"\u001b[39m:\n\u001b[1;32m   1085\u001b[0m     engine \u001b[38;5;241m=\u001b[39m \u001b[38;5;124m\"\u001b[39m\u001b[38;5;124modf\u001b[39m\u001b[38;5;124m\"\u001b[39m\n",
            "File \u001b[0;32m/shared-libs/python3.9/py/lib/python3.9/site-packages/pandas/io/excel/_base.py:958\u001b[0m, in \u001b[0;36minspect_excel_format\u001b[0;34m(path, content, storage_options)\u001b[0m\n\u001b[1;32m    955\u001b[0m     content_or_path \u001b[38;5;241m=\u001b[39m content \u001b[38;5;129;01mor\u001b[39;00m path\n\u001b[1;32m    956\u001b[0m \u001b[38;5;28;01massert\u001b[39;00m content_or_path \u001b[38;5;129;01mis\u001b[39;00m \u001b[38;5;129;01mnot\u001b[39;00m \u001b[38;5;28;01mNone\u001b[39;00m\n\u001b[0;32m--> 958\u001b[0m \u001b[38;5;28;01mwith\u001b[39;00m \u001b[43mget_handle\u001b[49m\u001b[43m(\u001b[49m\n\u001b[1;32m    959\u001b[0m \u001b[43m    \u001b[49m\u001b[43mcontent_or_path\u001b[49m\u001b[43m,\u001b[49m\u001b[43m \u001b[49m\u001b[38;5;124;43m\"\u001b[39;49m\u001b[38;5;124;43mrb\u001b[39;49m\u001b[38;5;124;43m\"\u001b[39;49m\u001b[43m,\u001b[49m\u001b[43m \u001b[49m\u001b[43mstorage_options\u001b[49m\u001b[38;5;241;43m=\u001b[39;49m\u001b[43mstorage_options\u001b[49m\u001b[43m,\u001b[49m\u001b[43m \u001b[49m\u001b[43mis_text\u001b[49m\u001b[38;5;241;43m=\u001b[39;49m\u001b[38;5;28;43;01mFalse\u001b[39;49;00m\n\u001b[1;32m    960\u001b[0m \u001b[43m\u001b[49m\u001b[43m)\u001b[49m \u001b[38;5;28;01mas\u001b[39;00m handle:\n\u001b[1;32m    961\u001b[0m     stream \u001b[38;5;241m=\u001b[39m handle\u001b[38;5;241m.\u001b[39mhandle\n\u001b[1;32m    962\u001b[0m     stream\u001b[38;5;241m.\u001b[39mseek(\u001b[38;5;241m0\u001b[39m)\n",
            "File \u001b[0;32m/shared-libs/python3.9/py/lib/python3.9/site-packages/pandas/io/common.py:656\u001b[0m, in \u001b[0;36mget_handle\u001b[0;34m(path_or_buf, mode, encoding, compression, memory_map, is_text, errors, storage_options)\u001b[0m\n\u001b[1;32m    647\u001b[0m         handle \u001b[38;5;241m=\u001b[39m \u001b[38;5;28mopen\u001b[39m(\n\u001b[1;32m    648\u001b[0m             handle,\n\u001b[1;32m    649\u001b[0m             ioargs\u001b[38;5;241m.\u001b[39mmode,\n\u001b[0;32m   (...)\u001b[0m\n\u001b[1;32m    652\u001b[0m             newline\u001b[38;5;241m=\u001b[39m\u001b[38;5;124m\"\u001b[39m\u001b[38;5;124m\"\u001b[39m,\n\u001b[1;32m    653\u001b[0m         )\n\u001b[1;32m    654\u001b[0m     \u001b[38;5;28;01melse\u001b[39;00m:\n\u001b[1;32m    655\u001b[0m         \u001b[38;5;66;03m# Binary mode\u001b[39;00m\n\u001b[0;32m--> 656\u001b[0m         handle \u001b[38;5;241m=\u001b[39m \u001b[38;5;28;43mopen\u001b[39;49m\u001b[43m(\u001b[49m\u001b[43mhandle\u001b[49m\u001b[43m,\u001b[49m\u001b[43m \u001b[49m\u001b[43mioargs\u001b[49m\u001b[38;5;241;43m.\u001b[39;49m\u001b[43mmode\u001b[49m\u001b[43m)\u001b[49m\n\u001b[1;32m    657\u001b[0m     handles\u001b[38;5;241m.\u001b[39mappend(handle)\n\u001b[1;32m    659\u001b[0m \u001b[38;5;66;03m# Convert BytesIO or file objects passed with an encoding\u001b[39;00m\n",
            "\u001b[0;31mFileNotFoundError\u001b[0m: [Errno 2] No such file or directory: '2019-2020/QPASS 2019-2020-1 Summer.xlsx'"
          ]
        }
      ],
      "execution_count": null,
      "block_group": "7c33ed4ff4914463b255f68f2b72cc50"
    },
    {
      "cell_type": "code",
      "source": "# rename column headers \nsummer2019_2020.set_axis([\"Structure\", \"Lot\", \"Total Spaces\",\"Type\",\" Mon 8AM\",\"Mon 10AM\",\n'Mon 12PM','Mon 2PM',' Tue 8AM','Tue 10AM','Tue 12PM','Tue 2PM','Wed 8AM','Wed 10AM','Wed 12PM','Wed 2PM','Thur 8AM',\n'Thur 10AM','Thur 12PM','Thur 2PM','Fri 8AM','Fri 10AM','Fri 12PM','Fri 2PM'], axis=\"columns\", inplace=True)\nsummer2019_2020\n",
      "metadata": {
        "source_hash": null,
        "execution_start": 1694924011730,
        "execution_millis": 436,
        "deepnote_table_state": {
          "sortBy": [],
          "filters": [],
          "pageSize": 10,
          "pageIndex": 8
        },
        "deepnote_table_loading": false,
        "deepnote_to_be_reexecuted": true,
        "cell_id": "b24085b16b004e8e81a8aa2a2fb287ae",
        "deepnote_cell_type": "code"
      },
      "outputs": [
        {
          "output_type": "execute_result",
          "execution_count": 3,
          "data": {
            "application/vnd.deepnote.dataframe.v3+json": {
              "column_count": 24,
              "row_count": 139,
              "columns": [
                {
                  "name": "Structure",
                  "dtype": "object",
                  "stats": {
                    "unique_count": 14,
                    "nan_count": 100,
                    "categories": [
                      {
                        "name": "Osler",
                        "count": 6
                      },
                      {
                        "name": "13 others",
                        "count": 33
                      },
                      {
                        "name": "Missing",
                        "count": 100
                      }
                    ]
                  }
                },
                {
                  "name": "Lot",
                  "dtype": "object",
                  "stats": {
                    "unique_count": 62,
                    "nan_count": 44,
                    "categories": [
                      {
                        "name": "P510",
                        "count": 4
                      },
                      {
                        "name": "61 others",
                        "count": 91
                      },
                      {
                        "name": "Missing",
                        "count": 44
                      }
                    ]
                  }
                },
                {
                  "name": "Total Spaces",
                  "dtype": "object",
                  "stats": {
                    "unique_count": 93,
                    "nan_count": 10,
                    "categories": [
                      {
                        "name": "9",
                        "count": 6
                      },
                      {
                        "name": "92 others",
                        "count": 123
                      },
                      {
                        "name": "Missing",
                        "count": 10
                      }
                    ]
                  }
                },
                {
                  "name": "Type",
                  "dtype": "object",
                  "stats": {
                    "unique_count": 13,
                    "nan_count": 27,
                    "categories": [
                      {
                        "name": "B",
                        "count": 31
                      },
                      {
                        "name": "12 others",
                        "count": 81
                      },
                      {
                        "name": "Missing",
                        "count": 27
                      }
                    ]
                  }
                },
                {
                  "name": " Mon 8AM",
                  "dtype": "object",
                  "stats": {
                    "unique_count": 76,
                    "nan_count": 13,
                    "categories": [
                      {
                        "name": "0",
                        "count": 10
                      },
                      {
                        "name": "75 others",
                        "count": 116
                      },
                      {
                        "name": "Missing",
                        "count": 13
                      }
                    ]
                  }
                },
                {
                  "name": "Mon 10AM",
                  "dtype": "object",
                  "stats": {
                    "unique_count": 64,
                    "nan_count": 16,
                    "categories": [
                      {
                        "name": "0",
                        "count": 24
                      },
                      {
                        "name": "63 others",
                        "count": 99
                      },
                      {
                        "name": "Missing",
                        "count": 16
                      }
                    ]
                  }
                },
                {
                  "name": "Mon 12PM",
                  "dtype": "object",
                  "stats": {
                    "unique_count": 57,
                    "nan_count": 16,
                    "categories": [
                      {
                        "name": "0",
                        "count": 29
                      },
                      {
                        "name": "56 others",
                        "count": 94
                      },
                      {
                        "name": "Missing",
                        "count": 16
                      }
                    ]
                  }
                },
                {
                  "name": "Mon 2PM",
                  "dtype": "object",
                  "stats": {
                    "unique_count": 59,
                    "nan_count": 16,
                    "categories": [
                      {
                        "name": "0",
                        "count": 24
                      },
                      {
                        "name": "58 others",
                        "count": 99
                      },
                      {
                        "name": "Missing",
                        "count": 16
                      }
                    ]
                  }
                },
                {
                  "name": " Tue 8AM",
                  "dtype": "object",
                  "stats": {
                    "unique_count": 77,
                    "nan_count": 14,
                    "categories": [
                      {
                        "name": "0",
                        "count": 13
                      },
                      {
                        "name": "76 others",
                        "count": 112
                      },
                      {
                        "name": "Missing",
                        "count": 14
                      }
                    ]
                  }
                },
                {
                  "name": "Tue 10AM",
                  "dtype": "object",
                  "stats": {
                    "unique_count": 59,
                    "nan_count": 16,
                    "categories": [
                      {
                        "name": "0",
                        "count": 30
                      },
                      {
                        "name": "58 others",
                        "count": 93
                      },
                      {
                        "name": "Missing",
                        "count": 16
                      }
                    ]
                  }
                },
                {
                  "name": "Tue 12PM",
                  "dtype": "object",
                  "stats": {
                    "unique_count": 55,
                    "nan_count": 16,
                    "categories": [
                      {
                        "name": "0",
                        "count": 31
                      },
                      {
                        "name": "54 others",
                        "count": 92
                      },
                      {
                        "name": "Missing",
                        "count": 16
                      }
                    ]
                  }
                },
                {
                  "name": "Tue 2PM",
                  "dtype": "object",
                  "stats": {
                    "unique_count": 54,
                    "nan_count": 16,
                    "categories": [
                      {
                        "name": "0",
                        "count": 25
                      },
                      {
                        "name": "53 others",
                        "count": 98
                      },
                      {
                        "name": "Missing",
                        "count": 16
                      }
                    ]
                  }
                },
                {
                  "name": "Wed 8AM",
                  "dtype": "object",
                  "stats": {
                    "unique_count": 74,
                    "nan_count": 14,
                    "categories": [
                      {
                        "name": "0",
                        "count": 15
                      },
                      {
                        "name": "73 others",
                        "count": 110
                      },
                      {
                        "name": "Missing",
                        "count": 14
                      }
                    ]
                  }
                },
                {
                  "name": "Wed 10AM",
                  "dtype": "object",
                  "stats": {
                    "unique_count": 63,
                    "nan_count": 16,
                    "categories": [
                      {
                        "name": "0",
                        "count": 29
                      },
                      {
                        "name": "62 others",
                        "count": 94
                      },
                      {
                        "name": "Missing",
                        "count": 16
                      }
                    ]
                  }
                },
                {
                  "name": "Wed 12PM",
                  "dtype": "object",
                  "stats": {
                    "unique_count": 57,
                    "nan_count": 16,
                    "categories": [
                      {
                        "name": "0",
                        "count": 31
                      },
                      {
                        "name": "56 others",
                        "count": 92
                      },
                      {
                        "name": "Missing",
                        "count": 16
                      }
                    ]
                  }
                },
                {
                  "name": "Wed 2PM",
                  "dtype": "object",
                  "stats": {
                    "unique_count": 60,
                    "nan_count": 16,
                    "categories": [
                      {
                        "name": "0",
                        "count": 22
                      },
                      {
                        "name": "59 others",
                        "count": 101
                      },
                      {
                        "name": "Missing",
                        "count": 16
                      }
                    ]
                  }
                },
                {
                  "name": "Thur 8AM",
                  "dtype": "object",
                  "stats": {
                    "unique_count": 4,
                    "nan_count": 135,
                    "categories": [
                      {
                        "name": "Thursday",
                        "count": 1
                      },
                      {
                        "name": "3 others",
                        "count": 3
                      },
                      {
                        "name": "Missing",
                        "count": 135
                      }
                    ]
                  }
                },
                {
                  "name": "Thur 10AM",
                  "dtype": "object",
                  "stats": {
                    "unique_count": 2,
                    "nan_count": 137,
                    "categories": [
                      {
                        "name": "10:00:00",
                        "count": 1
                      },
                      {
                        "name": "Available",
                        "count": 1
                      },
                      {
                        "name": "Missing",
                        "count": 137
                      }
                    ]
                  }
                },
                {
                  "name": "Thur 12PM",
                  "dtype": "object",
                  "stats": {
                    "unique_count": 2,
                    "nan_count": 137,
                    "categories": [
                      {
                        "name": "12:00:00",
                        "count": 1
                      },
                      {
                        "name": "Available",
                        "count": 1
                      },
                      {
                        "name": "Missing",
                        "count": 137
                      }
                    ]
                  }
                },
                {
                  "name": "Thur 2PM",
                  "dtype": "object",
                  "stats": {
                    "unique_count": 2,
                    "nan_count": 137,
                    "categories": [
                      {
                        "name": "14:00:00",
                        "count": 1
                      },
                      {
                        "name": "Available",
                        "count": 1
                      },
                      {
                        "name": "Missing",
                        "count": 137
                      }
                    ]
                  }
                },
                {
                  "name": "Fri 8AM",
                  "dtype": "object",
                  "stats": {
                    "unique_count": 81,
                    "nan_count": 14,
                    "categories": [
                      {
                        "name": "0",
                        "count": 6
                      },
                      {
                        "name": "80 others",
                        "count": 119
                      },
                      {
                        "name": "Missing",
                        "count": 14
                      }
                    ]
                  }
                },
                {
                  "name": "Fri 10AM",
                  "dtype": "object",
                  "stats": {
                    "unique_count": 74,
                    "nan_count": 16,
                    "categories": [
                      {
                        "name": "0",
                        "count": 11
                      },
                      {
                        "name": "73 others",
                        "count": 112
                      },
                      {
                        "name": "Missing",
                        "count": 16
                      }
                    ]
                  }
                },
                {
                  "name": "Fri 12PM",
                  "dtype": "object",
                  "stats": {
                    "unique_count": 71,
                    "nan_count": 16,
                    "categories": [
                      {
                        "name": "0",
                        "count": 9
                      },
                      {
                        "name": "70 others",
                        "count": 114
                      },
                      {
                        "name": "Missing",
                        "count": 16
                      }
                    ]
                  }
                },
                {
                  "name": "Fri 2PM",
                  "dtype": "object",
                  "stats": {
                    "unique_count": 76,
                    "nan_count": 16,
                    "categories": [
                      {
                        "name": "0",
                        "count": 12
                      },
                      {
                        "name": "75 others",
                        "count": 111
                      },
                      {
                        "name": "Missing",
                        "count": 16
                      }
                    ]
                  }
                },
                {
                  "name": "_deepnote_index_column",
                  "dtype": "int64"
                }
              ],
              "rows": [
                {
                  "Structure": "nan",
                  "Lot": "nan",
                  "Total Spaces": "nan",
                  "Type": "nan",
                  " Mon 8AM": "Data Sorted by Allocation Type: Summer 2019 Week 1",
                  "Mon 10AM": "nan",
                  "Mon 12PM": "nan",
                  "Mon 2PM": "nan",
                  " Tue 8AM": "nan",
                  "Tue 10AM": "nan",
                  "Tue 12PM": "nan",
                  "Tue 2PM": "nan",
                  "Wed 8AM": "nan",
                  "Wed 10AM": "nan",
                  "Wed 12PM": "nan",
                  "Wed 2PM": "nan",
                  "Thur 8AM": "nan",
                  "Thur 10AM": "nan",
                  "Thur 12PM": "nan",
                  "Thur 2PM": "nan",
                  "Fri 8AM": "nan",
                  "Fri 10AM": "nan",
                  "Fri 12PM": "nan",
                  "Fri 2PM": "nan",
                  "_deepnote_index_column": 0
                },
                {
                  "Structure": "nan",
                  "Lot": "nan",
                  "Total Spaces": "nan",
                  "Type": "nan",
                  " Mon 8AM": "Monday",
                  "Mon 10AM": "nan",
                  "Mon 12PM": "nan",
                  "Mon 2PM": "nan",
                  " Tue 8AM": "Tuesday",
                  "Tue 10AM": "nan",
                  "Tue 12PM": "nan",
                  "Tue 2PM": "nan",
                  "Wed 8AM": "Wednesday",
                  "Wed 10AM": "nan",
                  "Wed 12PM": "nan",
                  "Wed 2PM": "nan",
                  "Thur 8AM": "Thursday",
                  "Thur 10AM": "nan",
                  "Thur 12PM": "nan",
                  "Thur 2PM": "nan",
                  "Fri 8AM": "Friday",
                  "Fri 10AM": "nan",
                  "Fri 12PM": "nan",
                  "Fri 2PM": "nan",
                  "_deepnote_index_column": 1
                },
                {
                  "Structure": "nan",
                  "Lot": "nan",
                  "Total Spaces": "nan",
                  "Type": "nan",
                  " Mon 8AM": "2019-07-01 00:00:00",
                  "Mon 10AM": "nan",
                  "Mon 12PM": "nan",
                  "Mon 2PM": "nan",
                  " Tue 8AM": "2019-07-02 00:00:00",
                  "Tue 10AM": "nan",
                  "Tue 12PM": "nan",
                  "Tue 2PM": "nan",
                  "Wed 8AM": "2019-07-03 00:00:00",
                  "Wed 10AM": "nan",
                  "Wed 12PM": "nan",
                  "Wed 2PM": "nan",
                  "Thur 8AM": "2019-07-04 00:00:00",
                  "Thur 10AM": "nan",
                  "Thur 12PM": "nan",
                  "Thur 2PM": "nan",
                  "Fri 8AM": "2019-07-05 00:00:00",
                  "Fri 10AM": "nan",
                  "Fri 12PM": "nan",
                  "Fri 2PM": "nan",
                  "_deepnote_index_column": 2
                },
                {
                  "Structure": "nan",
                  "Lot": "nan",
                  "Total Spaces": "nan",
                  "Type": "nan",
                  " Mon 8AM": "08:00:00",
                  "Mon 10AM": "10:00:00",
                  "Mon 12PM": "12:00:00",
                  "Mon 2PM": "14:00:00",
                  " Tue 8AM": "08:00:00",
                  "Tue 10AM": "10:00:00",
                  "Tue 12PM": "12:00:00",
                  "Tue 2PM": "14:00:00",
                  "Wed 8AM": "08:00:00",
                  "Wed 10AM": "10:00:00",
                  "Wed 12PM": "12:00:00",
                  "Wed 2PM": "14:00:00",
                  "Thur 8AM": "08:00:00",
                  "Thur 10AM": "10:00:00",
                  "Thur 12PM": "12:00:00",
                  "Thur 2PM": "14:00:00",
                  "Fri 8AM": "08:00:00",
                  "Fri 10AM": "10:00:00",
                  "Fri 12PM": "12:00:00",
                  "Fri 2PM": "14:00:00",
                  "_deepnote_index_column": 3
                },
                {
                  "Structure": "Structure",
                  "Lot": "Lot",
                  "Total Spaces": "Total Spaces",
                  "Type": "Type",
                  " Mon 8AM": "Available",
                  "Mon 10AM": "Available",
                  "Mon 12PM": "Available",
                  "Mon 2PM": "Available",
                  " Tue 8AM": "Available",
                  "Tue 10AM": "Available",
                  "Tue 12PM": "Available",
                  "Tue 2PM": "Available",
                  "Wed 8AM": "Available",
                  "Wed 10AM": "Available",
                  "Wed 12PM": "Available",
                  "Wed 2PM": "Available",
                  "Thur 8AM": "Available",
                  "Thur 10AM": "Available",
                  "Thur 12PM": "Available",
                  "Thur 2PM": "Available",
                  "Fri 8AM": "Available",
                  "Fri 10AM": "Available",
                  "Fri 12PM": "Available",
                  "Fri 2PM": "Available",
                  "_deepnote_index_column": 4
                },
                {
                  "Structure": "Athena",
                  "Lot": "nan",
                  "Total Spaces": "195",
                  "Type": "A",
                  " Mon 8AM": "162",
                  "Mon 10AM": "75",
                  "Mon 12PM": "73",
                  "Mon 2PM": "49",
                  " Tue 8AM": "100",
                  "Tue 10AM": "70",
                  "Tue 12PM": "45",
                  "Tue 2PM": "46",
                  "Wed 8AM": "104",
                  "Wed 10AM": "91",
                  "Wed 12PM": "55",
                  "Wed 2PM": "63",
                  "Thur 8AM": "nan",
                  "Thur 10AM": "nan",
                  "Thur 12PM": "nan",
                  "Thur 2PM": "nan",
                  "Fri 8AM": "131",
                  "Fri 10AM": "67",
                  "Fri 12PM": "79",
                  "Fri 2PM": "96",
                  "_deepnote_index_column": 5
                },
                {
                  "Structure": "Campus Point East",
                  "Lot": "nan",
                  "Total Spaces": "372",
                  "Type": "A",
                  " Mon 8AM": "147",
                  "Mon 10AM": "68",
                  "Mon 12PM": "70",
                  "Mon 2PM": "75",
                  " Tue 8AM": "85",
                  "Tue 10AM": "10",
                  "Tue 12PM": "10",
                  "Tue 2PM": "34",
                  "Wed 8AM": "84",
                  "Wed 10AM": "33",
                  "Wed 12PM": "29",
                  "Wed 2PM": "35",
                  "Thur 8AM": "nan",
                  "Thur 10AM": "nan",
                  "Thur 12PM": "nan",
                  "Thur 2PM": "nan",
                  "Fri 8AM": "114",
                  "Fri 10AM": "109",
                  "Fri 12PM": "86",
                  "Fri 2PM": "127",
                  "_deepnote_index_column": 6
                },
                {
                  "Structure": "Campus Point West",
                  "Lot": "nan",
                  "Total Spaces": "9",
                  "Type": "A",
                  " Mon 8AM": "4",
                  "Mon 10AM": "1",
                  "Mon 12PM": "1",
                  "Mon 2PM": "0",
                  " Tue 8AM": "0",
                  "Tue 10AM": "2",
                  "Tue 12PM": "4",
                  "Tue 2PM": "2",
                  "Wed 8AM": "4",
                  "Wed 10AM": "2",
                  "Wed 12PM": "0",
                  "Wed 2PM": "3",
                  "Thur 8AM": "nan",
                  "Thur 10AM": "nan",
                  "Thur 12PM": "nan",
                  "Thur 2PM": "nan",
                  "Fri 8AM": "8",
                  "Fri 10AM": "4",
                  "Fri 12PM": "2",
                  "Fri 2PM": "0",
                  "_deepnote_index_column": 7
                },
                {
                  "Structure": "Gilman",
                  "Lot": "nan",
                  "Total Spaces": "401",
                  "Type": "A",
                  " Mon 8AM": "304",
                  "Mon 10AM": "61",
                  "Mon 12PM": "107",
                  "Mon 2PM": "137",
                  " Tue 8AM": "322",
                  "Tue 10AM": "64",
                  "Tue 12PM": "134",
                  "Tue 2PM": "153",
                  "Wed 8AM": "273",
                  "Wed 10AM": "249",
                  "Wed 12PM": "132",
                  "Wed 2PM": "146",
                  "Thur 8AM": "nan",
                  "Thur 10AM": "nan",
                  "Thur 12PM": "nan",
                  "Thur 2PM": "nan",
                  "Fri 8AM": "347",
                  "Fri 10AM": "284",
                  "Fri 12PM": "129",
                  "Fri 2PM": "277",
                  "_deepnote_index_column": 8
                },
                {
                  "Structure": "Hopkins",
                  "Lot": "nan",
                  "Total Spaces": "84",
                  "Type": "A",
                  " Mon 8AM": "80",
                  "Mon 10AM": "57",
                  "Mon 12PM": "52",
                  "Mon 2PM": "46",
                  " Tue 8AM": "24",
                  "Tue 10AM": "6",
                  "Tue 12PM": "0",
                  "Tue 2PM": "0",
                  "Wed 8AM": "23",
                  "Wed 10AM": "5",
                  "Wed 12PM": "1",
                  "Wed 2PM": "3",
                  "Thur 8AM": "nan",
                  "Thur 10AM": "nan",
                  "Thur 12PM": "nan",
                  "Thur 2PM": "nan",
                  "Fri 8AM": "26",
                  "Fri 10AM": "21",
                  "Fri 12PM": "72",
                  "Fri 2PM": "46",
                  "_deepnote_index_column": 9
                }
              ]
            },
            "text/plain": "     Structure       Lot  Total Spaces  Type  \\\n0          NaN       NaN           NaN   NaN   \n1          NaN       NaN           NaN   NaN   \n2          NaN       NaN           NaN   NaN   \n3          NaN       NaN           NaN   NaN   \n4    Structure       Lot  Total Spaces  Type   \n..         ...       ...           ...   ...   \n134        NaN     SIO B           295   NaN   \n135        NaN         S            64   NaN   \n136        NaN     SIO S            71   NaN   \n137        NaN  Aquarium           258   NaN   \n138        NaN         V             4   NaN   \n\n                                               Mon 8AM   Mon 10AM   Mon 12PM  \\\n0    Data Sorted by Allocation Type: Summer 2019 We...        NaN        NaN   \n1                                               Monday        NaN        NaN   \n2                                  2019-07-01 00:00:00        NaN        NaN   \n3                                             08:00:00   10:00:00   12:00:00   \n4                                            Available  Available  Available   \n..                                                 ...        ...        ...   \n134                                                211         93         50   \n135                                                 48         23         16   \n136                                                 71         67         63   \n137                                                240        130         23   \n138                                                  4          3          2   \n\n       Mon 2PM              Tue 8AM   Tue 10AM  ...   Wed 12PM    Wed 2PM  \\\n0          NaN                  NaN        NaN  ...        NaN        NaN   \n1          NaN              Tuesday        NaN  ...        NaN        NaN   \n2          NaN  2019-07-02 00:00:00        NaN  ...        NaN        NaN   \n3     14:00:00             08:00:00   10:00:00  ...   12:00:00   14:00:00   \n4    Available            Available  Available  ...  Available  Available   \n..         ...                  ...        ...  ...        ...        ...   \n134         48                  193         59  ...         42         38   \n135         18                   47         17  ...         22         30   \n136         67                   71         68  ...         63         64   \n137         48                  235        131  ...         13         43   \n138          4                    4          4  ...          2          1   \n\n                Thur 8AM  Thur 10AM  Thur 12PM   Thur 2PM  \\\n0                    NaN        NaN        NaN        NaN   \n1               Thursday        NaN        NaN        NaN   \n2    2019-07-04 00:00:00        NaN        NaN        NaN   \n3               08:00:00   10:00:00   12:00:00   14:00:00   \n4              Available  Available  Available  Available   \n..                   ...        ...        ...        ...   \n134                  NaN        NaN        NaN        NaN   \n135                  NaN        NaN        NaN        NaN   \n136                  NaN        NaN        NaN        NaN   \n137                  NaN        NaN        NaN        NaN   \n138                  NaN        NaN        NaN        NaN   \n\n                 Fri 8AM   Fri 10AM   Fri 12PM    Fri 2PM  \n0                    NaN        NaN        NaN        NaN  \n1                 Friday        NaN        NaN        NaN  \n2    2019-07-05 00:00:00        NaN        NaN        NaN  \n3               08:00:00   10:00:00   12:00:00   14:00:00  \n4              Available  Available  Available  Available  \n..                   ...        ...        ...        ...  \n134                  230        147         98         94  \n135                   50         39         29         23  \n136                   71         69         70         67  \n137                  252        189          7         56  \n138                    4          4          4          0  \n\n[139 rows x 24 columns]",
            "text/html": "<div>\n<style scoped>\n    .dataframe tbody tr th:only-of-type {\n        vertical-align: middle;\n    }\n\n    .dataframe tbody tr th {\n        vertical-align: top;\n    }\n\n    .dataframe thead th {\n        text-align: right;\n    }\n</style>\n<table border=\"1\" class=\"dataframe\">\n  <thead>\n    <tr style=\"text-align: right;\">\n      <th></th>\n      <th>Structure</th>\n      <th>Lot</th>\n      <th>Total Spaces</th>\n      <th>Type</th>\n      <th>Mon 8AM</th>\n      <th>Mon 10AM</th>\n      <th>Mon 12PM</th>\n      <th>Mon 2PM</th>\n      <th>Tue 8AM</th>\n      <th>Tue 10AM</th>\n      <th>...</th>\n      <th>Wed 12PM</th>\n      <th>Wed 2PM</th>\n      <th>Thur 8AM</th>\n      <th>Thur 10AM</th>\n      <th>Thur 12PM</th>\n      <th>Thur 2PM</th>\n      <th>Fri 8AM</th>\n      <th>Fri 10AM</th>\n      <th>Fri 12PM</th>\n      <th>Fri 2PM</th>\n    </tr>\n  </thead>\n  <tbody>\n    <tr>\n      <th>0</th>\n      <td>NaN</td>\n      <td>NaN</td>\n      <td>NaN</td>\n      <td>NaN</td>\n      <td>Data Sorted by Allocation Type: Summer 2019 We...</td>\n      <td>NaN</td>\n      <td>NaN</td>\n      <td>NaN</td>\n      <td>NaN</td>\n      <td>NaN</td>\n      <td>...</td>\n      <td>NaN</td>\n      <td>NaN</td>\n      <td>NaN</td>\n      <td>NaN</td>\n      <td>NaN</td>\n      <td>NaN</td>\n      <td>NaN</td>\n      <td>NaN</td>\n      <td>NaN</td>\n      <td>NaN</td>\n    </tr>\n    <tr>\n      <th>1</th>\n      <td>NaN</td>\n      <td>NaN</td>\n      <td>NaN</td>\n      <td>NaN</td>\n      <td>Monday</td>\n      <td>NaN</td>\n      <td>NaN</td>\n      <td>NaN</td>\n      <td>Tuesday</td>\n      <td>NaN</td>\n      <td>...</td>\n      <td>NaN</td>\n      <td>NaN</td>\n      <td>Thursday</td>\n      <td>NaN</td>\n      <td>NaN</td>\n      <td>NaN</td>\n      <td>Friday</td>\n      <td>NaN</td>\n      <td>NaN</td>\n      <td>NaN</td>\n    </tr>\n    <tr>\n      <th>2</th>\n      <td>NaN</td>\n      <td>NaN</td>\n      <td>NaN</td>\n      <td>NaN</td>\n      <td>2019-07-01 00:00:00</td>\n      <td>NaN</td>\n      <td>NaN</td>\n      <td>NaN</td>\n      <td>2019-07-02 00:00:00</td>\n      <td>NaN</td>\n      <td>...</td>\n      <td>NaN</td>\n      <td>NaN</td>\n      <td>2019-07-04 00:00:00</td>\n      <td>NaN</td>\n      <td>NaN</td>\n      <td>NaN</td>\n      <td>2019-07-05 00:00:00</td>\n      <td>NaN</td>\n      <td>NaN</td>\n      <td>NaN</td>\n    </tr>\n    <tr>\n      <th>3</th>\n      <td>NaN</td>\n      <td>NaN</td>\n      <td>NaN</td>\n      <td>NaN</td>\n      <td>08:00:00</td>\n      <td>10:00:00</td>\n      <td>12:00:00</td>\n      <td>14:00:00</td>\n      <td>08:00:00</td>\n      <td>10:00:00</td>\n      <td>...</td>\n      <td>12:00:00</td>\n      <td>14:00:00</td>\n      <td>08:00:00</td>\n      <td>10:00:00</td>\n      <td>12:00:00</td>\n      <td>14:00:00</td>\n      <td>08:00:00</td>\n      <td>10:00:00</td>\n      <td>12:00:00</td>\n      <td>14:00:00</td>\n    </tr>\n    <tr>\n      <th>4</th>\n      <td>Structure</td>\n      <td>Lot</td>\n      <td>Total Spaces</td>\n      <td>Type</td>\n      <td>Available</td>\n      <td>Available</td>\n      <td>Available</td>\n      <td>Available</td>\n      <td>Available</td>\n      <td>Available</td>\n      <td>...</td>\n      <td>Available</td>\n      <td>Available</td>\n      <td>Available</td>\n      <td>Available</td>\n      <td>Available</td>\n      <td>Available</td>\n      <td>Available</td>\n      <td>Available</td>\n      <td>Available</td>\n      <td>Available</td>\n    </tr>\n    <tr>\n      <th>...</th>\n      <td>...</td>\n      <td>...</td>\n      <td>...</td>\n      <td>...</td>\n      <td>...</td>\n      <td>...</td>\n      <td>...</td>\n      <td>...</td>\n      <td>...</td>\n      <td>...</td>\n      <td>...</td>\n      <td>...</td>\n      <td>...</td>\n      <td>...</td>\n      <td>...</td>\n      <td>...</td>\n      <td>...</td>\n      <td>...</td>\n      <td>...</td>\n      <td>...</td>\n      <td>...</td>\n    </tr>\n    <tr>\n      <th>134</th>\n      <td>NaN</td>\n      <td>SIO B</td>\n      <td>295</td>\n      <td>NaN</td>\n      <td>211</td>\n      <td>93</td>\n      <td>50</td>\n      <td>48</td>\n      <td>193</td>\n      <td>59</td>\n      <td>...</td>\n      <td>42</td>\n      <td>38</td>\n      <td>NaN</td>\n      <td>NaN</td>\n      <td>NaN</td>\n      <td>NaN</td>\n      <td>230</td>\n      <td>147</td>\n      <td>98</td>\n      <td>94</td>\n    </tr>\n    <tr>\n      <th>135</th>\n      <td>NaN</td>\n      <td>S</td>\n      <td>64</td>\n      <td>NaN</td>\n      <td>48</td>\n      <td>23</td>\n      <td>16</td>\n      <td>18</td>\n      <td>47</td>\n      <td>17</td>\n      <td>...</td>\n      <td>22</td>\n      <td>30</td>\n      <td>NaN</td>\n      <td>NaN</td>\n      <td>NaN</td>\n      <td>NaN</td>\n      <td>50</td>\n      <td>39</td>\n      <td>29</td>\n      <td>23</td>\n    </tr>\n    <tr>\n      <th>136</th>\n      <td>NaN</td>\n      <td>SIO S</td>\n      <td>71</td>\n      <td>NaN</td>\n      <td>71</td>\n      <td>67</td>\n      <td>63</td>\n      <td>67</td>\n      <td>71</td>\n      <td>68</td>\n      <td>...</td>\n      <td>63</td>\n      <td>64</td>\n      <td>NaN</td>\n      <td>NaN</td>\n      <td>NaN</td>\n      <td>NaN</td>\n      <td>71</td>\n      <td>69</td>\n      <td>70</td>\n      <td>67</td>\n    </tr>\n    <tr>\n      <th>137</th>\n      <td>NaN</td>\n      <td>Aquarium</td>\n      <td>258</td>\n      <td>NaN</td>\n      <td>240</td>\n      <td>130</td>\n      <td>23</td>\n      <td>48</td>\n      <td>235</td>\n      <td>131</td>\n      <td>...</td>\n      <td>13</td>\n      <td>43</td>\n      <td>NaN</td>\n      <td>NaN</td>\n      <td>NaN</td>\n      <td>NaN</td>\n      <td>252</td>\n      <td>189</td>\n      <td>7</td>\n      <td>56</td>\n    </tr>\n    <tr>\n      <th>138</th>\n      <td>NaN</td>\n      <td>V</td>\n      <td>4</td>\n      <td>NaN</td>\n      <td>4</td>\n      <td>3</td>\n      <td>2</td>\n      <td>4</td>\n      <td>4</td>\n      <td>4</td>\n      <td>...</td>\n      <td>2</td>\n      <td>1</td>\n      <td>NaN</td>\n      <td>NaN</td>\n      <td>NaN</td>\n      <td>NaN</td>\n      <td>4</td>\n      <td>4</td>\n      <td>4</td>\n      <td>0</td>\n    </tr>\n  </tbody>\n</table>\n<p>139 rows × 24 columns</p>\n</div>"
          },
          "metadata": {}
        }
      ],
      "execution_count": null,
      "block_group": "e787d80a14cb4681903fa78b28ebc8eb"
    },
    {
      "cell_type": "code",
      "source": "#this is getting rid of unneccessary header text and dates of each day\nsummer2019_2020 = summer2019_2020.drop(index=[0,1,2,3,4])\nsummer2019_2020",
      "metadata": {
        "source_hash": null,
        "execution_start": 1695050274211,
        "execution_millis": 304,
        "deepnote_table_state": {
          "sortBy": [],
          "filters": [],
          "pageSize": 10,
          "pageIndex": 0
        },
        "deepnote_table_loading": false,
        "deepnote_to_be_reexecuted": true,
        "cell_id": "a55d3b5784924b7d8a3a559c7e360fab",
        "deepnote_cell_type": "code"
      },
      "outputs": [
        {
          "output_type": "error",
          "ename": "NameError",
          "evalue": "name 'summer2019_2020' is not defined",
          "traceback": [
            "\u001b[0;31m---------------------------------------------------------------------------\u001b[0m",
            "\u001b[0;31mNameError\u001b[0m                                 Traceback (most recent call last)",
            "Cell \u001b[0;32mIn [4], line 3\u001b[0m\n\u001b[1;32m      1\u001b[0m _deepnote_current_table_attrs \u001b[38;5;241m=\u001b[39m \u001b[38;5;124m'\u001b[39m\u001b[38;5;124m{\u001b[39m\u001b[38;5;124m\"\u001b[39m\u001b[38;5;124mpageSize\u001b[39m\u001b[38;5;124m\"\u001b[39m\u001b[38;5;124m:10,\u001b[39m\u001b[38;5;124m\"\u001b[39m\u001b[38;5;124mpageIndex\u001b[39m\u001b[38;5;124m\"\u001b[39m\u001b[38;5;124m:0,\u001b[39m\u001b[38;5;124m\"\u001b[39m\u001b[38;5;124msortBy\u001b[39m\u001b[38;5;124m\"\u001b[39m\u001b[38;5;124m:[],\u001b[39m\u001b[38;5;124m\"\u001b[39m\u001b[38;5;124mfilters\u001b[39m\u001b[38;5;124m\"\u001b[39m\u001b[38;5;124m:[]}\u001b[39m\u001b[38;5;124m'\u001b[39m\n\u001b[1;32m      2\u001b[0m \u001b[38;5;66;03m#this is getting rid of unneccessary header text and dates of each day\u001b[39;00m\n\u001b[0;32m----> 3\u001b[0m summer2019_2020 \u001b[38;5;241m=\u001b[39m \u001b[43msummer2019_2020\u001b[49m\u001b[38;5;241m.\u001b[39mdrop(index\u001b[38;5;241m=\u001b[39m[\u001b[38;5;241m0\u001b[39m,\u001b[38;5;241m1\u001b[39m,\u001b[38;5;241m2\u001b[39m,\u001b[38;5;241m3\u001b[39m,\u001b[38;5;241m4\u001b[39m])\n\u001b[1;32m      4\u001b[0m summer2019_2020\n",
            "\u001b[0;31mNameError\u001b[0m: name 'summer2019_2020' is not defined"
          ]
        }
      ],
      "execution_count": null,
      "block_group": "df50df1afd3548f796a250802ad9b34c"
    },
    {
      "cell_type": "code",
      "source": "#modifies columns\n\ndef isNan(cell):\n    #method checks to see if cell value is nan, if it is, then replaces it with empty string, if not, leaves as is\n    if type(cell) != str:\n        return \"\"\n    else:\n        return cell\n\n#combines structure/lot into one column\nsummer2019_2020 = summer2019_2020.assign(Area= summer2019_2020.get(\"Structure\").apply(isNan) + summer2019_2020.get(\"Lot\").apply(isNan))\nsummer2019_2020\n",
      "metadata": {
        "source_hash": null,
        "execution_start": 1695050275387,
        "execution_millis": 245,
        "deepnote_table_state": {
          "sortBy": [],
          "filters": [],
          "pageSize": 10,
          "pageIndex": 0
        },
        "deepnote_table_loading": false,
        "deepnote_to_be_reexecuted": true,
        "cell_id": "3bf9e317cd74493589d87d36d256cfb3",
        "deepnote_cell_type": "code"
      },
      "outputs": [
        {
          "output_type": "error",
          "ename": "NameError",
          "evalue": "name 'summer2019_2020' is not defined",
          "traceback": [
            "\u001b[0;31m---------------------------------------------------------------------------\u001b[0m",
            "\u001b[0;31mNameError\u001b[0m                                 Traceback (most recent call last)",
            "Cell \u001b[0;32mIn [5], line 12\u001b[0m\n\u001b[1;32m      9\u001b[0m         \u001b[38;5;28;01mreturn\u001b[39;00m cell\n\u001b[1;32m     11\u001b[0m \u001b[38;5;66;03m#combines structure/lot into one column\u001b[39;00m\n\u001b[0;32m---> 12\u001b[0m summer2019_2020 \u001b[38;5;241m=\u001b[39m \u001b[43msummer2019_2020\u001b[49m\u001b[38;5;241m.\u001b[39massign(Area\u001b[38;5;241m=\u001b[39m summer2019_2020\u001b[38;5;241m.\u001b[39mget(\u001b[38;5;124m\"\u001b[39m\u001b[38;5;124mStructure\u001b[39m\u001b[38;5;124m\"\u001b[39m)\u001b[38;5;241m.\u001b[39mapply(isNan) \u001b[38;5;241m+\u001b[39m summer2019_2020\u001b[38;5;241m.\u001b[39mget(\u001b[38;5;124m\"\u001b[39m\u001b[38;5;124mLot\u001b[39m\u001b[38;5;124m\"\u001b[39m)\u001b[38;5;241m.\u001b[39mapply(isNan))\n\u001b[1;32m     13\u001b[0m summer2019_2020\n",
            "\u001b[0;31mNameError\u001b[0m: name 'summer2019_2020' is not defined"
          ]
        }
      ],
      "execution_count": null,
      "block_group": "513e8fdf32554802869f7c217aa9fc4e"
    },
    {
      "cell_type": "code",
      "source": "#gets rid of lot column\nsummer2019_2020.drop(\"Lot\", axis=\"columns\")\n\n#declare empty list of index values needed to be dropped\nlistBadIndex = []\n\n#gets rid of lot rows\n#numberIterations = summer2019_2020.get(\"Structure\").shape[0]\n#for i in range(numberIterations):\n#    print(type(summer2019_2020.iloc[i].get(\"Structure\")))\n    #if type(summer2019_2020.iloc[i].get(\"Structure\") != str):\n    #    listBadIndex = listBadIndex + [i]\n#    if type() != str:\n#        summer2019_2020.drop(summer2019_2020.index[countedIndex],axis=0)\n#    countedIndex += 1:\n\n#listBadIndex",
      "metadata": {
        "source_hash": null,
        "execution_start": 1694924012159,
        "execution_millis": 182,
        "deepnote_to_be_reexecuted": true,
        "cell_id": "032d2f565819450cbaf8831935416fc9",
        "deepnote_cell_type": "code"
      },
      "outputs": [
        {
          "output_type": "execute_result",
          "execution_count": 6,
          "data": {
            "text/plain": "[]"
          },
          "metadata": {}
        }
      ],
      "execution_count": null,
      "block_group": "f7903016207c4e5481201012088591f7"
    },
    {
      "cell_type": "code",
      "source": "",
      "metadata": {
        "source_hash": null,
        "execution_start": 1694924012224,
        "execution_millis": 11,
        "deepnote_to_be_reexecuted": true,
        "cell_id": "d782780ecada40d5b98d959cd5a5a0b5",
        "deepnote_cell_type": "code"
      },
      "outputs": [],
      "execution_count": null,
      "block_group": "512346d6affe40caa63b3fb82f26e3fb"
    },
    {
      "cell_type": "code",
      "source": "",
      "metadata": {
        "source_hash": null,
        "execution_start": 1694924012232,
        "execution_millis": 8,
        "deepnote_to_be_reexecuted": true,
        "cell_id": "c54d87404e2a42e09e4b9ee3d34c1ae6",
        "deepnote_cell_type": "code"
      },
      "outputs": [],
      "execution_count": null,
      "block_group": "74c2c84e7e174f308c222de54d52fc4b"
    },
    {
      "cell_type": "code",
      "source": "",
      "metadata": {
        "source_hash": null,
        "execution_start": 1694924012233,
        "execution_millis": 10,
        "deepnote_to_be_reexecuted": true,
        "cell_id": "35f2c5e2d27f4d2cb90002bb80d61315",
        "deepnote_cell_type": "code"
      },
      "outputs": [],
      "execution_count": null,
      "block_group": "b5c63ea33e0c437fb3046f25cca61c5a"
    },
    {
      "cell_type": "markdown",
      "source": "<a style='text-decoration:none;line-height:16px;display:flex;color:#5B5B62;padding:10px;justify-content:end;' href='https://deepnote.com?utm_source=created-in-deepnote-cell&projectId=79f50031-d40f-43af-acaa-365d48045c9e' target=\"_blank\">\n<img alt='Created in deepnote.com' style='display:inline;max-height:16px;margin:0px;margin-right:7.5px;' src='data:image/svg+xml;base64,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' > </img>\nCreated in <span style='font-weight:600;margin-left:4px;'>Deepnote</span></a>",
      "metadata": {
        "created_in_deepnote_cell": true,
        "deepnote_cell_type": "markdown"
      }
    }
  ],
  "nbformat": 4,
  "nbformat_minor": 0,
  "metadata": {
    "deepnote": {},
    "orig_nbformat": 2,
    "deepnote_notebook_id": "825412944f654fe78012d6931fe94544",
    "deepnote_persisted_session": {
      "createdAt": "2023-09-16T01:30:13.801Z"
    },
    "deepnote_execution_queue": []
  }
}