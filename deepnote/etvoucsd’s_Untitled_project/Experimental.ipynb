{
  "cells": [
    {
      "cell_type": "code",
      "source": "import pandas as pd",
      "metadata": {
        "source_hash": null,
        "execution_start": 1694924011092,
        "execution_millis": 5,
        "deepnote_to_be_reexecuted": false,
        "cell_id": "8cd70abcb22a4db5bf4f60ffb38bfe02",
        "deepnote_cell_type": "code"
      },
      "outputs": [
        {
          "output_type": "error",
          "ename": "SyntaxError",
          "evalue": "invalid syntax (3564508045.py, line 2)",
          "traceback": [
            "\u001b[0;36m  Cell \u001b[0;32mIn [1], line 2\u001b[0;36m\u001b[0m\n\u001b[0;31m    pip install openpyxl\u001b[0m\n\u001b[0m        ^\u001b[0m\n\u001b[0;31mSyntaxError\u001b[0m\u001b[0;31m:\u001b[0m invalid syntax\n"
          ]
        }
      ],
      "execution_count": null,
      "block_group": "8cd70abcb22a4db5bf4f60ffb38bfe02"
    },
    {
      "cell_type": "code",
      "source": "#raw imported data\nsummer2019_2020 = pd.read_excel('2019-2020/QPASS 2019-2020-1 Summer.xlsx')\nsummer2019_2020",
      "metadata": {
        "source_hash": null,
        "execution_start": 1694924011108,
        "execution_millis": 1022,
        "deepnote_table_state": {
          "sortBy": [],
          "filters": [],
          "pageSize": 10,
          "pageIndex": 0
        },
        "deepnote_table_loading": false,
        "deepnote_to_be_reexecuted": false,
        "cell_id": "7c33ed4ff4914463b255f68f2b72cc50",
        "deepnote_cell_type": "code"
      },
      "outputs": [
        {
          "output_type": "execute_result",
          "execution_count": 2,
          "data": {
            "application/vnd.deepnote.dataframe.v3+json": {
              "column_count": 24,
              "row_count": 139,
              "columns": [
                {
                  "name": "Unnamed: 0",
                  "dtype": "object",
                  "stats": {
                    "unique_count": 14,
                    "nan_count": 100,
                    "categories": [
                      {
                        "name": "Osler",
                        "count": 6
                      },
                      {
                        "name": "13 others",
                        "count": 33
                      },
                      {
                        "name": "Missing",
                        "count": 100
                      }
                    ]
                  }
                },
                {
                  "name": "Unnamed: 1",
                  "dtype": "object",
                  "stats": {
                    "unique_count": 62,
                    "nan_count": 44,
                    "categories": [
                      {
                        "name": "P510",
                        "count": 4
                      },
                      {
                        "name": "61 others",
                        "count": 91
                      },
                      {
                        "name": "Missing",
                        "count": 44
                      }
                    ]
                  }
                },
                {
                  "name": "Unnamed: 2",
                  "dtype": "object",
                  "stats": {
                    "unique_count": 93,
                    "nan_count": 10,
                    "categories": [
                      {
                        "name": "9",
                        "count": 6
                      },
                      {
                        "name": "92 others",
                        "count": 123
                      },
                      {
                        "name": "Missing",
                        "count": 10
                      }
                    ]
                  }
                },
                {
                  "name": "Unnamed: 3",
                  "dtype": "object",
                  "stats": {
                    "unique_count": 13,
                    "nan_count": 27,
                    "categories": [
                      {
                        "name": "B",
                        "count": 31
                      },
                      {
                        "name": "12 others",
                        "count": 81
                      },
                      {
                        "name": "Missing",
                        "count": 27
                      }
                    ]
                  }
                },
                {
                  "name": "University of California San Diego: Quarterly Parking Availability Survey and Summary",
                  "dtype": "object",
                  "stats": {
                    "unique_count": 76,
                    "nan_count": 13,
                    "categories": [
                      {
                        "name": "0",
                        "count": 10
                      },
                      {
                        "name": "75 others",
                        "count": 116
                      },
                      {
                        "name": "Missing",
                        "count": 13
                      }
                    ]
                  }
                },
                {
                  "name": "Unnamed: 5",
                  "dtype": "object",
                  "stats": {
                    "unique_count": 64,
                    "nan_count": 16,
                    "categories": [
                      {
                        "name": "0",
                        "count": 24
                      },
                      {
                        "name": "63 others",
                        "count": 99
                      },
                      {
                        "name": "Missing",
                        "count": 16
                      }
                    ]
                  }
                },
                {
                  "name": "Unnamed: 6",
                  "dtype": "object",
                  "stats": {
                    "unique_count": 57,
                    "nan_count": 16,
                    "categories": [
                      {
                        "name": "0",
                        "count": 29
                      },
                      {
                        "name": "56 others",
                        "count": 94
                      },
                      {
                        "name": "Missing",
                        "count": 16
                      }
                    ]
                  }
                },
                {
                  "name": "Unnamed: 7",
                  "dtype": "object",
                  "stats": {
                    "unique_count": 59,
                    "nan_count": 16,
                    "categories": [
                      {
                        "name": "0",
                        "count": 24
                      },
                      {
                        "name": "58 others",
                        "count": 99
                      },
                      {
                        "name": "Missing",
                        "count": 16
                      }
                    ]
                  }
                },
                {
                  "name": "Unnamed: 8",
                  "dtype": "object",
                  "stats": {
                    "unique_count": 77,
                    "nan_count": 14,
                    "categories": [
                      {
                        "name": "0",
                        "count": 13
                      },
                      {
                        "name": "76 others",
                        "count": 112
                      },
                      {
                        "name": "Missing",
                        "count": 14
                      }
                    ]
                  }
                },
                {
                  "name": "Unnamed: 9",
                  "dtype": "object",
                  "stats": {
                    "unique_count": 59,
                    "nan_count": 16,
                    "categories": [
                      {
                        "name": "0",
                        "count": 30
                      },
                      {
                        "name": "58 others",
                        "count": 93
                      },
                      {
                        "name": "Missing",
                        "count": 16
                      }
                    ]
                  }
                },
                {
                  "name": "Unnamed: 10",
                  "dtype": "object",
                  "stats": {
                    "unique_count": 55,
                    "nan_count": 16,
                    "categories": [
                      {
                        "name": "0",
                        "count": 31
                      },
                      {
                        "name": "54 others",
                        "count": 92
                      },
                      {
                        "name": "Missing",
                        "count": 16
                      }
                    ]
                  }
                },
                {
                  "name": "Unnamed: 11",
                  "dtype": "object",
                  "stats": {
                    "unique_count": 54,
                    "nan_count": 16,
                    "categories": [
                      {
                        "name": "0",
                        "count": 25
                      },
                      {
                        "name": "53 others",
                        "count": 98
                      },
                      {
                        "name": "Missing",
                        "count": 16
                      }
                    ]
                  }
                },
                {
                  "name": "Unnamed: 12",
                  "dtype": "object",
                  "stats": {
                    "unique_count": 74,
                    "nan_count": 14,
                    "categories": [
                      {
                        "name": "0",
                        "count": 15
                      },
                      {
                        "name": "73 others",
                        "count": 110
                      },
                      {
                        "name": "Missing",
                        "count": 14
                      }
                    ]
                  }
                },
                {
                  "name": "Unnamed: 13",
                  "dtype": "object",
                  "stats": {
                    "unique_count": 63,
                    "nan_count": 16,
                    "categories": [
                      {
                        "name": "0",
                        "count": 29
                      },
                      {
                        "name": "62 others",
                        "count": 94
                      },
                      {
                        "name": "Missing",
                        "count": 16
                      }
                    ]
                  }
                },
                {
                  "name": "Unnamed: 14",
                  "dtype": "object",
                  "stats": {
                    "unique_count": 57,
                    "nan_count": 16,
                    "categories": [
                      {
                        "name": "0",
                        "count": 31
                      },
                      {
                        "name": "56 others",
                        "count": 92
                      },
                      {
                        "name": "Missing",
                        "count": 16
                      }
                    ]
                  }
                },
                {
                  "name": "Unnamed: 15",
                  "dtype": "object",
                  "stats": {
                    "unique_count": 60,
                    "nan_count": 16,
                    "categories": [
                      {
                        "name": "0",
                        "count": 22
                      },
                      {
                        "name": "59 others",
                        "count": 101
                      },
                      {
                        "name": "Missing",
                        "count": 16
                      }
                    ]
                  }
                },
                {
                  "name": "Unnamed: 16",
                  "dtype": "object",
                  "stats": {
                    "unique_count": 4,
                    "nan_count": 135,
                    "categories": [
                      {
                        "name": "Thursday",
                        "count": 1
                      },
                      {
                        "name": "3 others",
                        "count": 3
                      },
                      {
                        "name": "Missing",
                        "count": 135
                      }
                    ]
                  }
                },
                {
                  "name": "Unnamed: 17",
                  "dtype": "object",
                  "stats": {
                    "unique_count": 2,
                    "nan_count": 137,
                    "categories": [
                      {
                        "name": "10:00:00",
                        "count": 1
                      },
                      {
                        "name": "Available",
                        "count": 1
                      },
                      {
                        "name": "Missing",
                        "count": 137
                      }
                    ]
                  }
                },
                {
                  "name": "Unnamed: 18",
                  "dtype": "object",
                  "stats": {
                    "unique_count": 2,
                    "nan_count": 137,
                    "categories": [
                      {
                        "name": "12:00:00",
                        "count": 1
                      },
                      {
                        "name": "Available",
                        "count": 1
                      },
                      {
                        "name": "Missing",
                        "count": 137
                      }
                    ]
                  }
                },
                {
                  "name": "Unnamed: 19",
                  "dtype": "object",
                  "stats": {
                    "unique_count": 2,
                    "nan_count": 137,
                    "categories": [
                      {
                        "name": "14:00:00",
                        "count": 1
                      },
                      {
                        "name": "Available",
                        "count": 1
                      },
                      {
                        "name": "Missing",
                        "count": 137
                      }
                    ]
                  }
                },
                {
                  "name": "Unnamed: 20",
                  "dtype": "object",
                  "stats": {
                    "unique_count": 81,
                    "nan_count": 14,
                    "categories": [
                      {
                        "name": "0",
                        "count": 6
                      },
                      {
                        "name": "80 others",
                        "count": 119
                      },
                      {
                        "name": "Missing",
                        "count": 14
                      }
                    ]
                  }
                },
                {
                  "name": "Unnamed: 21",
                  "dtype": "object",
                  "stats": {
                    "unique_count": 74,
                    "nan_count": 16,
                    "categories": [
                      {
                        "name": "0",
                        "count": 11
                      },
                      {
                        "name": "73 others",
                        "count": 112
                      },
                      {
                        "name": "Missing",
                        "count": 16
                      }
                    ]
                  }
                },
                {
                  "name": "Unnamed: 22",
                  "dtype": "object",
                  "stats": {
                    "unique_count": 71,
                    "nan_count": 16,
                    "categories": [
                      {
                        "name": "0",
                        "count": 9
                      },
                      {
                        "name": "70 others",
                        "count": 114
                      },
                      {
                        "name": "Missing",
                        "count": 16
                      }
                    ]
                  }
                },
                {
                  "name": "Unnamed: 23",
                  "dtype": "object",
                  "stats": {
                    "unique_count": 76,
                    "nan_count": 16,
                    "categories": [
                      {
                        "name": "0",
                        "count": 12
                      },
                      {
                        "name": "75 others",
                        "count": 111
                      },
                      {
                        "name": "Missing",
                        "count": 16
                      }
                    ]
                  }
                },
                {
                  "name": "_deepnote_index_column",
                  "dtype": "int64"
                }
              ],
              "rows": [
                {
                  "Unnamed: 0": "nan",
                  "Unnamed: 1": "nan",
                  "Unnamed: 2": "nan",
                  "Unnamed: 3": "nan",
                  "University of California San Diego: Quarterly Parking Availability Survey and Summary": "Data Sorted by Allocation Type: Summer 2019 Week 1",
                  "Unnamed: 5": "nan",
                  "Unnamed: 6": "nan",
                  "Unnamed: 7": "nan",
                  "Unnamed: 8": "nan",
                  "Unnamed: 9": "nan",
                  "Unnamed: 10": "nan",
                  "Unnamed: 11": "nan",
                  "Unnamed: 12": "nan",
                  "Unnamed: 13": "nan",
                  "Unnamed: 14": "nan",
                  "Unnamed: 15": "nan",
                  "Unnamed: 16": "nan",
                  "Unnamed: 17": "nan",
                  "Unnamed: 18": "nan",
                  "Unnamed: 19": "nan",
                  "Unnamed: 20": "nan",
                  "Unnamed: 21": "nan",
                  "Unnamed: 22": "nan",
                  "Unnamed: 23": "nan",
                  "_deepnote_index_column": 0
                },
                {
                  "Unnamed: 0": "nan",
                  "Unnamed: 1": "nan",
                  "Unnamed: 2": "nan",
                  "Unnamed: 3": "nan",
                  "University of California San Diego: Quarterly Parking Availability Survey and Summary": "Monday",
                  "Unnamed: 5": "nan",
                  "Unnamed: 6": "nan",
                  "Unnamed: 7": "nan",
                  "Unnamed: 8": "Tuesday",
                  "Unnamed: 9": "nan",
                  "Unnamed: 10": "nan",
                  "Unnamed: 11": "nan",
                  "Unnamed: 12": "Wednesday",
                  "Unnamed: 13": "nan",
                  "Unnamed: 14": "nan",
                  "Unnamed: 15": "nan",
                  "Unnamed: 16": "Thursday",
                  "Unnamed: 17": "nan",
                  "Unnamed: 18": "nan",
                  "Unnamed: 19": "nan",
                  "Unnamed: 20": "Friday",
                  "Unnamed: 21": "nan",
                  "Unnamed: 22": "nan",
                  "Unnamed: 23": "nan",
                  "_deepnote_index_column": 1
                },
                {
                  "Unnamed: 0": "nan",
                  "Unnamed: 1": "nan",
                  "Unnamed: 2": "nan",
                  "Unnamed: 3": "nan",
                  "University of California San Diego: Quarterly Parking Availability Survey and Summary": "2019-07-01 00:00:00",
                  "Unnamed: 5": "nan",
                  "Unnamed: 6": "nan",
                  "Unnamed: 7": "nan",
                  "Unnamed: 8": "2019-07-02 00:00:00",
                  "Unnamed: 9": "nan",
                  "Unnamed: 10": "nan",
                  "Unnamed: 11": "nan",
                  "Unnamed: 12": "2019-07-03 00:00:00",
                  "Unnamed: 13": "nan",
                  "Unnamed: 14": "nan",
                  "Unnamed: 15": "nan",
                  "Unnamed: 16": "2019-07-04 00:00:00",
                  "Unnamed: 17": "nan",
                  "Unnamed: 18": "nan",
                  "Unnamed: 19": "nan",
                  "Unnamed: 20": "2019-07-05 00:00:00",
                  "Unnamed: 21": "nan",
                  "Unnamed: 22": "nan",
                  "Unnamed: 23": "nan",
                  "_deepnote_index_column": 2
                },
                {
                  "Unnamed: 0": "nan",
                  "Unnamed: 1": "nan",
                  "Unnamed: 2": "nan",
                  "Unnamed: 3": "nan",
                  "University of California San Diego: Quarterly Parking Availability Survey and Summary": "08:00:00",
                  "Unnamed: 5": "10:00:00",
                  "Unnamed: 6": "12:00:00",
                  "Unnamed: 7": "14:00:00",
                  "Unnamed: 8": "08:00:00",
                  "Unnamed: 9": "10:00:00",
                  "Unnamed: 10": "12:00:00",
                  "Unnamed: 11": "14:00:00",
                  "Unnamed: 12": "08:00:00",
                  "Unnamed: 13": "10:00:00",
                  "Unnamed: 14": "12:00:00",
                  "Unnamed: 15": "14:00:00",
                  "Unnamed: 16": "08:00:00",
                  "Unnamed: 17": "10:00:00",
                  "Unnamed: 18": "12:00:00",
                  "Unnamed: 19": "14:00:00",
                  "Unnamed: 20": "08:00:00",
                  "Unnamed: 21": "10:00:00",
                  "Unnamed: 22": "12:00:00",
                  "Unnamed: 23": "14:00:00",
                  "_deepnote_index_column": 3
                },
                {
                  "Unnamed: 0": "Structure",
                  "Unnamed: 1": "Lot",
                  "Unnamed: 2": "Total Spaces",
                  "Unnamed: 3": "Type",
                  "University of California San Diego: Quarterly Parking Availability Survey and Summary": "Available",
                  "Unnamed: 5": "Available",
                  "Unnamed: 6": "Available",
                  "Unnamed: 7": "Available",
                  "Unnamed: 8": "Available",
                  "Unnamed: 9": "Available",
                  "Unnamed: 10": "Available",
                  "Unnamed: 11": "Available",
                  "Unnamed: 12": "Available",
                  "Unnamed: 13": "Available",
                  "Unnamed: 14": "Available",
                  "Unnamed: 15": "Available",
                  "Unnamed: 16": "Available",
                  "Unnamed: 17": "Available",
                  "Unnamed: 18": "Available",
                  "Unnamed: 19": "Available",
                  "Unnamed: 20": "Available",
                  "Unnamed: 21": "Available",
                  "Unnamed: 22": "Available",
                  "Unnamed: 23": "Available",
                  "_deepnote_index_column": 4
                },
                {
                  "Unnamed: 0": "Athena",
                  "Unnamed: 1": "nan",
                  "Unnamed: 2": "195",
                  "Unnamed: 3": "A",
                  "University of California San Diego: Quarterly Parking Availability Survey and Summary": "162",
                  "Unnamed: 5": "75",
                  "Unnamed: 6": "73",
                  "Unnamed: 7": "49",
                  "Unnamed: 8": "100",
                  "Unnamed: 9": "70",
                  "Unnamed: 10": "45",
                  "Unnamed: 11": "46",
                  "Unnamed: 12": "104",
                  "Unnamed: 13": "91",
                  "Unnamed: 14": "55",
                  "Unnamed: 15": "63",
                  "Unnamed: 16": "nan",
                  "Unnamed: 17": "nan",
                  "Unnamed: 18": "nan",
                  "Unnamed: 19": "nan",
                  "Unnamed: 20": "131",
                  "Unnamed: 21": "67",
                  "Unnamed: 22": "79",
                  "Unnamed: 23": "96",
                  "_deepnote_index_column": 5
                },
                {
                  "Unnamed: 0": "Campus Point East",
                  "Unnamed: 1": "nan",
                  "Unnamed: 2": "372",
                  "Unnamed: 3": "A",
                  "University of California San Diego: Quarterly Parking Availability Survey and Summary": "147",
                  "Unnamed: 5": "68",
                  "Unnamed: 6": "70",
                  "Unnamed: 7": "75",
                  "Unnamed: 8": "85",
                  "Unnamed: 9": "10",
                  "Unnamed: 10": "10",
                  "Unnamed: 11": "34",
                  "Unnamed: 12": "84",
                  "Unnamed: 13": "33",
                  "Unnamed: 14": "29",
                  "Unnamed: 15": "35",
                  "Unnamed: 16": "nan",
                  "Unnamed: 17": "nan",
                  "Unnamed: 18": "nan",
                  "Unnamed: 19": "nan",
                  "Unnamed: 20": "114",
                  "Unnamed: 21": "109",
                  "Unnamed: 22": "86",
                  "Unnamed: 23": "127",
                  "_deepnote_index_column": 6
                },
                {
                  "Unnamed: 0": "Campus Point West",
                  "Unnamed: 1": "nan",
                  "Unnamed: 2": "9",
                  "Unnamed: 3": "A",
                  "University of California San Diego: Quarterly Parking Availability Survey and Summary": "4",
                  "Unnamed: 5": "1",
                  "Unnamed: 6": "1",
                  "Unnamed: 7": "0",
                  "Unnamed: 8": "0",
                  "Unnamed: 9": "2",
                  "Unnamed: 10": "4",
                  "Unnamed: 11": "2",
                  "Unnamed: 12": "4",
                  "Unnamed: 13": "2",
                  "Unnamed: 14": "0",
                  "Unnamed: 15": "3",
                  "Unnamed: 16": "nan",
                  "Unnamed: 17": "nan",
                  "Unnamed: 18": "nan",
                  "Unnamed: 19": "nan",
                  "Unnamed: 20": "8",
                  "Unnamed: 21": "4",
                  "Unnamed: 22": "2",
                  "Unnamed: 23": "0",
                  "_deepnote_index_column": 7
                },
                {
                  "Unnamed: 0": "Gilman",
                  "Unnamed: 1": "nan",
                  "Unnamed: 2": "401",
                  "Unnamed: 3": "A",
                  "University of California San Diego: Quarterly Parking Availability Survey and Summary": "304",
                  "Unnamed: 5": "61",
                  "Unnamed: 6": "107",
                  "Unnamed: 7": "137",
                  "Unnamed: 8": "322",
                  "Unnamed: 9": "64",
                  "Unnamed: 10": "134",
                  "Unnamed: 11": "153",
                  "Unnamed: 12": "273",
                  "Unnamed: 13": "249",
                  "Unnamed: 14": "132",
                  "Unnamed: 15": "146",
                  "Unnamed: 16": "nan",
                  "Unnamed: 17": "nan",
                  "Unnamed: 18": "nan",
                  "Unnamed: 19": "nan",
                  "Unnamed: 20": "347",
                  "Unnamed: 21": "284",
                  "Unnamed: 22": "129",
                  "Unnamed: 23": "277",
                  "_deepnote_index_column": 8
                },
                {
                  "Unnamed: 0": "Hopkins",
                  "Unnamed: 1": "nan",
                  "Unnamed: 2": "84",
                  "Unnamed: 3": "A",
                  "University of California San Diego: Quarterly Parking Availability Survey and Summary": "80",
                  "Unnamed: 5": "57",
                  "Unnamed: 6": "52",
                  "Unnamed: 7": "46",
                  "Unnamed: 8": "24",
                  "Unnamed: 9": "6",
                  "Unnamed: 10": "0",
                  "Unnamed: 11": "0",
                  "Unnamed: 12": "23",
                  "Unnamed: 13": "5",
                  "Unnamed: 14": "1",
                  "Unnamed: 15": "3",
                  "Unnamed: 16": "nan",
                  "Unnamed: 17": "nan",
                  "Unnamed: 18": "nan",
                  "Unnamed: 19": "nan",
                  "Unnamed: 20": "26",
                  "Unnamed: 21": "21",
                  "Unnamed: 22": "72",
                  "Unnamed: 23": "46",
                  "_deepnote_index_column": 9
                }
              ]
            },
            "text/plain": "    Unnamed: 0 Unnamed: 1    Unnamed: 2 Unnamed: 3  \\\n0          NaN        NaN           NaN        NaN   \n1          NaN        NaN           NaN        NaN   \n2          NaN        NaN           NaN        NaN   \n3          NaN        NaN           NaN        NaN   \n4    Structure        Lot  Total Spaces       Type   \n..         ...        ...           ...        ...   \n134        NaN      SIO B           295        NaN   \n135        NaN          S            64        NaN   \n136        NaN      SIO S            71        NaN   \n137        NaN   Aquarium           258        NaN   \n138        NaN          V             4        NaN   \n\n    University of California San Diego: Quarterly Parking Availability Survey and Summary  \\\n0    Data Sorted by Allocation Type: Summer 2019 We...                                      \n1                                               Monday                                      \n2                                  2019-07-01 00:00:00                                      \n3                                             08:00:00                                      \n4                                            Available                                      \n..                                                 ...                                      \n134                                                211                                      \n135                                                 48                                      \n136                                                 71                                      \n137                                                240                                      \n138                                                  4                                      \n\n    Unnamed: 5 Unnamed: 6 Unnamed: 7           Unnamed: 8 Unnamed: 9  ...  \\\n0          NaN        NaN        NaN                  NaN        NaN  ...   \n1          NaN        NaN        NaN              Tuesday        NaN  ...   \n2          NaN        NaN        NaN  2019-07-02 00:00:00        NaN  ...   \n3     10:00:00   12:00:00   14:00:00             08:00:00   10:00:00  ...   \n4    Available  Available  Available            Available  Available  ...   \n..         ...        ...        ...                  ...        ...  ...   \n134         93         50         48                  193         59  ...   \n135         23         16         18                   47         17  ...   \n136         67         63         67                   71         68  ...   \n137        130         23         48                  235        131  ...   \n138          3          2          4                    4          4  ...   \n\n    Unnamed: 14 Unnamed: 15          Unnamed: 16 Unnamed: 17 Unnamed: 18  \\\n0           NaN         NaN                  NaN         NaN         NaN   \n1           NaN         NaN             Thursday         NaN         NaN   \n2           NaN         NaN  2019-07-04 00:00:00         NaN         NaN   \n3      12:00:00    14:00:00             08:00:00    10:00:00    12:00:00   \n4     Available   Available            Available   Available   Available   \n..          ...         ...                  ...         ...         ...   \n134          42          38                  NaN         NaN         NaN   \n135          22          30                  NaN         NaN         NaN   \n136          63          64                  NaN         NaN         NaN   \n137          13          43                  NaN         NaN         NaN   \n138           2           1                  NaN         NaN         NaN   \n\n    Unnamed: 19          Unnamed: 20 Unnamed: 21 Unnamed: 22 Unnamed: 23  \n0           NaN                  NaN         NaN         NaN         NaN  \n1           NaN               Friday         NaN         NaN         NaN  \n2           NaN  2019-07-05 00:00:00         NaN         NaN         NaN  \n3      14:00:00             08:00:00    10:00:00    12:00:00    14:00:00  \n4     Available            Available   Available   Available   Available  \n..          ...                  ...         ...         ...         ...  \n134         NaN                  230         147          98          94  \n135         NaN                   50          39          29          23  \n136         NaN                   71          69          70          67  \n137         NaN                  252         189           7          56  \n138         NaN                    4           4           4           0  \n\n[139 rows x 24 columns]",
            "text/html": "<div>\n<style scoped>\n    .dataframe tbody tr th:only-of-type {\n        vertical-align: middle;\n    }\n\n    .dataframe tbody tr th {\n        vertical-align: top;\n    }\n\n    .dataframe thead th {\n        text-align: right;\n    }\n</style>\n<table border=\"1\" class=\"dataframe\">\n  <thead>\n    <tr style=\"text-align: right;\">\n      <th></th>\n      <th>Unnamed: 0</th>\n      <th>Unnamed: 1</th>\n      <th>Unnamed: 2</th>\n      <th>Unnamed: 3</th>\n      <th>University of California San Diego: Quarterly Parking Availability Survey and Summary</th>\n      <th>Unnamed: 5</th>\n      <th>Unnamed: 6</th>\n      <th>Unnamed: 7</th>\n      <th>Unnamed: 8</th>\n      <th>Unnamed: 9</th>\n      <th>...</th>\n      <th>Unnamed: 14</th>\n      <th>Unnamed: 15</th>\n      <th>Unnamed: 16</th>\n      <th>Unnamed: 17</th>\n      <th>Unnamed: 18</th>\n      <th>Unnamed: 19</th>\n      <th>Unnamed: 20</th>\n      <th>Unnamed: 21</th>\n      <th>Unnamed: 22</th>\n      <th>Unnamed: 23</th>\n    </tr>\n  </thead>\n  <tbody>\n    <tr>\n      <th>0</th>\n      <td>NaN</td>\n      <td>NaN</td>\n      <td>NaN</td>\n      <td>NaN</td>\n      <td>Data Sorted by Allocation Type: Summer 2019 We...</td>\n      <td>NaN</td>\n      <td>NaN</td>\n      <td>NaN</td>\n      <td>NaN</td>\n      <td>NaN</td>\n      <td>...</td>\n      <td>NaN</td>\n      <td>NaN</td>\n      <td>NaN</td>\n      <td>NaN</td>\n      <td>NaN</td>\n      <td>NaN</td>\n      <td>NaN</td>\n      <td>NaN</td>\n      <td>NaN</td>\n      <td>NaN</td>\n    </tr>\n    <tr>\n      <th>1</th>\n      <td>NaN</td>\n      <td>NaN</td>\n      <td>NaN</td>\n      <td>NaN</td>\n      <td>Monday</td>\n      <td>NaN</td>\n      <td>NaN</td>\n      <td>NaN</td>\n      <td>Tuesday</td>\n      <td>NaN</td>\n      <td>...</td>\n      <td>NaN</td>\n      <td>NaN</td>\n      <td>Thursday</td>\n      <td>NaN</td>\n      <td>NaN</td>\n      <td>NaN</td>\n      <td>Friday</td>\n      <td>NaN</td>\n      <td>NaN</td>\n      <td>NaN</td>\n    </tr>\n    <tr>\n      <th>2</th>\n      <td>NaN</td>\n      <td>NaN</td>\n      <td>NaN</td>\n      <td>NaN</td>\n      <td>2019-07-01 00:00:00</td>\n      <td>NaN</td>\n      <td>NaN</td>\n      <td>NaN</td>\n      <td>2019-07-02 00:00:00</td>\n      <td>NaN</td>\n      <td>...</td>\n      <td>NaN</td>\n      <td>NaN</td>\n      <td>2019-07-04 00:00:00</td>\n      <td>NaN</td>\n      <td>NaN</td>\n      <td>NaN</td>\n      <td>2019-07-05 00:00:00</td>\n      <td>NaN</td>\n      <td>NaN</td>\n      <td>NaN</td>\n    </tr>\n    <tr>\n      <th>3</th>\n      <td>NaN</td>\n      <td>NaN</td>\n      <td>NaN</td>\n      <td>NaN</td>\n      <td>08:00:00</td>\n      <td>10:00:00</td>\n      <td>12:00:00</td>\n      <td>14:00:00</td>\n      <td>08:00:00</td>\n      <td>10:00:00</td>\n      <td>...</td>\n      <td>12:00:00</td>\n      <td>14:00:00</td>\n      <td>08:00:00</td>\n      <td>10:00:00</td>\n      <td>12:00:00</td>\n      <td>14:00:00</td>\n      <td>08:00:00</td>\n      <td>10:00:00</td>\n      <td>12:00:00</td>\n      <td>14:00:00</td>\n    </tr>\n    <tr>\n      <th>4</th>\n      <td>Structure</td>\n      <td>Lot</td>\n      <td>Total Spaces</td>\n      <td>Type</td>\n      <td>Available</td>\n      <td>Available</td>\n      <td>Available</td>\n      <td>Available</td>\n      <td>Available</td>\n      <td>Available</td>\n      <td>...</td>\n      <td>Available</td>\n      <td>Available</td>\n      <td>Available</td>\n      <td>Available</td>\n      <td>Available</td>\n      <td>Available</td>\n      <td>Available</td>\n      <td>Available</td>\n      <td>Available</td>\n      <td>Available</td>\n    </tr>\n    <tr>\n      <th>...</th>\n      <td>...</td>\n      <td>...</td>\n      <td>...</td>\n      <td>...</td>\n      <td>...</td>\n      <td>...</td>\n      <td>...</td>\n      <td>...</td>\n      <td>...</td>\n      <td>...</td>\n      <td>...</td>\n      <td>...</td>\n      <td>...</td>\n      <td>...</td>\n      <td>...</td>\n      <td>...</td>\n      <td>...</td>\n      <td>...</td>\n      <td>...</td>\n      <td>...</td>\n      <td>...</td>\n    </tr>\n    <tr>\n      <th>134</th>\n      <td>NaN</td>\n      <td>SIO B</td>\n      <td>295</td>\n      <td>NaN</td>\n      <td>211</td>\n      <td>93</td>\n      <td>50</td>\n      <td>48</td>\n      <td>193</td>\n      <td>59</td>\n      <td>...</td>\n      <td>42</td>\n      <td>38</td>\n      <td>NaN</td>\n      <td>NaN</td>\n      <td>NaN</td>\n      <td>NaN</td>\n      <td>230</td>\n      <td>147</td>\n      <td>98</td>\n      <td>94</td>\n    </tr>\n    <tr>\n      <th>135</th>\n      <td>NaN</td>\n      <td>S</td>\n      <td>64</td>\n      <td>NaN</td>\n      <td>48</td>\n      <td>23</td>\n      <td>16</td>\n      <td>18</td>\n      <td>47</td>\n      <td>17</td>\n      <td>...</td>\n      <td>22</td>\n      <td>30</td>\n      <td>NaN</td>\n      <td>NaN</td>\n      <td>NaN</td>\n      <td>NaN</td>\n      <td>50</td>\n      <td>39</td>\n      <td>29</td>\n      <td>23</td>\n    </tr>\n    <tr>\n      <th>136</th>\n      <td>NaN</td>\n      <td>SIO S</td>\n      <td>71</td>\n      <td>NaN</td>\n      <td>71</td>\n      <td>67</td>\n      <td>63</td>\n      <td>67</td>\n      <td>71</td>\n      <td>68</td>\n      <td>...</td>\n      <td>63</td>\n      <td>64</td>\n      <td>NaN</td>\n      <td>NaN</td>\n      <td>NaN</td>\n      <td>NaN</td>\n      <td>71</td>\n      <td>69</td>\n      <td>70</td>\n      <td>67</td>\n    </tr>\n    <tr>\n      <th>137</th>\n      <td>NaN</td>\n      <td>Aquarium</td>\n      <td>258</td>\n      <td>NaN</td>\n      <td>240</td>\n      <td>130</td>\n      <td>23</td>\n      <td>48</td>\n      <td>235</td>\n      <td>131</td>\n      <td>...</td>\n      <td>13</td>\n      <td>43</td>\n      <td>NaN</td>\n      <td>NaN</td>\n      <td>NaN</td>\n      <td>NaN</td>\n      <td>252</td>\n      <td>189</td>\n      <td>7</td>\n      <td>56</td>\n    </tr>\n    <tr>\n      <th>138</th>\n      <td>NaN</td>\n      <td>V</td>\n      <td>4</td>\n      <td>NaN</td>\n      <td>4</td>\n      <td>3</td>\n      <td>2</td>\n      <td>4</td>\n      <td>4</td>\n      <td>4</td>\n      <td>...</td>\n      <td>2</td>\n      <td>1</td>\n      <td>NaN</td>\n      <td>NaN</td>\n      <td>NaN</td>\n      <td>NaN</td>\n      <td>4</td>\n      <td>4</td>\n      <td>4</td>\n      <td>0</td>\n    </tr>\n  </tbody>\n</table>\n<p>139 rows × 24 columns</p>\n</div>"
          },
          "metadata": {}
        }
      ],
      "execution_count": null,
      "block_group": "7c33ed4ff4914463b255f68f2b72cc50"
    },
    {
      "cell_type": "code",
      "source": "# rename column headers \nsummer2019_2020.set_axis([\"Structure\", \"Lot\", \"Total Spaces\",\"Type\",\" Mon 8AM\",\"Mon 10AM\",\n'Mon 12PM','Mon 2PM',' Tue 8AM','Tue 10AM','Tue 12PM','Tue 2PM','Wed 8AM','Wed 10AM','Wed 12PM','Wed 2PM','Thur 8AM',\n'Thur 10AM','Thur 12PM','Thur 2PM','Fri 8AM','Fri 10AM','Fri 12PM','Fri 2PM'], axis=\"columns\", inplace=True)\nsummer2019_2020\n",
      "metadata": {
        "source_hash": null,
        "execution_start": 1694924011730,
        "execution_millis": 436,
        "deepnote_table_state": {
          "sortBy": [],
          "filters": [],
          "pageSize": 10,
          "pageIndex": 8
        },
        "deepnote_table_loading": false,
        "deepnote_to_be_reexecuted": false,
        "cell_id": "b24085b16b004e8e81a8aa2a2fb287ae",
        "deepnote_cell_type": "code"
      },
      "outputs": [
        {
          "output_type": "execute_result",
          "execution_count": 3,
          "data": {
            "application/vnd.deepnote.dataframe.v3+json": {
              "column_count": 24,
              "row_count": 139,
              "columns": [
                {
                  "name": "Structure",
                  "dtype": "object",
                  "stats": {
                    "unique_count": 14,
                    "nan_count": 100,
                    "categories": [
                      {
                        "name": "Osler",
                        "count": 6
                      },
                      {
                        "name": "13 others",
                        "count": 33
                      },
                      {
                        "name": "Missing",
                        "count": 100
                      }
                    ]
                  }
                },
                {
                  "name": "Lot",
                  "dtype": "object",
                  "stats": {
                    "unique_count": 62,
                    "nan_count": 44,
                    "categories": [
                      {
                        "name": "P510",
                        "count": 4
                      },
                      {
                        "name": "61 others",
                        "count": 91
                      },
                      {
                        "name": "Missing",
                        "count": 44
                      }
                    ]
                  }
                },
                {
                  "name": "Total Spaces",
                  "dtype": "object",
                  "stats": {
                    "unique_count": 93,
                    "nan_count": 10,
                    "categories": [
                      {
                        "name": "9",
                        "count": 6
                      },
                      {
                        "name": "92 others",
                        "count": 123
                      },
                      {
                        "name": "Missing",
                        "count": 10
                      }
                    ]
                  }
                },
                {
                  "name": "Type",
                  "dtype": "object",
                  "stats": {
                    "unique_count": 13,
                    "nan_count": 27,
                    "categories": [
                      {
                        "name": "B",
                        "count": 31
                      },
                      {
                        "name": "12 others",
                        "count": 81
                      },
                      {
                        "name": "Missing",
                        "count": 27
                      }
                    ]
                  }
                },
                {
                  "name": " Mon 8AM",
                  "dtype": "object",
                  "stats": {
                    "unique_count": 76,
                    "nan_count": 13,
                    "categories": [
                      {
                        "name": "0",
                        "count": 10
                      },
                      {
                        "name": "75 others",
                        "count": 116
                      },
                      {
                        "name": "Missing",
                        "count": 13
                      }
                    ]
                  }
                },
                {
                  "name": "Mon 10AM",
                  "dtype": "object",
                  "stats": {
                    "unique_count": 64,
                    "nan_count": 16,
                    "categories": [
                      {
                        "name": "0",
                        "count": 24
                      },
                      {
                        "name": "63 others",
                        "count": 99
                      },
                      {
                        "name": "Missing",
                        "count": 16
                      }
                    ]
                  }
                },
                {
                  "name": "Mon 12PM",
                  "dtype": "object",
                  "stats": {
                    "unique_count": 57,
                    "nan_count": 16,
                    "categories": [
                      {
                        "name": "0",
                        "count": 29
                      },
                      {
                        "name": "56 others",
                        "count": 94
                      },
                      {
                        "name": "Missing",
                        "count": 16
                      }
                    ]
                  }
                },
                {
                  "name": "Mon 2PM",
                  "dtype": "object",
                  "stats": {
                    "unique_count": 59,
                    "nan_count": 16,
                    "categories": [
                      {
                        "name": "0",
                        "count": 24
                      },
                      {
                        "name": "58 others",
                        "count": 99
                      },
                      {
                        "name": "Missing",
                        "count": 16
                      }
                    ]
                  }
                },
                {
                  "name": " Tue 8AM",
                  "dtype": "object",
                  "stats": {
                    "unique_count": 77,
                    "nan_count": 14,
                    "categories": [
                      {
                        "name": "0",
                        "count": 13
                      },
                      {
                        "name": "76 others",
                        "count": 112
                      },
                      {
                        "name": "Missing",
                        "count": 14
                      }
                    ]
                  }
                },
                {
                  "name": "Tue 10AM",
                  "dtype": "object",
                  "stats": {
                    "unique_count": 59,
                    "nan_count": 16,
                    "categories": [
                      {
                        "name": "0",
                        "count": 30
                      },
                      {
                        "name": "58 others",
                        "count": 93
                      },
                      {
                        "name": "Missing",
                        "count": 16
                      }
                    ]
                  }
                },
                {
                  "name": "Tue 12PM",
                  "dtype": "object",
                  "stats": {
                    "unique_count": 55,
                    "nan_count": 16,
                    "categories": [
                      {
                        "name": "0",
                        "count": 31
                      },
                      {
                        "name": "54 others",
                        "count": 92
                      },
                      {
                        "name": "Missing",
                        "count": 16
                      }
                    ]
                  }
                },
                {
                  "name": "Tue 2PM",
                  "dtype": "object",
                  "stats": {
                    "unique_count": 54,
                    "nan_count": 16,
                    "categories": [
                      {
                        "name": "0",
                        "count": 25
                      },
                      {
                        "name": "53 others",
                        "count": 98
                      },
                      {
                        "name": "Missing",
                        "count": 16
                      }
                    ]
                  }
                },
                {
                  "name": "Wed 8AM",
                  "dtype": "object",
                  "stats": {
                    "unique_count": 74,
                    "nan_count": 14,
                    "categories": [
                      {
                        "name": "0",
                        "count": 15
                      },
                      {
                        "name": "73 others",
                        "count": 110
                      },
                      {
                        "name": "Missing",
                        "count": 14
                      }
                    ]
                  }
                },
                {
                  "name": "Wed 10AM",
                  "dtype": "object",
                  "stats": {
                    "unique_count": 63,
                    "nan_count": 16,
                    "categories": [
                      {
                        "name": "0",
                        "count": 29
                      },
                      {
                        "name": "62 others",
                        "count": 94
                      },
                      {
                        "name": "Missing",
                        "count": 16
                      }
                    ]
                  }
                },
                {
                  "name": "Wed 12PM",
                  "dtype": "object",
                  "stats": {
                    "unique_count": 57,
                    "nan_count": 16,
                    "categories": [
                      {
                        "name": "0",
                        "count": 31
                      },
                      {
                        "name": "56 others",
                        "count": 92
                      },
                      {
                        "name": "Missing",
                        "count": 16
                      }
                    ]
                  }
                },
                {
                  "name": "Wed 2PM",
                  "dtype": "object",
                  "stats": {
                    "unique_count": 60,
                    "nan_count": 16,
                    "categories": [
                      {
                        "name": "0",
                        "count": 22
                      },
                      {
                        "name": "59 others",
                        "count": 101
                      },
                      {
                        "name": "Missing",
                        "count": 16
                      }
                    ]
                  }
                },
                {
                  "name": "Thur 8AM",
                  "dtype": "object",
                  "stats": {
                    "unique_count": 4,
                    "nan_count": 135,
                    "categories": [
                      {
                        "name": "Thursday",
                        "count": 1
                      },
                      {
                        "name": "3 others",
                        "count": 3
                      },
                      {
                        "name": "Missing",
                        "count": 135
                      }
                    ]
                  }
                },
                {
                  "name": "Thur 10AM",
                  "dtype": "object",
                  "stats": {
                    "unique_count": 2,
                    "nan_count": 137,
                    "categories": [
                      {
                        "name": "10:00:00",
                        "count": 1
                      },
                      {
                        "name": "Available",
                        "count": 1
                      },
                      {
                        "name": "Missing",
                        "count": 137
                      }
                    ]
                  }
                },
                {
                  "name": "Thur 12PM",
                  "dtype": "object",
                  "stats": {
                    "unique_count": 2,
                    "nan_count": 137,
                    "categories": [
                      {
                        "name": "12:00:00",
                        "count": 1
                      },
                      {
                        "name": "Available",
                        "count": 1
                      },
                      {
                        "name": "Missing",
                        "count": 137
                      }
                    ]
                  }
                },
                {
                  "name": "Thur 2PM",
                  "dtype": "object",
                  "stats": {
                    "unique_count": 2,
                    "nan_count": 137,
                    "categories": [
                      {
                        "name": "14:00:00",
                        "count": 1
                      },
                      {
                        "name": "Available",
                        "count": 1
                      },
                      {
                        "name": "Missing",
                        "count": 137
                      }
                    ]
                  }
                },
                {
                  "name": "Fri 8AM",
                  "dtype": "object",
                  "stats": {
                    "unique_count": 81,
                    "nan_count": 14,
                    "categories": [
                      {
                        "name": "0",
                        "count": 6
                      },
                      {
                        "name": "80 others",
                        "count": 119
                      },
                      {
                        "name": "Missing",
                        "count": 14
                      }
                    ]
                  }
                },
                {
                  "name": "Fri 10AM",
                  "dtype": "object",
                  "stats": {
                    "unique_count": 74,
                    "nan_count": 16,
                    "categories": [
                      {
                        "name": "0",
                        "count": 11
                      },
                      {
                        "name": "73 others",
                        "count": 112
                      },
                      {
                        "name": "Missing",
                        "count": 16
                      }
                    ]
                  }
                },
                {
                  "name": "Fri 12PM",
                  "dtype": "object",
                  "stats": {
                    "unique_count": 71,
                    "nan_count": 16,
                    "categories": [
                      {
                        "name": "0",
                        "count": 9
                      },
                      {
                        "name": "70 others",
                        "count": 114
                      },
                      {
                        "name": "Missing",
                        "count": 16
                      }
                    ]
                  }
                },
                {
                  "name": "Fri 2PM",
                  "dtype": "object",
                  "stats": {
                    "unique_count": 76,
                    "nan_count": 16,
                    "categories": [
                      {
                        "name": "0",
                        "count": 12
                      },
                      {
                        "name": "75 others",
                        "count": 111
                      },
                      {
                        "name": "Missing",
                        "count": 16
                      }
                    ]
                  }
                },
                {
                  "name": "_deepnote_index_column",
                  "dtype": "int64"
                }
              ],
              "rows": [
                {
                  "Structure": "nan",
                  "Lot": "nan",
                  "Total Spaces": "nan",
                  "Type": "nan",
                  " Mon 8AM": "Data Sorted by Allocation Type: Summer 2019 Week 1",
                  "Mon 10AM": "nan",
                  "Mon 12PM": "nan",
                  "Mon 2PM": "nan",
                  " Tue 8AM": "nan",
                  "Tue 10AM": "nan",
                  "Tue 12PM": "nan",
                  "Tue 2PM": "nan",
                  "Wed 8AM": "nan",
                  "Wed 10AM": "nan",
                  "Wed 12PM": "nan",
                  "Wed 2PM": "nan",
                  "Thur 8AM": "nan",
                  "Thur 10AM": "nan",
                  "Thur 12PM": "nan",
                  "Thur 2PM": "nan",
                  "Fri 8AM": "nan",
                  "Fri 10AM": "nan",
                  "Fri 12PM": "nan",
                  "Fri 2PM": "nan",
                  "_deepnote_index_column": 0
                },
                {
                  "Structure": "nan",
                  "Lot": "nan",
                  "Total Spaces": "nan",
                  "Type": "nan",
                  " Mon 8AM": "Monday",
                  "Mon 10AM": "nan",
                  "Mon 12PM": "nan",
                  "Mon 2PM": "nan",
                  " Tue 8AM": "Tuesday",
                  "Tue 10AM": "nan",
                  "Tue 12PM": "nan",
                  "Tue 2PM": "nan",
                  "Wed 8AM": "Wednesday",
                  "Wed 10AM": "nan",
                  "Wed 12PM": "nan",
                  "Wed 2PM": "nan",
                  "Thur 8AM": "Thursday",
                  "Thur 10AM": "nan",
                  "Thur 12PM": "nan",
                  "Thur 2PM": "nan",
                  "Fri 8AM": "Friday",
                  "Fri 10AM": "nan",
                  "Fri 12PM": "nan",
                  "Fri 2PM": "nan",
                  "_deepnote_index_column": 1
                },
                {
                  "Structure": "nan",
                  "Lot": "nan",
                  "Total Spaces": "nan",
                  "Type": "nan",
                  " Mon 8AM": "2019-07-01 00:00:00",
                  "Mon 10AM": "nan",
                  "Mon 12PM": "nan",
                  "Mon 2PM": "nan",
                  " Tue 8AM": "2019-07-02 00:00:00",
                  "Tue 10AM": "nan",
                  "Tue 12PM": "nan",
                  "Tue 2PM": "nan",
                  "Wed 8AM": "2019-07-03 00:00:00",
                  "Wed 10AM": "nan",
                  "Wed 12PM": "nan",
                  "Wed 2PM": "nan",
                  "Thur 8AM": "2019-07-04 00:00:00",
                  "Thur 10AM": "nan",
                  "Thur 12PM": "nan",
                  "Thur 2PM": "nan",
                  "Fri 8AM": "2019-07-05 00:00:00",
                  "Fri 10AM": "nan",
                  "Fri 12PM": "nan",
                  "Fri 2PM": "nan",
                  "_deepnote_index_column": 2
                },
                {
                  "Structure": "nan",
                  "Lot": "nan",
                  "Total Spaces": "nan",
                  "Type": "nan",
                  " Mon 8AM": "08:00:00",
                  "Mon 10AM": "10:00:00",
                  "Mon 12PM": "12:00:00",
                  "Mon 2PM": "14:00:00",
                  " Tue 8AM": "08:00:00",
                  "Tue 10AM": "10:00:00",
                  "Tue 12PM": "12:00:00",
                  "Tue 2PM": "14:00:00",
                  "Wed 8AM": "08:00:00",
                  "Wed 10AM": "10:00:00",
                  "Wed 12PM": "12:00:00",
                  "Wed 2PM": "14:00:00",
                  "Thur 8AM": "08:00:00",
                  "Thur 10AM": "10:00:00",
                  "Thur 12PM": "12:00:00",
                  "Thur 2PM": "14:00:00",
                  "Fri 8AM": "08:00:00",
                  "Fri 10AM": "10:00:00",
                  "Fri 12PM": "12:00:00",
                  "Fri 2PM": "14:00:00",
                  "_deepnote_index_column": 3
                },
                {
                  "Structure": "Structure",
                  "Lot": "Lot",
                  "Total Spaces": "Total Spaces",
                  "Type": "Type",
                  " Mon 8AM": "Available",
                  "Mon 10AM": "Available",
                  "Mon 12PM": "Available",
                  "Mon 2PM": "Available",
                  " Tue 8AM": "Available",
                  "Tue 10AM": "Available",
                  "Tue 12PM": "Available",
                  "Tue 2PM": "Available",
                  "Wed 8AM": "Available",
                  "Wed 10AM": "Available",
                  "Wed 12PM": "Available",
                  "Wed 2PM": "Available",
                  "Thur 8AM": "Available",
                  "Thur 10AM": "Available",
                  "Thur 12PM": "Available",
                  "Thur 2PM": "Available",
                  "Fri 8AM": "Available",
                  "Fri 10AM": "Available",
                  "Fri 12PM": "Available",
                  "Fri 2PM": "Available",
                  "_deepnote_index_column": 4
                },
                {
                  "Structure": "Athena",
                  "Lot": "nan",
                  "Total Spaces": "195",
                  "Type": "A",
                  " Mon 8AM": "162",
                  "Mon 10AM": "75",
                  "Mon 12PM": "73",
                  "Mon 2PM": "49",
                  " Tue 8AM": "100",
                  "Tue 10AM": "70",
                  "Tue 12PM": "45",
                  "Tue 2PM": "46",
                  "Wed 8AM": "104",
                  "Wed 10AM": "91",
                  "Wed 12PM": "55",
                  "Wed 2PM": "63",
                  "Thur 8AM": "nan",
                  "Thur 10AM": "nan",
                  "Thur 12PM": "nan",
                  "Thur 2PM": "nan",
                  "Fri 8AM": "131",
                  "Fri 10AM": "67",
                  "Fri 12PM": "79",
                  "Fri 2PM": "96",
                  "_deepnote_index_column": 5
                },
                {
                  "Structure": "Campus Point East",
                  "Lot": "nan",
                  "Total Spaces": "372",
                  "Type": "A",
                  " Mon 8AM": "147",
                  "Mon 10AM": "68",
                  "Mon 12PM": "70",
                  "Mon 2PM": "75",
                  " Tue 8AM": "85",
                  "Tue 10AM": "10",
                  "Tue 12PM": "10",
                  "Tue 2PM": "34",
                  "Wed 8AM": "84",
                  "Wed 10AM": "33",
                  "Wed 12PM": "29",
                  "Wed 2PM": "35",
                  "Thur 8AM": "nan",
                  "Thur 10AM": "nan",
                  "Thur 12PM": "nan",
                  "Thur 2PM": "nan",
                  "Fri 8AM": "114",
                  "Fri 10AM": "109",
                  "Fri 12PM": "86",
                  "Fri 2PM": "127",
                  "_deepnote_index_column": 6
                },
                {
                  "Structure": "Campus Point West",
                  "Lot": "nan",
                  "Total Spaces": "9",
                  "Type": "A",
                  " Mon 8AM": "4",
                  "Mon 10AM": "1",
                  "Mon 12PM": "1",
                  "Mon 2PM": "0",
                  " Tue 8AM": "0",
                  "Tue 10AM": "2",
                  "Tue 12PM": "4",
                  "Tue 2PM": "2",
                  "Wed 8AM": "4",
                  "Wed 10AM": "2",
                  "Wed 12PM": "0",
                  "Wed 2PM": "3",
                  "Thur 8AM": "nan",
                  "Thur 10AM": "nan",
                  "Thur 12PM": "nan",
                  "Thur 2PM": "nan",
                  "Fri 8AM": "8",
                  "Fri 10AM": "4",
                  "Fri 12PM": "2",
                  "Fri 2PM": "0",
                  "_deepnote_index_column": 7
                },
                {
                  "Structure": "Gilman",
                  "Lot": "nan",
                  "Total Spaces": "401",
                  "Type": "A",
                  " Mon 8AM": "304",
                  "Mon 10AM": "61",
                  "Mon 12PM": "107",
                  "Mon 2PM": "137",
                  " Tue 8AM": "322",
                  "Tue 10AM": "64",
                  "Tue 12PM": "134",
                  "Tue 2PM": "153",
                  "Wed 8AM": "273",
                  "Wed 10AM": "249",
                  "Wed 12PM": "132",
                  "Wed 2PM": "146",
                  "Thur 8AM": "nan",
                  "Thur 10AM": "nan",
                  "Thur 12PM": "nan",
                  "Thur 2PM": "nan",
                  "Fri 8AM": "347",
                  "Fri 10AM": "284",
                  "Fri 12PM": "129",
                  "Fri 2PM": "277",
                  "_deepnote_index_column": 8
                },
                {
                  "Structure": "Hopkins",
                  "Lot": "nan",
                  "Total Spaces": "84",
                  "Type": "A",
                  " Mon 8AM": "80",
                  "Mon 10AM": "57",
                  "Mon 12PM": "52",
                  "Mon 2PM": "46",
                  " Tue 8AM": "24",
                  "Tue 10AM": "6",
                  "Tue 12PM": "0",
                  "Tue 2PM": "0",
                  "Wed 8AM": "23",
                  "Wed 10AM": "5",
                  "Wed 12PM": "1",
                  "Wed 2PM": "3",
                  "Thur 8AM": "nan",
                  "Thur 10AM": "nan",
                  "Thur 12PM": "nan",
                  "Thur 2PM": "nan",
                  "Fri 8AM": "26",
                  "Fri 10AM": "21",
                  "Fri 12PM": "72",
                  "Fri 2PM": "46",
                  "_deepnote_index_column": 9
                }
              ]
            },
            "text/plain": "     Structure       Lot  Total Spaces  Type  \\\n0          NaN       NaN           NaN   NaN   \n1          NaN       NaN           NaN   NaN   \n2          NaN       NaN           NaN   NaN   \n3          NaN       NaN           NaN   NaN   \n4    Structure       Lot  Total Spaces  Type   \n..         ...       ...           ...   ...   \n134        NaN     SIO B           295   NaN   \n135        NaN         S            64   NaN   \n136        NaN     SIO S            71   NaN   \n137        NaN  Aquarium           258   NaN   \n138        NaN         V             4   NaN   \n\n                                               Mon 8AM   Mon 10AM   Mon 12PM  \\\n0    Data Sorted by Allocation Type: Summer 2019 We...        NaN        NaN   \n1                                               Monday        NaN        NaN   \n2                                  2019-07-01 00:00:00        NaN        NaN   \n3                                             08:00:00   10:00:00   12:00:00   \n4                                            Available  Available  Available   \n..                                                 ...        ...        ...   \n134                                                211         93         50   \n135                                                 48         23         16   \n136                                                 71         67         63   \n137                                                240        130         23   \n138                                                  4          3          2   \n\n       Mon 2PM              Tue 8AM   Tue 10AM  ...   Wed 12PM    Wed 2PM  \\\n0          NaN                  NaN        NaN  ...        NaN        NaN   \n1          NaN              Tuesday        NaN  ...        NaN        NaN   \n2          NaN  2019-07-02 00:00:00        NaN  ...        NaN        NaN   \n3     14:00:00             08:00:00   10:00:00  ...   12:00:00   14:00:00   \n4    Available            Available  Available  ...  Available  Available   \n..         ...                  ...        ...  ...        ...        ...   \n134         48                  193         59  ...         42         38   \n135         18                   47         17  ...         22         30   \n136         67                   71         68  ...         63         64   \n137         48                  235        131  ...         13         43   \n138          4                    4          4  ...          2          1   \n\n                Thur 8AM  Thur 10AM  Thur 12PM   Thur 2PM  \\\n0                    NaN        NaN        NaN        NaN   \n1               Thursday        NaN        NaN        NaN   \n2    2019-07-04 00:00:00        NaN        NaN        NaN   \n3               08:00:00   10:00:00   12:00:00   14:00:00   \n4              Available  Available  Available  Available   \n..                   ...        ...        ...        ...   \n134                  NaN        NaN        NaN        NaN   \n135                  NaN        NaN        NaN        NaN   \n136                  NaN        NaN        NaN        NaN   \n137                  NaN        NaN        NaN        NaN   \n138                  NaN        NaN        NaN        NaN   \n\n                 Fri 8AM   Fri 10AM   Fri 12PM    Fri 2PM  \n0                    NaN        NaN        NaN        NaN  \n1                 Friday        NaN        NaN        NaN  \n2    2019-07-05 00:00:00        NaN        NaN        NaN  \n3               08:00:00   10:00:00   12:00:00   14:00:00  \n4              Available  Available  Available  Available  \n..                   ...        ...        ...        ...  \n134                  230        147         98         94  \n135                   50         39         29         23  \n136                   71         69         70         67  \n137                  252        189          7         56  \n138                    4          4          4          0  \n\n[139 rows x 24 columns]",
            "text/html": "<div>\n<style scoped>\n    .dataframe tbody tr th:only-of-type {\n        vertical-align: middle;\n    }\n\n    .dataframe tbody tr th {\n        vertical-align: top;\n    }\n\n    .dataframe thead th {\n        text-align: right;\n    }\n</style>\n<table border=\"1\" class=\"dataframe\">\n  <thead>\n    <tr style=\"text-align: right;\">\n      <th></th>\n      <th>Structure</th>\n      <th>Lot</th>\n      <th>Total Spaces</th>\n      <th>Type</th>\n      <th>Mon 8AM</th>\n      <th>Mon 10AM</th>\n      <th>Mon 12PM</th>\n      <th>Mon 2PM</th>\n      <th>Tue 8AM</th>\n      <th>Tue 10AM</th>\n      <th>...</th>\n      <th>Wed 12PM</th>\n      <th>Wed 2PM</th>\n      <th>Thur 8AM</th>\n      <th>Thur 10AM</th>\n      <th>Thur 12PM</th>\n      <th>Thur 2PM</th>\n      <th>Fri 8AM</th>\n      <th>Fri 10AM</th>\n      <th>Fri 12PM</th>\n      <th>Fri 2PM</th>\n    </tr>\n  </thead>\n  <tbody>\n    <tr>\n      <th>0</th>\n      <td>NaN</td>\n      <td>NaN</td>\n      <td>NaN</td>\n      <td>NaN</td>\n      <td>Data Sorted by Allocation Type: Summer 2019 We...</td>\n      <td>NaN</td>\n      <td>NaN</td>\n      <td>NaN</td>\n      <td>NaN</td>\n      <td>NaN</td>\n      <td>...</td>\n      <td>NaN</td>\n      <td>NaN</td>\n      <td>NaN</td>\n      <td>NaN</td>\n      <td>NaN</td>\n      <td>NaN</td>\n      <td>NaN</td>\n      <td>NaN</td>\n      <td>NaN</td>\n      <td>NaN</td>\n    </tr>\n    <tr>\n      <th>1</th>\n      <td>NaN</td>\n      <td>NaN</td>\n      <td>NaN</td>\n      <td>NaN</td>\n      <td>Monday</td>\n      <td>NaN</td>\n      <td>NaN</td>\n      <td>NaN</td>\n      <td>Tuesday</td>\n      <td>NaN</td>\n      <td>...</td>\n      <td>NaN</td>\n      <td>NaN</td>\n      <td>Thursday</td>\n      <td>NaN</td>\n      <td>NaN</td>\n      <td>NaN</td>\n      <td>Friday</td>\n      <td>NaN</td>\n      <td>NaN</td>\n      <td>NaN</td>\n    </tr>\n    <tr>\n      <th>2</th>\n      <td>NaN</td>\n      <td>NaN</td>\n      <td>NaN</td>\n      <td>NaN</td>\n      <td>2019-07-01 00:00:00</td>\n      <td>NaN</td>\n      <td>NaN</td>\n      <td>NaN</td>\n      <td>2019-07-02 00:00:00</td>\n      <td>NaN</td>\n      <td>...</td>\n      <td>NaN</td>\n      <td>NaN</td>\n      <td>2019-07-04 00:00:00</td>\n      <td>NaN</td>\n      <td>NaN</td>\n      <td>NaN</td>\n      <td>2019-07-05 00:00:00</td>\n      <td>NaN</td>\n      <td>NaN</td>\n      <td>NaN</td>\n    </tr>\n    <tr>\n      <th>3</th>\n      <td>NaN</td>\n      <td>NaN</td>\n      <td>NaN</td>\n      <td>NaN</td>\n      <td>08:00:00</td>\n      <td>10:00:00</td>\n      <td>12:00:00</td>\n      <td>14:00:00</td>\n      <td>08:00:00</td>\n      <td>10:00:00</td>\n      <td>...</td>\n      <td>12:00:00</td>\n      <td>14:00:00</td>\n      <td>08:00:00</td>\n      <td>10:00:00</td>\n      <td>12:00:00</td>\n      <td>14:00:00</td>\n      <td>08:00:00</td>\n      <td>10:00:00</td>\n      <td>12:00:00</td>\n      <td>14:00:00</td>\n    </tr>\n    <tr>\n      <th>4</th>\n      <td>Structure</td>\n      <td>Lot</td>\n      <td>Total Spaces</td>\n      <td>Type</td>\n      <td>Available</td>\n      <td>Available</td>\n      <td>Available</td>\n      <td>Available</td>\n      <td>Available</td>\n      <td>Available</td>\n      <td>...</td>\n      <td>Available</td>\n      <td>Available</td>\n      <td>Available</td>\n      <td>Available</td>\n      <td>Available</td>\n      <td>Available</td>\n      <td>Available</td>\n      <td>Available</td>\n      <td>Available</td>\n      <td>Available</td>\n    </tr>\n    <tr>\n      <th>...</th>\n      <td>...</td>\n      <td>...</td>\n      <td>...</td>\n      <td>...</td>\n      <td>...</td>\n      <td>...</td>\n      <td>...</td>\n      <td>...</td>\n      <td>...</td>\n      <td>...</td>\n      <td>...</td>\n      <td>...</td>\n      <td>...</td>\n      <td>...</td>\n      <td>...</td>\n      <td>...</td>\n      <td>...</td>\n      <td>...</td>\n      <td>...</td>\n      <td>...</td>\n      <td>...</td>\n    </tr>\n    <tr>\n      <th>134</th>\n      <td>NaN</td>\n      <td>SIO B</td>\n      <td>295</td>\n      <td>NaN</td>\n      <td>211</td>\n      <td>93</td>\n      <td>50</td>\n      <td>48</td>\n      <td>193</td>\n      <td>59</td>\n      <td>...</td>\n      <td>42</td>\n      <td>38</td>\n      <td>NaN</td>\n      <td>NaN</td>\n      <td>NaN</td>\n      <td>NaN</td>\n      <td>230</td>\n      <td>147</td>\n      <td>98</td>\n      <td>94</td>\n    </tr>\n    <tr>\n      <th>135</th>\n      <td>NaN</td>\n      <td>S</td>\n      <td>64</td>\n      <td>NaN</td>\n      <td>48</td>\n      <td>23</td>\n      <td>16</td>\n      <td>18</td>\n      <td>47</td>\n      <td>17</td>\n      <td>...</td>\n      <td>22</td>\n      <td>30</td>\n      <td>NaN</td>\n      <td>NaN</td>\n      <td>NaN</td>\n      <td>NaN</td>\n      <td>50</td>\n      <td>39</td>\n      <td>29</td>\n      <td>23</td>\n    </tr>\n    <tr>\n      <th>136</th>\n      <td>NaN</td>\n      <td>SIO S</td>\n      <td>71</td>\n      <td>NaN</td>\n      <td>71</td>\n      <td>67</td>\n      <td>63</td>\n      <td>67</td>\n      <td>71</td>\n      <td>68</td>\n      <td>...</td>\n      <td>63</td>\n      <td>64</td>\n      <td>NaN</td>\n      <td>NaN</td>\n      <td>NaN</td>\n      <td>NaN</td>\n      <td>71</td>\n      <td>69</td>\n      <td>70</td>\n      <td>67</td>\n    </tr>\n    <tr>\n      <th>137</th>\n      <td>NaN</td>\n      <td>Aquarium</td>\n      <td>258</td>\n      <td>NaN</td>\n      <td>240</td>\n      <td>130</td>\n      <td>23</td>\n      <td>48</td>\n      <td>235</td>\n      <td>131</td>\n      <td>...</td>\n      <td>13</td>\n      <td>43</td>\n      <td>NaN</td>\n      <td>NaN</td>\n      <td>NaN</td>\n      <td>NaN</td>\n      <td>252</td>\n      <td>189</td>\n      <td>7</td>\n      <td>56</td>\n    </tr>\n    <tr>\n      <th>138</th>\n      <td>NaN</td>\n      <td>V</td>\n      <td>4</td>\n      <td>NaN</td>\n      <td>4</td>\n      <td>3</td>\n      <td>2</td>\n      <td>4</td>\n      <td>4</td>\n      <td>4</td>\n      <td>...</td>\n      <td>2</td>\n      <td>1</td>\n      <td>NaN</td>\n      <td>NaN</td>\n      <td>NaN</td>\n      <td>NaN</td>\n      <td>4</td>\n      <td>4</td>\n      <td>4</td>\n      <td>0</td>\n    </tr>\n  </tbody>\n</table>\n<p>139 rows × 24 columns</p>\n</div>"
          },
          "metadata": {}
        }
      ],
      "execution_count": null,
      "block_group": "e787d80a14cb4681903fa78b28ebc8eb"
    },
    {
      "cell_type": "code",
      "source": "#this is getting rid of unneccessary header text and dates of each day\nsummer2019_2020 = summer2019_2020.drop(index=[0,1,2,3,4])\nsummer2019_2020",
      "metadata": {
        "source_hash": null,
        "execution_start": 1694924011871,
        "execution_millis": 332,
        "deepnote_table_state": {
          "sortBy": [],
          "filters": [],
          "pageSize": 10,
          "pageIndex": 0
        },
        "deepnote_table_loading": false,
        "deepnote_to_be_reexecuted": false,
        "cell_id": "a55d3b5784924b7d8a3a559c7e360fab",
        "deepnote_cell_type": "code"
      },
      "outputs": [
        {
          "output_type": "execute_result",
          "execution_count": 4,
          "data": {
            "application/vnd.deepnote.dataframe.v3+json": {
              "column_count": 24,
              "row_count": 134,
              "columns": [
                {
                  "name": "Structure",
                  "dtype": "object",
                  "stats": {
                    "unique_count": 13,
                    "nan_count": 96,
                    "categories": [
                      {
                        "name": "Osler",
                        "count": 6
                      },
                      {
                        "name": "12 others",
                        "count": 32
                      },
                      {
                        "name": "Missing",
                        "count": 96
                      }
                    ]
                  }
                },
                {
                  "name": "Lot",
                  "dtype": "object",
                  "stats": {
                    "unique_count": 61,
                    "nan_count": 40,
                    "categories": [
                      {
                        "name": "P510",
                        "count": 4
                      },
                      {
                        "name": "60 others",
                        "count": 90
                      },
                      {
                        "name": "Missing",
                        "count": 40
                      }
                    ]
                  }
                },
                {
                  "name": "Total Spaces",
                  "dtype": "object",
                  "stats": {
                    "unique_count": 92,
                    "nan_count": 6,
                    "categories": [
                      {
                        "name": "9.0",
                        "count": 6
                      },
                      {
                        "name": "91 others",
                        "count": 122
                      },
                      {
                        "name": "Missing",
                        "count": 6
                      }
                    ]
                  }
                },
                {
                  "name": "Type",
                  "dtype": "object",
                  "stats": {
                    "unique_count": 12,
                    "nan_count": 23,
                    "categories": [
                      {
                        "name": "B",
                        "count": 31
                      },
                      {
                        "name": "11 others",
                        "count": 80
                      },
                      {
                        "name": "Missing",
                        "count": 23
                      }
                    ]
                  }
                },
                {
                  "name": " Mon 8AM",
                  "dtype": "object",
                  "stats": {
                    "unique_count": 71,
                    "nan_count": 13,
                    "categories": [
                      {
                        "name": "0.0",
                        "count": 10
                      },
                      {
                        "name": "70 others",
                        "count": 111
                      },
                      {
                        "name": "Missing",
                        "count": 13
                      }
                    ]
                  }
                },
                {
                  "name": "Mon 10AM",
                  "dtype": "object",
                  "stats": {
                    "unique_count": 62,
                    "nan_count": 13,
                    "categories": [
                      {
                        "name": "0.0",
                        "count": 24
                      },
                      {
                        "name": "61 others",
                        "count": 97
                      },
                      {
                        "name": "Missing",
                        "count": 13
                      }
                    ]
                  }
                },
                {
                  "name": "Mon 12PM",
                  "dtype": "object",
                  "stats": {
                    "unique_count": 55,
                    "nan_count": 13,
                    "categories": [
                      {
                        "name": "0.0",
                        "count": 29
                      },
                      {
                        "name": "54 others",
                        "count": 92
                      },
                      {
                        "name": "Missing",
                        "count": 13
                      }
                    ]
                  }
                },
                {
                  "name": "Mon 2PM",
                  "dtype": "object",
                  "stats": {
                    "unique_count": 57,
                    "nan_count": 13,
                    "categories": [
                      {
                        "name": "0.0",
                        "count": 24
                      },
                      {
                        "name": "56 others",
                        "count": 97
                      },
                      {
                        "name": "Missing",
                        "count": 13
                      }
                    ]
                  }
                },
                {
                  "name": " Tue 8AM",
                  "dtype": "object",
                  "stats": {
                    "unique_count": 73,
                    "nan_count": 13,
                    "categories": [
                      {
                        "name": "0.0",
                        "count": 13
                      },
                      {
                        "name": "72 others",
                        "count": 108
                      },
                      {
                        "name": "Missing",
                        "count": 13
                      }
                    ]
                  }
                },
                {
                  "name": "Tue 10AM",
                  "dtype": "object",
                  "stats": {
                    "unique_count": 57,
                    "nan_count": 13,
                    "categories": [
                      {
                        "name": "0.0",
                        "count": 30
                      },
                      {
                        "name": "56 others",
                        "count": 91
                      },
                      {
                        "name": "Missing",
                        "count": 13
                      }
                    ]
                  }
                },
                {
                  "name": "Tue 12PM",
                  "dtype": "object",
                  "stats": {
                    "unique_count": 53,
                    "nan_count": 13,
                    "categories": [
                      {
                        "name": "0.0",
                        "count": 31
                      },
                      {
                        "name": "52 others",
                        "count": 90
                      },
                      {
                        "name": "Missing",
                        "count": 13
                      }
                    ]
                  }
                },
                {
                  "name": "Tue 2PM",
                  "dtype": "object",
                  "stats": {
                    "unique_count": 52,
                    "nan_count": 13,
                    "categories": [
                      {
                        "name": "0.0",
                        "count": 25
                      },
                      {
                        "name": "51 others",
                        "count": 96
                      },
                      {
                        "name": "Missing",
                        "count": 13
                      }
                    ]
                  }
                },
                {
                  "name": "Wed 8AM",
                  "dtype": "object",
                  "stats": {
                    "unique_count": 70,
                    "nan_count": 13,
                    "categories": [
                      {
                        "name": "0.0",
                        "count": 15
                      },
                      {
                        "name": "69 others",
                        "count": 106
                      },
                      {
                        "name": "Missing",
                        "count": 13
                      }
                    ]
                  }
                },
                {
                  "name": "Wed 10AM",
                  "dtype": "object",
                  "stats": {
                    "unique_count": 61,
                    "nan_count": 13,
                    "categories": [
                      {
                        "name": "0.0",
                        "count": 29
                      },
                      {
                        "name": "60 others",
                        "count": 92
                      },
                      {
                        "name": "Missing",
                        "count": 13
                      }
                    ]
                  }
                },
                {
                  "name": "Wed 12PM",
                  "dtype": "object",
                  "stats": {
                    "unique_count": 55,
                    "nan_count": 13,
                    "categories": [
                      {
                        "name": "0.0",
                        "count": 31
                      },
                      {
                        "name": "54 others",
                        "count": 90
                      },
                      {
                        "name": "Missing",
                        "count": 13
                      }
                    ]
                  }
                },
                {
                  "name": "Wed 2PM",
                  "dtype": "object",
                  "stats": {
                    "unique_count": 58,
                    "nan_count": 13,
                    "categories": [
                      {
                        "name": "0.0",
                        "count": 22
                      },
                      {
                        "name": "57 others",
                        "count": 99
                      },
                      {
                        "name": "Missing",
                        "count": 13
                      }
                    ]
                  }
                },
                {
                  "name": "Thur 8AM",
                  "dtype": "object",
                  "stats": {
                    "unique_count": 0,
                    "nan_count": 134,
                    "categories": [
                      {
                        "name": "Missing",
                        "count": 134
                      }
                    ]
                  }
                },
                {
                  "name": "Thur 10AM",
                  "dtype": "object",
                  "stats": {
                    "unique_count": 0,
                    "nan_count": 134,
                    "categories": [
                      {
                        "name": "Missing",
                        "count": 134
                      }
                    ]
                  }
                },
                {
                  "name": "Thur 12PM",
                  "dtype": "object",
                  "stats": {
                    "unique_count": 0,
                    "nan_count": 134,
                    "categories": [
                      {
                        "name": "Missing",
                        "count": 134
                      }
                    ]
                  }
                },
                {
                  "name": "Thur 2PM",
                  "dtype": "object",
                  "stats": {
                    "unique_count": 0,
                    "nan_count": 134,
                    "categories": [
                      {
                        "name": "Missing",
                        "count": 134
                      }
                    ]
                  }
                },
                {
                  "name": "Fri 8AM",
                  "dtype": "object",
                  "stats": {
                    "unique_count": 77,
                    "nan_count": 13,
                    "categories": [
                      {
                        "name": "0.0",
                        "count": 6
                      },
                      {
                        "name": "76 others",
                        "count": 115
                      },
                      {
                        "name": "Missing",
                        "count": 13
                      }
                    ]
                  }
                },
                {
                  "name": "Fri 10AM",
                  "dtype": "object",
                  "stats": {
                    "unique_count": 72,
                    "nan_count": 13,
                    "categories": [
                      {
                        "name": "0.0",
                        "count": 11
                      },
                      {
                        "name": "71 others",
                        "count": 110
                      },
                      {
                        "name": "Missing",
                        "count": 13
                      }
                    ]
                  }
                },
                {
                  "name": "Fri 12PM",
                  "dtype": "object",
                  "stats": {
                    "unique_count": 69,
                    "nan_count": 13,
                    "categories": [
                      {
                        "name": "0.0",
                        "count": 9
                      },
                      {
                        "name": "68 others",
                        "count": 112
                      },
                      {
                        "name": "Missing",
                        "count": 13
                      }
                    ]
                  }
                },
                {
                  "name": "Fri 2PM",
                  "dtype": "object",
                  "stats": {
                    "unique_count": 74,
                    "nan_count": 13,
                    "categories": [
                      {
                        "name": "0.0",
                        "count": 12
                      },
                      {
                        "name": "73 others",
                        "count": 109
                      },
                      {
                        "name": "Missing",
                        "count": 13
                      }
                    ]
                  }
                },
                {
                  "name": "_deepnote_index_column",
                  "dtype": "int64"
                }
              ],
              "rows": [
                {
                  "Structure": "Athena",
                  "Lot": "nan",
                  "Total Spaces": "195",
                  "Type": "A",
                  " Mon 8AM": "162",
                  "Mon 10AM": "75",
                  "Mon 12PM": "73",
                  "Mon 2PM": "49",
                  " Tue 8AM": "100",
                  "Tue 10AM": "70",
                  "Tue 12PM": "45",
                  "Tue 2PM": "46",
                  "Wed 8AM": "104",
                  "Wed 10AM": "91",
                  "Wed 12PM": "55",
                  "Wed 2PM": "63",
                  "Thur 8AM": "nan",
                  "Thur 10AM": "nan",
                  "Thur 12PM": "nan",
                  "Thur 2PM": "nan",
                  "Fri 8AM": "131",
                  "Fri 10AM": "67",
                  "Fri 12PM": "79",
                  "Fri 2PM": "96",
                  "_deepnote_index_column": 5
                },
                {
                  "Structure": "Campus Point East",
                  "Lot": "nan",
                  "Total Spaces": "372",
                  "Type": "A",
                  " Mon 8AM": "147",
                  "Mon 10AM": "68",
                  "Mon 12PM": "70",
                  "Mon 2PM": "75",
                  " Tue 8AM": "85",
                  "Tue 10AM": "10",
                  "Tue 12PM": "10",
                  "Tue 2PM": "34",
                  "Wed 8AM": "84",
                  "Wed 10AM": "33",
                  "Wed 12PM": "29",
                  "Wed 2PM": "35",
                  "Thur 8AM": "nan",
                  "Thur 10AM": "nan",
                  "Thur 12PM": "nan",
                  "Thur 2PM": "nan",
                  "Fri 8AM": "114",
                  "Fri 10AM": "109",
                  "Fri 12PM": "86",
                  "Fri 2PM": "127",
                  "_deepnote_index_column": 6
                },
                {
                  "Structure": "Campus Point West",
                  "Lot": "nan",
                  "Total Spaces": "9",
                  "Type": "A",
                  " Mon 8AM": "4",
                  "Mon 10AM": "1",
                  "Mon 12PM": "1",
                  "Mon 2PM": "0",
                  " Tue 8AM": "0",
                  "Tue 10AM": "2",
                  "Tue 12PM": "4",
                  "Tue 2PM": "2",
                  "Wed 8AM": "4",
                  "Wed 10AM": "2",
                  "Wed 12PM": "0",
                  "Wed 2PM": "3",
                  "Thur 8AM": "nan",
                  "Thur 10AM": "nan",
                  "Thur 12PM": "nan",
                  "Thur 2PM": "nan",
                  "Fri 8AM": "8",
                  "Fri 10AM": "4",
                  "Fri 12PM": "2",
                  "Fri 2PM": "0",
                  "_deepnote_index_column": 7
                },
                {
                  "Structure": "Gilman",
                  "Lot": "nan",
                  "Total Spaces": "401",
                  "Type": "A",
                  " Mon 8AM": "304",
                  "Mon 10AM": "61",
                  "Mon 12PM": "107",
                  "Mon 2PM": "137",
                  " Tue 8AM": "322",
                  "Tue 10AM": "64",
                  "Tue 12PM": "134",
                  "Tue 2PM": "153",
                  "Wed 8AM": "273",
                  "Wed 10AM": "249",
                  "Wed 12PM": "132",
                  "Wed 2PM": "146",
                  "Thur 8AM": "nan",
                  "Thur 10AM": "nan",
                  "Thur 12PM": "nan",
                  "Thur 2PM": "nan",
                  "Fri 8AM": "347",
                  "Fri 10AM": "284",
                  "Fri 12PM": "129",
                  "Fri 2PM": "277",
                  "_deepnote_index_column": 8
                },
                {
                  "Structure": "Hopkins",
                  "Lot": "nan",
                  "Total Spaces": "84",
                  "Type": "A",
                  " Mon 8AM": "80",
                  "Mon 10AM": "57",
                  "Mon 12PM": "52",
                  "Mon 2PM": "46",
                  " Tue 8AM": "24",
                  "Tue 10AM": "6",
                  "Tue 12PM": "0",
                  "Tue 2PM": "0",
                  "Wed 8AM": "23",
                  "Wed 10AM": "5",
                  "Wed 12PM": "1",
                  "Wed 2PM": "3",
                  "Thur 8AM": "nan",
                  "Thur 10AM": "nan",
                  "Thur 12PM": "nan",
                  "Thur 2PM": "nan",
                  "Fri 8AM": "26",
                  "Fri 10AM": "21",
                  "Fri 12PM": "72",
                  "Fri 2PM": "46",
                  "_deepnote_index_column": 9
                },
                {
                  "Structure": "Osler",
                  "Lot": "nan",
                  "Total Spaces": "156",
                  "Type": "A",
                  " Mon 8AM": "54",
                  "Mon 10AM": "6",
                  "Mon 12PM": "3",
                  "Mon 2PM": "7",
                  " Tue 8AM": "90",
                  "Tue 10AM": "1",
                  "Tue 12PM": "4",
                  "Tue 2PM": "12",
                  "Wed 8AM": "81",
                  "Wed 10AM": "1",
                  "Wed 12PM": "10",
                  "Wed 2PM": "23",
                  "Thur 8AM": "nan",
                  "Thur 10AM": "nan",
                  "Thur 12PM": "nan",
                  "Thur 2PM": "nan",
                  "Fri 8AM": "124",
                  "Fri 10AM": "77",
                  "Fri 12PM": "81",
                  "Fri 2PM": "86",
                  "_deepnote_index_column": 10
                },
                {
                  "Structure": "Pangea",
                  "Lot": "nan",
                  "Total Spaces": "91",
                  "Type": "A",
                  " Mon 8AM": "75",
                  "Mon 10AM": "66",
                  "Mon 12PM": "54",
                  "Mon 2PM": "58",
                  " Tue 8AM": "72",
                  "Tue 10AM": "65",
                  "Tue 12PM": "55",
                  "Tue 2PM": "54",
                  "Wed 8AM": "75",
                  "Wed 10AM": "65",
                  "Wed 12PM": "60",
                  "Wed 2PM": "61",
                  "Thur 8AM": "nan",
                  "Thur 10AM": "nan",
                  "Thur 12PM": "nan",
                  "Thur 2PM": "nan",
                  "Fri 8AM": "75",
                  "Fri 10AM": "68",
                  "Fri 12PM": "71",
                  "Fri 2PM": "76",
                  "_deepnote_index_column": 11
                },
                {
                  "Structure": "Torrey Pines Center North",
                  "Lot": "nan",
                  "Total Spaces": "1",
                  "Type": "A Carpool",
                  " Mon 8AM": "1",
                  "Mon 10AM": "1",
                  "Mon 12PM": "1",
                  "Mon 2PM": "1",
                  " Tue 8AM": "1",
                  "Tue 10AM": "1",
                  "Tue 12PM": "1",
                  "Tue 2PM": "1",
                  "Wed 8AM": "1",
                  "Wed 10AM": "1",
                  "Wed 12PM": "1",
                  "Wed 2PM": "1",
                  "Thur 8AM": "nan",
                  "Thur 10AM": "nan",
                  "Thur 12PM": "nan",
                  "Thur 2PM": "nan",
                  "Fri 8AM": "1",
                  "Fri 10AM": "1",
                  "Fri 12PM": "1",
                  "Fri 2PM": "1",
                  "_deepnote_index_column": 12
                },
                {
                  "Structure": "nan",
                  "Lot": "P103",
                  "Total Spaces": "283",
                  "Type": "A",
                  " Mon 8AM": "202",
                  "Mon 10AM": "71",
                  "Mon 12PM": "43",
                  "Mon 2PM": "53",
                  " Tue 8AM": "211",
                  "Tue 10AM": "71",
                  "Tue 12PM": "43",
                  "Tue 2PM": "54",
                  "Wed 8AM": "223",
                  "Wed 10AM": "98",
                  "Wed 12PM": "63",
                  "Wed 2PM": "66",
                  "Thur 8AM": "nan",
                  "Thur 10AM": "nan",
                  "Thur 12PM": "nan",
                  "Thur 2PM": "nan",
                  "Fri 8AM": "236",
                  "Fri 10AM": "154",
                  "Fri 12PM": "129",
                  "Fri 2PM": "125",
                  "_deepnote_index_column": 13
                },
                {
                  "Structure": "nan",
                  "Lot": "P206",
                  "Total Spaces": "20",
                  "Type": "3hr A",
                  " Mon 8AM": "19",
                  "Mon 10AM": "8",
                  "Mon 12PM": "3",
                  "Mon 2PM": "4",
                  " Tue 8AM": "19",
                  "Tue 10AM": "13",
                  "Tue 12PM": "3",
                  "Tue 2PM": "7",
                  "Wed 8AM": "19",
                  "Wed 10AM": "15",
                  "Wed 12PM": "1",
                  "Wed 2PM": "8",
                  "Thur 8AM": "nan",
                  "Thur 10AM": "nan",
                  "Thur 12PM": "nan",
                  "Thur 2PM": "nan",
                  "Fri 8AM": "20",
                  "Fri 10AM": "2",
                  "Fri 12PM": "17",
                  "Fri 2PM": "14",
                  "_deepnote_index_column": 14
                }
              ]
            },
            "text/plain": "             Structure       Lot Total Spaces Type  Mon 8AM Mon 10AM Mon 12PM  \\\n5               Athena       NaN          195    A      162       75       73   \n6    Campus Point East       NaN          372    A      147       68       70   \n7    Campus Point West       NaN            9    A        4        1        1   \n8               Gilman       NaN          401    A      304       61      107   \n9              Hopkins       NaN           84    A       80       57       52   \n..                 ...       ...          ...  ...      ...      ...      ...   \n134                NaN     SIO B          295  NaN      211       93       50   \n135                NaN         S           64  NaN       48       23       16   \n136                NaN     SIO S           71  NaN       71       67       63   \n137                NaN  Aquarium          258  NaN      240      130       23   \n138                NaN         V            4  NaN        4        3        2   \n\n    Mon 2PM  Tue 8AM Tue 10AM  ... Wed 12PM Wed 2PM Thur 8AM Thur 10AM  \\\n5        49      100       70  ...       55      63      NaN       NaN   \n6        75       85       10  ...       29      35      NaN       NaN   \n7         0        0        2  ...        0       3      NaN       NaN   \n8       137      322       64  ...      132     146      NaN       NaN   \n9        46       24        6  ...        1       3      NaN       NaN   \n..      ...      ...      ...  ...      ...     ...      ...       ...   \n134      48      193       59  ...       42      38      NaN       NaN   \n135      18       47       17  ...       22      30      NaN       NaN   \n136      67       71       68  ...       63      64      NaN       NaN   \n137      48      235      131  ...       13      43      NaN       NaN   \n138       4        4        4  ...        2       1      NaN       NaN   \n\n    Thur 12PM Thur 2PM Fri 8AM Fri 10AM Fri 12PM Fri 2PM  \n5         NaN      NaN     131       67       79      96  \n6         NaN      NaN     114      109       86     127  \n7         NaN      NaN       8        4        2       0  \n8         NaN      NaN     347      284      129     277  \n9         NaN      NaN      26       21       72      46  \n..        ...      ...     ...      ...      ...     ...  \n134       NaN      NaN     230      147       98      94  \n135       NaN      NaN      50       39       29      23  \n136       NaN      NaN      71       69       70      67  \n137       NaN      NaN     252      189        7      56  \n138       NaN      NaN       4        4        4       0  \n\n[134 rows x 24 columns]",
            "text/html": "<div>\n<style scoped>\n    .dataframe tbody tr th:only-of-type {\n        vertical-align: middle;\n    }\n\n    .dataframe tbody tr th {\n        vertical-align: top;\n    }\n\n    .dataframe thead th {\n        text-align: right;\n    }\n</style>\n<table border=\"1\" class=\"dataframe\">\n  <thead>\n    <tr style=\"text-align: right;\">\n      <th></th>\n      <th>Structure</th>\n      <th>Lot</th>\n      <th>Total Spaces</th>\n      <th>Type</th>\n      <th>Mon 8AM</th>\n      <th>Mon 10AM</th>\n      <th>Mon 12PM</th>\n      <th>Mon 2PM</th>\n      <th>Tue 8AM</th>\n      <th>Tue 10AM</th>\n      <th>...</th>\n      <th>Wed 12PM</th>\n      <th>Wed 2PM</th>\n      <th>Thur 8AM</th>\n      <th>Thur 10AM</th>\n      <th>Thur 12PM</th>\n      <th>Thur 2PM</th>\n      <th>Fri 8AM</th>\n      <th>Fri 10AM</th>\n      <th>Fri 12PM</th>\n      <th>Fri 2PM</th>\n    </tr>\n  </thead>\n  <tbody>\n    <tr>\n      <th>5</th>\n      <td>Athena</td>\n      <td>NaN</td>\n      <td>195</td>\n      <td>A</td>\n      <td>162</td>\n      <td>75</td>\n      <td>73</td>\n      <td>49</td>\n      <td>100</td>\n      <td>70</td>\n      <td>...</td>\n      <td>55</td>\n      <td>63</td>\n      <td>NaN</td>\n      <td>NaN</td>\n      <td>NaN</td>\n      <td>NaN</td>\n      <td>131</td>\n      <td>67</td>\n      <td>79</td>\n      <td>96</td>\n    </tr>\n    <tr>\n      <th>6</th>\n      <td>Campus Point East</td>\n      <td>NaN</td>\n      <td>372</td>\n      <td>A</td>\n      <td>147</td>\n      <td>68</td>\n      <td>70</td>\n      <td>75</td>\n      <td>85</td>\n      <td>10</td>\n      <td>...</td>\n      <td>29</td>\n      <td>35</td>\n      <td>NaN</td>\n      <td>NaN</td>\n      <td>NaN</td>\n      <td>NaN</td>\n      <td>114</td>\n      <td>109</td>\n      <td>86</td>\n      <td>127</td>\n    </tr>\n    <tr>\n      <th>7</th>\n      <td>Campus Point West</td>\n      <td>NaN</td>\n      <td>9</td>\n      <td>A</td>\n      <td>4</td>\n      <td>1</td>\n      <td>1</td>\n      <td>0</td>\n      <td>0</td>\n      <td>2</td>\n      <td>...</td>\n      <td>0</td>\n      <td>3</td>\n      <td>NaN</td>\n      <td>NaN</td>\n      <td>NaN</td>\n      <td>NaN</td>\n      <td>8</td>\n      <td>4</td>\n      <td>2</td>\n      <td>0</td>\n    </tr>\n    <tr>\n      <th>8</th>\n      <td>Gilman</td>\n      <td>NaN</td>\n      <td>401</td>\n      <td>A</td>\n      <td>304</td>\n      <td>61</td>\n      <td>107</td>\n      <td>137</td>\n      <td>322</td>\n      <td>64</td>\n      <td>...</td>\n      <td>132</td>\n      <td>146</td>\n      <td>NaN</td>\n      <td>NaN</td>\n      <td>NaN</td>\n      <td>NaN</td>\n      <td>347</td>\n      <td>284</td>\n      <td>129</td>\n      <td>277</td>\n    </tr>\n    <tr>\n      <th>9</th>\n      <td>Hopkins</td>\n      <td>NaN</td>\n      <td>84</td>\n      <td>A</td>\n      <td>80</td>\n      <td>57</td>\n      <td>52</td>\n      <td>46</td>\n      <td>24</td>\n      <td>6</td>\n      <td>...</td>\n      <td>1</td>\n      <td>3</td>\n      <td>NaN</td>\n      <td>NaN</td>\n      <td>NaN</td>\n      <td>NaN</td>\n      <td>26</td>\n      <td>21</td>\n      <td>72</td>\n      <td>46</td>\n    </tr>\n    <tr>\n      <th>...</th>\n      <td>...</td>\n      <td>...</td>\n      <td>...</td>\n      <td>...</td>\n      <td>...</td>\n      <td>...</td>\n      <td>...</td>\n      <td>...</td>\n      <td>...</td>\n      <td>...</td>\n      <td>...</td>\n      <td>...</td>\n      <td>...</td>\n      <td>...</td>\n      <td>...</td>\n      <td>...</td>\n      <td>...</td>\n      <td>...</td>\n      <td>...</td>\n      <td>...</td>\n      <td>...</td>\n    </tr>\n    <tr>\n      <th>134</th>\n      <td>NaN</td>\n      <td>SIO B</td>\n      <td>295</td>\n      <td>NaN</td>\n      <td>211</td>\n      <td>93</td>\n      <td>50</td>\n      <td>48</td>\n      <td>193</td>\n      <td>59</td>\n      <td>...</td>\n      <td>42</td>\n      <td>38</td>\n      <td>NaN</td>\n      <td>NaN</td>\n      <td>NaN</td>\n      <td>NaN</td>\n      <td>230</td>\n      <td>147</td>\n      <td>98</td>\n      <td>94</td>\n    </tr>\n    <tr>\n      <th>135</th>\n      <td>NaN</td>\n      <td>S</td>\n      <td>64</td>\n      <td>NaN</td>\n      <td>48</td>\n      <td>23</td>\n      <td>16</td>\n      <td>18</td>\n      <td>47</td>\n      <td>17</td>\n      <td>...</td>\n      <td>22</td>\n      <td>30</td>\n      <td>NaN</td>\n      <td>NaN</td>\n      <td>NaN</td>\n      <td>NaN</td>\n      <td>50</td>\n      <td>39</td>\n      <td>29</td>\n      <td>23</td>\n    </tr>\n    <tr>\n      <th>136</th>\n      <td>NaN</td>\n      <td>SIO S</td>\n      <td>71</td>\n      <td>NaN</td>\n      <td>71</td>\n      <td>67</td>\n      <td>63</td>\n      <td>67</td>\n      <td>71</td>\n      <td>68</td>\n      <td>...</td>\n      <td>63</td>\n      <td>64</td>\n      <td>NaN</td>\n      <td>NaN</td>\n      <td>NaN</td>\n      <td>NaN</td>\n      <td>71</td>\n      <td>69</td>\n      <td>70</td>\n      <td>67</td>\n    </tr>\n    <tr>\n      <th>137</th>\n      <td>NaN</td>\n      <td>Aquarium</td>\n      <td>258</td>\n      <td>NaN</td>\n      <td>240</td>\n      <td>130</td>\n      <td>23</td>\n      <td>48</td>\n      <td>235</td>\n      <td>131</td>\n      <td>...</td>\n      <td>13</td>\n      <td>43</td>\n      <td>NaN</td>\n      <td>NaN</td>\n      <td>NaN</td>\n      <td>NaN</td>\n      <td>252</td>\n      <td>189</td>\n      <td>7</td>\n      <td>56</td>\n    </tr>\n    <tr>\n      <th>138</th>\n      <td>NaN</td>\n      <td>V</td>\n      <td>4</td>\n      <td>NaN</td>\n      <td>4</td>\n      <td>3</td>\n      <td>2</td>\n      <td>4</td>\n      <td>4</td>\n      <td>4</td>\n      <td>...</td>\n      <td>2</td>\n      <td>1</td>\n      <td>NaN</td>\n      <td>NaN</td>\n      <td>NaN</td>\n      <td>NaN</td>\n      <td>4</td>\n      <td>4</td>\n      <td>4</td>\n      <td>0</td>\n    </tr>\n  </tbody>\n</table>\n<p>134 rows × 24 columns</p>\n</div>"
          },
          "metadata": {}
        }
      ],
      "execution_count": null,
      "block_group": "df50df1afd3548f796a250802ad9b34c"
    },
    {
      "cell_type": "code",
      "source": "#modifies columns\n\ndef isNan(cell):\n    #method checks to see if cell value is nan, if it is, then replaces it with empty string, if not, leaves as is\n    if type(cell) != str:\n        return \"\"\n    else:\n        return cell\n\n#combines structure/lot into one column\nsummer2019_2020 = summer2019_2020.assign(Area= summer2019_2020.get(\"Structure\").apply(isNan) + summer2019_2020.get(\"Lot\").apply(isNan))\nsummer2019_2020\n",
      "metadata": {
        "source_hash": null,
        "execution_start": 1694924037457,
        "execution_millis": 256,
        "deepnote_table_state": {
          "sortBy": [],
          "filters": [],
          "pageSize": 10,
          "pageIndex": 0
        },
        "deepnote_table_loading": false,
        "deepnote_to_be_reexecuted": false,
        "cell_id": "3bf9e317cd74493589d87d36d256cfb3",
        "deepnote_cell_type": "code"
      },
      "outputs": [
        {
          "output_type": "execute_result",
          "execution_count": 7,
          "data": {
            "application/vnd.deepnote.dataframe.v3+json": {
              "column_count": 25,
              "row_count": 134,
              "columns": [
                {
                  "name": "Structure",
                  "dtype": "object",
                  "stats": {
                    "unique_count": 13,
                    "nan_count": 96,
                    "categories": [
                      {
                        "name": "Osler",
                        "count": 6
                      },
                      {
                        "name": "12 others",
                        "count": 32
                      },
                      {
                        "name": "Missing",
                        "count": 96
                      }
                    ]
                  }
                },
                {
                  "name": "Lot",
                  "dtype": "object",
                  "stats": {
                    "unique_count": 61,
                    "nan_count": 40,
                    "categories": [
                      {
                        "name": "P510",
                        "count": 4
                      },
                      {
                        "name": "60 others",
                        "count": 90
                      },
                      {
                        "name": "Missing",
                        "count": 40
                      }
                    ]
                  }
                },
                {
                  "name": "Total Spaces",
                  "dtype": "object",
                  "stats": {
                    "unique_count": 92,
                    "nan_count": 6,
                    "categories": [
                      {
                        "name": "9.0",
                        "count": 6
                      },
                      {
                        "name": "91 others",
                        "count": 122
                      },
                      {
                        "name": "Missing",
                        "count": 6
                      }
                    ]
                  }
                },
                {
                  "name": "Type",
                  "dtype": "object",
                  "stats": {
                    "unique_count": 12,
                    "nan_count": 23,
                    "categories": [
                      {
                        "name": "B",
                        "count": 31
                      },
                      {
                        "name": "11 others",
                        "count": 80
                      },
                      {
                        "name": "Missing",
                        "count": 23
                      }
                    ]
                  }
                },
                {
                  "name": " Mon 8AM",
                  "dtype": "object",
                  "stats": {
                    "unique_count": 71,
                    "nan_count": 13,
                    "categories": [
                      {
                        "name": "0.0",
                        "count": 10
                      },
                      {
                        "name": "70 others",
                        "count": 111
                      },
                      {
                        "name": "Missing",
                        "count": 13
                      }
                    ]
                  }
                },
                {
                  "name": "Mon 10AM",
                  "dtype": "object",
                  "stats": {
                    "unique_count": 62,
                    "nan_count": 13,
                    "categories": [
                      {
                        "name": "0.0",
                        "count": 24
                      },
                      {
                        "name": "61 others",
                        "count": 97
                      },
                      {
                        "name": "Missing",
                        "count": 13
                      }
                    ]
                  }
                },
                {
                  "name": "Mon 12PM",
                  "dtype": "object",
                  "stats": {
                    "unique_count": 55,
                    "nan_count": 13,
                    "categories": [
                      {
                        "name": "0.0",
                        "count": 29
                      },
                      {
                        "name": "54 others",
                        "count": 92
                      },
                      {
                        "name": "Missing",
                        "count": 13
                      }
                    ]
                  }
                },
                {
                  "name": "Mon 2PM",
                  "dtype": "object",
                  "stats": {
                    "unique_count": 57,
                    "nan_count": 13,
                    "categories": [
                      {
                        "name": "0.0",
                        "count": 24
                      },
                      {
                        "name": "56 others",
                        "count": 97
                      },
                      {
                        "name": "Missing",
                        "count": 13
                      }
                    ]
                  }
                },
                {
                  "name": " Tue 8AM",
                  "dtype": "object",
                  "stats": {
                    "unique_count": 73,
                    "nan_count": 13,
                    "categories": [
                      {
                        "name": "0.0",
                        "count": 13
                      },
                      {
                        "name": "72 others",
                        "count": 108
                      },
                      {
                        "name": "Missing",
                        "count": 13
                      }
                    ]
                  }
                },
                {
                  "name": "Tue 10AM",
                  "dtype": "object",
                  "stats": {
                    "unique_count": 57,
                    "nan_count": 13,
                    "categories": [
                      {
                        "name": "0.0",
                        "count": 30
                      },
                      {
                        "name": "56 others",
                        "count": 91
                      },
                      {
                        "name": "Missing",
                        "count": 13
                      }
                    ]
                  }
                },
                {
                  "name": "Tue 12PM",
                  "dtype": "object",
                  "stats": {
                    "unique_count": 53,
                    "nan_count": 13,
                    "categories": [
                      {
                        "name": "0.0",
                        "count": 31
                      },
                      {
                        "name": "52 others",
                        "count": 90
                      },
                      {
                        "name": "Missing",
                        "count": 13
                      }
                    ]
                  }
                },
                {
                  "name": "Tue 2PM",
                  "dtype": "object",
                  "stats": {
                    "unique_count": 52,
                    "nan_count": 13,
                    "categories": [
                      {
                        "name": "0.0",
                        "count": 25
                      },
                      {
                        "name": "51 others",
                        "count": 96
                      },
                      {
                        "name": "Missing",
                        "count": 13
                      }
                    ]
                  }
                },
                {
                  "name": "Wed 8AM",
                  "dtype": "object",
                  "stats": {
                    "unique_count": 70,
                    "nan_count": 13,
                    "categories": [
                      {
                        "name": "0.0",
                        "count": 15
                      },
                      {
                        "name": "69 others",
                        "count": 106
                      },
                      {
                        "name": "Missing",
                        "count": 13
                      }
                    ]
                  }
                },
                {
                  "name": "Wed 10AM",
                  "dtype": "object",
                  "stats": {
                    "unique_count": 61,
                    "nan_count": 13,
                    "categories": [
                      {
                        "name": "0.0",
                        "count": 29
                      },
                      {
                        "name": "60 others",
                        "count": 92
                      },
                      {
                        "name": "Missing",
                        "count": 13
                      }
                    ]
                  }
                },
                {
                  "name": "Wed 12PM",
                  "dtype": "object",
                  "stats": {
                    "unique_count": 55,
                    "nan_count": 13,
                    "categories": [
                      {
                        "name": "0.0",
                        "count": 31
                      },
                      {
                        "name": "54 others",
                        "count": 90
                      },
                      {
                        "name": "Missing",
                        "count": 13
                      }
                    ]
                  }
                },
                {
                  "name": "Wed 2PM",
                  "dtype": "object",
                  "stats": {
                    "unique_count": 58,
                    "nan_count": 13,
                    "categories": [
                      {
                        "name": "0.0",
                        "count": 22
                      },
                      {
                        "name": "57 others",
                        "count": 99
                      },
                      {
                        "name": "Missing",
                        "count": 13
                      }
                    ]
                  }
                },
                {
                  "name": "Thur 8AM",
                  "dtype": "object",
                  "stats": {
                    "unique_count": 0,
                    "nan_count": 134,
                    "categories": [
                      {
                        "name": "Missing",
                        "count": 134
                      }
                    ]
                  }
                },
                {
                  "name": "Thur 10AM",
                  "dtype": "object",
                  "stats": {
                    "unique_count": 0,
                    "nan_count": 134,
                    "categories": [
                      {
                        "name": "Missing",
                        "count": 134
                      }
                    ]
                  }
                },
                {
                  "name": "Thur 12PM",
                  "dtype": "object",
                  "stats": {
                    "unique_count": 0,
                    "nan_count": 134,
                    "categories": [
                      {
                        "name": "Missing",
                        "count": 134
                      }
                    ]
                  }
                },
                {
                  "name": "Thur 2PM",
                  "dtype": "object",
                  "stats": {
                    "unique_count": 0,
                    "nan_count": 134,
                    "categories": [
                      {
                        "name": "Missing",
                        "count": 134
                      }
                    ]
                  }
                },
                {
                  "name": "Fri 8AM",
                  "dtype": "object",
                  "stats": {
                    "unique_count": 77,
                    "nan_count": 13,
                    "categories": [
                      {
                        "name": "0.0",
                        "count": 6
                      },
                      {
                        "name": "76 others",
                        "count": 115
                      },
                      {
                        "name": "Missing",
                        "count": 13
                      }
                    ]
                  }
                },
                {
                  "name": "Fri 10AM",
                  "dtype": "object",
                  "stats": {
                    "unique_count": 72,
                    "nan_count": 13,
                    "categories": [
                      {
                        "name": "0.0",
                        "count": 11
                      },
                      {
                        "name": "71 others",
                        "count": 110
                      },
                      {
                        "name": "Missing",
                        "count": 13
                      }
                    ]
                  }
                },
                {
                  "name": "Fri 12PM",
                  "dtype": "object",
                  "stats": {
                    "unique_count": 69,
                    "nan_count": 13,
                    "categories": [
                      {
                        "name": "0.0",
                        "count": 9
                      },
                      {
                        "name": "68 others",
                        "count": 112
                      },
                      {
                        "name": "Missing",
                        "count": 13
                      }
                    ]
                  }
                },
                {
                  "name": "Fri 2PM",
                  "dtype": "object",
                  "stats": {
                    "unique_count": 74,
                    "nan_count": 13,
                    "categories": [
                      {
                        "name": "0.0",
                        "count": 12
                      },
                      {
                        "name": "73 others",
                        "count": 109
                      },
                      {
                        "name": "Missing",
                        "count": 13
                      }
                    ]
                  }
                },
                {
                  "name": "Area",
                  "dtype": "object",
                  "stats": {
                    "unique_count": 74,
                    "nan_count": 0,
                    "categories": [
                      {
                        "name": "Osler",
                        "count": 6
                      },
                      {
                        "name": "Hopkins",
                        "count": 5
                      },
                      {
                        "name": "72 others",
                        "count": 123
                      }
                    ]
                  }
                },
                {
                  "name": "_deepnote_index_column",
                  "dtype": "int64"
                }
              ],
              "rows": [
                {
                  "Structure": "Athena",
                  "Lot": "nan",
                  "Total Spaces": "195",
                  "Type": "A",
                  " Mon 8AM": "162",
                  "Mon 10AM": "75",
                  "Mon 12PM": "73",
                  "Mon 2PM": "49",
                  " Tue 8AM": "100",
                  "Tue 10AM": "70",
                  "Tue 12PM": "45",
                  "Tue 2PM": "46",
                  "Wed 8AM": "104",
                  "Wed 10AM": "91",
                  "Wed 12PM": "55",
                  "Wed 2PM": "63",
                  "Thur 8AM": "nan",
                  "Thur 10AM": "nan",
                  "Thur 12PM": "nan",
                  "Thur 2PM": "nan",
                  "Fri 8AM": "131",
                  "Fri 10AM": "67",
                  "Fri 12PM": "79",
                  "Fri 2PM": "96",
                  "Area": "Athena",
                  "_deepnote_index_column": 5
                },
                {
                  "Structure": "Campus Point East",
                  "Lot": "nan",
                  "Total Spaces": "372",
                  "Type": "A",
                  " Mon 8AM": "147",
                  "Mon 10AM": "68",
                  "Mon 12PM": "70",
                  "Mon 2PM": "75",
                  " Tue 8AM": "85",
                  "Tue 10AM": "10",
                  "Tue 12PM": "10",
                  "Tue 2PM": "34",
                  "Wed 8AM": "84",
                  "Wed 10AM": "33",
                  "Wed 12PM": "29",
                  "Wed 2PM": "35",
                  "Thur 8AM": "nan",
                  "Thur 10AM": "nan",
                  "Thur 12PM": "nan",
                  "Thur 2PM": "nan",
                  "Fri 8AM": "114",
                  "Fri 10AM": "109",
                  "Fri 12PM": "86",
                  "Fri 2PM": "127",
                  "Area": "Campus Point East",
                  "_deepnote_index_column": 6
                },
                {
                  "Structure": "Campus Point West",
                  "Lot": "nan",
                  "Total Spaces": "9",
                  "Type": "A",
                  " Mon 8AM": "4",
                  "Mon 10AM": "1",
                  "Mon 12PM": "1",
                  "Mon 2PM": "0",
                  " Tue 8AM": "0",
                  "Tue 10AM": "2",
                  "Tue 12PM": "4",
                  "Tue 2PM": "2",
                  "Wed 8AM": "4",
                  "Wed 10AM": "2",
                  "Wed 12PM": "0",
                  "Wed 2PM": "3",
                  "Thur 8AM": "nan",
                  "Thur 10AM": "nan",
                  "Thur 12PM": "nan",
                  "Thur 2PM": "nan",
                  "Fri 8AM": "8",
                  "Fri 10AM": "4",
                  "Fri 12PM": "2",
                  "Fri 2PM": "0",
                  "Area": "Campus Point West",
                  "_deepnote_index_column": 7
                },
                {
                  "Structure": "Gilman",
                  "Lot": "nan",
                  "Total Spaces": "401",
                  "Type": "A",
                  " Mon 8AM": "304",
                  "Mon 10AM": "61",
                  "Mon 12PM": "107",
                  "Mon 2PM": "137",
                  " Tue 8AM": "322",
                  "Tue 10AM": "64",
                  "Tue 12PM": "134",
                  "Tue 2PM": "153",
                  "Wed 8AM": "273",
                  "Wed 10AM": "249",
                  "Wed 12PM": "132",
                  "Wed 2PM": "146",
                  "Thur 8AM": "nan",
                  "Thur 10AM": "nan",
                  "Thur 12PM": "nan",
                  "Thur 2PM": "nan",
                  "Fri 8AM": "347",
                  "Fri 10AM": "284",
                  "Fri 12PM": "129",
                  "Fri 2PM": "277",
                  "Area": "Gilman",
                  "_deepnote_index_column": 8
                },
                {
                  "Structure": "Hopkins",
                  "Lot": "nan",
                  "Total Spaces": "84",
                  "Type": "A",
                  " Mon 8AM": "80",
                  "Mon 10AM": "57",
                  "Mon 12PM": "52",
                  "Mon 2PM": "46",
                  " Tue 8AM": "24",
                  "Tue 10AM": "6",
                  "Tue 12PM": "0",
                  "Tue 2PM": "0",
                  "Wed 8AM": "23",
                  "Wed 10AM": "5",
                  "Wed 12PM": "1",
                  "Wed 2PM": "3",
                  "Thur 8AM": "nan",
                  "Thur 10AM": "nan",
                  "Thur 12PM": "nan",
                  "Thur 2PM": "nan",
                  "Fri 8AM": "26",
                  "Fri 10AM": "21",
                  "Fri 12PM": "72",
                  "Fri 2PM": "46",
                  "Area": "Hopkins",
                  "_deepnote_index_column": 9
                },
                {
                  "Structure": "Osler",
                  "Lot": "nan",
                  "Total Spaces": "156",
                  "Type": "A",
                  " Mon 8AM": "54",
                  "Mon 10AM": "6",
                  "Mon 12PM": "3",
                  "Mon 2PM": "7",
                  " Tue 8AM": "90",
                  "Tue 10AM": "1",
                  "Tue 12PM": "4",
                  "Tue 2PM": "12",
                  "Wed 8AM": "81",
                  "Wed 10AM": "1",
                  "Wed 12PM": "10",
                  "Wed 2PM": "23",
                  "Thur 8AM": "nan",
                  "Thur 10AM": "nan",
                  "Thur 12PM": "nan",
                  "Thur 2PM": "nan",
                  "Fri 8AM": "124",
                  "Fri 10AM": "77",
                  "Fri 12PM": "81",
                  "Fri 2PM": "86",
                  "Area": "Osler",
                  "_deepnote_index_column": 10
                },
                {
                  "Structure": "Pangea",
                  "Lot": "nan",
                  "Total Spaces": "91",
                  "Type": "A",
                  " Mon 8AM": "75",
                  "Mon 10AM": "66",
                  "Mon 12PM": "54",
                  "Mon 2PM": "58",
                  " Tue 8AM": "72",
                  "Tue 10AM": "65",
                  "Tue 12PM": "55",
                  "Tue 2PM": "54",
                  "Wed 8AM": "75",
                  "Wed 10AM": "65",
                  "Wed 12PM": "60",
                  "Wed 2PM": "61",
                  "Thur 8AM": "nan",
                  "Thur 10AM": "nan",
                  "Thur 12PM": "nan",
                  "Thur 2PM": "nan",
                  "Fri 8AM": "75",
                  "Fri 10AM": "68",
                  "Fri 12PM": "71",
                  "Fri 2PM": "76",
                  "Area": "Pangea",
                  "_deepnote_index_column": 11
                },
                {
                  "Structure": "Torrey Pines Center North",
                  "Lot": "nan",
                  "Total Spaces": "1",
                  "Type": "A Carpool",
                  " Mon 8AM": "1",
                  "Mon 10AM": "1",
                  "Mon 12PM": "1",
                  "Mon 2PM": "1",
                  " Tue 8AM": "1",
                  "Tue 10AM": "1",
                  "Tue 12PM": "1",
                  "Tue 2PM": "1",
                  "Wed 8AM": "1",
                  "Wed 10AM": "1",
                  "Wed 12PM": "1",
                  "Wed 2PM": "1",
                  "Thur 8AM": "nan",
                  "Thur 10AM": "nan",
                  "Thur 12PM": "nan",
                  "Thur 2PM": "nan",
                  "Fri 8AM": "1",
                  "Fri 10AM": "1",
                  "Fri 12PM": "1",
                  "Fri 2PM": "1",
                  "Area": "Torrey Pines Center North",
                  "_deepnote_index_column": 12
                },
                {
                  "Structure": "nan",
                  "Lot": "P103",
                  "Total Spaces": "283",
                  "Type": "A",
                  " Mon 8AM": "202",
                  "Mon 10AM": "71",
                  "Mon 12PM": "43",
                  "Mon 2PM": "53",
                  " Tue 8AM": "211",
                  "Tue 10AM": "71",
                  "Tue 12PM": "43",
                  "Tue 2PM": "54",
                  "Wed 8AM": "223",
                  "Wed 10AM": "98",
                  "Wed 12PM": "63",
                  "Wed 2PM": "66",
                  "Thur 8AM": "nan",
                  "Thur 10AM": "nan",
                  "Thur 12PM": "nan",
                  "Thur 2PM": "nan",
                  "Fri 8AM": "236",
                  "Fri 10AM": "154",
                  "Fri 12PM": "129",
                  "Fri 2PM": "125",
                  "Area": "P103",
                  "_deepnote_index_column": 13
                },
                {
                  "Structure": "nan",
                  "Lot": "P206",
                  "Total Spaces": "20",
                  "Type": "3hr A",
                  " Mon 8AM": "19",
                  "Mon 10AM": "8",
                  "Mon 12PM": "3",
                  "Mon 2PM": "4",
                  " Tue 8AM": "19",
                  "Tue 10AM": "13",
                  "Tue 12PM": "3",
                  "Tue 2PM": "7",
                  "Wed 8AM": "19",
                  "Wed 10AM": "15",
                  "Wed 12PM": "1",
                  "Wed 2PM": "8",
                  "Thur 8AM": "nan",
                  "Thur 10AM": "nan",
                  "Thur 12PM": "nan",
                  "Thur 2PM": "nan",
                  "Fri 8AM": "20",
                  "Fri 10AM": "2",
                  "Fri 12PM": "17",
                  "Fri 2PM": "14",
                  "Area": "P206",
                  "_deepnote_index_column": 14
                }
              ]
            },
            "text/plain": "             Structure       Lot Total Spaces Type  Mon 8AM Mon 10AM Mon 12PM  \\\n5               Athena       NaN          195    A      162       75       73   \n6    Campus Point East       NaN          372    A      147       68       70   \n7    Campus Point West       NaN            9    A        4        1        1   \n8               Gilman       NaN          401    A      304       61      107   \n9              Hopkins       NaN           84    A       80       57       52   \n..                 ...       ...          ...  ...      ...      ...      ...   \n134                NaN     SIO B          295  NaN      211       93       50   \n135                NaN         S           64  NaN       48       23       16   \n136                NaN     SIO S           71  NaN       71       67       63   \n137                NaN  Aquarium          258  NaN      240      130       23   \n138                NaN         V            4  NaN        4        3        2   \n\n    Mon 2PM  Tue 8AM Tue 10AM  ... Wed 2PM Thur 8AM Thur 10AM Thur 12PM  \\\n5        49      100       70  ...      63      NaN       NaN       NaN   \n6        75       85       10  ...      35      NaN       NaN       NaN   \n7         0        0        2  ...       3      NaN       NaN       NaN   \n8       137      322       64  ...     146      NaN       NaN       NaN   \n9        46       24        6  ...       3      NaN       NaN       NaN   \n..      ...      ...      ...  ...     ...      ...       ...       ...   \n134      48      193       59  ...      38      NaN       NaN       NaN   \n135      18       47       17  ...      30      NaN       NaN       NaN   \n136      67       71       68  ...      64      NaN       NaN       NaN   \n137      48      235      131  ...      43      NaN       NaN       NaN   \n138       4        4        4  ...       1      NaN       NaN       NaN   \n\n    Thur 2PM Fri 8AM Fri 10AM Fri 12PM Fri 2PM               Area  \n5        NaN     131       67       79      96             Athena  \n6        NaN     114      109       86     127  Campus Point East  \n7        NaN       8        4        2       0  Campus Point West  \n8        NaN     347      284      129     277             Gilman  \n9        NaN      26       21       72      46            Hopkins  \n..       ...     ...      ...      ...     ...                ...  \n134      NaN     230      147       98      94              SIO B  \n135      NaN      50       39       29      23                  S  \n136      NaN      71       69       70      67              SIO S  \n137      NaN     252      189        7      56           Aquarium  \n138      NaN       4        4        4       0                  V  \n\n[134 rows x 25 columns]",
            "text/html": "<div>\n<style scoped>\n    .dataframe tbody tr th:only-of-type {\n        vertical-align: middle;\n    }\n\n    .dataframe tbody tr th {\n        vertical-align: top;\n    }\n\n    .dataframe thead th {\n        text-align: right;\n    }\n</style>\n<table border=\"1\" class=\"dataframe\">\n  <thead>\n    <tr style=\"text-align: right;\">\n      <th></th>\n      <th>Structure</th>\n      <th>Lot</th>\n      <th>Total Spaces</th>\n      <th>Type</th>\n      <th>Mon 8AM</th>\n      <th>Mon 10AM</th>\n      <th>Mon 12PM</th>\n      <th>Mon 2PM</th>\n      <th>Tue 8AM</th>\n      <th>Tue 10AM</th>\n      <th>...</th>\n      <th>Wed 2PM</th>\n      <th>Thur 8AM</th>\n      <th>Thur 10AM</th>\n      <th>Thur 12PM</th>\n      <th>Thur 2PM</th>\n      <th>Fri 8AM</th>\n      <th>Fri 10AM</th>\n      <th>Fri 12PM</th>\n      <th>Fri 2PM</th>\n      <th>Area</th>\n    </tr>\n  </thead>\n  <tbody>\n    <tr>\n      <th>5</th>\n      <td>Athena</td>\n      <td>NaN</td>\n      <td>195</td>\n      <td>A</td>\n      <td>162</td>\n      <td>75</td>\n      <td>73</td>\n      <td>49</td>\n      <td>100</td>\n      <td>70</td>\n      <td>...</td>\n      <td>63</td>\n      <td>NaN</td>\n      <td>NaN</td>\n      <td>NaN</td>\n      <td>NaN</td>\n      <td>131</td>\n      <td>67</td>\n      <td>79</td>\n      <td>96</td>\n      <td>Athena</td>\n    </tr>\n    <tr>\n      <th>6</th>\n      <td>Campus Point East</td>\n      <td>NaN</td>\n      <td>372</td>\n      <td>A</td>\n      <td>147</td>\n      <td>68</td>\n      <td>70</td>\n      <td>75</td>\n      <td>85</td>\n      <td>10</td>\n      <td>...</td>\n      <td>35</td>\n      <td>NaN</td>\n      <td>NaN</td>\n      <td>NaN</td>\n      <td>NaN</td>\n      <td>114</td>\n      <td>109</td>\n      <td>86</td>\n      <td>127</td>\n      <td>Campus Point East</td>\n    </tr>\n    <tr>\n      <th>7</th>\n      <td>Campus Point West</td>\n      <td>NaN</td>\n      <td>9</td>\n      <td>A</td>\n      <td>4</td>\n      <td>1</td>\n      <td>1</td>\n      <td>0</td>\n      <td>0</td>\n      <td>2</td>\n      <td>...</td>\n      <td>3</td>\n      <td>NaN</td>\n      <td>NaN</td>\n      <td>NaN</td>\n      <td>NaN</td>\n      <td>8</td>\n      <td>4</td>\n      <td>2</td>\n      <td>0</td>\n      <td>Campus Point West</td>\n    </tr>\n    <tr>\n      <th>8</th>\n      <td>Gilman</td>\n      <td>NaN</td>\n      <td>401</td>\n      <td>A</td>\n      <td>304</td>\n      <td>61</td>\n      <td>107</td>\n      <td>137</td>\n      <td>322</td>\n      <td>64</td>\n      <td>...</td>\n      <td>146</td>\n      <td>NaN</td>\n      <td>NaN</td>\n      <td>NaN</td>\n      <td>NaN</td>\n      <td>347</td>\n      <td>284</td>\n      <td>129</td>\n      <td>277</td>\n      <td>Gilman</td>\n    </tr>\n    <tr>\n      <th>9</th>\n      <td>Hopkins</td>\n      <td>NaN</td>\n      <td>84</td>\n      <td>A</td>\n      <td>80</td>\n      <td>57</td>\n      <td>52</td>\n      <td>46</td>\n      <td>24</td>\n      <td>6</td>\n      <td>...</td>\n      <td>3</td>\n      <td>NaN</td>\n      <td>NaN</td>\n      <td>NaN</td>\n      <td>NaN</td>\n      <td>26</td>\n      <td>21</td>\n      <td>72</td>\n      <td>46</td>\n      <td>Hopkins</td>\n    </tr>\n    <tr>\n      <th>...</th>\n      <td>...</td>\n      <td>...</td>\n      <td>...</td>\n      <td>...</td>\n      <td>...</td>\n      <td>...</td>\n      <td>...</td>\n      <td>...</td>\n      <td>...</td>\n      <td>...</td>\n      <td>...</td>\n      <td>...</td>\n      <td>...</td>\n      <td>...</td>\n      <td>...</td>\n      <td>...</td>\n      <td>...</td>\n      <td>...</td>\n      <td>...</td>\n      <td>...</td>\n      <td>...</td>\n    </tr>\n    <tr>\n      <th>134</th>\n      <td>NaN</td>\n      <td>SIO B</td>\n      <td>295</td>\n      <td>NaN</td>\n      <td>211</td>\n      <td>93</td>\n      <td>50</td>\n      <td>48</td>\n      <td>193</td>\n      <td>59</td>\n      <td>...</td>\n      <td>38</td>\n      <td>NaN</td>\n      <td>NaN</td>\n      <td>NaN</td>\n      <td>NaN</td>\n      <td>230</td>\n      <td>147</td>\n      <td>98</td>\n      <td>94</td>\n      <td>SIO B</td>\n    </tr>\n    <tr>\n      <th>135</th>\n      <td>NaN</td>\n      <td>S</td>\n      <td>64</td>\n      <td>NaN</td>\n      <td>48</td>\n      <td>23</td>\n      <td>16</td>\n      <td>18</td>\n      <td>47</td>\n      <td>17</td>\n      <td>...</td>\n      <td>30</td>\n      <td>NaN</td>\n      <td>NaN</td>\n      <td>NaN</td>\n      <td>NaN</td>\n      <td>50</td>\n      <td>39</td>\n      <td>29</td>\n      <td>23</td>\n      <td>S</td>\n    </tr>\n    <tr>\n      <th>136</th>\n      <td>NaN</td>\n      <td>SIO S</td>\n      <td>71</td>\n      <td>NaN</td>\n      <td>71</td>\n      <td>67</td>\n      <td>63</td>\n      <td>67</td>\n      <td>71</td>\n      <td>68</td>\n      <td>...</td>\n      <td>64</td>\n      <td>NaN</td>\n      <td>NaN</td>\n      <td>NaN</td>\n      <td>NaN</td>\n      <td>71</td>\n      <td>69</td>\n      <td>70</td>\n      <td>67</td>\n      <td>SIO S</td>\n    </tr>\n    <tr>\n      <th>137</th>\n      <td>NaN</td>\n      <td>Aquarium</td>\n      <td>258</td>\n      <td>NaN</td>\n      <td>240</td>\n      <td>130</td>\n      <td>23</td>\n      <td>48</td>\n      <td>235</td>\n      <td>131</td>\n      <td>...</td>\n      <td>43</td>\n      <td>NaN</td>\n      <td>NaN</td>\n      <td>NaN</td>\n      <td>NaN</td>\n      <td>252</td>\n      <td>189</td>\n      <td>7</td>\n      <td>56</td>\n      <td>Aquarium</td>\n    </tr>\n    <tr>\n      <th>138</th>\n      <td>NaN</td>\n      <td>V</td>\n      <td>4</td>\n      <td>NaN</td>\n      <td>4</td>\n      <td>3</td>\n      <td>2</td>\n      <td>4</td>\n      <td>4</td>\n      <td>4</td>\n      <td>...</td>\n      <td>1</td>\n      <td>NaN</td>\n      <td>NaN</td>\n      <td>NaN</td>\n      <td>NaN</td>\n      <td>4</td>\n      <td>4</td>\n      <td>4</td>\n      <td>0</td>\n      <td>V</td>\n    </tr>\n  </tbody>\n</table>\n<p>134 rows × 25 columns</p>\n</div>"
          },
          "metadata": {}
        }
      ],
      "execution_count": null,
      "block_group": "513e8fdf32554802869f7c217aa9fc4e"
    },
    {
      "cell_type": "code",
      "source": "#gets rid of lot column\nsummer2019_2020.drop(\"Lot\", axis=\"columns\")\n\n#declare empty list of index values needed to be dropped\nlistBadIndex = []\n\n#gets rid of lot rows\n#numberIterations = summer2019_2020.get(\"Structure\").shape[0]\n#for i in range(numberIterations):\n#    print(type(summer2019_2020.iloc[i].get(\"Structure\")))\n    #if type(summer2019_2020.iloc[i].get(\"Structure\") != str):\n    #    listBadIndex = listBadIndex + [i]\n#    if type() != str:\n#        summer2019_2020.drop(summer2019_2020.index[countedIndex],axis=0)\n#    countedIndex += 1:\n\n#listBadIndex",
      "metadata": {
        "source_hash": null,
        "execution_start": 1694924012159,
        "execution_millis": 182,
        "deepnote_to_be_reexecuted": false,
        "cell_id": "032d2f565819450cbaf8831935416fc9",
        "deepnote_cell_type": "code"
      },
      "outputs": [
        {
          "output_type": "execute_result",
          "execution_count": 6,
          "data": {
            "text/plain": "[]"
          },
          "metadata": {}
        }
      ],
      "execution_count": null,
      "block_group": "f7903016207c4e5481201012088591f7"
    },
    {
      "cell_type": "code",
      "source": "",
      "metadata": {
        "source_hash": null,
        "execution_start": 1694924012224,
        "execution_millis": 11,
        "deepnote_to_be_reexecuted": false,
        "cell_id": "d782780ecada40d5b98d959cd5a5a0b5",
        "deepnote_cell_type": "code"
      },
      "outputs": [],
      "execution_count": null,
      "block_group": "512346d6affe40caa63b3fb82f26e3fb"
    },
    {
      "cell_type": "code",
      "source": "",
      "metadata": {
        "source_hash": null,
        "execution_start": 1694924012232,
        "execution_millis": 8,
        "deepnote_to_be_reexecuted": false,
        "cell_id": "c54d87404e2a42e09e4b9ee3d34c1ae6",
        "deepnote_cell_type": "code"
      },
      "outputs": [],
      "execution_count": null,
      "block_group": "74c2c84e7e174f308c222de54d52fc4b"
    },
    {
      "cell_type": "code",
      "source": "",
      "metadata": {
        "source_hash": null,
        "execution_start": 1694924012233,
        "execution_millis": 10,
        "deepnote_to_be_reexecuted": false,
        "cell_id": "35f2c5e2d27f4d2cb90002bb80d61315",
        "deepnote_cell_type": "code"
      },
      "outputs": [],
      "execution_count": null,
      "block_group": "b5c63ea33e0c437fb3046f25cca61c5a"
    },
    {
      "cell_type": "markdown",
      "source": "<a style='text-decoration:none;line-height:16px;display:flex;color:#5B5B62;padding:10px;justify-content:end;' href='https://deepnote.com?utm_source=created-in-deepnote-cell&projectId=79f50031-d40f-43af-acaa-365d48045c9e' target=\"_blank\">\n<img alt='Created in deepnote.com' style='display:inline;max-height:16px;margin:0px;margin-right:7.5px;' src='data:image/svg+xml;base64,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' > </img>\nCreated in <span style='font-weight:600;margin-left:4px;'>Deepnote</span></a>",
      "metadata": {
        "created_in_deepnote_cell": true,
        "deepnote_cell_type": "markdown"
      }
    }
  ],
  "nbformat": 4,
  "nbformat_minor": 0,
  "metadata": {
    "deepnote": {},
    "orig_nbformat": 2,
    "deepnote_notebook_id": "825412944f654fe78012d6931fe94544",
    "deepnote_persisted_session": {
      "createdAt": "2023-09-16T01:30:13.801Z"
    },
    "deepnote_execution_queue": []
  }
}