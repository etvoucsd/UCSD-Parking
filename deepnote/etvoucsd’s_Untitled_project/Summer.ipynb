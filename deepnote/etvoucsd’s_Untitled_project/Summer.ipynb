{
  "cells": [
    {
      "cell_type": "code",
      "source": "import pandas as pd",
      "metadata": {
        "source_hash": "9b82ee11",
        "execution_start": 1694742232293,
        "execution_millis": 4,
        "deepnote_to_be_reexecuted": false,
        "cell_id": "8cd70abcb22a4db5bf4f60ffb38bfe02",
        "deepnote_cell_type": "code"
      },
      "outputs": [
        {
          "output_type": "error",
          "ename": "SyntaxError",
          "evalue": "invalid syntax (3564508045.py, line 2)",
          "traceback": [
            "\u001b[0;36m  Cell \u001b[0;32mIn [1], line 2\u001b[0;36m\u001b[0m\n\u001b[0;31m    pip install openpyxl\u001b[0m\n\u001b[0m        ^\u001b[0m\n\u001b[0;31mSyntaxError\u001b[0m\u001b[0;31m:\u001b[0m invalid syntax\n"
          ]
        }
      ],
      "execution_count": 13,
      "block_group": "8cd70abcb22a4db5bf4f60ffb38bfe02"
    },
    {
      "cell_type": "code",
      "source": "df = pd.read_excel('2019-2020/QPASS 2019-2020-1 Summer.xlsx')",
      "metadata": {
        "source_hash": "871bdaf0",
        "execution_start": 1694742232651,
        "execution_millis": 219,
        "deepnote_to_be_reexecuted": false,
        "cell_id": "7c33ed4ff4914463b255f68f2b72cc50",
        "deepnote_cell_type": "code"
      },
      "outputs": [
        {
          "output_type": "error",
          "ename": "FileNotFoundError",
          "evalue": "[Errno 2] No such file or directory: 'QPASS 2019-2020-1 Summer.xlsx'",
          "traceback": [
            "\u001b[0;31m---------------------------------------------------------------------------\u001b[0m",
            "\u001b[0;31mFileNotFoundError\u001b[0m                         Traceback (most recent call last)",
            "Cell \u001b[0;32mIn [3], line 1\u001b[0m\n\u001b[0;32m----> 1\u001b[0m df \u001b[38;5;241m=\u001b[39m \u001b[43mpd\u001b[49m\u001b[38;5;241;43m.\u001b[39;49m\u001b[43mread_excel\u001b[49m\u001b[43m(\u001b[49m\u001b[38;5;124;43m'\u001b[39;49m\u001b[38;5;124;43mQPASS 2019-2020-1 Summer.xlsx\u001b[39;49m\u001b[38;5;124;43m'\u001b[39;49m\u001b[43m)\u001b[49m\n",
            "File \u001b[0;32m/shared-libs/python3.9/py/lib/python3.9/site-packages/pandas/util/_decorators.py:299\u001b[0m, in \u001b[0;36mdeprecate_nonkeyword_arguments.<locals>.decorate.<locals>.wrapper\u001b[0;34m(*args, **kwargs)\u001b[0m\n\u001b[1;32m    294\u001b[0m     msg \u001b[38;5;241m=\u001b[39m (\n\u001b[1;32m    295\u001b[0m         \u001b[38;5;124mf\u001b[39m\u001b[38;5;124m\"\u001b[39m\u001b[38;5;124mStarting with Pandas version \u001b[39m\u001b[38;5;132;01m{\u001b[39;00mversion\u001b[38;5;132;01m}\u001b[39;00m\u001b[38;5;124m all arguments of \u001b[39m\u001b[38;5;124m\"\u001b[39m\n\u001b[1;32m    296\u001b[0m         \u001b[38;5;124mf\u001b[39m\u001b[38;5;124m\"\u001b[39m\u001b[38;5;132;01m{\u001b[39;00mfunc\u001b[38;5;241m.\u001b[39m\u001b[38;5;18m__name__\u001b[39m\u001b[38;5;132;01m}\u001b[39;00m\u001b[38;5;132;01m{\u001b[39;00marguments\u001b[38;5;132;01m}\u001b[39;00m\u001b[38;5;124m will be keyword-only\u001b[39m\u001b[38;5;124m\"\u001b[39m\n\u001b[1;32m    297\u001b[0m     )\n\u001b[1;32m    298\u001b[0m     warnings\u001b[38;5;241m.\u001b[39mwarn(msg, \u001b[38;5;167;01mFutureWarning\u001b[39;00m, stacklevel\u001b[38;5;241m=\u001b[39mstacklevel)\n\u001b[0;32m--> 299\u001b[0m \u001b[38;5;28;01mreturn\u001b[39;00m \u001b[43mfunc\u001b[49m\u001b[43m(\u001b[49m\u001b[38;5;241;43m*\u001b[39;49m\u001b[43margs\u001b[49m\u001b[43m,\u001b[49m\u001b[43m \u001b[49m\u001b[38;5;241;43m*\u001b[39;49m\u001b[38;5;241;43m*\u001b[39;49m\u001b[43mkwargs\u001b[49m\u001b[43m)\u001b[49m\n",
            "File \u001b[0;32m/shared-libs/python3.9/py/lib/python3.9/site-packages/pandas/io/excel/_base.py:336\u001b[0m, in \u001b[0;36mread_excel\u001b[0;34m(io, sheet_name, header, names, index_col, usecols, squeeze, dtype, engine, converters, true_values, false_values, skiprows, nrows, na_values, keep_default_na, na_filter, verbose, parse_dates, date_parser, thousands, comment, skipfooter, convert_float, mangle_dupe_cols, storage_options)\u001b[0m\n\u001b[1;32m    334\u001b[0m \u001b[38;5;28;01mif\u001b[39;00m \u001b[38;5;129;01mnot\u001b[39;00m \u001b[38;5;28misinstance\u001b[39m(io, ExcelFile):\n\u001b[1;32m    335\u001b[0m     should_close \u001b[38;5;241m=\u001b[39m \u001b[38;5;28;01mTrue\u001b[39;00m\n\u001b[0;32m--> 336\u001b[0m     io \u001b[38;5;241m=\u001b[39m \u001b[43mExcelFile\u001b[49m\u001b[43m(\u001b[49m\u001b[43mio\u001b[49m\u001b[43m,\u001b[49m\u001b[43m \u001b[49m\u001b[43mstorage_options\u001b[49m\u001b[38;5;241;43m=\u001b[39;49m\u001b[43mstorage_options\u001b[49m\u001b[43m,\u001b[49m\u001b[43m \u001b[49m\u001b[43mengine\u001b[49m\u001b[38;5;241;43m=\u001b[39;49m\u001b[43mengine\u001b[49m\u001b[43m)\u001b[49m\n\u001b[1;32m    337\u001b[0m \u001b[38;5;28;01melif\u001b[39;00m engine \u001b[38;5;129;01mand\u001b[39;00m engine \u001b[38;5;241m!=\u001b[39m io\u001b[38;5;241m.\u001b[39mengine:\n\u001b[1;32m    338\u001b[0m     \u001b[38;5;28;01mraise\u001b[39;00m \u001b[38;5;167;01mValueError\u001b[39;00m(\n\u001b[1;32m    339\u001b[0m         \u001b[38;5;124m\"\u001b[39m\u001b[38;5;124mEngine should not be specified when passing \u001b[39m\u001b[38;5;124m\"\u001b[39m\n\u001b[1;32m    340\u001b[0m         \u001b[38;5;124m\"\u001b[39m\u001b[38;5;124man ExcelFile - ExcelFile already has the engine set\u001b[39m\u001b[38;5;124m\"\u001b[39m\n\u001b[1;32m    341\u001b[0m     )\n",
            "File \u001b[0;32m/shared-libs/python3.9/py/lib/python3.9/site-packages/pandas/io/excel/_base.py:1080\u001b[0m, in \u001b[0;36mExcelFile.__init__\u001b[0;34m(self, path_or_buffer, engine, storage_options)\u001b[0m\n\u001b[1;32m   1078\u001b[0m     ext \u001b[38;5;241m=\u001b[39m \u001b[38;5;124m\"\u001b[39m\u001b[38;5;124mxls\u001b[39m\u001b[38;5;124m\"\u001b[39m\n\u001b[1;32m   1079\u001b[0m \u001b[38;5;28;01melse\u001b[39;00m:\n\u001b[0;32m-> 1080\u001b[0m     ext \u001b[38;5;241m=\u001b[39m \u001b[43minspect_excel_format\u001b[49m\u001b[43m(\u001b[49m\n\u001b[1;32m   1081\u001b[0m \u001b[43m        \u001b[49m\u001b[43mcontent\u001b[49m\u001b[38;5;241;43m=\u001b[39;49m\u001b[43mpath_or_buffer\u001b[49m\u001b[43m,\u001b[49m\u001b[43m \u001b[49m\u001b[43mstorage_options\u001b[49m\u001b[38;5;241;43m=\u001b[39;49m\u001b[43mstorage_options\u001b[49m\n\u001b[1;32m   1082\u001b[0m \u001b[43m    \u001b[49m\u001b[43m)\u001b[49m\n\u001b[1;32m   1084\u001b[0m \u001b[38;5;28;01mif\u001b[39;00m ext \u001b[38;5;241m==\u001b[39m \u001b[38;5;124m\"\u001b[39m\u001b[38;5;124mods\u001b[39m\u001b[38;5;124m\"\u001b[39m:\n\u001b[1;32m   1085\u001b[0m     engine \u001b[38;5;241m=\u001b[39m \u001b[38;5;124m\"\u001b[39m\u001b[38;5;124modf\u001b[39m\u001b[38;5;124m\"\u001b[39m\n",
            "File \u001b[0;32m/shared-libs/python3.9/py/lib/python3.9/site-packages/pandas/io/excel/_base.py:958\u001b[0m, in \u001b[0;36minspect_excel_format\u001b[0;34m(path, content, storage_options)\u001b[0m\n\u001b[1;32m    955\u001b[0m     content_or_path \u001b[38;5;241m=\u001b[39m content \u001b[38;5;129;01mor\u001b[39;00m path\n\u001b[1;32m    956\u001b[0m \u001b[38;5;28;01massert\u001b[39;00m content_or_path \u001b[38;5;129;01mis\u001b[39;00m \u001b[38;5;129;01mnot\u001b[39;00m \u001b[38;5;28;01mNone\u001b[39;00m\n\u001b[0;32m--> 958\u001b[0m \u001b[38;5;28;01mwith\u001b[39;00m \u001b[43mget_handle\u001b[49m\u001b[43m(\u001b[49m\n\u001b[1;32m    959\u001b[0m \u001b[43m    \u001b[49m\u001b[43mcontent_or_path\u001b[49m\u001b[43m,\u001b[49m\u001b[43m \u001b[49m\u001b[38;5;124;43m\"\u001b[39;49m\u001b[38;5;124;43mrb\u001b[39;49m\u001b[38;5;124;43m\"\u001b[39;49m\u001b[43m,\u001b[49m\u001b[43m \u001b[49m\u001b[43mstorage_options\u001b[49m\u001b[38;5;241;43m=\u001b[39;49m\u001b[43mstorage_options\u001b[49m\u001b[43m,\u001b[49m\u001b[43m \u001b[49m\u001b[43mis_text\u001b[49m\u001b[38;5;241;43m=\u001b[39;49m\u001b[38;5;28;43;01mFalse\u001b[39;49;00m\n\u001b[1;32m    960\u001b[0m \u001b[43m\u001b[49m\u001b[43m)\u001b[49m \u001b[38;5;28;01mas\u001b[39;00m handle:\n\u001b[1;32m    961\u001b[0m     stream \u001b[38;5;241m=\u001b[39m handle\u001b[38;5;241m.\u001b[39mhandle\n\u001b[1;32m    962\u001b[0m     stream\u001b[38;5;241m.\u001b[39mseek(\u001b[38;5;241m0\u001b[39m)\n",
            "File \u001b[0;32m/shared-libs/python3.9/py/lib/python3.9/site-packages/pandas/io/common.py:656\u001b[0m, in \u001b[0;36mget_handle\u001b[0;34m(path_or_buf, mode, encoding, compression, memory_map, is_text, errors, storage_options)\u001b[0m\n\u001b[1;32m    647\u001b[0m         handle \u001b[38;5;241m=\u001b[39m \u001b[38;5;28mopen\u001b[39m(\n\u001b[1;32m    648\u001b[0m             handle,\n\u001b[1;32m    649\u001b[0m             ioargs\u001b[38;5;241m.\u001b[39mmode,\n\u001b[0;32m   (...)\u001b[0m\n\u001b[1;32m    652\u001b[0m             newline\u001b[38;5;241m=\u001b[39m\u001b[38;5;124m\"\u001b[39m\u001b[38;5;124m\"\u001b[39m,\n\u001b[1;32m    653\u001b[0m         )\n\u001b[1;32m    654\u001b[0m     \u001b[38;5;28;01melse\u001b[39;00m:\n\u001b[1;32m    655\u001b[0m         \u001b[38;5;66;03m# Binary mode\u001b[39;00m\n\u001b[0;32m--> 656\u001b[0m         handle \u001b[38;5;241m=\u001b[39m \u001b[38;5;28;43mopen\u001b[39;49m\u001b[43m(\u001b[49m\u001b[43mhandle\u001b[49m\u001b[43m,\u001b[49m\u001b[43m \u001b[49m\u001b[43mioargs\u001b[49m\u001b[38;5;241;43m.\u001b[39;49m\u001b[43mmode\u001b[49m\u001b[43m)\u001b[49m\n\u001b[1;32m    657\u001b[0m     handles\u001b[38;5;241m.\u001b[39mappend(handle)\n\u001b[1;32m    659\u001b[0m \u001b[38;5;66;03m# Convert BytesIO or file objects passed with an encoding\u001b[39;00m\n",
            "\u001b[0;31mFileNotFoundError\u001b[0m: [Errno 2] No such file or directory: 'QPASS 2019-2020-1 Summer.xlsx'"
          ]
        }
      ],
      "execution_count": 14,
      "block_group": "7c33ed4ff4914463b255f68f2b72cc50"
    },
    {
      "cell_type": "code",
      "source": "df",
      "metadata": {
        "source_hash": "f804c160",
        "execution_start": 1694742233023,
        "execution_millis": 360,
        "deepnote_table_state": {
          "sortBy": [],
          "filters": [],
          "pageSize": 10,
          "pageIndex": 0
        },
        "deepnote_table_loading": false,
        "deepnote_to_be_reexecuted": false,
        "cell_id": "2b744af327804840b7035f72cbd627ec",
        "deepnote_cell_type": "code"
      },
      "outputs": [
        {
          "output_type": "execute_result",
          "execution_count": 15,
          "data": {
            "application/vnd.deepnote.dataframe.v3+json": {
              "column_count": 24,
              "row_count": 139,
              "columns": [
                {
                  "name": "Unnamed: 0",
                  "dtype": "object",
                  "stats": {
                    "unique_count": 14,
                    "nan_count": 100,
                    "categories": [
                      {
                        "name": "Osler",
                        "count": 6
                      },
                      {
                        "name": "13 others",
                        "count": 33
                      },
                      {
                        "name": "Missing",
                        "count": 100
                      }
                    ]
                  }
                },
                {
                  "name": "Unnamed: 1",
                  "dtype": "object",
                  "stats": {
                    "unique_count": 62,
                    "nan_count": 44,
                    "categories": [
                      {
                        "name": "P510",
                        "count": 4
                      },
                      {
                        "name": "61 others",
                        "count": 91
                      },
                      {
                        "name": "Missing",
                        "count": 44
                      }
                    ]
                  }
                },
                {
                  "name": "Unnamed: 2",
                  "dtype": "object",
                  "stats": {
                    "unique_count": 93,
                    "nan_count": 10,
                    "categories": [
                      {
                        "name": "9",
                        "count": 6
                      },
                      {
                        "name": "92 others",
                        "count": 123
                      },
                      {
                        "name": "Missing",
                        "count": 10
                      }
                    ]
                  }
                },
                {
                  "name": "Unnamed: 3",
                  "dtype": "object",
                  "stats": {
                    "unique_count": 13,
                    "nan_count": 27,
                    "categories": [
                      {
                        "name": "B",
                        "count": 31
                      },
                      {
                        "name": "12 others",
                        "count": 81
                      },
                      {
                        "name": "Missing",
                        "count": 27
                      }
                    ]
                  }
                },
                {
                  "name": "University of California San Diego: Quarterly Parking Availability Survey and Summary",
                  "dtype": "object",
                  "stats": {
                    "unique_count": 76,
                    "nan_count": 13,
                    "categories": [
                      {
                        "name": "0",
                        "count": 10
                      },
                      {
                        "name": "75 others",
                        "count": 116
                      },
                      {
                        "name": "Missing",
                        "count": 13
                      }
                    ]
                  }
                },
                {
                  "name": "Unnamed: 5",
                  "dtype": "object",
                  "stats": {
                    "unique_count": 64,
                    "nan_count": 16,
                    "categories": [
                      {
                        "name": "0",
                        "count": 24
                      },
                      {
                        "name": "63 others",
                        "count": 99
                      },
                      {
                        "name": "Missing",
                        "count": 16
                      }
                    ]
                  }
                },
                {
                  "name": "Unnamed: 6",
                  "dtype": "object",
                  "stats": {
                    "unique_count": 57,
                    "nan_count": 16,
                    "categories": [
                      {
                        "name": "0",
                        "count": 29
                      },
                      {
                        "name": "56 others",
                        "count": 94
                      },
                      {
                        "name": "Missing",
                        "count": 16
                      }
                    ]
                  }
                },
                {
                  "name": "Unnamed: 7",
                  "dtype": "object",
                  "stats": {
                    "unique_count": 59,
                    "nan_count": 16,
                    "categories": [
                      {
                        "name": "0",
                        "count": 24
                      },
                      {
                        "name": "58 others",
                        "count": 99
                      },
                      {
                        "name": "Missing",
                        "count": 16
                      }
                    ]
                  }
                },
                {
                  "name": "Unnamed: 8",
                  "dtype": "object",
                  "stats": {
                    "unique_count": 77,
                    "nan_count": 14,
                    "categories": [
                      {
                        "name": "0",
                        "count": 13
                      },
                      {
                        "name": "76 others",
                        "count": 112
                      },
                      {
                        "name": "Missing",
                        "count": 14
                      }
                    ]
                  }
                },
                {
                  "name": "Unnamed: 9",
                  "dtype": "object",
                  "stats": {
                    "unique_count": 59,
                    "nan_count": 16,
                    "categories": [
                      {
                        "name": "0",
                        "count": 30
                      },
                      {
                        "name": "58 others",
                        "count": 93
                      },
                      {
                        "name": "Missing",
                        "count": 16
                      }
                    ]
                  }
                },
                {
                  "name": "Unnamed: 10",
                  "dtype": "object",
                  "stats": {
                    "unique_count": 55,
                    "nan_count": 16,
                    "categories": [
                      {
                        "name": "0",
                        "count": 31
                      },
                      {
                        "name": "54 others",
                        "count": 92
                      },
                      {
                        "name": "Missing",
                        "count": 16
                      }
                    ]
                  }
                },
                {
                  "name": "Unnamed: 11",
                  "dtype": "object",
                  "stats": {
                    "unique_count": 54,
                    "nan_count": 16,
                    "categories": [
                      {
                        "name": "0",
                        "count": 25
                      },
                      {
                        "name": "53 others",
                        "count": 98
                      },
                      {
                        "name": "Missing",
                        "count": 16
                      }
                    ]
                  }
                },
                {
                  "name": "Unnamed: 12",
                  "dtype": "object",
                  "stats": {
                    "unique_count": 74,
                    "nan_count": 14,
                    "categories": [
                      {
                        "name": "0",
                        "count": 15
                      },
                      {
                        "name": "73 others",
                        "count": 110
                      },
                      {
                        "name": "Missing",
                        "count": 14
                      }
                    ]
                  }
                },
                {
                  "name": "Unnamed: 13",
                  "dtype": "object",
                  "stats": {
                    "unique_count": 63,
                    "nan_count": 16,
                    "categories": [
                      {
                        "name": "0",
                        "count": 29
                      },
                      {
                        "name": "62 others",
                        "count": 94
                      },
                      {
                        "name": "Missing",
                        "count": 16
                      }
                    ]
                  }
                },
                {
                  "name": "Unnamed: 14",
                  "dtype": "object",
                  "stats": {
                    "unique_count": 57,
                    "nan_count": 16,
                    "categories": [
                      {
                        "name": "0",
                        "count": 31
                      },
                      {
                        "name": "56 others",
                        "count": 92
                      },
                      {
                        "name": "Missing",
                        "count": 16
                      }
                    ]
                  }
                },
                {
                  "name": "Unnamed: 15",
                  "dtype": "object",
                  "stats": {
                    "unique_count": 60,
                    "nan_count": 16,
                    "categories": [
                      {
                        "name": "0",
                        "count": 22
                      },
                      {
                        "name": "59 others",
                        "count": 101
                      },
                      {
                        "name": "Missing",
                        "count": 16
                      }
                    ]
                  }
                },
                {
                  "name": "Unnamed: 16",
                  "dtype": "object",
                  "stats": {
                    "unique_count": 4,
                    "nan_count": 135,
                    "categories": [
                      {
                        "name": "Thursday",
                        "count": 1
                      },
                      {
                        "name": "3 others",
                        "count": 3
                      },
                      {
                        "name": "Missing",
                        "count": 135
                      }
                    ]
                  }
                },
                {
                  "name": "Unnamed: 17",
                  "dtype": "object",
                  "stats": {
                    "unique_count": 2,
                    "nan_count": 137,
                    "categories": [
                      {
                        "name": "10:00:00",
                        "count": 1
                      },
                      {
                        "name": "Available",
                        "count": 1
                      },
                      {
                        "name": "Missing",
                        "count": 137
                      }
                    ]
                  }
                },
                {
                  "name": "Unnamed: 18",
                  "dtype": "object",
                  "stats": {
                    "unique_count": 2,
                    "nan_count": 137,
                    "categories": [
                      {
                        "name": "12:00:00",
                        "count": 1
                      },
                      {
                        "name": "Available",
                        "count": 1
                      },
                      {
                        "name": "Missing",
                        "count": 137
                      }
                    ]
                  }
                },
                {
                  "name": "Unnamed: 19",
                  "dtype": "object",
                  "stats": {
                    "unique_count": 2,
                    "nan_count": 137,
                    "categories": [
                      {
                        "name": "14:00:00",
                        "count": 1
                      },
                      {
                        "name": "Available",
                        "count": 1
                      },
                      {
                        "name": "Missing",
                        "count": 137
                      }
                    ]
                  }
                },
                {
                  "name": "Unnamed: 20",
                  "dtype": "object",
                  "stats": {
                    "unique_count": 81,
                    "nan_count": 14,
                    "categories": [
                      {
                        "name": "0",
                        "count": 6
                      },
                      {
                        "name": "80 others",
                        "count": 119
                      },
                      {
                        "name": "Missing",
                        "count": 14
                      }
                    ]
                  }
                },
                {
                  "name": "Unnamed: 21",
                  "dtype": "object",
                  "stats": {
                    "unique_count": 74,
                    "nan_count": 16,
                    "categories": [
                      {
                        "name": "0",
                        "count": 11
                      },
                      {
                        "name": "73 others",
                        "count": 112
                      },
                      {
                        "name": "Missing",
                        "count": 16
                      }
                    ]
                  }
                },
                {
                  "name": "Unnamed: 22",
                  "dtype": "object",
                  "stats": {
                    "unique_count": 71,
                    "nan_count": 16,
                    "categories": [
                      {
                        "name": "0",
                        "count": 9
                      },
                      {
                        "name": "70 others",
                        "count": 114
                      },
                      {
                        "name": "Missing",
                        "count": 16
                      }
                    ]
                  }
                },
                {
                  "name": "Unnamed: 23",
                  "dtype": "object",
                  "stats": {
                    "unique_count": 76,
                    "nan_count": 16,
                    "categories": [
                      {
                        "name": "0",
                        "count": 12
                      },
                      {
                        "name": "75 others",
                        "count": 111
                      },
                      {
                        "name": "Missing",
                        "count": 16
                      }
                    ]
                  }
                },
                {
                  "name": "_deepnote_index_column",
                  "dtype": "int64"
                }
              ],
              "rows": [
                {
                  "Unnamed: 0": "nan",
                  "Unnamed: 1": "nan",
                  "Unnamed: 2": "nan",
                  "Unnamed: 3": "nan",
                  "University of California San Diego: Quarterly Parking Availability Survey and Summary": "Data Sorted by Allocation Type: Summer 2019 Week 1",
                  "Unnamed: 5": "nan",
                  "Unnamed: 6": "nan",
                  "Unnamed: 7": "nan",
                  "Unnamed: 8": "nan",
                  "Unnamed: 9": "nan",
                  "Unnamed: 10": "nan",
                  "Unnamed: 11": "nan",
                  "Unnamed: 12": "nan",
                  "Unnamed: 13": "nan",
                  "Unnamed: 14": "nan",
                  "Unnamed: 15": "nan",
                  "Unnamed: 16": "nan",
                  "Unnamed: 17": "nan",
                  "Unnamed: 18": "nan",
                  "Unnamed: 19": "nan",
                  "Unnamed: 20": "nan",
                  "Unnamed: 21": "nan",
                  "Unnamed: 22": "nan",
                  "Unnamed: 23": "nan",
                  "_deepnote_index_column": 0
                },
                {
                  "Unnamed: 0": "nan",
                  "Unnamed: 1": "nan",
                  "Unnamed: 2": "nan",
                  "Unnamed: 3": "nan",
                  "University of California San Diego: Quarterly Parking Availability Survey and Summary": "Monday",
                  "Unnamed: 5": "nan",
                  "Unnamed: 6": "nan",
                  "Unnamed: 7": "nan",
                  "Unnamed: 8": "Tuesday",
                  "Unnamed: 9": "nan",
                  "Unnamed: 10": "nan",
                  "Unnamed: 11": "nan",
                  "Unnamed: 12": "Wednesday",
                  "Unnamed: 13": "nan",
                  "Unnamed: 14": "nan",
                  "Unnamed: 15": "nan",
                  "Unnamed: 16": "Thursday",
                  "Unnamed: 17": "nan",
                  "Unnamed: 18": "nan",
                  "Unnamed: 19": "nan",
                  "Unnamed: 20": "Friday",
                  "Unnamed: 21": "nan",
                  "Unnamed: 22": "nan",
                  "Unnamed: 23": "nan",
                  "_deepnote_index_column": 1
                },
                {
                  "Unnamed: 0": "nan",
                  "Unnamed: 1": "nan",
                  "Unnamed: 2": "nan",
                  "Unnamed: 3": "nan",
                  "University of California San Diego: Quarterly Parking Availability Survey and Summary": "2019-07-01 00:00:00",
                  "Unnamed: 5": "nan",
                  "Unnamed: 6": "nan",
                  "Unnamed: 7": "nan",
                  "Unnamed: 8": "2019-07-02 00:00:00",
                  "Unnamed: 9": "nan",
                  "Unnamed: 10": "nan",
                  "Unnamed: 11": "nan",
                  "Unnamed: 12": "2019-07-03 00:00:00",
                  "Unnamed: 13": "nan",
                  "Unnamed: 14": "nan",
                  "Unnamed: 15": "nan",
                  "Unnamed: 16": "2019-07-04 00:00:00",
                  "Unnamed: 17": "nan",
                  "Unnamed: 18": "nan",
                  "Unnamed: 19": "nan",
                  "Unnamed: 20": "2019-07-05 00:00:00",
                  "Unnamed: 21": "nan",
                  "Unnamed: 22": "nan",
                  "Unnamed: 23": "nan",
                  "_deepnote_index_column": 2
                },
                {
                  "Unnamed: 0": "nan",
                  "Unnamed: 1": "nan",
                  "Unnamed: 2": "nan",
                  "Unnamed: 3": "nan",
                  "University of California San Diego: Quarterly Parking Availability Survey and Summary": "08:00:00",
                  "Unnamed: 5": "10:00:00",
                  "Unnamed: 6": "12:00:00",
                  "Unnamed: 7": "14:00:00",
                  "Unnamed: 8": "08:00:00",
                  "Unnamed: 9": "10:00:00",
                  "Unnamed: 10": "12:00:00",
                  "Unnamed: 11": "14:00:00",
                  "Unnamed: 12": "08:00:00",
                  "Unnamed: 13": "10:00:00",
                  "Unnamed: 14": "12:00:00",
                  "Unnamed: 15": "14:00:00",
                  "Unnamed: 16": "08:00:00",
                  "Unnamed: 17": "10:00:00",
                  "Unnamed: 18": "12:00:00",
                  "Unnamed: 19": "14:00:00",
                  "Unnamed: 20": "08:00:00",
                  "Unnamed: 21": "10:00:00",
                  "Unnamed: 22": "12:00:00",
                  "Unnamed: 23": "14:00:00",
                  "_deepnote_index_column": 3
                },
                {
                  "Unnamed: 0": "Structure",
                  "Unnamed: 1": "Lot",
                  "Unnamed: 2": "Total Spaces",
                  "Unnamed: 3": "Type",
                  "University of California San Diego: Quarterly Parking Availability Survey and Summary": "Available",
                  "Unnamed: 5": "Available",
                  "Unnamed: 6": "Available",
                  "Unnamed: 7": "Available",
                  "Unnamed: 8": "Available",
                  "Unnamed: 9": "Available",
                  "Unnamed: 10": "Available",
                  "Unnamed: 11": "Available",
                  "Unnamed: 12": "Available",
                  "Unnamed: 13": "Available",
                  "Unnamed: 14": "Available",
                  "Unnamed: 15": "Available",
                  "Unnamed: 16": "Available",
                  "Unnamed: 17": "Available",
                  "Unnamed: 18": "Available",
                  "Unnamed: 19": "Available",
                  "Unnamed: 20": "Available",
                  "Unnamed: 21": "Available",
                  "Unnamed: 22": "Available",
                  "Unnamed: 23": "Available",
                  "_deepnote_index_column": 4
                },
                {
                  "Unnamed: 0": "Athena",
                  "Unnamed: 1": "nan",
                  "Unnamed: 2": "195",
                  "Unnamed: 3": "A",
                  "University of California San Diego: Quarterly Parking Availability Survey and Summary": "162",
                  "Unnamed: 5": "75",
                  "Unnamed: 6": "73",
                  "Unnamed: 7": "49",
                  "Unnamed: 8": "100",
                  "Unnamed: 9": "70",
                  "Unnamed: 10": "45",
                  "Unnamed: 11": "46",
                  "Unnamed: 12": "104",
                  "Unnamed: 13": "91",
                  "Unnamed: 14": "55",
                  "Unnamed: 15": "63",
                  "Unnamed: 16": "nan",
                  "Unnamed: 17": "nan",
                  "Unnamed: 18": "nan",
                  "Unnamed: 19": "nan",
                  "Unnamed: 20": "131",
                  "Unnamed: 21": "67",
                  "Unnamed: 22": "79",
                  "Unnamed: 23": "96",
                  "_deepnote_index_column": 5
                },
                {
                  "Unnamed: 0": "Campus Point East",
                  "Unnamed: 1": "nan",
                  "Unnamed: 2": "372",
                  "Unnamed: 3": "A",
                  "University of California San Diego: Quarterly Parking Availability Survey and Summary": "147",
                  "Unnamed: 5": "68",
                  "Unnamed: 6": "70",
                  "Unnamed: 7": "75",
                  "Unnamed: 8": "85",
                  "Unnamed: 9": "10",
                  "Unnamed: 10": "10",
                  "Unnamed: 11": "34",
                  "Unnamed: 12": "84",
                  "Unnamed: 13": "33",
                  "Unnamed: 14": "29",
                  "Unnamed: 15": "35",
                  "Unnamed: 16": "nan",
                  "Unnamed: 17": "nan",
                  "Unnamed: 18": "nan",
                  "Unnamed: 19": "nan",
                  "Unnamed: 20": "114",
                  "Unnamed: 21": "109",
                  "Unnamed: 22": "86",
                  "Unnamed: 23": "127",
                  "_deepnote_index_column": 6
                },
                {
                  "Unnamed: 0": "Campus Point West",
                  "Unnamed: 1": "nan",
                  "Unnamed: 2": "9",
                  "Unnamed: 3": "A",
                  "University of California San Diego: Quarterly Parking Availability Survey and Summary": "4",
                  "Unnamed: 5": "1",
                  "Unnamed: 6": "1",
                  "Unnamed: 7": "0",
                  "Unnamed: 8": "0",
                  "Unnamed: 9": "2",
                  "Unnamed: 10": "4",
                  "Unnamed: 11": "2",
                  "Unnamed: 12": "4",
                  "Unnamed: 13": "2",
                  "Unnamed: 14": "0",
                  "Unnamed: 15": "3",
                  "Unnamed: 16": "nan",
                  "Unnamed: 17": "nan",
                  "Unnamed: 18": "nan",
                  "Unnamed: 19": "nan",
                  "Unnamed: 20": "8",
                  "Unnamed: 21": "4",
                  "Unnamed: 22": "2",
                  "Unnamed: 23": "0",
                  "_deepnote_index_column": 7
                },
                {
                  "Unnamed: 0": "Gilman",
                  "Unnamed: 1": "nan",
                  "Unnamed: 2": "401",
                  "Unnamed: 3": "A",
                  "University of California San Diego: Quarterly Parking Availability Survey and Summary": "304",
                  "Unnamed: 5": "61",
                  "Unnamed: 6": "107",
                  "Unnamed: 7": "137",
                  "Unnamed: 8": "322",
                  "Unnamed: 9": "64",
                  "Unnamed: 10": "134",
                  "Unnamed: 11": "153",
                  "Unnamed: 12": "273",
                  "Unnamed: 13": "249",
                  "Unnamed: 14": "132",
                  "Unnamed: 15": "146",
                  "Unnamed: 16": "nan",
                  "Unnamed: 17": "nan",
                  "Unnamed: 18": "nan",
                  "Unnamed: 19": "nan",
                  "Unnamed: 20": "347",
                  "Unnamed: 21": "284",
                  "Unnamed: 22": "129",
                  "Unnamed: 23": "277",
                  "_deepnote_index_column": 8
                },
                {
                  "Unnamed: 0": "Hopkins",
                  "Unnamed: 1": "nan",
                  "Unnamed: 2": "84",
                  "Unnamed: 3": "A",
                  "University of California San Diego: Quarterly Parking Availability Survey and Summary": "80",
                  "Unnamed: 5": "57",
                  "Unnamed: 6": "52",
                  "Unnamed: 7": "46",
                  "Unnamed: 8": "24",
                  "Unnamed: 9": "6",
                  "Unnamed: 10": "0",
                  "Unnamed: 11": "0",
                  "Unnamed: 12": "23",
                  "Unnamed: 13": "5",
                  "Unnamed: 14": "1",
                  "Unnamed: 15": "3",
                  "Unnamed: 16": "nan",
                  "Unnamed: 17": "nan",
                  "Unnamed: 18": "nan",
                  "Unnamed: 19": "nan",
                  "Unnamed: 20": "26",
                  "Unnamed: 21": "21",
                  "Unnamed: 22": "72",
                  "Unnamed: 23": "46",
                  "_deepnote_index_column": 9
                }
              ]
            },
            "text/plain": "    Unnamed: 0 Unnamed: 1    Unnamed: 2 Unnamed: 3  \\\n0          NaN        NaN           NaN        NaN   \n1          NaN        NaN           NaN        NaN   \n2          NaN        NaN           NaN        NaN   \n3          NaN        NaN           NaN        NaN   \n4    Structure        Lot  Total Spaces       Type   \n..         ...        ...           ...        ...   \n134        NaN      SIO B           295        NaN   \n135        NaN          S            64        NaN   \n136        NaN      SIO S            71        NaN   \n137        NaN   Aquarium           258        NaN   \n138        NaN          V             4        NaN   \n\n    University of California San Diego: Quarterly Parking Availability Survey and Summary  \\\n0    Data Sorted by Allocation Type: Summer 2019 We...                                      \n1                                               Monday                                      \n2                                  2019-07-01 00:00:00                                      \n3                                             08:00:00                                      \n4                                            Available                                      \n..                                                 ...                                      \n134                                                211                                      \n135                                                 48                                      \n136                                                 71                                      \n137                                                240                                      \n138                                                  4                                      \n\n    Unnamed: 5 Unnamed: 6 Unnamed: 7           Unnamed: 8 Unnamed: 9  ...  \\\n0          NaN        NaN        NaN                  NaN        NaN  ...   \n1          NaN        NaN        NaN              Tuesday        NaN  ...   \n2          NaN        NaN        NaN  2019-07-02 00:00:00        NaN  ...   \n3     10:00:00   12:00:00   14:00:00             08:00:00   10:00:00  ...   \n4    Available  Available  Available            Available  Available  ...   \n..         ...        ...        ...                  ...        ...  ...   \n134         93         50         48                  193         59  ...   \n135         23         16         18                   47         17  ...   \n136         67         63         67                   71         68  ...   \n137        130         23         48                  235        131  ...   \n138          3          2          4                    4          4  ...   \n\n    Unnamed: 14 Unnamed: 15          Unnamed: 16 Unnamed: 17 Unnamed: 18  \\\n0           NaN         NaN                  NaN         NaN         NaN   \n1           NaN         NaN             Thursday         NaN         NaN   \n2           NaN         NaN  2019-07-04 00:00:00         NaN         NaN   \n3      12:00:00    14:00:00             08:00:00    10:00:00    12:00:00   \n4     Available   Available            Available   Available   Available   \n..          ...         ...                  ...         ...         ...   \n134          42          38                  NaN         NaN         NaN   \n135          22          30                  NaN         NaN         NaN   \n136          63          64                  NaN         NaN         NaN   \n137          13          43                  NaN         NaN         NaN   \n138           2           1                  NaN         NaN         NaN   \n\n    Unnamed: 19          Unnamed: 20 Unnamed: 21 Unnamed: 22 Unnamed: 23  \n0           NaN                  NaN         NaN         NaN         NaN  \n1           NaN               Friday         NaN         NaN         NaN  \n2           NaN  2019-07-05 00:00:00         NaN         NaN         NaN  \n3      14:00:00             08:00:00    10:00:00    12:00:00    14:00:00  \n4     Available            Available   Available   Available   Available  \n..          ...                  ...         ...         ...         ...  \n134         NaN                  230         147          98          94  \n135         NaN                   50          39          29          23  \n136         NaN                   71          69          70          67  \n137         NaN                  252         189           7          56  \n138         NaN                    4           4           4           0  \n\n[139 rows x 24 columns]",
            "text/html": "<div>\n<style scoped>\n    .dataframe tbody tr th:only-of-type {\n        vertical-align: middle;\n    }\n\n    .dataframe tbody tr th {\n        vertical-align: top;\n    }\n\n    .dataframe thead th {\n        text-align: right;\n    }\n</style>\n<table border=\"1\" class=\"dataframe\">\n  <thead>\n    <tr style=\"text-align: right;\">\n      <th></th>\n      <th>Unnamed: 0</th>\n      <th>Unnamed: 1</th>\n      <th>Unnamed: 2</th>\n      <th>Unnamed: 3</th>\n      <th>University of California San Diego: Quarterly Parking Availability Survey and Summary</th>\n      <th>Unnamed: 5</th>\n      <th>Unnamed: 6</th>\n      <th>Unnamed: 7</th>\n      <th>Unnamed: 8</th>\n      <th>Unnamed: 9</th>\n      <th>...</th>\n      <th>Unnamed: 14</th>\n      <th>Unnamed: 15</th>\n      <th>Unnamed: 16</th>\n      <th>Unnamed: 17</th>\n      <th>Unnamed: 18</th>\n      <th>Unnamed: 19</th>\n      <th>Unnamed: 20</th>\n      <th>Unnamed: 21</th>\n      <th>Unnamed: 22</th>\n      <th>Unnamed: 23</th>\n    </tr>\n  </thead>\n  <tbody>\n    <tr>\n      <th>0</th>\n      <td>NaN</td>\n      <td>NaN</td>\n      <td>NaN</td>\n      <td>NaN</td>\n      <td>Data Sorted by Allocation Type: Summer 2019 We...</td>\n      <td>NaN</td>\n      <td>NaN</td>\n      <td>NaN</td>\n      <td>NaN</td>\n      <td>NaN</td>\n      <td>...</td>\n      <td>NaN</td>\n      <td>NaN</td>\n      <td>NaN</td>\n      <td>NaN</td>\n      <td>NaN</td>\n      <td>NaN</td>\n      <td>NaN</td>\n      <td>NaN</td>\n      <td>NaN</td>\n      <td>NaN</td>\n    </tr>\n    <tr>\n      <th>1</th>\n      <td>NaN</td>\n      <td>NaN</td>\n      <td>NaN</td>\n      <td>NaN</td>\n      <td>Monday</td>\n      <td>NaN</td>\n      <td>NaN</td>\n      <td>NaN</td>\n      <td>Tuesday</td>\n      <td>NaN</td>\n      <td>...</td>\n      <td>NaN</td>\n      <td>NaN</td>\n      <td>Thursday</td>\n      <td>NaN</td>\n      <td>NaN</td>\n      <td>NaN</td>\n      <td>Friday</td>\n      <td>NaN</td>\n      <td>NaN</td>\n      <td>NaN</td>\n    </tr>\n    <tr>\n      <th>2</th>\n      <td>NaN</td>\n      <td>NaN</td>\n      <td>NaN</td>\n      <td>NaN</td>\n      <td>2019-07-01 00:00:00</td>\n      <td>NaN</td>\n      <td>NaN</td>\n      <td>NaN</td>\n      <td>2019-07-02 00:00:00</td>\n      <td>NaN</td>\n      <td>...</td>\n      <td>NaN</td>\n      <td>NaN</td>\n      <td>2019-07-04 00:00:00</td>\n      <td>NaN</td>\n      <td>NaN</td>\n      <td>NaN</td>\n      <td>2019-07-05 00:00:00</td>\n      <td>NaN</td>\n      <td>NaN</td>\n      <td>NaN</td>\n    </tr>\n    <tr>\n      <th>3</th>\n      <td>NaN</td>\n      <td>NaN</td>\n      <td>NaN</td>\n      <td>NaN</td>\n      <td>08:00:00</td>\n      <td>10:00:00</td>\n      <td>12:00:00</td>\n      <td>14:00:00</td>\n      <td>08:00:00</td>\n      <td>10:00:00</td>\n      <td>...</td>\n      <td>12:00:00</td>\n      <td>14:00:00</td>\n      <td>08:00:00</td>\n      <td>10:00:00</td>\n      <td>12:00:00</td>\n      <td>14:00:00</td>\n      <td>08:00:00</td>\n      <td>10:00:00</td>\n      <td>12:00:00</td>\n      <td>14:00:00</td>\n    </tr>\n    <tr>\n      <th>4</th>\n      <td>Structure</td>\n      <td>Lot</td>\n      <td>Total Spaces</td>\n      <td>Type</td>\n      <td>Available</td>\n      <td>Available</td>\n      <td>Available</td>\n      <td>Available</td>\n      <td>Available</td>\n      <td>Available</td>\n      <td>...</td>\n      <td>Available</td>\n      <td>Available</td>\n      <td>Available</td>\n      <td>Available</td>\n      <td>Available</td>\n      <td>Available</td>\n      <td>Available</td>\n      <td>Available</td>\n      <td>Available</td>\n      <td>Available</td>\n    </tr>\n    <tr>\n      <th>...</th>\n      <td>...</td>\n      <td>...</td>\n      <td>...</td>\n      <td>...</td>\n      <td>...</td>\n      <td>...</td>\n      <td>...</td>\n      <td>...</td>\n      <td>...</td>\n      <td>...</td>\n      <td>...</td>\n      <td>...</td>\n      <td>...</td>\n      <td>...</td>\n      <td>...</td>\n      <td>...</td>\n      <td>...</td>\n      <td>...</td>\n      <td>...</td>\n      <td>...</td>\n      <td>...</td>\n    </tr>\n    <tr>\n      <th>134</th>\n      <td>NaN</td>\n      <td>SIO B</td>\n      <td>295</td>\n      <td>NaN</td>\n      <td>211</td>\n      <td>93</td>\n      <td>50</td>\n      <td>48</td>\n      <td>193</td>\n      <td>59</td>\n      <td>...</td>\n      <td>42</td>\n      <td>38</td>\n      <td>NaN</td>\n      <td>NaN</td>\n      <td>NaN</td>\n      <td>NaN</td>\n      <td>230</td>\n      <td>147</td>\n      <td>98</td>\n      <td>94</td>\n    </tr>\n    <tr>\n      <th>135</th>\n      <td>NaN</td>\n      <td>S</td>\n      <td>64</td>\n      <td>NaN</td>\n      <td>48</td>\n      <td>23</td>\n      <td>16</td>\n      <td>18</td>\n      <td>47</td>\n      <td>17</td>\n      <td>...</td>\n      <td>22</td>\n      <td>30</td>\n      <td>NaN</td>\n      <td>NaN</td>\n      <td>NaN</td>\n      <td>NaN</td>\n      <td>50</td>\n      <td>39</td>\n      <td>29</td>\n      <td>23</td>\n    </tr>\n    <tr>\n      <th>136</th>\n      <td>NaN</td>\n      <td>SIO S</td>\n      <td>71</td>\n      <td>NaN</td>\n      <td>71</td>\n      <td>67</td>\n      <td>63</td>\n      <td>67</td>\n      <td>71</td>\n      <td>68</td>\n      <td>...</td>\n      <td>63</td>\n      <td>64</td>\n      <td>NaN</td>\n      <td>NaN</td>\n      <td>NaN</td>\n      <td>NaN</td>\n      <td>71</td>\n      <td>69</td>\n      <td>70</td>\n      <td>67</td>\n    </tr>\n    <tr>\n      <th>137</th>\n      <td>NaN</td>\n      <td>Aquarium</td>\n      <td>258</td>\n      <td>NaN</td>\n      <td>240</td>\n      <td>130</td>\n      <td>23</td>\n      <td>48</td>\n      <td>235</td>\n      <td>131</td>\n      <td>...</td>\n      <td>13</td>\n      <td>43</td>\n      <td>NaN</td>\n      <td>NaN</td>\n      <td>NaN</td>\n      <td>NaN</td>\n      <td>252</td>\n      <td>189</td>\n      <td>7</td>\n      <td>56</td>\n    </tr>\n    <tr>\n      <th>138</th>\n      <td>NaN</td>\n      <td>V</td>\n      <td>4</td>\n      <td>NaN</td>\n      <td>4</td>\n      <td>3</td>\n      <td>2</td>\n      <td>4</td>\n      <td>4</td>\n      <td>4</td>\n      <td>...</td>\n      <td>2</td>\n      <td>1</td>\n      <td>NaN</td>\n      <td>NaN</td>\n      <td>NaN</td>\n      <td>NaN</td>\n      <td>4</td>\n      <td>4</td>\n      <td>4</td>\n      <td>0</td>\n    </tr>\n  </tbody>\n</table>\n<p>139 rows × 24 columns</p>\n</div>"
          },
          "metadata": {}
        }
      ],
      "execution_count": 15,
      "block_group": "2b744af327804840b7035f72cbd627ec"
    },
    {
      "cell_type": "code",
      "source": "#this is getting rid of unneccessary header text and dates of each day\ndf = df.drop(index=[0,2])\ndf",
      "metadata": {
        "source_hash": "4d493862",
        "execution_start": 1694742233995,
        "execution_millis": 352,
        "deepnote_table_state": {
          "sortBy": [],
          "filters": [],
          "pageSize": 10,
          "pageIndex": 0
        },
        "deepnote_table_loading": false,
        "deepnote_to_be_reexecuted": false,
        "cell_id": "a55d3b5784924b7d8a3a559c7e360fab",
        "deepnote_cell_type": "code"
      },
      "outputs": [
        {
          "output_type": "execute_result",
          "execution_count": 16,
          "data": {
            "application/vnd.deepnote.dataframe.v3+json": {
              "column_count": 24,
              "row_count": 137,
              "columns": [
                {
                  "name": "Unnamed: 0",
                  "dtype": "object",
                  "stats": {
                    "unique_count": 14,
                    "nan_count": 98,
                    "categories": [
                      {
                        "name": "Osler",
                        "count": 6
                      },
                      {
                        "name": "13 others",
                        "count": 33
                      },
                      {
                        "name": "Missing",
                        "count": 98
                      }
                    ]
                  }
                },
                {
                  "name": "Unnamed: 1",
                  "dtype": "object",
                  "stats": {
                    "unique_count": 62,
                    "nan_count": 42,
                    "categories": [
                      {
                        "name": "P510",
                        "count": 4
                      },
                      {
                        "name": "61 others",
                        "count": 91
                      },
                      {
                        "name": "Missing",
                        "count": 42
                      }
                    ]
                  }
                },
                {
                  "name": "Unnamed: 2",
                  "dtype": "object",
                  "stats": {
                    "unique_count": 93,
                    "nan_count": 8,
                    "categories": [
                      {
                        "name": "9",
                        "count": 6
                      },
                      {
                        "name": "92 others",
                        "count": 123
                      },
                      {
                        "name": "Missing",
                        "count": 8
                      }
                    ]
                  }
                },
                {
                  "name": "Unnamed: 3",
                  "dtype": "object",
                  "stats": {
                    "unique_count": 13,
                    "nan_count": 25,
                    "categories": [
                      {
                        "name": "B",
                        "count": 31
                      },
                      {
                        "name": "12 others",
                        "count": 81
                      },
                      {
                        "name": "Missing",
                        "count": 25
                      }
                    ]
                  }
                },
                {
                  "name": "University of California San Diego: Quarterly Parking Availability Survey and Summary",
                  "dtype": "object",
                  "stats": {
                    "unique_count": 74,
                    "nan_count": 13,
                    "categories": [
                      {
                        "name": "0",
                        "count": 10
                      },
                      {
                        "name": "73 others",
                        "count": 114
                      },
                      {
                        "name": "Missing",
                        "count": 13
                      }
                    ]
                  }
                },
                {
                  "name": "Unnamed: 5",
                  "dtype": "object",
                  "stats": {
                    "unique_count": 64,
                    "nan_count": 14,
                    "categories": [
                      {
                        "name": "0",
                        "count": 24
                      },
                      {
                        "name": "63 others",
                        "count": 99
                      },
                      {
                        "name": "Missing",
                        "count": 14
                      }
                    ]
                  }
                },
                {
                  "name": "Unnamed: 6",
                  "dtype": "object",
                  "stats": {
                    "unique_count": 57,
                    "nan_count": 14,
                    "categories": [
                      {
                        "name": "0",
                        "count": 29
                      },
                      {
                        "name": "56 others",
                        "count": 94
                      },
                      {
                        "name": "Missing",
                        "count": 14
                      }
                    ]
                  }
                },
                {
                  "name": "Unnamed: 7",
                  "dtype": "object",
                  "stats": {
                    "unique_count": 59,
                    "nan_count": 14,
                    "categories": [
                      {
                        "name": "0",
                        "count": 24
                      },
                      {
                        "name": "58 others",
                        "count": 99
                      },
                      {
                        "name": "Missing",
                        "count": 14
                      }
                    ]
                  }
                },
                {
                  "name": "Unnamed: 8",
                  "dtype": "object",
                  "stats": {
                    "unique_count": 76,
                    "nan_count": 13,
                    "categories": [
                      {
                        "name": "0",
                        "count": 13
                      },
                      {
                        "name": "75 others",
                        "count": 111
                      },
                      {
                        "name": "Missing",
                        "count": 13
                      }
                    ]
                  }
                },
                {
                  "name": "Unnamed: 9",
                  "dtype": "object",
                  "stats": {
                    "unique_count": 59,
                    "nan_count": 14,
                    "categories": [
                      {
                        "name": "0",
                        "count": 30
                      },
                      {
                        "name": "58 others",
                        "count": 93
                      },
                      {
                        "name": "Missing",
                        "count": 14
                      }
                    ]
                  }
                },
                {
                  "name": "Unnamed: 10",
                  "dtype": "object",
                  "stats": {
                    "unique_count": 55,
                    "nan_count": 14,
                    "categories": [
                      {
                        "name": "0",
                        "count": 31
                      },
                      {
                        "name": "54 others",
                        "count": 92
                      },
                      {
                        "name": "Missing",
                        "count": 14
                      }
                    ]
                  }
                },
                {
                  "name": "Unnamed: 11",
                  "dtype": "object",
                  "stats": {
                    "unique_count": 54,
                    "nan_count": 14,
                    "categories": [
                      {
                        "name": "0",
                        "count": 25
                      },
                      {
                        "name": "53 others",
                        "count": 98
                      },
                      {
                        "name": "Missing",
                        "count": 14
                      }
                    ]
                  }
                },
                {
                  "name": "Unnamed: 12",
                  "dtype": "object",
                  "stats": {
                    "unique_count": 73,
                    "nan_count": 13,
                    "categories": [
                      {
                        "name": "0",
                        "count": 15
                      },
                      {
                        "name": "72 others",
                        "count": 109
                      },
                      {
                        "name": "Missing",
                        "count": 13
                      }
                    ]
                  }
                },
                {
                  "name": "Unnamed: 13",
                  "dtype": "object",
                  "stats": {
                    "unique_count": 63,
                    "nan_count": 14,
                    "categories": [
                      {
                        "name": "0",
                        "count": 29
                      },
                      {
                        "name": "62 others",
                        "count": 94
                      },
                      {
                        "name": "Missing",
                        "count": 14
                      }
                    ]
                  }
                },
                {
                  "name": "Unnamed: 14",
                  "dtype": "object",
                  "stats": {
                    "unique_count": 57,
                    "nan_count": 14,
                    "categories": [
                      {
                        "name": "0",
                        "count": 31
                      },
                      {
                        "name": "56 others",
                        "count": 92
                      },
                      {
                        "name": "Missing",
                        "count": 14
                      }
                    ]
                  }
                },
                {
                  "name": "Unnamed: 15",
                  "dtype": "object",
                  "stats": {
                    "unique_count": 60,
                    "nan_count": 14,
                    "categories": [
                      {
                        "name": "0",
                        "count": 22
                      },
                      {
                        "name": "59 others",
                        "count": 101
                      },
                      {
                        "name": "Missing",
                        "count": 14
                      }
                    ]
                  }
                },
                {
                  "name": "Unnamed: 16",
                  "dtype": "object",
                  "stats": {
                    "unique_count": 3,
                    "nan_count": 134,
                    "categories": [
                      {
                        "name": "Thursday",
                        "count": 1
                      },
                      {
                        "name": "2 others",
                        "count": 2
                      },
                      {
                        "name": "Missing",
                        "count": 134
                      }
                    ]
                  }
                },
                {
                  "name": "Unnamed: 17",
                  "dtype": "object",
                  "stats": {
                    "unique_count": 2,
                    "nan_count": 135,
                    "categories": [
                      {
                        "name": "10:00:00",
                        "count": 1
                      },
                      {
                        "name": "Available",
                        "count": 1
                      },
                      {
                        "name": "Missing",
                        "count": 135
                      }
                    ]
                  }
                },
                {
                  "name": "Unnamed: 18",
                  "dtype": "object",
                  "stats": {
                    "unique_count": 2,
                    "nan_count": 135,
                    "categories": [
                      {
                        "name": "12:00:00",
                        "count": 1
                      },
                      {
                        "name": "Available",
                        "count": 1
                      },
                      {
                        "name": "Missing",
                        "count": 135
                      }
                    ]
                  }
                },
                {
                  "name": "Unnamed: 19",
                  "dtype": "object",
                  "stats": {
                    "unique_count": 2,
                    "nan_count": 135,
                    "categories": [
                      {
                        "name": "14:00:00",
                        "count": 1
                      },
                      {
                        "name": "Available",
                        "count": 1
                      },
                      {
                        "name": "Missing",
                        "count": 135
                      }
                    ]
                  }
                },
                {
                  "name": "Unnamed: 20",
                  "dtype": "object",
                  "stats": {
                    "unique_count": 80,
                    "nan_count": 13,
                    "categories": [
                      {
                        "name": "0",
                        "count": 6
                      },
                      {
                        "name": "79 others",
                        "count": 118
                      },
                      {
                        "name": "Missing",
                        "count": 13
                      }
                    ]
                  }
                },
                {
                  "name": "Unnamed: 21",
                  "dtype": "object",
                  "stats": {
                    "unique_count": 74,
                    "nan_count": 14,
                    "categories": [
                      {
                        "name": "0",
                        "count": 11
                      },
                      {
                        "name": "73 others",
                        "count": 112
                      },
                      {
                        "name": "Missing",
                        "count": 14
                      }
                    ]
                  }
                },
                {
                  "name": "Unnamed: 22",
                  "dtype": "object",
                  "stats": {
                    "unique_count": 71,
                    "nan_count": 14,
                    "categories": [
                      {
                        "name": "0",
                        "count": 9
                      },
                      {
                        "name": "70 others",
                        "count": 114
                      },
                      {
                        "name": "Missing",
                        "count": 14
                      }
                    ]
                  }
                },
                {
                  "name": "Unnamed: 23",
                  "dtype": "object",
                  "stats": {
                    "unique_count": 76,
                    "nan_count": 14,
                    "categories": [
                      {
                        "name": "0",
                        "count": 12
                      },
                      {
                        "name": "75 others",
                        "count": 111
                      },
                      {
                        "name": "Missing",
                        "count": 14
                      }
                    ]
                  }
                },
                {
                  "name": "_deepnote_index_column",
                  "dtype": "int64"
                }
              ],
              "rows": [
                {
                  "Unnamed: 0": "nan",
                  "Unnamed: 1": "nan",
                  "Unnamed: 2": "nan",
                  "Unnamed: 3": "nan",
                  "University of California San Diego: Quarterly Parking Availability Survey and Summary": "Monday",
                  "Unnamed: 5": "nan",
                  "Unnamed: 6": "nan",
                  "Unnamed: 7": "nan",
                  "Unnamed: 8": "Tuesday",
                  "Unnamed: 9": "nan",
                  "Unnamed: 10": "nan",
                  "Unnamed: 11": "nan",
                  "Unnamed: 12": "Wednesday",
                  "Unnamed: 13": "nan",
                  "Unnamed: 14": "nan",
                  "Unnamed: 15": "nan",
                  "Unnamed: 16": "Thursday",
                  "Unnamed: 17": "nan",
                  "Unnamed: 18": "nan",
                  "Unnamed: 19": "nan",
                  "Unnamed: 20": "Friday",
                  "Unnamed: 21": "nan",
                  "Unnamed: 22": "nan",
                  "Unnamed: 23": "nan",
                  "_deepnote_index_column": 1
                },
                {
                  "Unnamed: 0": "nan",
                  "Unnamed: 1": "nan",
                  "Unnamed: 2": "nan",
                  "Unnamed: 3": "nan",
                  "University of California San Diego: Quarterly Parking Availability Survey and Summary": "08:00:00",
                  "Unnamed: 5": "10:00:00",
                  "Unnamed: 6": "12:00:00",
                  "Unnamed: 7": "14:00:00",
                  "Unnamed: 8": "08:00:00",
                  "Unnamed: 9": "10:00:00",
                  "Unnamed: 10": "12:00:00",
                  "Unnamed: 11": "14:00:00",
                  "Unnamed: 12": "08:00:00",
                  "Unnamed: 13": "10:00:00",
                  "Unnamed: 14": "12:00:00",
                  "Unnamed: 15": "14:00:00",
                  "Unnamed: 16": "08:00:00",
                  "Unnamed: 17": "10:00:00",
                  "Unnamed: 18": "12:00:00",
                  "Unnamed: 19": "14:00:00",
                  "Unnamed: 20": "08:00:00",
                  "Unnamed: 21": "10:00:00",
                  "Unnamed: 22": "12:00:00",
                  "Unnamed: 23": "14:00:00",
                  "_deepnote_index_column": 3
                },
                {
                  "Unnamed: 0": "Structure",
                  "Unnamed: 1": "Lot",
                  "Unnamed: 2": "Total Spaces",
                  "Unnamed: 3": "Type",
                  "University of California San Diego: Quarterly Parking Availability Survey and Summary": "Available",
                  "Unnamed: 5": "Available",
                  "Unnamed: 6": "Available",
                  "Unnamed: 7": "Available",
                  "Unnamed: 8": "Available",
                  "Unnamed: 9": "Available",
                  "Unnamed: 10": "Available",
                  "Unnamed: 11": "Available",
                  "Unnamed: 12": "Available",
                  "Unnamed: 13": "Available",
                  "Unnamed: 14": "Available",
                  "Unnamed: 15": "Available",
                  "Unnamed: 16": "Available",
                  "Unnamed: 17": "Available",
                  "Unnamed: 18": "Available",
                  "Unnamed: 19": "Available",
                  "Unnamed: 20": "Available",
                  "Unnamed: 21": "Available",
                  "Unnamed: 22": "Available",
                  "Unnamed: 23": "Available",
                  "_deepnote_index_column": 4
                },
                {
                  "Unnamed: 0": "Athena",
                  "Unnamed: 1": "nan",
                  "Unnamed: 2": "195",
                  "Unnamed: 3": "A",
                  "University of California San Diego: Quarterly Parking Availability Survey and Summary": "162",
                  "Unnamed: 5": "75",
                  "Unnamed: 6": "73",
                  "Unnamed: 7": "49",
                  "Unnamed: 8": "100",
                  "Unnamed: 9": "70",
                  "Unnamed: 10": "45",
                  "Unnamed: 11": "46",
                  "Unnamed: 12": "104",
                  "Unnamed: 13": "91",
                  "Unnamed: 14": "55",
                  "Unnamed: 15": "63",
                  "Unnamed: 16": "nan",
                  "Unnamed: 17": "nan",
                  "Unnamed: 18": "nan",
                  "Unnamed: 19": "nan",
                  "Unnamed: 20": "131",
                  "Unnamed: 21": "67",
                  "Unnamed: 22": "79",
                  "Unnamed: 23": "96",
                  "_deepnote_index_column": 5
                },
                {
                  "Unnamed: 0": "Campus Point East",
                  "Unnamed: 1": "nan",
                  "Unnamed: 2": "372",
                  "Unnamed: 3": "A",
                  "University of California San Diego: Quarterly Parking Availability Survey and Summary": "147",
                  "Unnamed: 5": "68",
                  "Unnamed: 6": "70",
                  "Unnamed: 7": "75",
                  "Unnamed: 8": "85",
                  "Unnamed: 9": "10",
                  "Unnamed: 10": "10",
                  "Unnamed: 11": "34",
                  "Unnamed: 12": "84",
                  "Unnamed: 13": "33",
                  "Unnamed: 14": "29",
                  "Unnamed: 15": "35",
                  "Unnamed: 16": "nan",
                  "Unnamed: 17": "nan",
                  "Unnamed: 18": "nan",
                  "Unnamed: 19": "nan",
                  "Unnamed: 20": "114",
                  "Unnamed: 21": "109",
                  "Unnamed: 22": "86",
                  "Unnamed: 23": "127",
                  "_deepnote_index_column": 6
                },
                {
                  "Unnamed: 0": "Campus Point West",
                  "Unnamed: 1": "nan",
                  "Unnamed: 2": "9",
                  "Unnamed: 3": "A",
                  "University of California San Diego: Quarterly Parking Availability Survey and Summary": "4",
                  "Unnamed: 5": "1",
                  "Unnamed: 6": "1",
                  "Unnamed: 7": "0",
                  "Unnamed: 8": "0",
                  "Unnamed: 9": "2",
                  "Unnamed: 10": "4",
                  "Unnamed: 11": "2",
                  "Unnamed: 12": "4",
                  "Unnamed: 13": "2",
                  "Unnamed: 14": "0",
                  "Unnamed: 15": "3",
                  "Unnamed: 16": "nan",
                  "Unnamed: 17": "nan",
                  "Unnamed: 18": "nan",
                  "Unnamed: 19": "nan",
                  "Unnamed: 20": "8",
                  "Unnamed: 21": "4",
                  "Unnamed: 22": "2",
                  "Unnamed: 23": "0",
                  "_deepnote_index_column": 7
                },
                {
                  "Unnamed: 0": "Gilman",
                  "Unnamed: 1": "nan",
                  "Unnamed: 2": "401",
                  "Unnamed: 3": "A",
                  "University of California San Diego: Quarterly Parking Availability Survey and Summary": "304",
                  "Unnamed: 5": "61",
                  "Unnamed: 6": "107",
                  "Unnamed: 7": "137",
                  "Unnamed: 8": "322",
                  "Unnamed: 9": "64",
                  "Unnamed: 10": "134",
                  "Unnamed: 11": "153",
                  "Unnamed: 12": "273",
                  "Unnamed: 13": "249",
                  "Unnamed: 14": "132",
                  "Unnamed: 15": "146",
                  "Unnamed: 16": "nan",
                  "Unnamed: 17": "nan",
                  "Unnamed: 18": "nan",
                  "Unnamed: 19": "nan",
                  "Unnamed: 20": "347",
                  "Unnamed: 21": "284",
                  "Unnamed: 22": "129",
                  "Unnamed: 23": "277",
                  "_deepnote_index_column": 8
                },
                {
                  "Unnamed: 0": "Hopkins",
                  "Unnamed: 1": "nan",
                  "Unnamed: 2": "84",
                  "Unnamed: 3": "A",
                  "University of California San Diego: Quarterly Parking Availability Survey and Summary": "80",
                  "Unnamed: 5": "57",
                  "Unnamed: 6": "52",
                  "Unnamed: 7": "46",
                  "Unnamed: 8": "24",
                  "Unnamed: 9": "6",
                  "Unnamed: 10": "0",
                  "Unnamed: 11": "0",
                  "Unnamed: 12": "23",
                  "Unnamed: 13": "5",
                  "Unnamed: 14": "1",
                  "Unnamed: 15": "3",
                  "Unnamed: 16": "nan",
                  "Unnamed: 17": "nan",
                  "Unnamed: 18": "nan",
                  "Unnamed: 19": "nan",
                  "Unnamed: 20": "26",
                  "Unnamed: 21": "21",
                  "Unnamed: 22": "72",
                  "Unnamed: 23": "46",
                  "_deepnote_index_column": 9
                },
                {
                  "Unnamed: 0": "Osler",
                  "Unnamed: 1": "nan",
                  "Unnamed: 2": "156",
                  "Unnamed: 3": "A",
                  "University of California San Diego: Quarterly Parking Availability Survey and Summary": "54",
                  "Unnamed: 5": "6",
                  "Unnamed: 6": "3",
                  "Unnamed: 7": "7",
                  "Unnamed: 8": "90",
                  "Unnamed: 9": "1",
                  "Unnamed: 10": "4",
                  "Unnamed: 11": "12",
                  "Unnamed: 12": "81",
                  "Unnamed: 13": "1",
                  "Unnamed: 14": "10",
                  "Unnamed: 15": "23",
                  "Unnamed: 16": "nan",
                  "Unnamed: 17": "nan",
                  "Unnamed: 18": "nan",
                  "Unnamed: 19": "nan",
                  "Unnamed: 20": "124",
                  "Unnamed: 21": "77",
                  "Unnamed: 22": "81",
                  "Unnamed: 23": "86",
                  "_deepnote_index_column": 10
                },
                {
                  "Unnamed: 0": "Pangea",
                  "Unnamed: 1": "nan",
                  "Unnamed: 2": "91",
                  "Unnamed: 3": "A",
                  "University of California San Diego: Quarterly Parking Availability Survey and Summary": "75",
                  "Unnamed: 5": "66",
                  "Unnamed: 6": "54",
                  "Unnamed: 7": "58",
                  "Unnamed: 8": "72",
                  "Unnamed: 9": "65",
                  "Unnamed: 10": "55",
                  "Unnamed: 11": "54",
                  "Unnamed: 12": "75",
                  "Unnamed: 13": "65",
                  "Unnamed: 14": "60",
                  "Unnamed: 15": "61",
                  "Unnamed: 16": "nan",
                  "Unnamed: 17": "nan",
                  "Unnamed: 18": "nan",
                  "Unnamed: 19": "nan",
                  "Unnamed: 20": "75",
                  "Unnamed: 21": "68",
                  "Unnamed: 22": "71",
                  "Unnamed: 23": "76",
                  "_deepnote_index_column": 11
                }
              ]
            },
            "text/plain": "            Unnamed: 0 Unnamed: 1    Unnamed: 2 Unnamed: 3  \\\n1                  NaN        NaN           NaN        NaN   \n3                  NaN        NaN           NaN        NaN   \n4            Structure        Lot  Total Spaces       Type   \n5               Athena        NaN           195          A   \n6    Campus Point East        NaN           372          A   \n..                 ...        ...           ...        ...   \n134                NaN      SIO B           295        NaN   \n135                NaN          S            64        NaN   \n136                NaN      SIO S            71        NaN   \n137                NaN   Aquarium           258        NaN   \n138                NaN          V             4        NaN   \n\n    University of California San Diego: Quarterly Parking Availability Survey and Summary  \\\n1                                               Monday                                      \n3                                             08:00:00                                      \n4                                            Available                                      \n5                                                  162                                      \n6                                                  147                                      \n..                                                 ...                                      \n134                                                211                                      \n135                                                 48                                      \n136                                                 71                                      \n137                                                240                                      \n138                                                  4                                      \n\n    Unnamed: 5 Unnamed: 6 Unnamed: 7 Unnamed: 8 Unnamed: 9  ... Unnamed: 14  \\\n1          NaN        NaN        NaN    Tuesday        NaN  ...         NaN   \n3     10:00:00   12:00:00   14:00:00   08:00:00   10:00:00  ...    12:00:00   \n4    Available  Available  Available  Available  Available  ...   Available   \n5           75         73         49        100         70  ...          55   \n6           68         70         75         85         10  ...          29   \n..         ...        ...        ...        ...        ...  ...         ...   \n134         93         50         48        193         59  ...          42   \n135         23         16         18         47         17  ...          22   \n136         67         63         67         71         68  ...          63   \n137        130         23         48        235        131  ...          13   \n138          3          2          4          4          4  ...           2   \n\n    Unnamed: 15 Unnamed: 16 Unnamed: 17 Unnamed: 18 Unnamed: 19 Unnamed: 20  \\\n1           NaN    Thursday         NaN         NaN         NaN      Friday   \n3      14:00:00    08:00:00    10:00:00    12:00:00    14:00:00    08:00:00   \n4     Available   Available   Available   Available   Available   Available   \n5            63         NaN         NaN         NaN         NaN         131   \n6            35         NaN         NaN         NaN         NaN         114   \n..          ...         ...         ...         ...         ...         ...   \n134          38         NaN         NaN         NaN         NaN         230   \n135          30         NaN         NaN         NaN         NaN          50   \n136          64         NaN         NaN         NaN         NaN          71   \n137          43         NaN         NaN         NaN         NaN         252   \n138           1         NaN         NaN         NaN         NaN           4   \n\n    Unnamed: 21 Unnamed: 22 Unnamed: 23  \n1           NaN         NaN         NaN  \n3      10:00:00    12:00:00    14:00:00  \n4     Available   Available   Available  \n5            67          79          96  \n6           109          86         127  \n..          ...         ...         ...  \n134         147          98          94  \n135          39          29          23  \n136          69          70          67  \n137         189           7          56  \n138           4           4           0  \n\n[137 rows x 24 columns]",
            "text/html": "<div>\n<style scoped>\n    .dataframe tbody tr th:only-of-type {\n        vertical-align: middle;\n    }\n\n    .dataframe tbody tr th {\n        vertical-align: top;\n    }\n\n    .dataframe thead th {\n        text-align: right;\n    }\n</style>\n<table border=\"1\" class=\"dataframe\">\n  <thead>\n    <tr style=\"text-align: right;\">\n      <th></th>\n      <th>Unnamed: 0</th>\n      <th>Unnamed: 1</th>\n      <th>Unnamed: 2</th>\n      <th>Unnamed: 3</th>\n      <th>University of California San Diego: Quarterly Parking Availability Survey and Summary</th>\n      <th>Unnamed: 5</th>\n      <th>Unnamed: 6</th>\n      <th>Unnamed: 7</th>\n      <th>Unnamed: 8</th>\n      <th>Unnamed: 9</th>\n      <th>...</th>\n      <th>Unnamed: 14</th>\n      <th>Unnamed: 15</th>\n      <th>Unnamed: 16</th>\n      <th>Unnamed: 17</th>\n      <th>Unnamed: 18</th>\n      <th>Unnamed: 19</th>\n      <th>Unnamed: 20</th>\n      <th>Unnamed: 21</th>\n      <th>Unnamed: 22</th>\n      <th>Unnamed: 23</th>\n    </tr>\n  </thead>\n  <tbody>\n    <tr>\n      <th>1</th>\n      <td>NaN</td>\n      <td>NaN</td>\n      <td>NaN</td>\n      <td>NaN</td>\n      <td>Monday</td>\n      <td>NaN</td>\n      <td>NaN</td>\n      <td>NaN</td>\n      <td>Tuesday</td>\n      <td>NaN</td>\n      <td>...</td>\n      <td>NaN</td>\n      <td>NaN</td>\n      <td>Thursday</td>\n      <td>NaN</td>\n      <td>NaN</td>\n      <td>NaN</td>\n      <td>Friday</td>\n      <td>NaN</td>\n      <td>NaN</td>\n      <td>NaN</td>\n    </tr>\n    <tr>\n      <th>3</th>\n      <td>NaN</td>\n      <td>NaN</td>\n      <td>NaN</td>\n      <td>NaN</td>\n      <td>08:00:00</td>\n      <td>10:00:00</td>\n      <td>12:00:00</td>\n      <td>14:00:00</td>\n      <td>08:00:00</td>\n      <td>10:00:00</td>\n      <td>...</td>\n      <td>12:00:00</td>\n      <td>14:00:00</td>\n      <td>08:00:00</td>\n      <td>10:00:00</td>\n      <td>12:00:00</td>\n      <td>14:00:00</td>\n      <td>08:00:00</td>\n      <td>10:00:00</td>\n      <td>12:00:00</td>\n      <td>14:00:00</td>\n    </tr>\n    <tr>\n      <th>4</th>\n      <td>Structure</td>\n      <td>Lot</td>\n      <td>Total Spaces</td>\n      <td>Type</td>\n      <td>Available</td>\n      <td>Available</td>\n      <td>Available</td>\n      <td>Available</td>\n      <td>Available</td>\n      <td>Available</td>\n      <td>...</td>\n      <td>Available</td>\n      <td>Available</td>\n      <td>Available</td>\n      <td>Available</td>\n      <td>Available</td>\n      <td>Available</td>\n      <td>Available</td>\n      <td>Available</td>\n      <td>Available</td>\n      <td>Available</td>\n    </tr>\n    <tr>\n      <th>5</th>\n      <td>Athena</td>\n      <td>NaN</td>\n      <td>195</td>\n      <td>A</td>\n      <td>162</td>\n      <td>75</td>\n      <td>73</td>\n      <td>49</td>\n      <td>100</td>\n      <td>70</td>\n      <td>...</td>\n      <td>55</td>\n      <td>63</td>\n      <td>NaN</td>\n      <td>NaN</td>\n      <td>NaN</td>\n      <td>NaN</td>\n      <td>131</td>\n      <td>67</td>\n      <td>79</td>\n      <td>96</td>\n    </tr>\n    <tr>\n      <th>6</th>\n      <td>Campus Point East</td>\n      <td>NaN</td>\n      <td>372</td>\n      <td>A</td>\n      <td>147</td>\n      <td>68</td>\n      <td>70</td>\n      <td>75</td>\n      <td>85</td>\n      <td>10</td>\n      <td>...</td>\n      <td>29</td>\n      <td>35</td>\n      <td>NaN</td>\n      <td>NaN</td>\n      <td>NaN</td>\n      <td>NaN</td>\n      <td>114</td>\n      <td>109</td>\n      <td>86</td>\n      <td>127</td>\n    </tr>\n    <tr>\n      <th>...</th>\n      <td>...</td>\n      <td>...</td>\n      <td>...</td>\n      <td>...</td>\n      <td>...</td>\n      <td>...</td>\n      <td>...</td>\n      <td>...</td>\n      <td>...</td>\n      <td>...</td>\n      <td>...</td>\n      <td>...</td>\n      <td>...</td>\n      <td>...</td>\n      <td>...</td>\n      <td>...</td>\n      <td>...</td>\n      <td>...</td>\n      <td>...</td>\n      <td>...</td>\n      <td>...</td>\n    </tr>\n    <tr>\n      <th>134</th>\n      <td>NaN</td>\n      <td>SIO B</td>\n      <td>295</td>\n      <td>NaN</td>\n      <td>211</td>\n      <td>93</td>\n      <td>50</td>\n      <td>48</td>\n      <td>193</td>\n      <td>59</td>\n      <td>...</td>\n      <td>42</td>\n      <td>38</td>\n      <td>NaN</td>\n      <td>NaN</td>\n      <td>NaN</td>\n      <td>NaN</td>\n      <td>230</td>\n      <td>147</td>\n      <td>98</td>\n      <td>94</td>\n    </tr>\n    <tr>\n      <th>135</th>\n      <td>NaN</td>\n      <td>S</td>\n      <td>64</td>\n      <td>NaN</td>\n      <td>48</td>\n      <td>23</td>\n      <td>16</td>\n      <td>18</td>\n      <td>47</td>\n      <td>17</td>\n      <td>...</td>\n      <td>22</td>\n      <td>30</td>\n      <td>NaN</td>\n      <td>NaN</td>\n      <td>NaN</td>\n      <td>NaN</td>\n      <td>50</td>\n      <td>39</td>\n      <td>29</td>\n      <td>23</td>\n    </tr>\n    <tr>\n      <th>136</th>\n      <td>NaN</td>\n      <td>SIO S</td>\n      <td>71</td>\n      <td>NaN</td>\n      <td>71</td>\n      <td>67</td>\n      <td>63</td>\n      <td>67</td>\n      <td>71</td>\n      <td>68</td>\n      <td>...</td>\n      <td>63</td>\n      <td>64</td>\n      <td>NaN</td>\n      <td>NaN</td>\n      <td>NaN</td>\n      <td>NaN</td>\n      <td>71</td>\n      <td>69</td>\n      <td>70</td>\n      <td>67</td>\n    </tr>\n    <tr>\n      <th>137</th>\n      <td>NaN</td>\n      <td>Aquarium</td>\n      <td>258</td>\n      <td>NaN</td>\n      <td>240</td>\n      <td>130</td>\n      <td>23</td>\n      <td>48</td>\n      <td>235</td>\n      <td>131</td>\n      <td>...</td>\n      <td>13</td>\n      <td>43</td>\n      <td>NaN</td>\n      <td>NaN</td>\n      <td>NaN</td>\n      <td>NaN</td>\n      <td>252</td>\n      <td>189</td>\n      <td>7</td>\n      <td>56</td>\n    </tr>\n    <tr>\n      <th>138</th>\n      <td>NaN</td>\n      <td>V</td>\n      <td>4</td>\n      <td>NaN</td>\n      <td>4</td>\n      <td>3</td>\n      <td>2</td>\n      <td>4</td>\n      <td>4</td>\n      <td>4</td>\n      <td>...</td>\n      <td>2</td>\n      <td>1</td>\n      <td>NaN</td>\n      <td>NaN</td>\n      <td>NaN</td>\n      <td>NaN</td>\n      <td>4</td>\n      <td>4</td>\n      <td>4</td>\n      <td>0</td>\n    </tr>\n  </tbody>\n</table>\n<p>137 rows × 24 columns</p>\n</div>"
          },
          "metadata": {}
        }
      ],
      "execution_count": 16,
      "block_group": "118f8815f88c4d73864f0f5e58beaeb9"
    },
    {
      "cell_type": "code",
      "source": "def isNan(cell):\n    #method checks to see if cell value is nan, if it is, then replaces it with empty string, if not, leaves as is\n    if type(cell) != str:\n        return \"\"\n    else:\n        return cell\n\n\n#combine structure/lot into one column \nnewdf = df.assign(Area= df.get(\"Structure\").apply(isNan)  + df.get(\"Lot\").apply(isNan))\nnewdf\n#newnew = newdf.groupby(\"Parking\")\n#newnew\n",
      "metadata": {
        "source_hash": "a748bcec",
        "execution_start": 1694744742282,
        "execution_millis": 341,
        "deepnote_table_state": {
          "sortBy": [],
          "filters": [],
          "pageSize": 10,
          "pageIndex": 4
        },
        "deepnote_table_loading": false,
        "deepnote_to_be_reexecuted": false,
        "cell_id": "3bf9e317cd74493589d87d36d256cfb3",
        "deepnote_cell_type": "code"
      },
      "outputs": [
        {
          "output_type": "execute_result",
          "execution_count": 95,
          "data": {
            "application/vnd.deepnote.dataframe.v3+json": {
              "column_count": 25,
              "row_count": 137,
              "columns": [
                {
                  "name": "Structure",
                  "dtype": "object",
                  "stats": {
                    "unique_count": 14,
                    "nan_count": 98,
                    "categories": [
                      {
                        "name": "Osler",
                        "count": 6
                      },
                      {
                        "name": "13 others",
                        "count": 33
                      },
                      {
                        "name": "Missing",
                        "count": 98
                      }
                    ]
                  }
                },
                {
                  "name": "Lot",
                  "dtype": "object",
                  "stats": {
                    "unique_count": 62,
                    "nan_count": 42,
                    "categories": [
                      {
                        "name": "P510",
                        "count": 4
                      },
                      {
                        "name": "61 others",
                        "count": 91
                      },
                      {
                        "name": "Missing",
                        "count": 42
                      }
                    ]
                  }
                },
                {
                  "name": "Total Spaces",
                  "dtype": "object",
                  "stats": {
                    "unique_count": 93,
                    "nan_count": 8,
                    "categories": [
                      {
                        "name": "9",
                        "count": 6
                      },
                      {
                        "name": "92 others",
                        "count": 123
                      },
                      {
                        "name": "Missing",
                        "count": 8
                      }
                    ]
                  }
                },
                {
                  "name": "Type",
                  "dtype": "object",
                  "stats": {
                    "unique_count": 13,
                    "nan_count": 25,
                    "categories": [
                      {
                        "name": "B",
                        "count": 31
                      },
                      {
                        "name": "12 others",
                        "count": 81
                      },
                      {
                        "name": "Missing",
                        "count": 25
                      }
                    ]
                  }
                },
                {
                  "name": "Available",
                  "dtype": "object",
                  "stats": {
                    "unique_count": 74,
                    "nan_count": 13,
                    "categories": [
                      {
                        "name": "0",
                        "count": 10
                      },
                      {
                        "name": "73 others",
                        "count": 114
                      },
                      {
                        "name": "Missing",
                        "count": 13
                      }
                    ]
                  }
                },
                {
                  "name": "Available.1",
                  "dtype": "object",
                  "stats": {
                    "unique_count": 64,
                    "nan_count": 14,
                    "categories": [
                      {
                        "name": "0",
                        "count": 24
                      },
                      {
                        "name": "63 others",
                        "count": 99
                      },
                      {
                        "name": "Missing",
                        "count": 14
                      }
                    ]
                  }
                },
                {
                  "name": "Available.2",
                  "dtype": "object",
                  "stats": {
                    "unique_count": 57,
                    "nan_count": 14,
                    "categories": [
                      {
                        "name": "0",
                        "count": 29
                      },
                      {
                        "name": "56 others",
                        "count": 94
                      },
                      {
                        "name": "Missing",
                        "count": 14
                      }
                    ]
                  }
                },
                {
                  "name": "Available.3",
                  "dtype": "object",
                  "stats": {
                    "unique_count": 59,
                    "nan_count": 14,
                    "categories": [
                      {
                        "name": "0",
                        "count": 24
                      },
                      {
                        "name": "58 others",
                        "count": 99
                      },
                      {
                        "name": "Missing",
                        "count": 14
                      }
                    ]
                  }
                },
                {
                  "name": "Available.4",
                  "dtype": "object",
                  "stats": {
                    "unique_count": 76,
                    "nan_count": 13,
                    "categories": [
                      {
                        "name": "0",
                        "count": 13
                      },
                      {
                        "name": "75 others",
                        "count": 111
                      },
                      {
                        "name": "Missing",
                        "count": 13
                      }
                    ]
                  }
                },
                {
                  "name": "Available.5",
                  "dtype": "object",
                  "stats": {
                    "unique_count": 59,
                    "nan_count": 14,
                    "categories": [
                      {
                        "name": "0",
                        "count": 30
                      },
                      {
                        "name": "58 others",
                        "count": 93
                      },
                      {
                        "name": "Missing",
                        "count": 14
                      }
                    ]
                  }
                },
                {
                  "name": "Available.6",
                  "dtype": "object",
                  "stats": {
                    "unique_count": 55,
                    "nan_count": 14,
                    "categories": [
                      {
                        "name": "0",
                        "count": 31
                      },
                      {
                        "name": "54 others",
                        "count": 92
                      },
                      {
                        "name": "Missing",
                        "count": 14
                      }
                    ]
                  }
                },
                {
                  "name": "Available.7",
                  "dtype": "object",
                  "stats": {
                    "unique_count": 54,
                    "nan_count": 14,
                    "categories": [
                      {
                        "name": "0",
                        "count": 25
                      },
                      {
                        "name": "53 others",
                        "count": 98
                      },
                      {
                        "name": "Missing",
                        "count": 14
                      }
                    ]
                  }
                },
                {
                  "name": "Available.8",
                  "dtype": "object",
                  "stats": {
                    "unique_count": 73,
                    "nan_count": 13,
                    "categories": [
                      {
                        "name": "0",
                        "count": 15
                      },
                      {
                        "name": "72 others",
                        "count": 109
                      },
                      {
                        "name": "Missing",
                        "count": 13
                      }
                    ]
                  }
                },
                {
                  "name": "Available.9",
                  "dtype": "object",
                  "stats": {
                    "unique_count": 63,
                    "nan_count": 14,
                    "categories": [
                      {
                        "name": "0",
                        "count": 29
                      },
                      {
                        "name": "62 others",
                        "count": 94
                      },
                      {
                        "name": "Missing",
                        "count": 14
                      }
                    ]
                  }
                },
                {
                  "name": "Available.10",
                  "dtype": "object",
                  "stats": {
                    "unique_count": 57,
                    "nan_count": 14,
                    "categories": [
                      {
                        "name": "0",
                        "count": 31
                      },
                      {
                        "name": "56 others",
                        "count": 92
                      },
                      {
                        "name": "Missing",
                        "count": 14
                      }
                    ]
                  }
                },
                {
                  "name": "Available.11",
                  "dtype": "object",
                  "stats": {
                    "unique_count": 60,
                    "nan_count": 14,
                    "categories": [
                      {
                        "name": "0",
                        "count": 22
                      },
                      {
                        "name": "59 others",
                        "count": 101
                      },
                      {
                        "name": "Missing",
                        "count": 14
                      }
                    ]
                  }
                },
                {
                  "name": "Available.12",
                  "dtype": "object",
                  "stats": {
                    "unique_count": 3,
                    "nan_count": 134,
                    "categories": [
                      {
                        "name": "Thursday",
                        "count": 1
                      },
                      {
                        "name": "2 others",
                        "count": 2
                      },
                      {
                        "name": "Missing",
                        "count": 134
                      }
                    ]
                  }
                },
                {
                  "name": "Available.13",
                  "dtype": "object",
                  "stats": {
                    "unique_count": 2,
                    "nan_count": 135,
                    "categories": [
                      {
                        "name": "10:00:00",
                        "count": 1
                      },
                      {
                        "name": "Available",
                        "count": 1
                      },
                      {
                        "name": "Missing",
                        "count": 135
                      }
                    ]
                  }
                },
                {
                  "name": "Available.14",
                  "dtype": "object",
                  "stats": {
                    "unique_count": 2,
                    "nan_count": 135,
                    "categories": [
                      {
                        "name": "12:00:00",
                        "count": 1
                      },
                      {
                        "name": "Available",
                        "count": 1
                      },
                      {
                        "name": "Missing",
                        "count": 135
                      }
                    ]
                  }
                },
                {
                  "name": "Available.15",
                  "dtype": "object",
                  "stats": {
                    "unique_count": 2,
                    "nan_count": 135,
                    "categories": [
                      {
                        "name": "14:00:00",
                        "count": 1
                      },
                      {
                        "name": "Available",
                        "count": 1
                      },
                      {
                        "name": "Missing",
                        "count": 135
                      }
                    ]
                  }
                },
                {
                  "name": "Available.16",
                  "dtype": "object",
                  "stats": {
                    "unique_count": 80,
                    "nan_count": 13,
                    "categories": [
                      {
                        "name": "0",
                        "count": 6
                      },
                      {
                        "name": "79 others",
                        "count": 118
                      },
                      {
                        "name": "Missing",
                        "count": 13
                      }
                    ]
                  }
                },
                {
                  "name": "Available.17",
                  "dtype": "object",
                  "stats": {
                    "unique_count": 74,
                    "nan_count": 14,
                    "categories": [
                      {
                        "name": "0",
                        "count": 11
                      },
                      {
                        "name": "73 others",
                        "count": 112
                      },
                      {
                        "name": "Missing",
                        "count": 14
                      }
                    ]
                  }
                },
                {
                  "name": "Available.18",
                  "dtype": "object",
                  "stats": {
                    "unique_count": 71,
                    "nan_count": 14,
                    "categories": [
                      {
                        "name": "0",
                        "count": 9
                      },
                      {
                        "name": "70 others",
                        "count": 114
                      },
                      {
                        "name": "Missing",
                        "count": 14
                      }
                    ]
                  }
                },
                {
                  "name": "Available.19",
                  "dtype": "object",
                  "stats": {
                    "unique_count": 76,
                    "nan_count": 14,
                    "categories": [
                      {
                        "name": "0",
                        "count": 12
                      },
                      {
                        "name": "75 others",
                        "count": 111
                      },
                      {
                        "name": "Missing",
                        "count": 14
                      }
                    ]
                  }
                },
                {
                  "name": "Area",
                  "dtype": "object",
                  "stats": {
                    "unique_count": 75,
                    "nan_count": 0,
                    "categories": [
                      {
                        "name": "",
                        "count": 6
                      },
                      {
                        "name": "Osler",
                        "count": 6
                      },
                      {
                        "name": "73 others",
                        "count": 125
                      }
                    ]
                  }
                },
                {
                  "name": "_deepnote_index_column",
                  "dtype": "int64"
                }
              ],
              "rows": [
                {
                  "Structure": "Campus Point West",
                  "Lot": "nan",
                  "Total Spaces": "68",
                  "Type": "B",
                  "Available": "11",
                  "Available.1": "0",
                  "Available.2": "0",
                  "Available.3": "1",
                  "Available.4": "8",
                  "Available.5": "0",
                  "Available.6": "1",
                  "Available.7": "1",
                  "Available.8": "0",
                  "Available.9": "0",
                  "Available.10": "0",
                  "Available.11": "10",
                  "Available.12": "nan",
                  "Available.13": "nan",
                  "Available.14": "nan",
                  "Available.15": "nan",
                  "Available.16": "14",
                  "Available.17": "5",
                  "Available.18": "0",
                  "Available.19": "7",
                  "Area": "Campus Point West",
                  "_deepnote_index_column": 42
                },
                {
                  "Structure": "Hopkins",
                  "Lot": "nan",
                  "Total Spaces": "508",
                  "Type": "B",
                  "Available": "387",
                  "Available.1": "292",
                  "Available.2": "232",
                  "Available.3": "293",
                  "Available.4": "375",
                  "Available.5": "276",
                  "Available.6": "175",
                  "Available.7": "149",
                  "Available.8": "397",
                  "Available.9": "297",
                  "Available.10": "220",
                  "Available.11": "230",
                  "Available.12": "nan",
                  "Available.13": "nan",
                  "Available.14": "nan",
                  "Available.15": "nan",
                  "Available.16": "476",
                  "Available.17": "434",
                  "Available.18": "413",
                  "Available.19": "293",
                  "Area": "Hopkins",
                  "_deepnote_index_column": 43
                },
                {
                  "Structure": "Gilman",
                  "Lot": "nan",
                  "Total Spaces": "12",
                  "Type": "B Carpool",
                  "Available": "9",
                  "Available.1": "9",
                  "Available.2": "9",
                  "Available.3": "4",
                  "Available.4": "6",
                  "Available.5": "8",
                  "Available.6": "8",
                  "Available.7": "8",
                  "Available.8": "6",
                  "Available.9": "8",
                  "Available.10": "8",
                  "Available.11": "8",
                  "Available.12": "nan",
                  "Available.13": "nan",
                  "Available.14": "nan",
                  "Available.15": "nan",
                  "Available.16": "11",
                  "Available.17": "11",
                  "Available.18": "11",
                  "Available.19": "12",
                  "Area": "Gilman",
                  "_deepnote_index_column": 44
                },
                {
                  "Structure": "Gilman",
                  "Lot": "nan",
                  "Total Spaces": "123",
                  "Type": "B",
                  "Available": "0",
                  "Available.1": "0",
                  "Available.2": "2",
                  "Available.3": "3",
                  "Available.4": "0",
                  "Available.5": "0",
                  "Available.6": "0",
                  "Available.7": "2",
                  "Available.8": "0",
                  "Available.9": "0",
                  "Available.10": "2",
                  "Available.11": "10",
                  "Available.12": "nan",
                  "Available.13": "nan",
                  "Available.14": "nan",
                  "Available.15": "nan",
                  "Available.16": "59",
                  "Available.17": "31",
                  "Available.18": "40",
                  "Available.19": "53",
                  "Area": "Gilman",
                  "_deepnote_index_column": 45
                },
                {
                  "Structure": "Osler",
                  "Lot": "nan",
                  "Total Spaces": "556",
                  "Type": "B",
                  "Available": "95",
                  "Available.1": "40",
                  "Available.2": "39",
                  "Available.3": "66",
                  "Available.4": "83",
                  "Available.5": "2",
                  "Available.6": "18",
                  "Available.7": "44",
                  "Available.8": "102",
                  "Available.9": "3",
                  "Available.10": "10",
                  "Available.11": "90",
                  "Available.12": "nan",
                  "Available.13": "nan",
                  "Available.14": "nan",
                  "Available.15": "nan",
                  "Available.16": "290",
                  "Available.17": "210",
                  "Available.18": "218",
                  "Available.19": "280",
                  "Area": "Osler",
                  "_deepnote_index_column": 46
                },
                {
                  "Structure": "Osler",
                  "Lot": "nan",
                  "Total Spaces": "3",
                  "Type": "B Carpool",
                  "Available": "2",
                  "Available.1": "2",
                  "Available.2": "2",
                  "Available.3": "1",
                  "Available.4": "2",
                  "Available.5": "2",
                  "Available.6": "1",
                  "Available.7": "1",
                  "Available.8": "3",
                  "Available.9": "3",
                  "Available.10": "3",
                  "Available.11": "2",
                  "Available.12": "nan",
                  "Available.13": "nan",
                  "Available.14": "nan",
                  "Available.15": "nan",
                  "Available.16": "2",
                  "Available.17": "2",
                  "Available.18": "2",
                  "Available.19": "2",
                  "Area": "Osler",
                  "_deepnote_index_column": 47
                },
                {
                  "Structure": "Pangea",
                  "Lot": "nan",
                  "Total Spaces": "324",
                  "Type": "B",
                  "Available": "248",
                  "Available.1": "220",
                  "Available.2": "216",
                  "Available.3": "225",
                  "Available.4": "230",
                  "Available.5": "208",
                  "Available.6": "208",
                  "Available.7": "215",
                  "Available.8": "231",
                  "Available.9": "209",
                  "Available.10": "197",
                  "Available.11": "203",
                  "Available.12": "nan",
                  "Available.13": "nan",
                  "Available.14": "nan",
                  "Available.15": "nan",
                  "Available.16": "273",
                  "Available.17": "245",
                  "Available.18": "250",
                  "Available.19": "250",
                  "Area": "Pangea",
                  "_deepnote_index_column": 48
                },
                {
                  "Structure": "Torrey Pines Center North",
                  "Lot": "nan",
                  "Total Spaces": "199",
                  "Type": "B",
                  "Available": "107",
                  "Available.1": "52",
                  "Available.2": "40",
                  "Available.3": "9",
                  "Available.4": "97",
                  "Available.5": "50",
                  "Available.6": "46",
                  "Available.7": "44",
                  "Available.8": "97",
                  "Available.9": "43",
                  "Available.10": "46",
                  "Available.11": "69",
                  "Available.12": "nan",
                  "Available.13": "nan",
                  "Available.14": "nan",
                  "Available.15": "nan",
                  "Available.16": "148",
                  "Available.17": "121",
                  "Available.18": "115",
                  "Available.19": "122",
                  "Area": "Torrey Pines Center North",
                  "_deepnote_index_column": 49
                },
                {
                  "Structure": "nan",
                  "Lot": "nan",
                  "Total Spaces": "8",
                  "Type": "B Carpool",
                  "Available": "6",
                  "Available.1": "6",
                  "Available.2": "6",
                  "Available.3": "6",
                  "Available.4": "6",
                  "Available.5": "6",
                  "Available.6": "6",
                  "Available.7": "5",
                  "Available.8": "6",
                  "Available.9": "6",
                  "Available.10": "5",
                  "Available.11": "2",
                  "Available.12": "nan",
                  "Available.13": "nan",
                  "Available.14": "nan",
                  "Available.15": "nan",
                  "Available.16": "6",
                  "Available.17": "6",
                  "Available.18": "6",
                  "Available.19": "6",
                  "Area": "",
                  "_deepnote_index_column": 50
                },
                {
                  "Structure": "Torrey Pines Center South",
                  "Lot": "nan",
                  "Total Spaces": "382",
                  "Type": "B",
                  "Available": "207",
                  "Available.1": "119",
                  "Available.2": "135",
                  "Available.3": "142",
                  "Available.4": "189",
                  "Available.5": "102",
                  "Available.6": "268",
                  "Available.7": "128",
                  "Available.8": "207",
                  "Available.9": "161",
                  "Available.10": "176",
                  "Available.11": "203",
                  "Available.12": "nan",
                  "Available.13": "nan",
                  "Available.14": "nan",
                  "Available.15": "nan",
                  "Available.16": "295",
                  "Available.17": "278",
                  "Available.18": "288",
                  "Available.19": "298",
                  "Area": "Torrey Pines Center South",
                  "_deepnote_index_column": 51
                }
              ]
            },
            "text/plain": "4            Structure       Lot  Total Spaces  Type  Available  Available  \\\n1                  NaN       NaN           NaN   NaN     Monday        NaN   \n3                  NaN       NaN           NaN   NaN   08:00:00   10:00:00   \n4            Structure       Lot  Total Spaces  Type  Available  Available   \n5               Athena       NaN           195     A        162         75   \n6    Campus Point East       NaN           372     A        147         68   \n..                 ...       ...           ...   ...        ...        ...   \n134                NaN     SIO B           295   NaN        211         93   \n135                NaN         S            64   NaN         48         23   \n136                NaN     SIO S            71   NaN         71         67   \n137                NaN  Aquarium           258   NaN        240        130   \n138                NaN         V             4   NaN          4          3   \n\n4    Available  Available  Available  Available  ...  Available  Available  \\\n1          NaN        NaN    Tuesday        NaN  ...        NaN   Thursday   \n3     12:00:00   14:00:00   08:00:00   10:00:00  ...   14:00:00   08:00:00   \n4    Available  Available  Available  Available  ...  Available  Available   \n5           73         49        100         70  ...         63        NaN   \n6           70         75         85         10  ...         35        NaN   \n..         ...        ...        ...        ...  ...        ...        ...   \n134         50         48        193         59  ...         38        NaN   \n135         16         18         47         17  ...         30        NaN   \n136         63         67         71         68  ...         64        NaN   \n137         23         48        235        131  ...         43        NaN   \n138          2          4          4          4  ...          1        NaN   \n\n4    Available  Available  Available  Available  Available  Available  \\\n1          NaN        NaN        NaN     Friday        NaN        NaN   \n3     10:00:00   12:00:00   14:00:00   08:00:00   10:00:00   12:00:00   \n4    Available  Available  Available  Available  Available  Available   \n5          NaN        NaN        NaN        131         67         79   \n6          NaN        NaN        NaN        114        109         86   \n..         ...        ...        ...        ...        ...        ...   \n134        NaN        NaN        NaN        230        147         98   \n135        NaN        NaN        NaN         50         39         29   \n136        NaN        NaN        NaN         71         69         70   \n137        NaN        NaN        NaN        252        189          7   \n138        NaN        NaN        NaN          4          4          4   \n\n4    Available               Area  \n1          NaN                     \n3     14:00:00                     \n4    Available       StructureLot  \n5           96             Athena  \n6          127  Campus Point East  \n..         ...                ...  \n134         94              SIO B  \n135         23                  S  \n136         67              SIO S  \n137         56           Aquarium  \n138          0                  V  \n\n[137 rows x 25 columns]",
            "text/html": "<div>\n<style scoped>\n    .dataframe tbody tr th:only-of-type {\n        vertical-align: middle;\n    }\n\n    .dataframe tbody tr th {\n        vertical-align: top;\n    }\n\n    .dataframe thead th {\n        text-align: right;\n    }\n</style>\n<table border=\"1\" class=\"dataframe\">\n  <thead>\n    <tr style=\"text-align: right;\">\n      <th>4</th>\n      <th>Structure</th>\n      <th>Lot</th>\n      <th>Total Spaces</th>\n      <th>Type</th>\n      <th>Available</th>\n      <th>Available</th>\n      <th>Available</th>\n      <th>Available</th>\n      <th>Available</th>\n      <th>Available</th>\n      <th>...</th>\n      <th>Available</th>\n      <th>Available</th>\n      <th>Available</th>\n      <th>Available</th>\n      <th>Available</th>\n      <th>Available</th>\n      <th>Available</th>\n      <th>Available</th>\n      <th>Available</th>\n      <th>Area</th>\n    </tr>\n  </thead>\n  <tbody>\n    <tr>\n      <th>1</th>\n      <td>NaN</td>\n      <td>NaN</td>\n      <td>NaN</td>\n      <td>NaN</td>\n      <td>Monday</td>\n      <td>NaN</td>\n      <td>NaN</td>\n      <td>NaN</td>\n      <td>Tuesday</td>\n      <td>NaN</td>\n      <td>...</td>\n      <td>NaN</td>\n      <td>Thursday</td>\n      <td>NaN</td>\n      <td>NaN</td>\n      <td>NaN</td>\n      <td>Friday</td>\n      <td>NaN</td>\n      <td>NaN</td>\n      <td>NaN</td>\n      <td></td>\n    </tr>\n    <tr>\n      <th>3</th>\n      <td>NaN</td>\n      <td>NaN</td>\n      <td>NaN</td>\n      <td>NaN</td>\n      <td>08:00:00</td>\n      <td>10:00:00</td>\n      <td>12:00:00</td>\n      <td>14:00:00</td>\n      <td>08:00:00</td>\n      <td>10:00:00</td>\n      <td>...</td>\n      <td>14:00:00</td>\n      <td>08:00:00</td>\n      <td>10:00:00</td>\n      <td>12:00:00</td>\n      <td>14:00:00</td>\n      <td>08:00:00</td>\n      <td>10:00:00</td>\n      <td>12:00:00</td>\n      <td>14:00:00</td>\n      <td></td>\n    </tr>\n    <tr>\n      <th>4</th>\n      <td>Structure</td>\n      <td>Lot</td>\n      <td>Total Spaces</td>\n      <td>Type</td>\n      <td>Available</td>\n      <td>Available</td>\n      <td>Available</td>\n      <td>Available</td>\n      <td>Available</td>\n      <td>Available</td>\n      <td>...</td>\n      <td>Available</td>\n      <td>Available</td>\n      <td>Available</td>\n      <td>Available</td>\n      <td>Available</td>\n      <td>Available</td>\n      <td>Available</td>\n      <td>Available</td>\n      <td>Available</td>\n      <td>StructureLot</td>\n    </tr>\n    <tr>\n      <th>5</th>\n      <td>Athena</td>\n      <td>NaN</td>\n      <td>195</td>\n      <td>A</td>\n      <td>162</td>\n      <td>75</td>\n      <td>73</td>\n      <td>49</td>\n      <td>100</td>\n      <td>70</td>\n      <td>...</td>\n      <td>63</td>\n      <td>NaN</td>\n      <td>NaN</td>\n      <td>NaN</td>\n      <td>NaN</td>\n      <td>131</td>\n      <td>67</td>\n      <td>79</td>\n      <td>96</td>\n      <td>Athena</td>\n    </tr>\n    <tr>\n      <th>6</th>\n      <td>Campus Point East</td>\n      <td>NaN</td>\n      <td>372</td>\n      <td>A</td>\n      <td>147</td>\n      <td>68</td>\n      <td>70</td>\n      <td>75</td>\n      <td>85</td>\n      <td>10</td>\n      <td>...</td>\n      <td>35</td>\n      <td>NaN</td>\n      <td>NaN</td>\n      <td>NaN</td>\n      <td>NaN</td>\n      <td>114</td>\n      <td>109</td>\n      <td>86</td>\n      <td>127</td>\n      <td>Campus Point East</td>\n    </tr>\n    <tr>\n      <th>...</th>\n      <td>...</td>\n      <td>...</td>\n      <td>...</td>\n      <td>...</td>\n      <td>...</td>\n      <td>...</td>\n      <td>...</td>\n      <td>...</td>\n      <td>...</td>\n      <td>...</td>\n      <td>...</td>\n      <td>...</td>\n      <td>...</td>\n      <td>...</td>\n      <td>...</td>\n      <td>...</td>\n      <td>...</td>\n      <td>...</td>\n      <td>...</td>\n      <td>...</td>\n      <td>...</td>\n    </tr>\n    <tr>\n      <th>134</th>\n      <td>NaN</td>\n      <td>SIO B</td>\n      <td>295</td>\n      <td>NaN</td>\n      <td>211</td>\n      <td>93</td>\n      <td>50</td>\n      <td>48</td>\n      <td>193</td>\n      <td>59</td>\n      <td>...</td>\n      <td>38</td>\n      <td>NaN</td>\n      <td>NaN</td>\n      <td>NaN</td>\n      <td>NaN</td>\n      <td>230</td>\n      <td>147</td>\n      <td>98</td>\n      <td>94</td>\n      <td>SIO B</td>\n    </tr>\n    <tr>\n      <th>135</th>\n      <td>NaN</td>\n      <td>S</td>\n      <td>64</td>\n      <td>NaN</td>\n      <td>48</td>\n      <td>23</td>\n      <td>16</td>\n      <td>18</td>\n      <td>47</td>\n      <td>17</td>\n      <td>...</td>\n      <td>30</td>\n      <td>NaN</td>\n      <td>NaN</td>\n      <td>NaN</td>\n      <td>NaN</td>\n      <td>50</td>\n      <td>39</td>\n      <td>29</td>\n      <td>23</td>\n      <td>S</td>\n    </tr>\n    <tr>\n      <th>136</th>\n      <td>NaN</td>\n      <td>SIO S</td>\n      <td>71</td>\n      <td>NaN</td>\n      <td>71</td>\n      <td>67</td>\n      <td>63</td>\n      <td>67</td>\n      <td>71</td>\n      <td>68</td>\n      <td>...</td>\n      <td>64</td>\n      <td>NaN</td>\n      <td>NaN</td>\n      <td>NaN</td>\n      <td>NaN</td>\n      <td>71</td>\n      <td>69</td>\n      <td>70</td>\n      <td>67</td>\n      <td>SIO S</td>\n    </tr>\n    <tr>\n      <th>137</th>\n      <td>NaN</td>\n      <td>Aquarium</td>\n      <td>258</td>\n      <td>NaN</td>\n      <td>240</td>\n      <td>130</td>\n      <td>23</td>\n      <td>48</td>\n      <td>235</td>\n      <td>131</td>\n      <td>...</td>\n      <td>43</td>\n      <td>NaN</td>\n      <td>NaN</td>\n      <td>NaN</td>\n      <td>NaN</td>\n      <td>252</td>\n      <td>189</td>\n      <td>7</td>\n      <td>56</td>\n      <td>Aquarium</td>\n    </tr>\n    <tr>\n      <th>138</th>\n      <td>NaN</td>\n      <td>V</td>\n      <td>4</td>\n      <td>NaN</td>\n      <td>4</td>\n      <td>3</td>\n      <td>2</td>\n      <td>4</td>\n      <td>4</td>\n      <td>4</td>\n      <td>...</td>\n      <td>1</td>\n      <td>NaN</td>\n      <td>NaN</td>\n      <td>NaN</td>\n      <td>NaN</td>\n      <td>4</td>\n      <td>4</td>\n      <td>4</td>\n      <td>0</td>\n      <td>V</td>\n    </tr>\n  </tbody>\n</table>\n<p>137 rows × 25 columns</p>\n</div>"
          },
          "metadata": {}
        }
      ],
      "execution_count": 95,
      "block_group": "df50df1afd3548f796a250802ad9b34c"
    },
    {
      "cell_type": "code",
      "source": "",
      "metadata": {
        "source_hash": "b623e53d",
        "deepnote_to_be_reexecuted": true,
        "cell_id": "e6c3af4852dd4d7491de9c7bcbbadd10",
        "deepnote_cell_type": "code"
      },
      "outputs": [],
      "execution_count": null,
      "block_group": "8af5d66b83764b57ad0d97d3eef07d4d"
    },
    {
      "cell_type": "code",
      "source": "",
      "metadata": {
        "cell_id": "e0c2be750cfa4015b2543f8ef06377f1",
        "deepnote_cell_type": "code"
      },
      "outputs": [],
      "execution_count": null,
      "block_group": "1b824ce22dfd4de6a5b8e08a0d2061a0"
    },
    {
      "cell_type": "markdown",
      "source": "<a style='text-decoration:none;line-height:16px;display:flex;color:#5B5B62;padding:10px;justify-content:end;' href='https://deepnote.com?utm_source=created-in-deepnote-cell&projectId=79f50031-d40f-43af-acaa-365d48045c9e' target=\"_blank\">\n<img alt='Created in deepnote.com' style='display:inline;max-height:16px;margin:0px;margin-right:7.5px;' src='data:image/svg+xml;base64,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' > </img>\nCreated in <span style='font-weight:600;margin-left:4px;'>Deepnote</span></a>",
      "metadata": {
        "created_in_deepnote_cell": true,
        "deepnote_cell_type": "markdown"
      }
    }
  ],
  "nbformat": 4,
  "nbformat_minor": 0,
  "metadata": {
    "deepnote": {},
    "orig_nbformat": 2,
    "deepnote_notebook_id": "825412944f654fe78012d6931fe94544",
    "deepnote_persisted_session": {
      "createdAt": "2023-09-14T01:16:33.569Z"
    },
    "deepnote_execution_queue": []
  }
}